{
 "cells": [
  {
   "cell_type": "markdown",
   "metadata": {
    "application/vnd.databricks.v1+cell": {
     "cellMetadata": {
      "byteLimit": 2048000,
      "rowLimit": 10000
     },
     "inputWidgets": {},
     "nuid": "cd336cf8-2465-45a6-a33e-71dc5149f571",
     "showTitle": false,
     "tableResultSettingsMap": {},
     "title": ""
    }
   },
   "source": [
    "# Yelp Restaurant Reviews Summarizer \n",
    "- **Objective**:  Boost Yelp website engagement by summarizing restaurant reviews, enabling efficient, informed customer decisions.\n",
    "- **Problem Statement**: The vast number of reviews, ranging from positive to negative, makes it time-consuming for customers to quickly assess restaurant feedback.\n",
    "- **Method**: Summarize reviews by processing 7M+ data points, selecting relevant reviews, and using LLMs (Gemini Flash, Meta Lama 3).\n",
    "- **Tools**:  Tableau, Databricks, Python, SparkSQL, Llama 3.1, Gemini Flash, LangChain"
   ]
  },
  {
   "cell_type": "markdown",
   "metadata": {
    "application/vnd.databricks.v1+cell": {
     "cellMetadata": {
      "byteLimit": 2048000,
      "rowLimit": 10000
     },
     "inputWidgets": {},
     "nuid": "1d066817-898f-42f3-9cc7-15a1fe1337e5",
     "showTitle": false,
     "tableResultSettingsMap": {},
     "title": ""
    }
   },
   "source": [
    "# Table of Contents \n",
    "\n",
    "1. **Setup and Data: Load all the required data**\n",
    "  - 1A. Understanding the Structure of the Business Data\n",
    "  - 1B. Understanding Tip Data\n",
    "  - 1C. Exploring the Structure & Content of the categories.json file\n",
    "2. **Data Preparation: Wrangling the relevant data for summarization**\n",
    "  - 2A. Prepare Restaurant Business Categories\n",
    "  - 2B. Selecting Other Top Categories Coincide with Restaurant\n",
    "  - 2C. Preparing and Analyzing Tip Table for Summarization\n",
    "  - 2D. Understanding the Relationship Between Restaurants & Their Metro Area (metro_restaurant_table) \n",
    "  - 2E. Identifying the Reviews for Restaurants (restaurant_review)\n",
    "  - 2F. Understanding the Relationship between Users and Restaurant Reviews (restaurant_reviews_for_summarization)\n",
    "  - 2G. Refining & Structuring All Relevant Data for Analysis"
   ]
  },
  {
   "cell_type": "markdown",
   "metadata": {
    "application/vnd.databricks.v1+cell": {
     "cellMetadata": {
      "byteLimit": 2048000,
      "rowLimit": 10000
     },
     "inputWidgets": {},
     "nuid": "4b7d1d92-01e0-4e3f-a7a8-32813b2cd2b3",
     "showTitle": false,
     "tableResultSettingsMap": {},
     "title": ""
    }
   },
   "source": [
    "## Introducing Tables\n",
    "\n",
    "- [Yelp Dataset JSON](https://www.yelp.com/dataset/documentation/main)\n",
    "- **Review Table** - This table stores individual reviews created by users for different businesses.\n",
    "- **Users Table** - This table consists of 1,987,897 Yelp users. We will be using the reviews from these users for our summarization data.\n",
    "- **Filtered Restaurant Table** - This is the resulting table after filtering out certain categories that do not correlate to a restaurant. This data excludes businesses that we do not consider restaurants, to enhance our restaurant review data for summarization. Overall, it consists of 10,685 remaining restaurants.\n",
    "- **Metro Table** - This table consists of the 11 metro areas that the business in our dataset correlate to. "
   ]
  },
  {
   "cell_type": "markdown",
   "metadata": {
    "application/vnd.databricks.v1+cell": {
     "cellMetadata": {
      "byteLimit": 2048000,
      "rowLimit": 10000
     },
     "inputWidgets": {},
     "nuid": "0a887dff-2c56-4b2d-805d-8bcda29d2e24",
     "showTitle": false,
     "tableResultSettingsMap": {},
     "title": ""
    }
   },
   "source": [
    "# 1. Setup and Data \n",
    "This section details the process of loading the data and setting up the proper tables/dataframes.\n",
    "\n",
    "* Yelp data was downloaded through Kaggle before it was imported into Databricks in bzip2 format to save space: [Kaggle Yelp Dataset](https://www.kaggle.com/datasets/yelp-dataset/yelp-dataset/data)\n",
    "* To ensure that we are using the correct version of the Yelp data (data is always being updated), we have also created a small JSON File containing these parameters\n",
    "* `categories.json` file was then imported through the GUI interface and copied from the FileStore path into the Yelp path in Databricks\n",
    "* `categories.json` was created into a dataframe using PySpark. But before we could use SQL to wrangle the data, the categories dataframe must be created into a Temporary View to ensure that it is stored into memory. This file contains all of the top level categories from Yelp that businesses are sorted into, such as, “Food” and “Shopping,” and even “Public Services & Government.” We will later start filtering out irrelevant categories that are not related to restaurants to do our restaurant reviews summarization to ensure the data is as accurate as can be.\n",
    "* `business.bz2` file was created into a dataframe as well as a Temporary View. It is used to filter out which top-level categories should be ok to include with a restaurant\n",
    "* In order to start filtering, another dataframe is created, `filtered_restaurants,` that builds on the temporary view `restaurants`\n",
    "* `metro_areas.csv` generated from Tableau will then be from wrangling the business file from Data Explorer from the Yelp Dataset on Kaggle. We categorized all the businesses in each metro area according to the major city in those areas, which was then visualized on a map of the US and Canada. This was then made into a dataframe. metro areas. The organized data of businesses and their metro areas were then imported into a csv file, named metro_areas.csv, that is the basis of much of our deepdive into the restaurants and metro areas. \n",
    "[View Tableau Visualization](https://public.tableau.com/views/MappingMetroAreas_17304289481960/MappingMetroAreas?:language=en-US&:sid=&:redirect=auth&:display_count=n&:origin=viz_share_link)\n"
   ]
  },
  {
   "cell_type": "markdown",
   "metadata": {
    "application/vnd.databricks.v1+cell": {
     "cellMetadata": {
      "byteLimit": 2048000,
      "rowLimit": 10000
     },
     "inputWidgets": {},
     "nuid": "f91b1a6b-39bc-461a-99c1-308729dc4bf0",
     "showTitle": false,
     "tableResultSettingsMap": {},
     "title": ""
    }
   },
   "source": [
    "%md\n",
    "### Business Data \n",
    "The Restaurant Reviews data includes the following fields and examples: \n",
    "- \"business_id\":string\"Pns2l4eNsfO8kk83dixA6A\"\n",
    "- \"name\":string\"Abby Rappoport, LAC, CMQ\"\n",
    "- \"address\":string\"1616 Chapala St, Ste 2\"\n",
    "- \"city\":string\"Santa Barbara\"\n",
    "- \"state\":string\"CA\"\n",
    "- \"postal_code\":string\"93101\"\n",
    "- \"latitude\":float34.4266787\n",
    "- \"longitude\":float-119.7111968\n",
    "- \"stars\":int5\n",
    "- \"review_count\":int7\n",
    "- \"is_open\":int0\n",
    "- \"ByAppointmentOnly\":string\"True\"\n",
    "\n",
    "1. The business data can be accessed through [Kaggle](https://www.kaggle.com/datasets/yelp-dataset/yelp-dataset?select=yelp_academic_dataset_business.jsonhttps://www.kaggle.com/datasets/yelp-dataset/yelp-dataset?select=yelp_academic_dataset_business.json)\n",
    "\n",
    "2. Download the second file: yelp_academic_dataset_business.json"
   ]
  },
  {
   "cell_type": "code",
   "execution_count": 0,
   "metadata": {
    "application/vnd.databricks.v1+cell": {
     "cellMetadata": {
      "byteLimit": 2048000,
      "rowLimit": 10000
     },
     "inputWidgets": {},
     "nuid": "dd19a236-0675-464c-b925-440447f257d0",
     "showTitle": false,
     "tableResultSettingsMap": {},
     "title": ""
    }
   },
   "outputs": [
    {
     "output_type": "stream",
     "name": "stdout",
     "output_type": "stream",
     "text": [
      "Out[1]: Package 'dbutils'. For more information, type 'dbutils.help()' in a cell."
     ]
    }
   ],
   "source": [
    "dbutils"
   ]
  },
  {
   "cell_type": "markdown",
   "metadata": {
    "application/vnd.databricks.v1+cell": {
     "cellMetadata": {
      "byteLimit": 2048000,
      "rowLimit": 10000
     },
     "inputWidgets": {},
     "nuid": "a3d33622-544d-4a43-b798-2c8166ad168c",
     "showTitle": false,
     "tableResultSettingsMap": {},
     "title": ""
    }
   },
   "source": [
    "##1A. Understanding the Structure of the Business Data\n",
    "* Yelp's business dataset is loaded into a dataframe. We then printed the record number of business records, which resulted in 150,346 business records total. We then printed the schema of the business dataset. Lastly, we showed a sample of the first 20 rows.\n",
    "* This helps us understand the structure of the business data and evaluate the quality and completeness of the data. This process of loading and inspecting the dataset is a critical first step in preparing the data for further analysis."
   ]
  },
  {
   "cell_type": "code",
   "execution_count": 0,
   "metadata": {
    "application/vnd.databricks.v1+cell": {
     "cellMetadata": {
      "byteLimit": 2048000,
      "rowLimit": 10000
     },
     "inputWidgets": {},
     "nuid": "30f40583-1ea8-450f-b228-7bfdbf6872d4",
     "showTitle": false,
     "tableResultSettingsMap": {},
     "title": ""
    }
   },
   "outputs": [
    {
     "output_type": "stream",
     "name": "stdout",
     "output_type": "stream",
     "text": [
      "record count: 150346\nroot\n |-- address: string (nullable = true)\n |-- attributes: struct (nullable = true)\n |    |-- AcceptsInsurance: string (nullable = true)\n |    |-- AgesAllowed: string (nullable = true)\n |    |-- Alcohol: string (nullable = true)\n |    |-- Ambience: string (nullable = true)\n |    |-- BYOB: string (nullable = true)\n |    |-- BYOBCorkage: string (nullable = true)\n |    |-- BestNights: string (nullable = true)\n |    |-- BikeParking: string (nullable = true)\n |    |-- BusinessAcceptsBitcoin: string (nullable = true)\n |    |-- BusinessAcceptsCreditCards: string (nullable = true)\n |    |-- BusinessParking: string (nullable = true)\n |    |-- ByAppointmentOnly: string (nullable = true)\n |    |-- Caters: string (nullable = true)\n |    |-- CoatCheck: string (nullable = true)\n |    |-- Corkage: string (nullable = true)\n |    |-- DietaryRestrictions: string (nullable = true)\n |    |-- DogsAllowed: string (nullable = true)\n |    |-- DriveThru: string (nullable = true)\n |    |-- GoodForDancing: string (nullable = true)\n |    |-- GoodForKids: string (nullable = true)\n |    |-- GoodForMeal: string (nullable = true)\n |    |-- HairSpecializesIn: string (nullable = true)\n |    |-- HappyHour: string (nullable = true)\n |    |-- HasTV: string (nullable = true)\n |    |-- Music: string (nullable = true)\n |    |-- NoiseLevel: string (nullable = true)\n |    |-- Open24Hours: string (nullable = true)\n |    |-- OutdoorSeating: string (nullable = true)\n |    |-- RestaurantsAttire: string (nullable = true)\n |    |-- RestaurantsCounterService: string (nullable = true)\n |    |-- RestaurantsDelivery: string (nullable = true)\n |    |-- RestaurantsGoodForGroups: string (nullable = true)\n |    |-- RestaurantsPriceRange2: string (nullable = true)\n |    |-- RestaurantsReservations: string (nullable = true)\n |    |-- RestaurantsTableService: string (nullable = true)\n |    |-- RestaurantsTakeOut: string (nullable = true)\n |    |-- Smoking: string (nullable = true)\n |    |-- WheelchairAccessible: string (nullable = true)\n |    |-- WiFi: string (nullable = true)\n |-- business_id: string (nullable = true)\n |-- categories: string (nullable = true)\n |-- city: string (nullable = true)\n |-- hours: struct (nullable = true)\n |    |-- Friday: string (nullable = true)\n |    |-- Monday: string (nullable = true)\n |    |-- Saturday: string (nullable = true)\n |    |-- Sunday: string (nullable = true)\n |    |-- Thursday: string (nullable = true)\n |    |-- Tuesday: string (nullable = true)\n |    |-- Wednesday: string (nullable = true)\n |-- is_open: long (nullable = true)\n |-- latitude: double (nullable = true)\n |-- longitude: double (nullable = true)\n |-- name: string (nullable = true)\n |-- postal_code: string (nullable = true)\n |-- review_count: long (nullable = true)\n |-- stars: double (nullable = true)\n |-- state: string (nullable = true)\n\n-RECORD 0------------------------------------------------------------------------------------------------------------\n address      | 1616 Chapala St, Ste 2                                                                               \n attributes   | {null, null, null, null, null, null, null, null, null, null, null, True, null, null, null, null, ... \n business_id  | Pns2l4eNsfO8kk83dixA6A                                                                               \n categories   | Doctors, Traditional Chinese Medicine, Naturopathic/Holistic, Acupuncture, Health & Medical, Nutr... \n city         | Santa Barbara                                                                                        \n hours        | null                                                                                                 \n is_open      | 0                                                                                                    \n latitude     | 34.4266787                                                                                           \n longitude    | -119.7111968                                                                                         \n name         | Abby Rappoport, LAC, CMQ                                                                             \n postal_code  | 93101                                                                                                \n review_count | 7                                                                                                    \n stars        | 5.0                                                                                                  \n state        | CA                                                                                                   \n-RECORD 1------------------------------------------------------------------------------------------------------------\n address      | 87 Grasso Plaza Shopping Center                                                                      \n attributes   | {null, null, null, null, null, null, null, null, null, True, null, null, null, null, null, null, ... \n business_id  | mpf3x-BjTdTEA3yCZrAYPw                                                                               \n categories   | Shipping Centers, Local Services, Notaries, Mailbox Centers, Printing Services                       \n city         | Affton                                                                                               \n hours        | {8:0-18:30, 0:0-0:0, 8:0-14:0, null, 8:0-18:30, 8:0-18:30, 8:0-18:30}                                \n is_open      | 1                                                                                                    \n latitude     | 38.551126                                                                                            \n longitude    | -90.335695                                                                                           \n name         | The UPS Store                                                                                        \n postal_code  | 63123                                                                                                \n review_count | 15                                                                                                   \n stars        | 3.0                                                                                                  \n state        | MO                                                                                                   \n-RECORD 2------------------------------------------------------------------------------------------------------------\n address      | 5255 E Broadway Blvd                                                                                 \n attributes   | {null, null, null, null, null, null, null, True, null, True, {'garage': False, 'street': False, '... \n business_id  | tUFrWirKiKi_TAnsVWINQQ                                                                               \n categories   | Department Stores, Shopping, Fashion, Home & Garden, Electronics, Furniture Stores                   \n city         | Tucson                                                                                               \n hours        | {8:0-23:0, 8:0-22:0, 8:0-23:0, 8:0-22:0, 8:0-22:0, 8:0-22:0, 8:0-22:0}                               \n is_open      | 0                                                                                                    \n latitude     | 32.223236                                                                                            \n longitude    | -110.880452                                                                                          \n name         | Target                                                                                               \n postal_code  | 85711                                                                                                \n review_count | 22                                                                                                   \n stars        | 3.5                                                                                                  \n state        | AZ                                                                                                   \n-RECORD 3------------------------------------------------------------------------------------------------------------\n address      | 935 Race St                                                                                          \n attributes   | {null, null, u'none', null, null, null, null, True, null, False, {'garage': False, 'street': True... \n business_id  | MTSW4McQd7CbVtyjqoe9mw                                                                               \n categories   | Restaurants, Food, Bubble Tea, Coffee & Tea, Bakeries                                                \n city         | Philadelphia                                                                                         \n hours        | {7:0-21:0, 7:0-20:0, 7:0-21:0, 7:0-21:0, 7:0-20:0, 7:0-20:0, 7:0-20:0}                               \n is_open      | 1                                                                                                    \n latitude     | 39.9555052                                                                                           \n longitude    | -75.1555641                                                                                          \n name         | St Honore Pastries                                                                                   \n postal_code  | 19107                                                                                                \n review_count | 80                                                                                                   \n stars        | 4.0                                                                                                  \n state        | PA                                                                                                   \n-RECORD 4------------------------------------------------------------------------------------------------------------\n address      | 101 Walnut St                                                                                        \n attributes   | {null, null, null, null, null, null, null, True, null, True, {'garage': None, 'street': None, 'va... \n business_id  | mWMc6_wTdE0EUBKIGXDVfA                                                                               \n categories   | Brewpubs, Breweries, Food                                                                            \n city         | Green Lane                                                                                           \n hours        | {12:0-22:0, null, 12:0-22:0, 12:0-18:0, 16:0-22:0, null, 14:0-22:0}                                  \n is_open      | 1                                                                                                    \n latitude     | 40.3381827                                                                                           \n longitude    | -75.4716585                                                                                          \n name         | Perkiomen Valley Brewery                                                                             \n postal_code  | 18054                                                                                                \n review_count | 13                                                                                                   \n stars        | 4.5                                                                                                  \n state        | PA                                                                                                   \n-RECORD 5------------------------------------------------------------------------------------------------------------\n address      | 615 S Main St                                                                                        \n attributes   | {null, null, u'none', None, null, null, null, False, null, True, None, False, False, False, null,... \n business_id  | CF33F8-E6oudUQ46HnavjQ                                                                               \n categories   | Burgers, Fast Food, Sandwiches, Food, Ice Cream & Frozen Yogurt, Restaurants                         \n city         | Ashland City                                                                                         \n hours        | {9:0-0:0, 0:0-0:0, 9:0-22:0, 8:0-22:0, 6:0-22:0, 6:0-22:0, 6:0-22:0}                                 \n is_open      | 1                                                                                                    \n latitude     | 36.269593                                                                                            \n longitude    | -87.058943                                                                                           \n name         | Sonic Drive-In                                                                                       \n postal_code  | 37015                                                                                                \n review_count | 6                                                                                                    \n stars        | 2.0                                                                                                  \n state        | TN                                                                                                   \n-RECORD 6------------------------------------------------------------------------------------------------------------\n address      | 8522 Eager Road, Dierbergs Brentwood Point                                                           \n attributes   | {null, null, null, null, null, null, null, True, null, True, {'garage': False, 'street': False, '... \n business_id  | n_0UpQx1hsNbnPUSlodU8w                                                                               \n categories   | Sporting Goods, Fashion, Shoe Stores, Shopping, Sports Wear, Accessories                             \n city         | Brentwood                                                                                            \n hours        | {10:0-18:0, 0:0-0:0, 10:0-18:0, 12:0-18:0, 10:0-18:0, 10:0-18:0, 10:0-18:0}                          \n is_open      | 1                                                                                                    \n latitude     | 38.627695                                                                                            \n longitude    | -90.340465                                                                                           \n name         | Famous Footwear                                                                                      \n postal_code  | 63144                                                                                                \n review_count | 13                                                                                                   \n stars        | 2.5                                                                                                  \n state        | MO                                                                                                   \n-RECORD 7------------------------------------------------------------------------------------------------------------\n address      | 400 Pasadena Ave S                                                                                   \n attributes   | null                                                                                                 \n business_id  | qkRM_2X51Yqxk3btlwAQIg                                                                               \n categories   | Synagogues, Religious Organizations                                                                  \n city         | St. Petersburg                                                                                       \n hours        | {9:0-17:0, 9:0-17:0, null, null, 9:0-17:0, 9:0-17:0, 9:0-17:0}                                       \n is_open      | 1                                                                                                    \n latitude     | 27.76659                                                                                             \n longitude    | -82.732983                                                                                           \n name         | Temple Beth-El                                                                                       \n postal_code  | 33707                                                                                                \n review_count | 5                                                                                                    \n stars        | 3.5                                                                                                  \n state        | FL                                                                                                   \n-RECORD 8------------------------------------------------------------------------------------------------------------\n address      | 8025 Mackenzie Rd                                                                                    \n attributes   | {null, null, u'full_bar', {'romantic': False, 'intimate': False, 'touristy': False, 'hipster': Fa... \n business_id  | k0hlBqXX-Bt0vf1op7Jr1w                                                                               \n categories   | Pubs, Restaurants, Italian, Bars, American (Traditional), Nightlife, Greek                           \n city         | Affton                                                                                               \n hours        | null                                                                                                 \n is_open      | 0                                                                                                    \n latitude     | 38.5651648                                                                                           \n longitude    | -90.3210868                                                                                          \n name         | Tsevi's Pub And Grill                                                                                \n postal_code  | 63123                                                                                                \n review_count | 19                                                                                                   \n stars        | 3.0                                                                                                  \n state        | MO                                                                                                   \n-RECORD 9------------------------------------------------------------------------------------------------------------\n address      | 2312 Dickerson Pike                                                                                  \n attributes   | {null, null, u'none', null, null, null, null, null, null, True, {'garage': False, 'street': False... \n business_id  | bBDDEgkFA1Otx9Lfe7BZUQ                                                                               \n categories   | Ice Cream & Frozen Yogurt, Fast Food, Burgers, Restaurants, Food                                     \n city         | Nashville                                                                                            \n hours        | {6:0-16:0, 0:0-0:0, 6:0-17:0, 6:0-21:0, 6:0-16:0, 6:0-21:0, 6:0-21:0}                                \n is_open      | 1                                                                                                    \n latitude     | 36.2081024                                                                                           \n longitude    | -86.7681696                                                                                          \n name         | Sonic Drive-In                                                                                       \n postal_code  | 37207                                                                                                \n review_count | 10                                                                                                   \n stars        | 1.5                                                                                                  \n state        | TN                                                                                                   \n-RECORD 10-----------------------------------------------------------------------------------------------------------\n address      | 21705 Village Lakes Sc Dr                                                                            \n attributes   | {null, null, null, null, null, null, null, True, null, True, {'garage': False, 'street': False, '... \n business_id  | UJsufbvfyfONHeWdvAHKjA                                                                               \n categories   | Department Stores, Shopping, Fashion                                                                 \n city         | Land O' Lakes                                                                                        \n hours        | {9:30-21:30, 9:30-21:30, 9:30-21:30, 10:0-20:0, 9:30-21:30, 9:30-21:30, 9:30-21:30}                  \n is_open      | 1                                                                                                    \n latitude     | 28.1904587953                                                                                        \n longitude    | -82.4573802199                                                                                       \n name         | Marshalls                                                                                            \n postal_code  | 34639                                                                                                \n review_count | 6                                                                                                    \n stars        | 3.5                                                                                                  \n state        | FL                                                                                                   \n-RECORD 11-----------------------------------------------------------------------------------------------------------\n address      |                                                                                                      \n attributes   | {null, null, 'none', {'touristy': False, 'hipster': False, 'romantic': False, 'divey': False, 'in... \n business_id  | eEOYSgkmpB90uNA7lDOMRA                                                                               \n categories   | Vietnamese, Food, Restaurants, Food Trucks                                                           \n city         | Tampa Bay                                                                                            \n hours        | {11:0-14:0, 11:0-14:0, 5:0-10:0, 15:0-18:0, 11:0-14:0, 11:0-14:0, 11:0-14:0}                         \n is_open      | 1                                                                                                    \n latitude     | 27.9552692                                                                                           \n longitude    | -82.4563199                                                                                          \n name         | Vietnamese Food Truck                                                                                \n postal_code  | 33602                                                                                                \n review_count | 10                                                                                                   \n stars        | 4.0                                                                                                  \n state        | FL                                                                                                   \n-RECORD 12-----------------------------------------------------------------------------------------------------------\n address      | 8901 US 31 S                                                                                         \n attributes   | {null, null, 'none', {'touristy': None, 'hipster': None, 'romantic': False, 'divey': None, 'intim... \n business_id  | il_Ro8jwPlHresjw9EGmBg                                                                               \n categories   | American (Traditional), Restaurants, Diners, Breakfast & Brunch                                      \n city         | Indianapolis                                                                                         \n hours        | {6:0-22:0, 6:0-22:0, 6:0-22:0, 6:0-22:0, 6:0-22:0, 6:0-22:0, 6:0-22:0}                               \n is_open      | 1                                                                                                    \n latitude     | 39.6371332838                                                                                        \n longitude    | -86.127217412                                                                                        \n name         | Denny's                                                                                              \n postal_code  | 46227                                                                                                \n review_count | 28                                                                                                   \n stars        | 2.5                                                                                                  \n state        | IN                                                                                                   \n-RECORD 13-----------------------------------------------------------------------------------------------------------\n address      | 15 N Missouri Ave                                                                                    \n attributes   | {null, null, null, null, null, null, null, null, null, null, null, True, null, null, null, null, ... \n business_id  | jaxMSoInw8Poo3XeMJt8lQ                                                                               \n categories   | General Dentistry, Dentists, Health & Medical, Cosmetic Dentists                                     \n city         | Clearwater                                                                                           \n hours        | {null, 7:30-15:30, null, null, 7:30-15:30, 7:30-15:30, 7:30-15:30}                                   \n is_open      | 1                                                                                                    \n latitude     | 27.966235                                                                                            \n longitude    | -82.787412                                                                                           \n name         | Adams Dental                                                                                         \n postal_code  | 33755                                                                                                \n review_count | 10                                                                                                   \n stars        | 5.0                                                                                                  \n state        | FL                                                                                                   \n-RECORD 14-----------------------------------------------------------------------------------------------------------\n address      | 2575 E Bay Dr                                                                                        \n attributes   | {null, null, u'none', {'romantic': False, 'intimate': False, 'touristy': False, 'hipster': False,... \n business_id  | 0bPLkL0QhhPO5kt1_EXmNQ                                                                               \n categories   | Food, Delis, Italian, Bakeries, Restaurants                                                          \n city         | Largo                                                                                                \n hours        | {10:0-20:0, 10:0-18:0, 10:0-20:0, null, 10:0-20:0, 10:0-20:0, 10:0-20:0}                             \n is_open      | 0                                                                                                    \n latitude     | 27.9161159                                                                                           \n longitude    | -82.7604608                                                                                          \n name         | Zio's Italian Market                                                                                 \n postal_code  | 33771                                                                                                \n review_count | 100                                                                                                  \n stars        | 4.5                                                                                                  \n state        | FL                                                                                                   \n-RECORD 15-----------------------------------------------------------------------------------------------------------\n address      | 205 Race St                                                                                          \n attributes   | {null, null, 'full_bar', {'touristy': False, 'hipster': False, 'romantic': False, 'divey': False,... \n business_id  | MUTTqe8uqyMdBl186RmNeA                                                                               \n categories   | Sushi Bars, Restaurants, Japanese                                                                    \n city         | Philadelphia                                                                                         \n hours        | {13:30-23:0, null, 13:30-23:0, 13:30-22:0, 13:30-22:0, 13:30-22:0, 13:30-22:0}                       \n is_open      | 1                                                                                                    \n latitude     | 39.953949                                                                                            \n longitude    | -75.1432262                                                                                          \n name         | Tuna Bar                                                                                             \n postal_code  | 19106                                                                                                \n review_count | 245                                                                                                  \n stars        | 4.0                                                                                                  \n state        | PA                                                                                                   \n-RECORD 16-----------------------------------------------------------------------------------------------------------\n address      | 625 N Stone Ave                                                                                      \n attributes   | {null, null, null, null, null, null, null, null, null, True, null, False, null, null, null, null,... \n business_id  | rBmpy_Y1UbBx8ggHlyb7hA                                                                               \n categories   | Automotive, Auto Parts & Supplies, Auto Customization                                                \n city         | Tucson                                                                                               \n hours        | {8:0-17:0, 0:0-0:0, 8:0-14:0, 0:0-0:0, 8:0-17:0, 8:0-17:0, 8:0-17:0}                                 \n is_open      | 1                                                                                                    \n latitude     | 32.2298719                                                                                           \n longitude    | -110.9723419                                                                                         \n name         | Arizona Truck Outfitters                                                                             \n postal_code  | 85705                                                                                                \n review_count | 10                                                                                                   \n stars        | 4.5                                                                                                  \n state        | AZ                                                                                                   \n-RECORD 17-----------------------------------------------------------------------------------------------------------\n address      | 712 Adams St                                                                                         \n attributes   | {null, null, null, null, null, null, null, True, null, True, {'garage': False, 'street': True, 'v... \n business_id  | M0XSSHqrASOnhgbWDJIpQA                                                                               \n categories   | Vape Shops, Tobacco Shops, Personal Shopping, Vitamins & Supplements, Shopping                       \n city         | New Orleans                                                                                          \n hours        | {10:0-19:0, 10:0-19:0, 10:0-19:0, 10:0-19:0, 10:0-19:0, 10:0-19:0, 10:0-19:0}                        \n is_open      | 1                                                                                                    \n latitude     | 29.9414679565                                                                                        \n longitude    | -90.129952757                                                                                        \n name         | Herb Import Co                                                                                       \n postal_code  | 70118                                                                                                \n review_count | 5                                                                                                    \n stars        | 4.0                                                                                                  \n state        | LA                                                                                                   \n-RECORD 18-----------------------------------------------------------------------------------------------------------\n address      | 1241 Airline Dr                                                                                      \n attributes   | null                                                                                                 \n business_id  | 8wGISYjYkE2tSqn3cDMu8A                                                                               \n categories   | Automotive, Car Rental, Hotels & Travel, Truck Rental                                                \n city         | Kenner                                                                                               \n hours        | {8:0-17:0, 8:0-17:0, 9:0-15:0, 9:0-12:0, 8:0-17:0, 8:0-17:0, 8:0-17:0}                               \n is_open      | 1                                                                                                    \n latitude     | 29.981183                                                                                            \n longitude    | -90.2540123                                                                                          \n name         | Nifty Car Rental                                                                                     \n postal_code  | 70062                                                                                                \n review_count | 14                                                                                                   \n stars        | 3.5                                                                                                  \n state        | LA                                                                                                   \n-RECORD 19-----------------------------------------------------------------------------------------------------------\n address      | 1224 South St                                                                                        \n attributes   | {null, null, u'none', {'touristy': False, 'hipster': False, 'romantic': False, 'divey': False, 'i... \n business_id  | ROeacJQwBeh05Rqg7F6TCg                                                                               \n categories   | Korean, Restaurants                                                                                  \n city         | Philadelphia                                                                                         \n hours        | {11:30-20:30, 11:30-20:30, 11:30-20:30, null, 11:30-20:30, 11:30-20:30, 11:30-20:30}                 \n is_open      | 1                                                                                                    \n latitude     | 39.943223                                                                                            \n longitude    | -75.162568                                                                                           \n name         | BAP                                                                                                  \n postal_code  | 19147                                                                                                \n review_count | 205                                                                                                  \n stars        | 4.5                                                                                                  \n state        | PA                                                                                                   \nonly showing top 20 rows\n\n"
     ]
    }
   ],
   "source": [
    "df_raw_business = spark.read.json(\"/yelp/business.bz2\")\n",
    "\n",
    "print(\"record count:\", df_raw_business.count())\n",
    "df_raw_business.printSchema()\n",
    "df_raw_business.show(20,truncate=100,vertical=True)"
   ]
  },
  {
   "cell_type": "markdown",
   "metadata": {
    "application/vnd.databricks.v1+cell": {
     "cellMetadata": {
      "byteLimit": 2048000,
      "rowLimit": 10000
     },
     "inputWidgets": {},
     "nuid": "c0e2e01d-4373-4603-8d42-8fac7f8e016c",
     "showTitle": false,
     "tableResultSettingsMap": {},
     "title": ""
    }
   },
   "source": [
    "## 1B. Understanding Tip Data\n",
    "* We first uploaded the tip json file. We also printed the schema and the first 20 records. Lastly, we printed the total tip records, which is 908,915.\n",
    "* This step is fundamental in preparing the data for deeper insights or using it in predictive models or other analyses. \n",
    "* It allows deeper understanding of tip data, schema exploration, and further data analysis.\n"
   ]
  },
  {
   "cell_type": "code",
   "execution_count": 0,
   "metadata": {
    "application/vnd.databricks.v1+cell": {
     "cellMetadata": {
      "byteLimit": 2048000,
      "rowLimit": 10000
     },
     "inputWidgets": {},
     "nuid": "fd598e16-a7a3-4112-a353-384dfbbbf3af",
     "showTitle": false,
     "tableResultSettingsMap": {},
     "title": ""
    }
   },
   "outputs": [
    {
     "output_type": "stream",
     "name": "stdout",
     "output_type": "stream",
     "text": [
      "record count: 908915\nroot\n |-- business_id: string (nullable = true)\n |-- compliment_count: long (nullable = true)\n |-- date: string (nullable = true)\n |-- text: string (nullable = true)\n |-- user_id: string (nullable = true)\n\n-RECORD 0----------------------------------------------------------------------------------------------------------------\n business_id      | 3uLgwr0qeCNMjKenHJwPGQ                                                                               \n compliment_count | 0                                                                                                    \n date             | 2012-05-18 02:17:21                                                                                  \n text             | Avengers time with the ladies.                                                                       \n user_id          | AGNUgVwnZUey3gcPCJ76iw                                                                               \n-RECORD 1----------------------------------------------------------------------------------------------------------------\n business_id      | QoezRbYQncpRqyrLH6Iqjg                                                                               \n compliment_count | 0                                                                                                    \n date             | 2013-02-05 18:35:10                                                                                  \n text             | They have lots of good deserts and tasty cuban sandwiches                                            \n user_id          | NBN4MgHP9D3cw--SnauTkA                                                                               \n-RECORD 2----------------------------------------------------------------------------------------------------------------\n business_id      | MYoRNLb5chwjQe3c_k37Gg                                                                               \n compliment_count | 0                                                                                                    \n date             | 2013-08-18 00:56:08                                                                                  \n text             | It's open even when you think it isn't                                                               \n user_id          | -copOvldyKh1qr-vzkDEvw                                                                               \n-RECORD 3----------------------------------------------------------------------------------------------------------------\n business_id      | hV-bABTK-glh5wj31ps_Jw                                                                               \n compliment_count | 0                                                                                                    \n date             | 2017-06-27 23:05:38                                                                                  \n text             | Very decent fried chicken                                                                            \n user_id          | FjMQVZjSqY8syIO-53KFKw                                                                               \n-RECORD 4----------------------------------------------------------------------------------------------------------------\n business_id      | _uN0OudeJ3Zl_tf6nxg5ww                                                                               \n compliment_count | 0                                                                                                    \n date             | 2012-10-06 19:43:09                                                                                  \n text             | Appetizers.. platter special for lunch                                                               \n user_id          | ld0AperBXk1h6UbqmM80zw                                                                               \n-RECORD 5----------------------------------------------------------------------------------------------------------------\n business_id      | 7Rm9Ba50bw23KTA8RedZYg                                                                               \n compliment_count | 0                                                                                                    \n date             | 2012-03-13 04:00:52                                                                                  \n text             | Chili Cup + Single Cheeseburger with onion, pickle, and relish + Vanilla Coca-Cola...so far.         \n user_id          | trf3Qcz8qvCDKXiTgjUcEg                                                                               \n-RECORD 6----------------------------------------------------------------------------------------------------------------\n business_id      | kH-0iXqkL7b8UXNpguBMKg                                                                               \n compliment_count | 0                                                                                                    \n date             | 2013-12-03 23:42:15                                                                                  \n text             | Saturday, Dec 7th 2013, ride Patco's Silver Sleigh w/ Santa & his elves on a decorated train into... \n user_id          | SMGAlRjyfuYu-c-22zIyOg                                                                               \n-RECORD 7----------------------------------------------------------------------------------------------------------------\n business_id      | jtri188kuhe_AuEOJ51U_A                                                                               \n compliment_count | 0                                                                                                    \n date             | 2016-11-22 22:14:58                                                                                  \n text             | This is probably the best place in the cool Springs area to watch a game and eat                     \n user_id          | YVBB9g23nuVJ0u44zK0pSA                                                                               \n-RECORD 8----------------------------------------------------------------------------------------------------------------\n business_id      | xODBZmX4EmlVvbqtKN7YKg                                                                               \n compliment_count | 0                                                                                                    \n date             | 2012-07-27 01:48:24                                                                                  \n text             | Tacos                                                                                                \n user_id          | VL12EhEdT4OWqGq0nIqkzw                                                                               \n-RECORD 9----------------------------------------------------------------------------------------------------------------\n business_id      | pICJRcyqW1cF96Q3XhLSbw                                                                               \n compliment_count | 0                                                                                                    \n date             | 2012-06-09 22:57:04                                                                                  \n text             | Starbucks substitute in boring downtown Tampa. Ugh. Never again!                                     \n user_id          | 4ay-fdVks5WMerYL_htkGQ                                                                               \n-RECORD 10---------------------------------------------------------------------------------------------------------------\n business_id      | clwjLY7PdYJpe7IP9lrqEw                                                                               \n compliment_count | 0                                                                                                    \n date             | 2014-06-17 01:20:14                                                                                  \n text             | Order the Tortilla Soup                                                                              \n user_id          | OttfcRxgRrYsTg9EV5Aozg                                                                               \n-RECORD 11---------------------------------------------------------------------------------------------------------------\n business_id      | wLHodvVFLTgK3nl2XG8OCw                                                                               \n compliment_count | 0                                                                                                    \n date             | 2017-03-23 22:01:41                                                                                  \n text             | Very good will definitely be coming back!!                                                           \n user_id          | JsXhBw6MntzTJjH_Ue5udw                                                                               \n-RECORD 12---------------------------------------------------------------------------------------------------------------\n business_id      | wUMuvdUeVZODZk7TjaD2jg                                                                               \n compliment_count | 0                                                                                                    \n date             | 2013-02-28 02:05:54                                                                                  \n text             | If the Hotlight is on you must stop in.                                                              \n user_id          | Y0JfJh4B-jrtGc_AHfWi6w                                                                               \n-RECORD 13---------------------------------------------------------------------------------------------------------------\n business_id      | MDr7KLYSPkEonvGojNEMBw                                                                               \n compliment_count | 0                                                                                                    \n date             | 2011-07-20 21:52:57                                                                                  \n text             | Let's go Yankees!                                                                                    \n user_id          | MlnuJ7T14CE0JDK2ZIOx5g                                                                               \n-RECORD 14---------------------------------------------------------------------------------------------------------------\n business_id      | aK6R2akvIK9ijw3FvDy8vw                                                                               \n compliment_count | 0                                                                                                    \n date             | 2014-06-12 17:34:20                                                                                  \n text             | Basically same food as rally's for $5 more                                                           \n user_id          | ffWWVlmsrN5lZ6sjAE-vTw                                                                               \n-RECORD 15---------------------------------------------------------------------------------------------------------------\n business_id      | EXYbKA1tocvOK_1tXxZXLA                                                                               \n compliment_count | 0                                                                                                    \n date             | 2011-10-13 03:15:15                                                                                  \n text             | Don't go for dinner. They close at 6. Really Yvonne L? Negative stars for a restaurant where you ... \n user_id          | j2sEA3hiUcwHfq9Ml6M47g                                                                               \n-RECORD 16---------------------------------------------------------------------------------------------------------------\n business_id      | H9fkf4Xkj_j7Zxs1FmY58Q                                                                               \n compliment_count | 0                                                                                                    \n date             | 2012-03-11 23:16:12                                                                                  \n text             | 30 mins for take out. Right right tight                                                              \n user_id          | jsaN4TDygu76AGTiB3PpBA                                                                               \n-RECORD 17---------------------------------------------------------------------------------------------------------------\n business_id      | ReX09lhufLTAx19krkltDA                                                                               \n compliment_count | 0                                                                                                    \n date             | 2013-06-10 20:18:41                                                                                  \n text             | Got the grilled chicken entree. It was delicious but was a small portion. I like the environment ... \n user_id          | kjFgyrCvmVVGSlgWzRXILw                                                                               \n-RECORD 18---------------------------------------------------------------------------------------------------------------\n business_id      | c5nLy7YgXG-IIrOmqJv1nA                                                                               \n compliment_count | 0                                                                                                    \n date             | 2016-04-23 02:44:03                                                                                  \n text             | This is the bomb ! I love this dish. Try it you'll like it !lol                                      \n user_id          | I6aRZ4sE7ixv0_2r3-XvGw                                                                               \n-RECORD 19---------------------------------------------------------------------------------------------------------------\n business_id      | LJaR65ALpz261_dlVWqV2g                                                                               \n compliment_count | 0                                                                                                    \n date             | 2012-06-02 14:39:28                                                                                  \n text             | Helping Mona find a new phone.                                                                       \n user_id          | Ll5l4WTKPH7zWQWA68Rhdw                                                                               \nonly showing top 20 rows\n\n"
     ]
    }
   ],
   "source": [
    "df_raw_tips = spark.read.json(\"/yelp/tip.bz2\")\n",
    "\n",
    "print(\"record count:\", df_raw_tips.count())\n",
    "df_raw_tips.printSchema()\n",
    "df_raw_tips.show(20,truncate=100,vertical=True)"
   ]
  },
  {
   "cell_type": "markdown",
   "metadata": {
    "application/vnd.databricks.v1+cell": {
     "cellMetadata": {
      "byteLimit": 2048000,
      "rowLimit": 10000
     },
     "inputWidgets": {},
     "nuid": "0f02a812-190a-4201-85f8-31f1282b84d6",
     "showTitle": false,
     "tableResultSettingsMap": {},
     "title": ""
    }
   },
   "source": [
    "## 1C. Exploring the Structure & Content of the categories.json file \n",
    "* We created a categories dataframe from categories dataset. We then printed the total categories, which resulted in 1,565 Yelp categories. We then showed the schema and printed the first 20 samples\n",
    "* The code helps in exploring the structure and content of the categories.json file. \n",
    "* This could be useful for understanding what categories exist in the Yelp data (e.g., business categories like \"Restaurants\", \"Coffee\", etc.), how many categories there are, and what data is available for each category.\n",
    "* By counting the records and showing the first few rows, we can get a quick overview of how many categories exist and see sample data.\n",
    "\n"
   ]
  },
  {
   "cell_type": "code",
   "execution_count": 0,
   "metadata": {
    "application/vnd.databricks.v1+cell": {
     "cellMetadata": {
      "byteLimit": 2048000,
      "rowLimit": 10000
     },
     "inputWidgets": {},
     "nuid": "fb4a020d-cba0-408f-a7ef-0864e5e4961b",
     "showTitle": false,
     "tableResultSettingsMap": {},
     "title": ""
    }
   },
   "outputs": [
    {
     "output_type": "stream",
     "name": "stdout",
     "output_type": "stream",
     "text": [
      "number of categories: 1565\n+------------------+--------------------+-----------------+---------------+-------------------+\n|             alias|   country_blacklist|country_whitelist|        parents|              title|\n+------------------+--------------------+-----------------+---------------+-------------------+\n|        3dprinting|                null|             null|[localservices]|        3D Printing|\n|         abruzzese|                null|             [IT]|      [italian]|          Abruzzese|\n|      absinthebars|                null|             [CZ]|         [bars]|      Absinthe Bars|\n|         acaibowls|[MX, PL, AR, TR, ...|             null|         [food]|         Acai Bowls|\n|       accessories|                null|             null|      [fashion]|        Accessories|\n|       accountants|                null|             null| [professional]|        Accountants|\n|     acnetreatment|                null|             null|    [beautysvc]|     Acne Treatment|\n|            active|                null|             null|             []|        Active Life|\n|       acupuncture|                null|             null|       [health]|        Acupuncture|\n| addictionmedicine|                [JP]|             null|   [physicians]| Addiction Medicine|\n|  adoptionservices|                null|             null|[localservices]|  Adoption Services|\n|             adult|                null|             null|     [shopping]|              Adult|\n|          adultedu|                null|             null|    [education]|    Adult Education|\n|adultentertainment|                null|             null|    [nightlife]|Adult Entertainment|\n|       advertising|                null|             null| [professional]|        Advertising|\n|     aerialfitness|                null|             null|      [fitness]|     Aerial Fitness|\n|       aerialtours|                null|             null|        [tours]|       Aerial Tours|\n|     aestheticians|[CH, MX, AR, BE, ...|             null|   [medicalspa]|      Aestheticians|\n|           afghani|            [TR, MX]|             null|  [restaurants]|             Afghan|\n|           african|                [TR]|             null|  [restaurants]|            African|\n+------------------+--------------------+-----------------+---------------+-------------------+\nonly showing top 20 rows\n\nroot\n |-- alias: string (nullable = true)\n |-- country_blacklist: array (nullable = true)\n |    |-- element: string (containsNull = true)\n |-- country_whitelist: array (nullable = true)\n |    |-- element: string (containsNull = true)\n |-- parents: array (nullable = true)\n |    |-- element: string (containsNull = true)\n |-- title: string (nullable = true)\n\n+------------------+------------------------+-----------------+---------------+-------------------+\n|             alias|       country_blacklist|country_whitelist|        parents|              title|\n+------------------+------------------------+-----------------+---------------+-------------------+\n|        3dprinting|                    null|             null|[localservices]|        3D Printing|\n|         abruzzese|                    null|             [IT]|      [italian]|          Abruzzese|\n|      absinthebars|                    null|             [CZ]|         [bars]|      Absinthe Bars|\n|         acaibowls|[MX, PL, AR, TR, CL, IT]|             null|         [food]|         Acai Bowls|\n|       accessories|                    null|             null|      [fashion]|        Accessories|\n|       accountants|                    null|             null| [professional]|        Accountants|\n|     acnetreatment|                    null|             null|    [beautysvc]|     Acne Treatment|\n|            active|                    null|             null|             []|        Active Life|\n|       acupuncture|                    null|             null|       [health]|        Acupuncture|\n| addictionmedicine|                    [JP]|             null|   [physicians]| Addiction Medicine|\n|  adoptionservices|                    null|             null|[localservices]|  Adoption Services|\n|             adult|                    null|             null|     [shopping]|              Adult|\n|          adultedu|                    null|             null|    [education]|    Adult Education|\n|adultentertainment|                    null|             null|    [nightlife]|Adult Entertainment|\n|       advertising|                    null|             null| [professional]|        Advertising|\n|     aerialfitness|                    null|             null|      [fitness]|     Aerial Fitness|\n|       aerialtours|                    null|             null|        [tours]|       Aerial Tours|\n|     aestheticians|[CH, MX, AR, BE, FR, CL]|             null|   [medicalspa]|      Aestheticians|\n|           afghani|                [TR, MX]|             null|  [restaurants]|             Afghan|\n|           african|                    [TR]|             null|  [restaurants]|            African|\n+------------------+------------------------+-----------------+---------------+-------------------+\nonly showing top 20 rows\n\n"
     ]
    }
   ],
   "source": [
    "# 1 - create a dataframe\n",
    "df_categories = spark.read.option(\"multiLine\",True).json(\"/yelp/categories.json\")\n",
    "print( \"number of categories:\", df_categories.count())\n",
    "df_categories.show()\n",
    "df_categories.printSchema()\n",
    "df_categories.show(20, truncate = 100)"
   ]
  },
  {
   "cell_type": "markdown",
   "metadata": {
    "application/vnd.databricks.v1+cell": {
     "cellMetadata": {
      "byteLimit": 2048000,
      "rowLimit": 10000
     },
     "inputWidgets": {},
     "nuid": "ef8e1561-34c3-443f-90d4-2927f599c1b0",
     "showTitle": false,
     "tableResultSettingsMap": {},
     "title": ""
    }
   },
   "source": [
    "# 2. Data Preparation \n",
    "We wrangled and filtered the data to prep it for summarization. \n",
    "\n",
    "We used:\n",
    "- Business Data \n",
    "  - Fields Selection \n",
    "  -  Top Categories Selection \n",
    "- Tips Data\n",
    "- Review Table \n",
    "- User Table \n",
    "- Metro Table \n"
   ]
  },
  {
   "cell_type": "markdown",
   "metadata": {
    "application/vnd.databricks.v1+cell": {
     "cellMetadata": {
      "byteLimit": 2048000,
      "rowLimit": 10000
     },
     "inputWidgets": {},
     "nuid": "fb86953b-c0d3-4019-897f-4e16956ada3e",
     "showTitle": false,
     "tableResultSettingsMap": {},
     "title": ""
    }
   },
   "source": [
    "## 2A. Preparing Restaurant Business Categories"
   ]
  },
  {
   "cell_type": "markdown",
   "metadata": {
    "application/vnd.databricks.v1+cell": {
     "cellMetadata": {
      "byteLimit": 2048000,
      "rowLimit": 10000
     },
     "inputWidgets": {},
     "nuid": "6c4c0537-b7a2-4111-b68e-612469a800ca",
     "showTitle": false,
     "tableResultSettingsMap": {},
     "title": ""
    }
   },
   "source": [
    "\n",
    "\n",
    "### 2A.1 Choosing Relevant Business Attributes\n",
    "* We chose the attributes that we thought were most relevant for each restaurant in our data. This includes the business_id, name, categories, stars, and review_count.\n",
    "* **Business_id** - This is the restaurant’s business ID that is unique to each business. This will allow us to differentiate between businesses and analyze data without other unique attributes.\n",
    "* **Name** - This is the business’ name, which is useful for us to search the business and do further research. This allows us to dive deeper into information that we otherwise would not have discovered with our code, such as what the business looks like.\n",
    "* **Stars** - The number of stars a business has allows us to get a general sense of the ratings of the business. The higher number of stars, the more positive the reviews are likely to be. \n",
    "* **Review_count** - The review count lets us know how many reviews a business has on Yelp, and allows us to determine how many reviews we should analyze to get a proper sample size of our analysis. For example, if a restaurant has only a few reviews, each review has a higher weight than if the restaurant had more overall reviews. This should be taken into consideration when analyzing the reviews of a restaurant for the majority’s opinion.\n",
    "* **Categories** - The categories associated with each business allows us to get a sense of which businesses are restaurants or not. This was filtered with our team’s reasoning and deeper analysis to the results of the businesses in each category. Our goal was to include categories and subcategories that would support restaurant reviews.\n",
    "* **is_open** - We want to only summarize restaurants that are still open, as the objective is to provide customers for assessment of dining and reviewing current opened restaurants. It would not be beneficial to analyze or summarize businesses that are no longer in business.\n"
   ]
  },
  {
   "cell_type": "code",
   "execution_count": 0,
   "metadata": {
    "application/vnd.databricks.v1+cell": {
     "cellMetadata": {
      "byteLimit": 2048000,
      "rowLimit": 10000
     },
     "inputWidgets": {},
     "nuid": "fce3ba11-3063-4af1-bb67-df0ca0a91495",
     "showTitle": false,
     "tableResultSettingsMap": {},
     "title": ""
    }
   },
   "outputs": [
    {
     "output_type": "stream",
     "name": "stdout",
     "output_type": "stream",
     "text": [
      "-RECORD 0--------------------------------------------------------------------------------------\n business_id  | mpf3x-BjTdTEA3yCZrAYPw                                                         \n name         | The UPS Store                                                                  \n stars        | 3.0                                                                            \n review_count | 15                                                                             \n categories   | Shipping Centers, Local Services, Notaries, Mailbox Centers, Printing Services \n-RECORD 1--------------------------------------------------------------------------------------\n business_id  | MTSW4McQd7CbVtyjqoe9mw                                                         \n name         | St Honore Pastries                                                             \n stars        | 4.0                                                                            \n review_count | 80                                                                             \n categories   | Restaurants, Food, Bubble Tea, Coffee & Tea, Bakeries                          \n-RECORD 2--------------------------------------------------------------------------------------\n business_id  | mWMc6_wTdE0EUBKIGXDVfA                                                         \n name         | Perkiomen Valley Brewery                                                       \n stars        | 4.5                                                                            \n review_count | 13                                                                             \n categories   | Brewpubs, Breweries, Food                                                      \n-RECORD 3--------------------------------------------------------------------------------------\n business_id  | CF33F8-E6oudUQ46HnavjQ                                                         \n name         | Sonic Drive-In                                                                 \n stars        | 2.0                                                                            \n review_count | 6                                                                              \n categories   | Burgers, Fast Food, Sandwiches, Food, Ice Cream & Frozen Yogurt, Restaurants   \n-RECORD 4--------------------------------------------------------------------------------------\n business_id  | n_0UpQx1hsNbnPUSlodU8w                                                         \n name         | Famous Footwear                                                                \n stars        | 2.5                                                                            \n review_count | 13                                                                             \n categories   | Sporting Goods, Fashion, Shoe Stores, Shopping, Sports Wear, Accessories       \n-RECORD 5--------------------------------------------------------------------------------------\n business_id  | qkRM_2X51Yqxk3btlwAQIg                                                         \n name         | Temple Beth-El                                                                 \n stars        | 3.5                                                                            \n review_count | 5                                                                              \n categories   | Synagogues, Religious Organizations                                            \n-RECORD 6--------------------------------------------------------------------------------------\n business_id  | bBDDEgkFA1Otx9Lfe7BZUQ                                                         \n name         | Sonic Drive-In                                                                 \n stars        | 1.5                                                                            \n review_count | 10                                                                             \n categories   | Ice Cream & Frozen Yogurt, Fast Food, Burgers, Restaurants, Food               \n-RECORD 7--------------------------------------------------------------------------------------\n business_id  | UJsufbvfyfONHeWdvAHKjA                                                         \n name         | Marshalls                                                                      \n stars        | 3.5                                                                            \n review_count | 6                                                                              \n categories   | Department Stores, Shopping, Fashion                                           \n-RECORD 8--------------------------------------------------------------------------------------\n business_id  | eEOYSgkmpB90uNA7lDOMRA                                                         \n name         | Vietnamese Food Truck                                                          \n stars        | 4.0                                                                            \n review_count | 10                                                                             \n categories   | Vietnamese, Food, Restaurants, Food Trucks                                     \n-RECORD 9--------------------------------------------------------------------------------------\n business_id  | il_Ro8jwPlHresjw9EGmBg                                                         \n name         | Denny's                                                                        \n stars        | 2.5                                                                            \n review_count | 28                                                                             \n categories   | American (Traditional), Restaurants, Diners, Breakfast & Brunch                \n-RECORD 10-------------------------------------------------------------------------------------\n business_id  | jaxMSoInw8Poo3XeMJt8lQ                                                         \n name         | Adams Dental                                                                   \n stars        | 5.0                                                                            \n review_count | 10                                                                             \n categories   | General Dentistry, Dentists, Health & Medical, Cosmetic Dentists               \n-RECORD 11-------------------------------------------------------------------------------------\n business_id  | MUTTqe8uqyMdBl186RmNeA                                                         \n name         | Tuna Bar                                                                       \n stars        | 4.0                                                                            \n review_count | 245                                                                            \n categories   | Sushi Bars, Restaurants, Japanese                                              \n-RECORD 12-------------------------------------------------------------------------------------\n business_id  | rBmpy_Y1UbBx8ggHlyb7hA                                                         \n name         | Arizona Truck Outfitters                                                       \n stars        | 4.5                                                                            \n review_count | 10                                                                             \n categories   | Automotive, Auto Parts & Supplies, Auto Customization                          \n-RECORD 13-------------------------------------------------------------------------------------\n business_id  | M0XSSHqrASOnhgbWDJIpQA                                                         \n name         | Herb Import Co                                                                 \n stars        | 4.0                                                                            \n review_count | 5                                                                              \n categories   | Vape Shops, Tobacco Shops, Personal Shopping, Vitamins & Supplements, Shopping \n-RECORD 14-------------------------------------------------------------------------------------\n business_id  | 8wGISYjYkE2tSqn3cDMu8A                                                         \n name         | Nifty Car Rental                                                               \n stars        | 3.5                                                                            \n review_count | 14                                                                             \n categories   | Automotive, Car Rental, Hotels & Travel, Truck Rental                          \n-RECORD 15-------------------------------------------------------------------------------------\n business_id  | ROeacJQwBeh05Rqg7F6TCg                                                         \n name         | BAP                                                                            \n stars        | 4.5                                                                            \n review_count | 205                                                                            \n categories   | Korean, Restaurants                                                            \n-RECORD 16-------------------------------------------------------------------------------------\n business_id  | qhDdDeI3K4jy2KyzwFN53w                                                         \n name         | Barnes & Noble Booksellers                                                     \n stars        | 4.0                                                                            \n review_count | 38                                                                             \n categories   | Shopping, Books, Mags, Music & Video, Bookstores                               \n-RECORD 17-------------------------------------------------------------------------------------\n business_id  | kfNv-JZpuN6TVNSO6hHdkw                                                         \n name         | Hibachi Express                                                                \n stars        | 4.0                                                                            \n review_count | 20                                                                             \n categories   | Steakhouses, Asian Fusion, Restaurants                                         \n-RECORD 18-------------------------------------------------------------------------------------\n business_id  | 9OG5YkX1g2GReZM0AskizA                                                         \n name         | Romano's Macaroni Grill                                                        \n stars        | 2.5                                                                            \n review_count | 339                                                                            \n categories   | Restaurants, Italian                                                           \n-RECORD 19-------------------------------------------------------------------------------------\n business_id  | PSo_C1Sfa13JHjzVNW6ziQ                                                         \n name         | Indian Walk Veterinary Center                                                  \n stars        | 5.0                                                                            \n review_count | 15                                                                             \n categories   | Pet Services, Pet Groomers, Pets, Veterinarians                                \nonly showing top 20 rows\n\n"
     ]
    }
   ],
   "source": [
    "df_raw_business.createOrReplaceTempView(\"raw_business\")\n",
    "\n",
    "df_business = spark.sql(\"\"\"\n",
    "SELECT business_id, name, stars, review_count, categories\n",
    "FROM raw_business\n",
    "WHERE is_open = 1\n",
    "\"\"\")\n",
    "df_business.show(vertical = True, truncate = False)\n",
    "\n",
    "df_business.createOrReplaceTempView(\"business\")"
   ]
  },
  {
   "cell_type": "markdown",
   "metadata": {
    "application/vnd.databricks.v1+cell": {
     "cellMetadata": {
      "byteLimit": 2048000,
      "rowLimit": 10000
     },
     "inputWidgets": {},
     "nuid": "23c67c20-be07-4362-962f-b410e3e79f6b",
     "showTitle": false,
     "tableResultSettingsMap": {},
     "title": ""
    }
   },
   "source": [
    "###2A.2 Visualizing Distribution of Review Stars"
   ]
  },
  {
   "cell_type": "markdown",
   "metadata": {
    "application/vnd.databricks.v1+cell": {
     "cellMetadata": {
      "byteLimit": 2048000,
      "rowLimit": 10000
     },
     "inputWidgets": {},
     "nuid": "ce16d545-2549-4030-8fa3-f9cc110f4d9e",
     "showTitle": false,
     "tableResultSettingsMap": {},
     "title": ""
    }
   },
   "source": [
    "##### Review Stars \n",
    "* For example, this histogram shows the number of business reviews on a range of 1 star to 5 stars. Since we can see there are more reviews that are closer to 5 stars, we can expect the summarization to be generally positive. Additionally, we can assume that there are not a lot of strong negative opinions in these reviews.\n",
    "* The histogram is right skewed, meaning restaurants overall have higher ratings.\n",
    "Top 25% of restaurants have more than 4.5 star rating, Top 50% of restaurants have more than 4 star rating; while only 25% of restaurants have lower than 3 star rating.\n",
    "* This shows that restaurants with 3 stars or more are very common. Customers may find it challenging to distinguish the best restaurant among those with 5-star ratings, as 12% of restaurants have an average review score of 5 stars.\n",
    "\n"
   ]
  },
  {
   "cell_type": "code",
   "execution_count": 0,
   "metadata": {
    "application/vnd.databricks.v1+cell": {
     "cellMetadata": {
      "byteLimit": 2048000,
      "rowLimit": 10000
     },
     "inputWidgets": {},
     "nuid": "a8345113-28db-4a2b-8d5e-b3d0f803193f",
     "showTitle": false,
     "tableResultSettingsMap": {},
     "title": ""
    }
   },
   "outputs": [
    {
     "output_type": "stream",
     "name": "stdout",
     "output_type": "stream",
     "text": [
      "+-----+-----+\n|stars|count|\n+-----+-----+\n|  1.0| 1671|\n|  1.5| 4150|\n|  2.0| 7781|\n|  2.5|11211|\n|  3.0|13725|\n|  3.5|19859|\n|  4.0|24228|\n|  4.5|22536|\n|  5.0|14537|\n+-----+-----+\n\n"
     ]
    },
    {
     "output_type": "display_data",
     "data": {
      "image/png": "[encoded data removed]"
     },
     "metadata": {
      "application/vnd.databricks.v1+output": {
       "addedWidgets": {},
       "arguments": {},
       "data": "data:image/png;base64,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\n",
       "datasetInfos": [],
       "metadata": {},
       "removedWidgets": [],
       "type": "image"
      }
     },
     "output_type": "display_data"
    }
   ],
   "source": [
    "import matplotlib.pyplot as plt\n",
    "\n",
    "star_distribution = spark.sql(\"\"\"\n",
    "SELECT stars, COUNT(*) as count\n",
    "FROM business\n",
    "GROUP BY stars\n",
    "ORDER BY stars\n",
    "\"\"\")\n",
    "\n",
    "# Compute percentiles (25th, 50th, 75th) using Spark SQL\n",
    "percentiles = spark.sql(\"\"\"\n",
    "SELECT \n",
    "    PERCENTILE(stars, 0.25) AS p25,\n",
    "    PERCENTILE(stars, 0.50) AS p50,\n",
    "    PERCENTILE(stars, 0.75) AS p75\n",
    "FROM business\n",
    "\"\"\")\n",
    "percentiles_pd = percentiles.toPandas()\n",
    "\n",
    "# Extract the percentile values\n",
    "p25, p50, p75 = percentiles_pd.iloc[0]['p25'], percentiles_pd.iloc[0]['p50'], percentiles_pd.iloc[0]['p75']\n",
    "\n",
    "\n",
    "star_distribution.show()\n",
    "\n",
    "star_distribution_pd = star_distribution.toPandas()\n",
    "\n",
    "plt.figure(figsize=(8, 6))\n",
    "plt.bar(star_distribution_pd['stars'], star_distribution_pd['count'], width=0.5, edgecolor='black')\n",
    "\n",
    "# Add vertical lines for the percentiles\n",
    "plt.axvline(x=p25, color='red', linestyle='--', linewidth=1.5, label='25th Percentile (P25)')\n",
    "plt.axvline(x=p50, color='red', linestyle='--', linewidth=1.5, label='50th Percentile (Median, P50)')\n",
    "plt.axvline(x=p75, color='red', linestyle='--', linewidth=1.5, label='75th Percentile (P75)')\n",
    "\n",
    "# Annotate the percentiles on the figure\n",
    "plt.text(p25, max(star_distribution_pd['count']) * 0.9, \"25th\", color='red', ha='center')\n",
    "plt.text(p50, max(star_distribution_pd['count']) * 0.9, \"50th\", color='red', ha='center')\n",
    "plt.text(p75, max(star_distribution_pd['count']) * 0.9, \"75th\", color='red', ha='center')\n",
    "\n",
    "plt.title(\"Distribution of Stars\")\n",
    "plt.xlabel(\"Stars\")\n",
    "plt.ylabel(\"Number of Businesses\")\n",
    "plt.xticks(star_distribution_pd['stars'])  # Ensure proper tick marks for stars\n",
    "plt.grid(axis='y', linestyle='--', alpha=0.7)\n",
    "\n",
    "plt.show()\n"
   ]
  },
  {
   "cell_type": "markdown",
   "metadata": {
    "application/vnd.databricks.v1+cell": {
     "cellMetadata": {
      "byteLimit": 2048000,
      "rowLimit": 10000
     },
     "inputWidgets": {},
     "nuid": "7ad0a06c-e46c-42e7-9655-99db3b8a461f",
     "showTitle": false,
     "tableResultSettingsMap": {},
     "title": ""
    }
   },
   "source": [
    "##### Visualizing Review Count of Businesses\n",
    "\n",
    "* From the boxplot, we can see that half of the restaurants receive at least 15 reviews from customers, with 25% of restaurants receiving more than 37 reviews and 25% restaurants receiving less than 8 reviews.\n",
    "* The higher of a review count a business has, the more credible the overall star count and summarization will be. The opinion of a group of people is more trustworthy than the opinion of a couple individuals. \n",
    "\n"
   ]
  },
  {
   "cell_type": "code",
   "execution_count": 0,
   "metadata": {
    "application/vnd.databricks.v1+cell": {
     "cellMetadata": {
      "byteLimit": 2048000,
      "rowLimit": 10000
     },
     "inputWidgets": {},
     "nuid": "a75b3973-9067-4895-b2ab-84c6ae2ea33e",
     "showTitle": false,
     "tableResultSettingsMap": {},
     "title": ""
    }
   },
   "outputs": [
    {
     "output_type": "display_data",
     "data": {
      "image/png": "[encoded data removed]"
     },
     "metadata": {
      "application/vnd.databricks.v1+output": {
       "addedWidgets": {},
       "arguments": {},
       "data": "data:image/png;base64,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\n",
       "datasetInfos": [],
       "metadata": {},
       "removedWidgets": [],
       "type": "image"
      }
     },
     "output_type": "display_data"
    }
   ],
   "source": [
    "import matplotlib.pyplot as plt\n",
    "import numpy as np\n",
    "\n",
    "# Query to extract review_count from the dataset\n",
    "review_count_data = spark.sql(\"\"\"\n",
    "SELECT review_count\n",
    "FROM business\n",
    "\"\"\")\n",
    "\n",
    "# Convert the review_count data to Pandas for plotting\n",
    "review_count_pd = review_count_data.toPandas()\n",
    "\n",
    "# Calculate percentiles (25th, 50th, and 75th)\n",
    "p25 = np.percentile(review_count_pd['review_count'], 25)\n",
    "p50 = np.percentile(review_count_pd['review_count'], 50)  # Median\n",
    "p75 = np.percentile(review_count_pd['review_count'], 75)\n",
    "\n",
    "# Plotting the box plot without outliers\n",
    "plt.figure(figsize=(8, 6))\n",
    "box = plt.boxplot(\n",
    "    review_count_pd['review_count'],\n",
    "    vert=True,\n",
    "    patch_artist=True,\n",
    "    showmeans=True,\n",
    "    showfliers=False  # Exclude outliers\n",
    ")\n",
    "\n",
    "# Add percentile annotations\n",
    "plt.text(1.1, p25, f\"25th: {p25:.1f}\", color='blue', ha='left')\n",
    "plt.text(1.1, p50, f\"Median: {p50:.1f}\", color='green', ha='left')\n",
    "plt.text(1.1, p75, f\"75th: {p75:.1f}\", color='purple', ha='left')\n",
    "\n",
    "# Add labels and title\n",
    "plt.title(\"Box Plot of Review Counts (With Percentiles)\")\n",
    "plt.ylabel(\"Review Count\")\n",
    "plt.grid(axis='y', linestyle='--', alpha=0.7)\n",
    "\n",
    "# Show the plot\n",
    "plt.show()\n"
   ]
  },
  {
   "cell_type": "markdown",
   "metadata": {
    "application/vnd.databricks.v1+cell": {
     "cellMetadata": {
      "byteLimit": 2048000,
      "rowLimit": 10000
     },
     "inputWidgets": {},
     "nuid": "447fe1de-6bee-4669-95b6-f5fa5f3cb7ca",
     "showTitle": false,
     "tableResultSettingsMap": {},
     "title": ""
    }
   },
   "source": [
    "###2A.3 Identifying the Top Categories for Businesses in Yelp\n",
    "* We first created a categories dataframe. We then filtered the top categories (those with parents == 0). Then, we showed the first 30 samples of top categories.\n",
    "* By identifying the top categories, we are able to research deeper into the businesses and the subcategory they fall under. We will later decide if we choose to include those particular businesses, categories, or subcategories into our summarization or consideration.\n"
   ]
  },
  {
   "cell_type": "code",
   "execution_count": 0,
   "metadata": {
    "application/vnd.databricks.v1+cell": {
     "cellMetadata": {
      "byteLimit": 2048000,
      "rowLimit": 10000
     },
     "inputWidgets": {},
     "nuid": "be01bdca-61df-4193-af99-3a19f873bdc6",
     "showTitle": false,
     "tableResultSettingsMap": {},
     "title": ""
    }
   },
   "outputs": [
    {
     "output_type": "stream",
     "name": "stdout",
     "output_type": "stream",
     "text": [
      "+------------------+-----------------+-----------------+-------+----------------------------+\n|alias             |country_blacklist|country_whitelist|parents|title                       |\n+------------------+-----------------+-----------------+-------+----------------------------+\n|active            |null             |null             |[]     |Active Life                 |\n|arts              |null             |null             |[]     |Arts & Entertainment        |\n|auto              |null             |null             |[]     |Automotive                  |\n|beautysvc         |null             |null             |[]     |Beauty & Spas               |\n|bicycles          |null             |[PL, PT, DK, CZ] |[]     |Bicycles                    |\n|education         |null             |null             |[]     |Education                   |\n|eventservices     |null             |null             |[]     |Event Planning & Services   |\n|financialservices |null             |null             |[]     |Financial Services          |\n|food              |null             |null             |[]     |Food                        |\n|health            |null             |null             |[]     |Health & Medical            |\n|homeservices      |null             |null             |[]     |Home Services               |\n|hotelstravel      |null             |null             |[]     |Hotels & Travel             |\n|localflavor       |null             |null             |[]     |Local Flavor                |\n|localservices     |null             |null             |[]     |Local Services              |\n|massmedia         |null             |null             |[]     |Mass Media                  |\n|nightlife         |null             |null             |[]     |Nightlife                   |\n|pets              |null             |null             |[]     |Pets                        |\n|professional      |null             |null             |[]     |Professional Services       |\n|publicservicesgovt|null             |null             |[]     |Public Services & Government|\n|religiousorgs     |null             |null             |[]     |Religious Organizations     |\n|restaurants       |null             |null             |[]     |Restaurants                 |\n|shopping          |null             |null             |[]     |Shopping                    |\n+------------------+-----------------+-----------------+-------+----------------------------+\n\n"
     ]
    }
   ],
   "source": [
    "df_categories.createOrReplaceTempView(\"categories\")\n",
    "\n",
    "import pyspark.sql.functions as f\n",
    "df_categories.filter( f.size(df_categories.parents) == 0 ).show(30, truncate=False)"
   ]
  },
  {
   "cell_type": "markdown",
   "metadata": {
    "application/vnd.databricks.v1+cell": {
     "cellMetadata": {
      "byteLimit": 2048000,
      "rowLimit": 10000
     },
     "inputWidgets": {},
     "nuid": "4f38a0d8-6384-47c9-91d9-d1534278d5e2",
     "showTitle": false,
     "tableResultSettingsMap": {},
     "title": ""
    }
   },
   "source": [
    "###2A.4 Identifying the Values & Categories of Businesses\n",
    "* From the business dataframe we isolated the categories field from all other fields. We then split the values and then the categories. This gives us an overview of the businesses, their business ID, the name, the stars rating and number of reviews an individual business has. \n",
    "* This also allows us to see what categories each business belongs to, to get a sense of what kind of reviews the businesses would receive according to their services."
   ]
  },
  {
   "cell_type": "code",
   "execution_count": 0,
   "metadata": {
    "application/vnd.databricks.v1+cell": {
     "cellMetadata": {
      "byteLimit": 2048000,
      "rowLimit": 10000
     },
     "inputWidgets": {},
     "nuid": "323e820d-0333-446d-b349-960aa85a0cdf",
     "showTitle": false,
     "tableResultSettingsMap": {},
     "title": ""
    }
   },
   "outputs": [
    {
     "output_type": "stream",
     "name": "stdout",
     "output_type": "stream",
     "text": [
      "-RECORD 0----------------------------------------------------------------------------------------\n business_id  | mpf3x-BjTdTEA3yCZrAYPw                                                           \n name         | The UPS Store                                                                    \n stars        | 3.0                                                                              \n review_count | 15                                                                               \n categories   | [Shipping Centers, Local Services, Notaries, Mailbox Centers, Printing Services] \n-RECORD 1----------------------------------------------------------------------------------------\n business_id  | MTSW4McQd7CbVtyjqoe9mw                                                           \n name         | St Honore Pastries                                                               \n stars        | 4.0                                                                              \n review_count | 80                                                                               \n categories   | [Restaurants, Food, Bubble Tea, Coffee & Tea, Bakeries]                          \n-RECORD 2----------------------------------------------------------------------------------------\n business_id  | mWMc6_wTdE0EUBKIGXDVfA                                                           \n name         | Perkiomen Valley Brewery                                                         \n stars        | 4.5                                                                              \n review_count | 13                                                                               \n categories   | [Brewpubs, Breweries, Food]                                                      \n-RECORD 3----------------------------------------------------------------------------------------\n business_id  | CF33F8-E6oudUQ46HnavjQ                                                           \n name         | Sonic Drive-In                                                                   \n stars        | 2.0                                                                              \n review_count | 6                                                                                \n categories   | [Burgers, Fast Food, Sandwiches, Food, Ice Cream & Frozen Yogurt, Restaurants]   \n-RECORD 4----------------------------------------------------------------------------------------\n business_id  | n_0UpQx1hsNbnPUSlodU8w                                                           \n name         | Famous Footwear                                                                  \n stars        | 2.5                                                                              \n review_count | 13                                                                               \n categories   | [Sporting Goods, Fashion, Shoe Stores, Shopping, Sports Wear, Accessories]       \n-RECORD 5----------------------------------------------------------------------------------------\n business_id  | qkRM_2X51Yqxk3btlwAQIg                                                           \n name         | Temple Beth-El                                                                   \n stars        | 3.5                                                                              \n review_count | 5                                                                                \n categories   | [Synagogues, Religious Organizations]                                            \n-RECORD 6----------------------------------------------------------------------------------------\n business_id  | bBDDEgkFA1Otx9Lfe7BZUQ                                                           \n name         | Sonic Drive-In                                                                   \n stars        | 1.5                                                                              \n review_count | 10                                                                               \n categories   | [Ice Cream & Frozen Yogurt, Fast Food, Burgers, Restaurants, Food]               \n-RECORD 7----------------------------------------------------------------------------------------\n business_id  | UJsufbvfyfONHeWdvAHKjA                                                           \n name         | Marshalls                                                                        \n stars        | 3.5                                                                              \n review_count | 6                                                                                \n categories   | [Department Stores, Shopping, Fashion]                                           \n-RECORD 8----------------------------------------------------------------------------------------\n business_id  | eEOYSgkmpB90uNA7lDOMRA                                                           \n name         | Vietnamese Food Truck                                                            \n stars        | 4.0                                                                              \n review_count | 10                                                                               \n categories   | [Vietnamese, Food, Restaurants, Food Trucks]                                     \n-RECORD 9----------------------------------------------------------------------------------------\n business_id  | il_Ro8jwPlHresjw9EGmBg                                                           \n name         | Denny's                                                                          \n stars        | 2.5                                                                              \n review_count | 28                                                                               \n categories   | [American (Traditional), Restaurants, Diners, Breakfast & Brunch]                \nonly showing top 10 rows\n\n"
     ]
    }
   ],
   "source": [
    "df_business.select(\"business_id\", \"name\", \"stars\", \"review_count\", f.split(df_business.categories,'\\s*,\\s*').alias(\"categories\")).show(10, truncate=False, vertical=True)"
   ]
  },
  {
   "cell_type": "markdown",
   "metadata": {
    "application/vnd.databricks.v1+cell": {
     "cellMetadata": {
      "byteLimit": 2048000,
      "rowLimit": 10000
     },
     "inputWidgets": {},
     "nuid": "535060f8-579e-4f47-9de0-e7b7174b2fa0",
     "showTitle": false,
     "tableResultSettingsMap": {},
     "title": ""
    }
   },
   "source": [
    "###2A.5 Extracting & Categorizing Null Businesses\n",
    "* To narrow down our data to provide more relevant information for the summarizer to produce accurate results of the businesses, we should not take businesses that are no longer open into account. \n",
    "* Additionally, without the irrelevant data, the operational efficiency is improved, and provides more insights into review counts and ratings.\n",
    "* We first created a dataframe called df_business_cat\n",
    "* We split the values of the categories. Then, we filtered the data to exclude records with empty categories. \n",
    "* We printed the record count of our result, which comes to be 119,603 businesses. \n",
    "* We showed a sample of the first 10 businesses. This will simplify our analysis and strengthen our summarization to be relevant."
   ]
  },
  {
   "cell_type": "code",
   "execution_count": 0,
   "metadata": {
    "application/vnd.databricks.v1+cell": {
     "cellMetadata": {
      "byteLimit": 2048000,
      "rowLimit": 10000
     },
     "inputWidgets": {},
     "nuid": "7dcec37a-a04d-493f-a098-9f3e6c2205d6",
     "showTitle": false,
     "tableResultSettingsMap": {},
     "title": ""
    }
   },
   "outputs": [
    {
     "output_type": "stream",
     "name": "stdout",
     "output_type": "stream",
     "text": [
      "record count: 119603\n-RECORD 0----------------------------------------------------------------------------------------\n business_id  | mpf3x-BjTdTEA3yCZrAYPw                                                           \n name         | The UPS Store                                                                    \n stars        | 3.0                                                                              \n review_count | 15                                                                               \n categories   | [Shipping Centers, Local Services, Notaries, Mailbox Centers, Printing Services] \n-RECORD 1----------------------------------------------------------------------------------------\n business_id  | MTSW4McQd7CbVtyjqoe9mw                                                           \n name         | St Honore Pastries                                                               \n stars        | 4.0                                                                              \n review_count | 80                                                                               \n categories   | [Restaurants, Food, Bubble Tea, Coffee & Tea, Bakeries]                          \n-RECORD 2----------------------------------------------------------------------------------------\n business_id  | mWMc6_wTdE0EUBKIGXDVfA                                                           \n name         | Perkiomen Valley Brewery                                                         \n stars        | 4.5                                                                              \n review_count | 13                                                                               \n categories   | [Brewpubs, Breweries, Food]                                                      \n-RECORD 3----------------------------------------------------------------------------------------\n business_id  | CF33F8-E6oudUQ46HnavjQ                                                           \n name         | Sonic Drive-In                                                                   \n stars        | 2.0                                                                              \n review_count | 6                                                                                \n categories   | [Burgers, Fast Food, Sandwiches, Food, Ice Cream & Frozen Yogurt, Restaurants]   \n-RECORD 4----------------------------------------------------------------------------------------\n business_id  | n_0UpQx1hsNbnPUSlodU8w                                                           \n name         | Famous Footwear                                                                  \n stars        | 2.5                                                                              \n review_count | 13                                                                               \n categories   | [Sporting Goods, Fashion, Shoe Stores, Shopping, Sports Wear, Accessories]       \n-RECORD 5----------------------------------------------------------------------------------------\n business_id  | qkRM_2X51Yqxk3btlwAQIg                                                           \n name         | Temple Beth-El                                                                   \n stars        | 3.5                                                                              \n review_count | 5                                                                                \n categories   | [Synagogues, Religious Organizations]                                            \n-RECORD 6----------------------------------------------------------------------------------------\n business_id  | bBDDEgkFA1Otx9Lfe7BZUQ                                                           \n name         | Sonic Drive-In                                                                   \n stars        | 1.5                                                                              \n review_count | 10                                                                               \n categories   | [Ice Cream & Frozen Yogurt, Fast Food, Burgers, Restaurants, Food]               \n-RECORD 7----------------------------------------------------------------------------------------\n business_id  | UJsufbvfyfONHeWdvAHKjA                                                           \n name         | Marshalls                                                                        \n stars        | 3.5                                                                              \n review_count | 6                                                                                \n categories   | [Department Stores, Shopping, Fashion]                                           \n-RECORD 8----------------------------------------------------------------------------------------\n business_id  | eEOYSgkmpB90uNA7lDOMRA                                                           \n name         | Vietnamese Food Truck                                                            \n stars        | 4.0                                                                              \n review_count | 10                                                                               \n categories   | [Vietnamese, Food, Restaurants, Food Trucks]                                     \n-RECORD 9----------------------------------------------------------------------------------------\n business_id  | il_Ro8jwPlHresjw9EGmBg                                                           \n name         | Denny's                                                                          \n stars        | 2.5                                                                              \n review_count | 28                                                                               \n categories   | [American (Traditional), Restaurants, Diners, Breakfast & Brunch]                \nonly showing top 10 rows\n\n"
     ]
    }
   ],
   "source": [
    "df_business_cat = spark.sql(\"\"\"\n",
    "SELECT business_id, name, stars, review_count, \n",
    "        SPLIT(categories,'\\\\\\s*,\\\\\\s*') AS categories\n",
    "FROM business\n",
    "WHERE categories IS NOT NULL\n",
    "\"\"\")\n",
    "\n",
    "print(\"record count:\", df_business_cat.count())\n",
    "\n",
    "df_business_cat.show(10, truncate=False, vertical=True)"
   ]
  },
  {
   "cell_type": "markdown",
   "metadata": {
    "application/vnd.databricks.v1+cell": {
     "cellMetadata": {
      "byteLimit": 2048000,
      "rowLimit": 10000
     },
     "inputWidgets": {},
     "nuid": "f7a6dd45-d5b3-4751-861d-f7911a3dcb3e",
     "showTitle": false,
     "tableResultSettingsMap": {},
     "title": ""
    }
   },
   "source": [
    "###2A.6 Filtering & Preparing Restaurant & Category Specific Data\n",
    "* This allows us to focus our analysis on relevant data and narrow down to restaurants to be more efficient. \n",
    "* This lets us further analyze the restaurants and their data without any unnecessary information.\n",
    "* By focusing solely on restaurants, it allows the summarizer to analyze and derive insights from a specific and relevant subset of data.\n",
    "* We first created a temporary view from our df_business_cat dataframe. We then filtered the result to only show records that include \"Restaurants\" categories. We then printed the total restaurant records, which is 34,987. We then showed a sample of the first 10 restaurants. Then we created a temporary view of the restaurants."
   ]
  },
  {
   "cell_type": "code",
   "execution_count": 0,
   "metadata": {
    "application/vnd.databricks.v1+cell": {
     "cellMetadata": {
      "byteLimit": 2048000,
      "rowLimit": 10000
     },
     "inputWidgets": {},
     "nuid": "256bc311-0b58-481d-a661-defb00aed7ee",
     "showTitle": false,
     "tableResultSettingsMap": {},
     "title": ""
    }
   },
   "outputs": [
    {
     "output_type": "stream",
     "name": "stdout",
     "output_type": "stream",
     "text": [
      "record count: 34987\n-RECORD 0-----------------------------------------------------------------------------------------------------------------------\n business_id  | MTSW4McQd7CbVtyjqoe9mw                                                                                          \n name         | St Honore Pastries                                                                                              \n stars        | 4.0                                                                                                             \n review_count | 80                                                                                                              \n categories   | [Restaurants, Food, Bubble Tea, Coffee & Tea, Bakeries]                                                         \n-RECORD 1-----------------------------------------------------------------------------------------------------------------------\n business_id  | CF33F8-E6oudUQ46HnavjQ                                                                                          \n name         | Sonic Drive-In                                                                                                  \n stars        | 2.0                                                                                                             \n review_count | 6                                                                                                               \n categories   | [Burgers, Fast Food, Sandwiches, Food, Ice Cream & Frozen Yogurt, Restaurants]                                  \n-RECORD 2-----------------------------------------------------------------------------------------------------------------------\n business_id  | bBDDEgkFA1Otx9Lfe7BZUQ                                                                                          \n name         | Sonic Drive-In                                                                                                  \n stars        | 1.5                                                                                                             \n review_count | 10                                                                                                              \n categories   | [Ice Cream & Frozen Yogurt, Fast Food, Burgers, Restaurants, Food]                                              \n-RECORD 3-----------------------------------------------------------------------------------------------------------------------\n business_id  | eEOYSgkmpB90uNA7lDOMRA                                                                                          \n name         | Vietnamese Food Truck                                                                                           \n stars        | 4.0                                                                                                             \n review_count | 10                                                                                                              \n categories   | [Vietnamese, Food, Restaurants, Food Trucks]                                                                    \n-RECORD 4-----------------------------------------------------------------------------------------------------------------------\n business_id  | il_Ro8jwPlHresjw9EGmBg                                                                                          \n name         | Denny's                                                                                                         \n stars        | 2.5                                                                                                             \n review_count | 28                                                                                                              \n categories   | [American (Traditional), Restaurants, Diners, Breakfast & Brunch]                                               \n-RECORD 5-----------------------------------------------------------------------------------------------------------------------\n business_id  | MUTTqe8uqyMdBl186RmNeA                                                                                          \n name         | Tuna Bar                                                                                                        \n stars        | 4.0                                                                                                             \n review_count | 245                                                                                                             \n categories   | [Sushi Bars, Restaurants, Japanese]                                                                             \n-RECORD 6-----------------------------------------------------------------------------------------------------------------------\n business_id  | ROeacJQwBeh05Rqg7F6TCg                                                                                          \n name         | BAP                                                                                                             \n stars        | 4.5                                                                                                             \n review_count | 205                                                                                                             \n categories   | [Korean, Restaurants]                                                                                           \n-RECORD 7-----------------------------------------------------------------------------------------------------------------------\n business_id  | kfNv-JZpuN6TVNSO6hHdkw                                                                                          \n name         | Hibachi Express                                                                                                 \n stars        | 4.0                                                                                                             \n review_count | 20                                                                                                              \n categories   | [Steakhouses, Asian Fusion, Restaurants]                                                                        \n-RECORD 8-----------------------------------------------------------------------------------------------------------------------\n business_id  | 9OG5YkX1g2GReZM0AskizA                                                                                          \n name         | Romano's Macaroni Grill                                                                                         \n stars        | 2.5                                                                                                             \n review_count | 339                                                                                                             \n categories   | [Restaurants, Italian]                                                                                          \n-RECORD 9-----------------------------------------------------------------------------------------------------------------------\n business_id  | sqSqqLy0sN8n2IZrAbzidQ                                                                                          \n name         | Domino's Pizza                                                                                                  \n stars        | 3.5                                                                                                             \n review_count | 8                                                                                                               \n categories   | [Pizza, Chicken Wings, Sandwiches, Restaurants]                                                                 \n-RECORD 10----------------------------------------------------------------------------------------------------------------------\n business_id  | kV_Q1oqis8Qli8dUoGpTyQ                                                                                          \n name         | Ardmore Pizza                                                                                                   \n stars        | 3.5                                                                                                             \n review_count | 109                                                                                                             \n categories   | [Pizza, Restaurants]                                                                                            \n-RECORD 11----------------------------------------------------------------------------------------------------------------------\n business_id  | aPNXGTDkf-4bjhyMBQxqpQ                                                                                          \n name         | Craft Hall                                                                                                      \n stars        | 3.5                                                                                                             \n review_count | 65                                                                                                              \n categories   | [Eatertainment, Arts & Entertainment, Brewpubs, American (Traditional), Bakeries, Breweries, Food, Restaurants] \n-RECORD 12----------------------------------------------------------------------------------------------------------------------\n business_id  | ljxNT9p0y7YMPx0fcNBGig                                                                                          \n name         | Tony's Restaurant & 3rd Street Cafe                                                                             \n stars        | 3.0                                                                                                             \n review_count | 94                                                                                                              \n categories   | [Restaurants, Specialty Food, Steakhouses, Food, Italian, Pizza, Pasta Shops]                                   \n-RECORD 13----------------------------------------------------------------------------------------------------------------------\n business_id  | ABxoFuzZy5mqQ8C5FJJajQ                                                                                          \n name         | Core de Roma                                                                                                    \n stars        | 5.0                                                                                                             \n review_count | 12                                                                                                              \n categories   | [Restaurants, Italian]                                                                                          \n-RECORD 14----------------------------------------------------------------------------------------------------------------------\n business_id  | seKihQKpGGnCeLuELRQPSQ                                                                                          \n name         | Twin Peaks                                                                                                      \n stars        | 3.5                                                                                                             \n review_count | 257                                                                                                             \n categories   | [Sports Bars, American (New), American (Traditional), Nightlife, Bars, Restaurants]                             \n-RECORD 15----------------------------------------------------------------------------------------------------------------------\n business_id  | 8rb-3VYXE37IZix4yOdskw                                                                                          \n name         | Sharky's Sports Bar & Grill                                                                                     \n stars        | 2.5                                                                                                             \n review_count | 29                                                                                                              \n categories   | [American (Traditional), Bars, Nightlife, Sports Bars, Restaurants]                                             \n-RECORD 16----------------------------------------------------------------------------------------------------------------------\n business_id  | aCDY7vXYMs54EbYuQScsnQ                                                                                          \n name         | 39 North Taproom & Grill                                                                                        \n stars        | 4.5                                                                                                             \n review_count | 25                                                                                                              \n categories   | [American (Traditional), Sports Bars, Restaurants, Bars, Nightlife, Steakhouses, Salad, Beer Bar]               \n-RECORD 17----------------------------------------------------------------------------------------------------------------------\n business_id  | pJfh3Ct8iL58NZa8ta-a5w                                                                                          \n name         | Top Shelf Sports Lounge                                                                                         \n stars        | 4.5                                                                                                             \n review_count | 95                                                                                                              \n categories   | [Burgers, Sports Bars, Bars, Lounges, Restaurants, Salad, Wraps, Nightlife, American (New)]                     \n-RECORD 18----------------------------------------------------------------------------------------------------------------------\n business_id  | ppFCk9aQkM338Rgwpl2F5A                                                                                          \n name         | Wawa                                                                                                            \n stars        | 3.0                                                                                                             \n review_count | 56                                                                                                              \n categories   | [Restaurants, Automotive, Delis, Gas Stations, Food, Coffee & Tea, Sandwiches, Convenience Stores]              \n-RECORD 19----------------------------------------------------------------------------------------------------------------------\n business_id  | IDtLPgUrqorrpqSLdfMhZQ                                                                                          \n name         | Helena Avenue Bakery                                                                                            \n stars        | 4.0                                                                                                             \n review_count | 389                                                                                                             \n categories   | [Food, Restaurants, Salad, Coffee & Tea, Breakfast & Brunch, Sandwiches, Bakeries]                              \nonly showing top 20 rows\n\n"
     ]
    }
   ],
   "source": [
    "df_business_cat.createOrReplaceTempView(\"business_cat\")\n",
    "\n",
    "df_restaurants = spark.sql(\"\"\"\n",
    "SELECT *\n",
    "FROM business_cat\n",
    "WHERE ARRAY_CONTAINS(categories,\"Restaurants\")\n",
    "\"\"\")\n",
    "\n",
    "print(\"record count:\", df_restaurants.count())\n",
    "df_restaurants.show(truncate=False, vertical=True)\n",
    "\n",
    "df_restaurants.createOrReplaceTempView(\"restaurants\")"
   ]
  },
  {
   "cell_type": "markdown",
   "metadata": {
    "application/vnd.databricks.v1+cell": {
     "cellMetadata": {
      "byteLimit": 2048000,
      "rowLimit": 10000
     },
     "inputWidgets": {},
     "nuid": "1bb479dd-33f6-436f-bdf0-3eccd3e4089d",
     "showTitle": false,
     "tableResultSettingsMap": {},
     "title": ""
    }
   },
   "source": [
    "## 2B. Selecting Other Top Categories Coincide with Restaurant\n",
    "\n",
    "[Yelp Category List](https://blog.yelp.com/businesses/yelp_category_list/)\n",
    "\n",
    "###Included Categories:\n",
    "These following categories are included in our data because of the results’ strong relationship with “Restaurant.”\n",
    "\n",
    "To filter the results even more, there were a few top-level categories that are included, and a few subcategories excluded, to make the data more accurate.\n",
    "\n",
    "- Nightlife\n",
    "- Religious Organizations\n",
    "- Arts & Entertainment\n",
    "- Event Planning & Services\n",
    "- Financial Services\n",
    "- Food\n",
    "- Local Flavor\n",
    "- Hotels & Travel"
   ]
  },
  {
   "cell_type": "markdown",
   "metadata": {
    "application/vnd.databricks.v1+cell": {
     "cellMetadata": {
      "byteLimit": 2048000,
      "rowLimit": 10000
     },
     "inputWidgets": {},
     "nuid": "3cfb442d-b2ad-40f4-9fa8-eaded2a70939",
     "showTitle": false,
     "tableResultSettingsMap": {},
     "title": ""
    }
   },
   "source": [
    "###2B.1 Nightlife\n",
    "####Decision: **Include**\n",
    "- Number of restaurants in Nightlife: 5779\n",
    "- A considerable number of the results in Nightlife are places that could confidently be considered restaurants that also serve alcohol or are open late. However, there are a few sub-categories that should be filtered out since they are not typically considered restaurants.\n",
    "  - Exclude subcategories: \n",
    "    - Adult Entertainment\n",
    "      - Inappropriate for this AI, and these places are not generally considered restaurants.\n",
    "    - Hookah Bars\n",
    "      - Ex. Mister B's Cigar Box, Brugada \n",
    "    - Lounges\n",
    "      - Businesses that are \"lounges\" are usually more relaxed than restaurants are centered around beverages, so we should exclude this subcategory.\n",
    "      - Ex. Mister B's Cigar Box \n",
    "    - Dive Bars\n",
    "      - Ex. Rockabilly Grill\n"
   ]
  },
  {
   "cell_type": "code",
   "execution_count": 0,
   "metadata": {
    "application/vnd.databricks.v1+cell": {
     "cellMetadata": {
      "byteLimit": 2048000,
      "rowLimit": 10000
     },
     "inputWidgets": {},
     "nuid": "0ce2dcaa-6745-4370-9b09-ce1d14951ab4",
     "showTitle": false,
     "tableResultSettingsMap": {},
     "title": ""
    }
   },
   "outputs": [
    {
     "output_type": "stream",
     "name": "stdout",
     "output_type": "stream",
     "text": [
      "Number of restaurants also in Nightlife: 5779\n+----------------------+---------------------------------------+-----+------------+-------------------------------------------------------------------------------------------------------------------------------------------------------------------------------------------+\n|business_id           |name                                   |stars|review_count|categories                                                                                                                                                                                 |\n+----------------------+---------------------------------------+-----+------------+-------------------------------------------------------------------------------------------------------------------------------------------------------------------------------------------+\n|seKihQKpGGnCeLuELRQPSQ|Twin Peaks                             |3.5  |257         |[Sports Bars, American (New), American (Traditional), Nightlife, Bars, Restaurants]                                                                                                        |\n|8rb-3VYXE37IZix4yOdskw|Sharky's Sports Bar & Grill            |2.5  |29          |[American (Traditional), Bars, Nightlife, Sports Bars, Restaurants]                                                                                                                        |\n|aCDY7vXYMs54EbYuQScsnQ|39 North Taproom & Grill               |4.5  |25          |[American (Traditional), Sports Bars, Restaurants, Bars, Nightlife, Steakhouses, Salad, Beer Bar]                                                                                          |\n|pJfh3Ct8iL58NZa8ta-a5w|Top Shelf Sports Lounge                |4.5  |95          |[Burgers, Sports Bars, Bars, Lounges, Restaurants, Salad, Wraps, Nightlife, American (New)]                                                                                                |\n|YNjyv0gfOr2g8lbmUpTnKg|Copper Vine                            |4.5  |350         |[Nightlife, Pubs, Event Planning & Services, Wine Bars, Bars, Gastropubs, Restaurants, Venues & Event Spaces]                                                                              |\n|VrGxoSNZfSiT-G4OqRRGIw|Sunset 44 Bistro                       |4.0  |73          |[Bars, Lounges, American (New), Restaurants, Nightlife, Wine Bars]                                                                                                                         |\n|Cdytv_YhJO0W0Ab8t2xLtg|Nipper's Pub                           |3.5  |29          |[Nightlife, Chicken Wings, Pubs, Bars, American (Traditional), Restaurants]                                                                                                                |\n|9C2rpb56aQvW0ViZHK9sPw|Home Plate Sports Pub                  |3.5  |56          |[Bars, Restaurants, Sports Bars, Nightlife]                                                                                                                                                |\n|SZU9c8V2GuREDN5KgyHFJw|Santa Barbara Shellfish Company        |4.0  |2404        |[Live/Raw Food, Restaurants, Seafood, Beer Bar, Beer, Wine & Spirits, Bars, Food, Nightlife]                                                                                               |\n|X_E7U2lVNEwbH_gpOBmAHQ|Cerveza Jack's                         |4.0  |182         |[Nightlife, Restaurants, Bars, Mexican]                                                                                                                                                    |\n|tSFXJ0GFl5iUdy021YgWLw|The Mad Griddle                        |5.0  |7           |[Arts & Entertainment, Nightlife, Jazz & Blues, Restaurants, Pizza, Southern]                                                                                                              |\n|ZU6NodDOWaabGkeNpOWdXw|530 Pub & Grill                        |4.5  |6           |[American (Traditional), Restaurants, Burgers, Wraps, Sandwiches, Bars, Nightlife, Beer Bar]                                                                                               |\n|Ucl9Vo5lwrUmYbV8Dv8X5g|O'Briens Irish Pub                     |4.0  |108         |[Bars, Pubs, Nightlife, Arts & Entertainment, Irish, Restaurants, Music Venues]                                                                                                            |\n|6BF3eaIzHtoNHSxKTFnTyg|Mister B's Cigar Box                   |3.5  |13          |[Bars, Lounges, Nightlife, Pizza, Restaurants, Shopping, Tobacco Shops, Hookah Bars]                                                                                                       |\n|Y6heWJJ9AmEL58fZwgi9YQ|Rosati's Pizza                         |4.0  |58          |[Sports Bars, Bars, Nightlife, Italian, Restaurants, Pizza]                                                                                                                                |\n|uDQgmudYDKiB6n4vwbEeDg|Chrysalis                              |4.5  |112         |[Restaurants, Italian, Nightlife, Bars, Cocktail Bars, Tapas/Small Plates]                                                                                                                 |\n|VVvUBlc_WIEb8obKGq39dA|Four Green Fields                      |4.5  |39          |[Irish Pub, Bars, Restaurants, Irish, Nightlife]                                                                                                                                           |\n|rZw9O5lJ36m_mXeRKE4G9A|La Sponda                              |4.5  |29          |[Italian, Restaurants, Salad, Bars, Venues & Event Spaces, Wine Bars, Nightlife, Event Planning & Services]                                                                                |\n|f82dhKNiUXsDVPMLqKYiIQ|Sher-e-Punjab                          |4.0  |446         |[Restaurants, Salad, Pakistani, Indian, Cocktail Bars, Food, Food Delivery Services, Soup, Halal, Bars, Nightlife]                                                                         |\n|xJyp6RLqNRv3tSu6njPKxQ|World of Beer                          |3.0  |208         |[Nightlife, Pubs, American (Traditional), Restaurants, Bars]                                                                                                                               |\n|rmHgqdVkLsGN2byesWRo0w|Brewster's Pub                         |3.5  |12          |[American (Traditional), Active Life, Nightlife, Bowling, Restaurants]                                                                                                                     |\n|j9Kaj_6tSeXmVMYCgZithg|Noble Crust                            |4.5  |496         |[Restaurants, Italian, Nightlife, Southern, Bars, Breakfast & Brunch, Pizza]                                                                                                               |\n|7mpYTDb24SywNMRn3yeakQ|The Twisted Tail                       |4.0  |604         |[Event Planning & Services, Whiskey Bars, American (New), American (Traditional), Venues & Event Spaces, Bars, Nightlife, Restaurants]                                                     |\n|rR30b1XWbxZFFgLyGbfNAw|BODHI : Craft Bar + Thai Bistro        |4.5  |132         |[Gastropubs, Nightlife, Restaurants, Thai, Bars, Cocktail Bars]                                                                                                                            |\n|dIpTuL2T1L98GQGU17IeSw|The Bricks                             |4.0  |548         |[Bars, Breakfast & Brunch, Restaurants, American (New), Coffee & Tea, Food, Nightlife, Vegetarian]                                                                                         |\n|1tLrjXG-I9hkOoZxlbwDqw|Olde Black Horse                       |4.0  |9           |[American (Traditional), Bars, Breakfast & Brunch, Nightlife, Cocktail Bars, Restaurants, Hotels & Travel, Hotels, Event Planning & Services]                                              |\n|lPPYZr1_jx0XeW-xR9WJtw|DOSC                                   |4.0  |87          |[Bars, Cocktail Bars, Coffee & Tea, Food, Restaurants, Cafes, Steakhouses, Nightlife, Tapas/Small Plates]                                                                                  |\n|SFKjUQ1gmfwm7cJhMCFmkA|ZigZag Scallop                         |4.0  |214         |[Nightlife, Seafood, Bars, Restaurants, American (Traditional)]                                                                                                                            |\n|diwwt5QBU3-Thig9SVlsOA|Brew Brothers                          |3.5  |592         |[Bars, Nightlife, American (Traditional), Music Venues, Food, Arts & Entertainment, Restaurants, Breweries]                                                                                |\n|MObScX791gFEwtkoFA9GQg|Creekside Inn                          |3.5  |20          |[Restaurants, American (New), Event Planning & Services, Bars, Pubs, American (Traditional), Social Clubs, Hotels, Hotels & Travel, Nightlife, Arts & Entertainment, Venues & Event Spaces]|\n|TJe1ZGe-X0-GjOQd00kKxA|Brixx Craft House                      |4.0  |115         |[American (Traditional), Pubs, Sports Bars, Nightlife, Bars, Gastropubs, Beer Bar, Restaurants, Cocktail Bars]                                                                             |\n|qma1sGQv7ArUtzuUTQElRg|Katie's Pizza & Pasta Osteria          |4.0  |313         |[Pasta Shops, Bars, Nightlife, Specialty Food, Cocktail Bars, Breakfast & Brunch, Restaurants, Pizza, Food, Italian]                                                                       |\n|zjQDk4tZyhEroyqtkgvx0g|The Cobblestone Eatery and Drinkery    |3.5  |52          |[American (Traditional), Nightlife, Breakfast & Brunch, Event Planning & Services, Venues & Event Spaces, Italian, Bars, Restaurants]                                                      |\n|jsQQu9rVerR3OGxIa0hRQQ|Kelly's Taproom                        |3.0  |63          |[Bars, Beer Bar, American (Traditional), Nightlife, Pubs, Burgers, Restaurants]                                                                                                            |\n|UX3eq0WsVva-cqlVrzyzFg|Cantina Los Tres Hombres               |3.0  |284         |[Bars, Nightlife, Mexican, Restaurants, Seafood]                                                                                                                                           |\n|sWCCxY1-9B1FGlSVeQvnHg|CD Roma Restaurant                     |4.0  |125         |[Restaurants, Wine Bars, Italian, Food, Sandwiches, Nightlife, Breweries, Bars, Pizza]                                                                                                     |\n|Gki1ureeRKqlIkQ-AELDVg|Brugada                                |3.5  |49          |[Restaurants, Nightlife, Dance Clubs, Falafel, Lounges, Hookah Bars, Bars, Mediterranean]                                                                                                  |\n|4FaYG9qKDpDyr68bKmaIEw|Capitol Cellars                        |4.0  |176         |[Restaurants, Bars, Wine Bars, American (Traditional), Nightlife, American (New), Wineries, Local Flavor, Coffee & Tea, Food, Breakfast & Brunch, Steakhouses, Arts & Entertainment]       |\n|MYoRNLb5chwjQe3c_k37Gg|Sean Thorntons Public House            |3.5  |6           |[Food, Nightlife, Restaurants, Irish Pub, Bars, Irish, Pubs, Beer, Wine & Spirits, Event Planning & Services, Gastropubs, Caterers]                                                        |\n|Iuir7lUtx-LMhYtStwyf3Q|Another Broken Egg Cafe                |4.0  |26          |[American (Traditional), Restaurants, Breakfast & Brunch, Cafes, Bars, Nightlife, Cocktail Bars]                                                                                           |\n|I2CxrvM0BGH1svfxqGGD2g|M.L.Rose Craft Beer & Burgers - Melrose|3.5  |472         |[Automotive, Restaurants, Sandwiches, Bars, Nightlife, Pubs, American (Traditional), Burgers, Beer Bar, Sports Bars, Breakfast & Brunch]                                                   |\n|W4ZEKkva9HpAdZG88juwyQ|Mr. B's Bistro                         |4.0  |2064        |[Bars, Breakfast & Brunch, Restaurants, Barbeque, Cajun/Creole, Cafes, Cocktail Bars, Nightlife]                                                                                           |\n|3swM60bulnut1d4AZti80Q|Rockabilly Grill                       |3.5  |37          |[Nightlife, American (New), Music Venues, Restaurants, Breakfast & Brunch, Arts & Entertainment, Bars, American (Traditional), Sports Bars, Dive Bars, Pool Halls]                         |\n|4fUok5d5vgdQEb1Bzzg0rA|Olive Garden Italian Restaurant        |3.5  |115         |[Restaurants, Italian, Soup, Bars, Salad, Nightlife, Wine Bars]                                                                                                                            |\n|bdth7r1brx9yRU7sYwF9jQ|Nippon Tei                             |4.0  |254         |[Japanese, Asian Fusion, Wine Bars, Bars, Restaurants, Sushi Bars, Nightlife]                                                                                                              |\n|LKGlZW0mmuoXvKB04FSP-A|Crab Du Jour                           |3.5  |26          |[Nightlife, Seafood, Bars, Restaurants, Cajun/Creole]                                                                                                                                      |\n|BxR5hjyBnJZrm_nnaCtGQw|The Lunar Inn                          |4.5  |29          |[Bars, Food, Restaurants, Beer, Wine & Spirits, American (Traditional), Nightlife]                                                                                                         |\n|NQSnr4RPUScss607oxOaqw|Chase's Hop Shop                       |4.5  |116         |[Chicken Wings, Nightlife, Bars, Delis, Food, Beer Gardens, Sandwiches, Beer Bar, Restaurants, Beer, Wine & Spirits, Gastropubs]                                                           |\n|Ea2hPSFazxXITET4f6ZJhw|Beef 'O' Brady's                       |3.0  |46          |[American (Traditional), Pubs, Chicken Wings, Sports Bars, Sandwiches, Bars, Restaurants, Nightlife, Breakfast & Brunch]                                                                   |\n|_HcAoG6Jj_XTj4-XNEbo6Q|Fuzzy's Taco Shop                      |3.0  |172         |[Sports Bars, Breakfast & Brunch, Mexican, Nightlife, Tex-Mex, Restaurants, Sandwiches, Bars]                                                                                              |\n+----------------------+---------------------------------------+-----+------------+-------------------------------------------------------------------------------------------------------------------------------------------------------------------------------------------+\nonly showing top 50 rows\n\n"
     ]
    }
   ],
   "source": [
    "#Nightlife and Restaurants\n",
    "df_restautant_auto = spark.sql(\"\"\"\n",
    "SELECT * \n",
    "FROM restaurants\n",
    "WHERE ARRAY_CONTAINS(categories,'Nightlife')\n",
    "\"\"\")\n",
    "print(f\"Number of restaurants also in Nightlife: {df_restautant_auto.count()}\")\n",
    "df_restautant_auto.show(50, truncate=False)"
   ]
  },
  {
   "cell_type": "markdown",
   "metadata": {
    "application/vnd.databricks.v1+cell": {
     "cellMetadata": {
      "byteLimit": 2048000,
      "rowLimit": 10000
     },
     "inputWidgets": {},
     "nuid": "5ff01436-da6e-4cc8-a10a-c07426feb1d5",
     "showTitle": false,
     "tableResultSettingsMap": {},
     "title": ""
    }
   },
   "source": [
    "###2B.2 Religious Organizations\n",
    "####Decision: **Include**\n",
    "- Number of restaurants in religious orgs: 20\n",
    "- This top level category should be included since the majority of results that populated were restaurants that just had a religious name or were affiliated with a local church. However, certain subcategories should be filtered out.\n",
    "  - Exclude subcategories: \n",
    "    - Churches\n",
    "    - Buddhist Temples\n",
    "    - Reasoning: Although the majority of the results in “Religious Organizations” are restaurants that are places of community or have religious references in their restaurant names, almost all the results of the restaurants with the ”churches” and “Buddhist Temples” subcategories were actually religious places and not restaurants.\n"
   ]
  },
  {
   "cell_type": "code",
   "execution_count": 0,
   "metadata": {
    "application/vnd.databricks.v1+cell": {
     "cellMetadata": {
      "byteLimit": 2048000,
      "rowLimit": 10000
     },
     "inputWidgets": {},
     "nuid": "9827ff04-315c-4bfd-bff6-c75d0b01b9a8",
     "showTitle": false,
     "tableResultSettingsMap": {},
     "title": ""
    }
   },
   "outputs": [
    {
     "output_type": "stream",
     "name": "stdout",
     "output_type": "stream",
     "text": [
      "Number of restaurants also in Religious Organizations: 20\n-RECORD 0-------------------------------------------------------------------------------------------------------------------------------------------------------------------------------------------------------\n business_id  | Qi-A4ZgcEuSnq_8Fpfo_3Q                                                                                                                                                                          \n name         | Our Lady of Guadalupe Mercado                                                                                                                                                                   \n stars        | 4.5                                                                                                                                                                                             \n review_count | 8                                                                                                                                                                                               \n categories   | [Mexican, Arts & Entertainment, Festivals, Restaurants, Religious Organizations, Churches]                                                                                                      \n-RECORD 1-------------------------------------------------------------------------------------------------------------------------------------------------------------------------------------------------------\n business_id  | W6AsQK0mfx6Bi0FQGNIAng                                                                                                                                                                          \n name         | Church's Chicken                                                                                                                                                                                \n stars        | 1.5                                                                                                                                                                                             \n review_count | 10                                                                                                                                                                                              \n categories   | [Religious Organizations, Churches, Chicken Wings, Chicken Shop, Restaurants, Fast Food, Breakfast & Brunch]                                                                                    \n-RECORD 2-------------------------------------------------------------------------------------------------------------------------------------------------------------------------------------------------------\n business_id  | DbARcEuX6NvWN_hSQKHMJg                                                                                                                                                                          \n name         | Wat Mongkolratanaram of Florida                                                                                                                                                                 \n stars        | 4.5                                                                                                                                                                                             \n review_count | 392                                                                                                                                                                                             \n categories   | [Religious Organizations, Restaurants, Local Flavor, Thai, Buddhist Temples, Churches]                                                                                                          \n-RECORD 3-------------------------------------------------------------------------------------------------------------------------------------------------------------------------------------------------------\n business_id  | _KqbkPAOI0s2ss0m-ucF5A                                                                                                                                                                          \n name         | Mongkoltepmunee Buddhist Temple                                                                                                                                                                 \n stars        | 5.0                                                                                                                                                                                             \n review_count | 5                                                                                                                                                                                               \n categories   | [Thai, Restaurants, Buddhist Temples, Religious Organizations]                                                                                                                                  \n-RECORD 4-------------------------------------------------------------------------------------------------------------------------------------------------------------------------------------------------------\n business_id  | AYY1crsG6etLAQ2rsG3v-w                                                                                                                                                                          \n name         | MoMos Of Tibet                                                                                                                                                                                  \n stars        | 4.5                                                                                                                                                                                             \n review_count | 8                                                                                                                                                                                               \n categories   | [Buddhist Temples, Himalayan/Nepalese, Juice Bars & Smoothies, Religious Organizations, Chinese, Restaurants, Asian Fusion, Dim Sum, Food, Noodles, Soup, Food Court]                           \n-RECORD 5-------------------------------------------------------------------------------------------------------------------------------------------------------------------------------------------------------\n business_id  | BCxLbqymC1TXn2FE1BYc1A                                                                                                                                                                          \n name         | PDQ Wesley Chapel                                                                                                                                                                               \n stars        | 4.0                                                                                                                                                                                             \n review_count | 164                                                                                                                                                                                             \n categories   | [Sandwiches, Religious Organizations, Juice Bars & Smoothies, American (Traditional), Salad, Food, Restaurants, Fast Food, Chicken Shop]                                                        \n-RECORD 6-------------------------------------------------------------------------------------------------------------------------------------------------------------------------------------------------------\n business_id  | Vil6Ox7d0GXkKHIzztyUfA                                                                                                                                                                          \n name         | The Bridge Coffee House                                                                                                                                                                         \n stars        | 4.5                                                                                                                                                                                             \n review_count | 19                                                                                                                                                                                              \n categories   | [Sandwiches, Breakfast & Brunch, Community Service/Non-Profit, Coffee & Tea, Food, Cafes, Local Services, Religious Organizations, Restaurants]                                                 \n-RECORD 7-------------------------------------------------------------------------------------------------------------------------------------------------------------------------------------------------------\n business_id  | ZhExDd48ZtOj2DFjXPgfpw                                                                                                                                                                          \n name         | The Cookery                                                                                                                                                                                     \n stars        | 4.5                                                                                                                                                                                             \n review_count | 150                                                                                                                                                                                             \n categories   | [Food, Salad, Event Planning & Services, Caterers, Sandwiches, Specialty Food, Restaurants, Religious Organizations, Desserts, Cafes, Australian, American (New), Coffee & Tea]                 \n-RECORD 8-------------------------------------------------------------------------------------------------------------------------------------------------------------------------------------------------------\n business_id  | ncDxCFOZOl2OckF0lBY0Tw                                                                                                                                                                          \n name         | St. Gerard Majella Fish Fry                                                                                                                                                                     \n stars        | 5.0                                                                                                                                                                                             \n review_count | 8                                                                                                                                                                                               \n categories   | [Food, Restaurants, Religious Organizations, Seafood, Churches]                                                                                                                                 \n-RECORD 9-------------------------------------------------------------------------------------------------------------------------------------------------------------------------------------------------------\n business_id  | AyJV8HdltxPgcHclmCgQeg                                                                                                                                                                          \n name         | St Cecilia Mexican Fish Fry                                                                                                                                                                     \n stars        | 4.0                                                                                                                                                                                             \n review_count | 17                                                                                                                                                                                              \n categories   | [Mexican, Religious Organizations, Local Flavor, Restaurants, Food]                                                                                                                             \n-RECORD 10------------------------------------------------------------------------------------------------------------------------------------------------------------------------------------------------------\n business_id  | eTrIVMySUFERsxo2ajRaWg                                                                                                                                                                          \n name         | Govinda's Natural Foods Buffet                                                                                                                                                                  \n stars        | 4.0                                                                                                                                                                                             \n review_count | 184                                                                                                                                                                                             \n categories   | [Religious Organizations, Buffets, Vegetarian, Restaurants, Food, Vegan, Desserts, Salad]                                                                                                       \n-RECORD 11------------------------------------------------------------------------------------------------------------------------------------------------------------------------------------------------------\n business_id  | CB1yizxEQtIdLzDzp3zZuw                                                                                                                                                                          \n name         | Tampa Greek Festival                                                                                                                                                                            \n stars        | 4.5                                                                                                                                                                                             \n review_count | 14                                                                                                                                                                                              \n categories   | [Local Flavor, Religious Organizations, Greek, Arts & Entertainment, Cultural Center, Festivals, Restaurants, Churches, Food Stands]                                                            \n-RECORD 12------------------------------------------------------------------------------------------------------------------------------------------------------------------------------------------------------\n business_id  | vV57YWbrHqm1iylWmIdwVA                                                                                                                                                                          \n name         | Grounds For Sculpture                                                                                                                                                                           \n stars        | 4.5                                                                                                                                                                                             \n review_count | 528                                                                                                                                                                                             \n categories   | [Active Life, Restaurants, Venues & Event Spaces, Music Venues, Botanical Gardens, Museums, Event Planning & Services, Religious Organizations, Parks, Arts & Entertainment, French, Nightlife] \n-RECORD 13------------------------------------------------------------------------------------------------------------------------------------------------------------------------------------------------------\n business_id  | M6ZoEY54OKKPq9O9Boee7g                                                                                                                                                                          \n name         | The Lucky Well                                                                                                                                                                                  \n stars        | 3.5                                                                                                                                                                                             \n review_count | 351                                                                                                                                                                                             \n categories   | [Barbeque, Bars, Cocktail Bars, Pubs, Nightlife, Restaurants, Religious Organizations]                                                                                                          \n-RECORD 14------------------------------------------------------------------------------------------------------------------------------------------------------------------------------------------------------\n business_id  | N_6fTIcweG5Cq0UUw0_0GQ                                                                                                                                                                          \n name         | Assumption Greek Orthodox Church Luncheons                                                                                                                                                      \n stars        | 4.5                                                                                                                                                                                             \n review_count | 24                                                                                                                                                                                              \n categories   | [Churches, Religious Organizations, Greek, Mediterranean, Restaurants]                                                                                                                          \n-RECORD 15------------------------------------------------------------------------------------------------------------------------------------------------------------------------------------------------------\n business_id  | YOTLRDo8pAcVk0OnuFt38w                                                                                                                                                                          \n name         | Amean Pizza Donair & Sub                                                                                                                                                                        \n stars        | 4.0                                                                                                                                                                                             \n review_count | 33                                                                                                                                                                                              \n categories   | [Religious Organizations, Food, Restaurants, Pizza, Donairs]                                                                                                                                    \n-RECORD 16------------------------------------------------------------------------------------------------------------------------------------------------------------------------------------------------------\n business_id  | 1toUQtH6rP-DmAQUJB7PYg                                                                                                                                                                          \n name         | The National Shrine of Our Lady of Czestochowa                                                                                                                                                  \n stars        | 4.5                                                                                                                                                                                             \n review_count | 7                                                                                                                                                                                               \n categories   | [Shopping, Restaurants, Polish, Community Service/Non-Profit, Churches, Religious Organizations, Elementary Schools, Local Services, Education]                                                 \n-RECORD 17------------------------------------------------------------------------------------------------------------------------------------------------------------------------------------------------------\n business_id  | 2qvblNY9_owsn7v_YtY_nw                                                                                                                                                                          \n name         | Govinda's                                                                                                                                                                                       \n stars        | 4.0                                                                                                                                                                                             \n review_count | 7                                                                                                                                                                                               \n categories   | [Vegan, Indian, Buffets, Restaurants, Vegetarian, Pakistani, Religious Organizations, Hindu Temples]                                                                                            \n-RECORD 18------------------------------------------------------------------------------------------------------------------------------------------------------------------------------------------------------\n business_id  | xqWUMFEEbQla7B8lbUTrlA                                                                                                                                                                          \n name         | Starbucks                                                                                                                                                                                       \n stars        | 3.0                                                                                                                                                                                             \n review_count | 39                                                                                                                                                                                              \n categories   | [Coffee & Tea, Restaurants, Religious Organizations, Food]                                                                                                                                      \n-RECORD 19------------------------------------------------------------------------------------------------------------------------------------------------------------------------------------------------------\n business_id  | Mb967pEMu4d1iimJhkdtWg                                                                                                                                                                          \n name         | The National Shrine of Our Lady of the Snows                                                                                                                                                    \n stars        | 3.5                                                                                                                                                                                             \n review_count | 27                                                                                                                                                                                              \n categories   | [Event Planning & Services, American (Traditional), Restaurants, Hotels, Churches, Religious Organizations, Venues & Event Spaces, Buffets, Hotels & Travel]                                    \n\n"
     ]
    }
   ],
   "source": [
    "#Religious Organizations and Restaurants\n",
    "df_restautant_auto = spark.sql(\"\"\"\n",
    "SELECT * \n",
    "FROM restaurants\n",
    "WHERE ARRAY_CONTAINS(categories,'Religious Organizations')\n",
    "\"\"\")\n",
    "print(f\"Number of restaurants also in Religious Organizations: {df_restautant_auto.count()}\")\n",
    "df_restautant_auto.show(50, truncate=False, vertical = True)"
   ]
  },
  {
   "cell_type": "markdown",
   "metadata": {
    "application/vnd.databricks.v1+cell": {
     "cellMetadata": {
      "byteLimit": 2048000,
      "rowLimit": 10000
     },
     "inputWidgets": {},
     "nuid": "7e4892bb-d3c3-45aa-9301-040c13cd79e4",
     "showTitle": false,
     "tableResultSettingsMap": {},
     "title": ""
    }
   },
   "source": [
    "###2B.3 Arts & Entertainment\n",
    "####Decision: **Include**\n",
    "- Number of restaurants in Arts & Entertainment: 732\n",
    "- This top level category should be included since a fair amount of the results were places that could be considered restaurants with additional entertainment, such as live music or sports broadcasting, but a lot of subcategories that were commonly found in the non-restaurants should be excluded.\n",
    "  - Exclude subcategories: \n",
    "    - The following subcategories that we excluded are not restaurants and are mostly places for entertainment. These businesses may serve food, but are not considered restaurants.\n",
    "    - Venues & Event Spaces\n",
    "      - Most of the results with this subcategory were not restaurants, but rather places where people gather for entertainment, that also happen to serve food.\n",
    "      - Ex. Nashville Symphony, Chuck E. Cheese\n",
    "    - Arcades\n",
    "      - Ex. Chuck E. Cheese, Adventure Coast Fun Park, Dave & Buster's\n",
    "    - Race Tracks\n",
    "    - Museums\n",
    "    - Haunted Houses\n",
    "    - Makerspaces\n",
    "    - Festivals\n",
    "    - Music Venues\n",
    "      - Although some restaurants can have live music and entertainment, the majority of the results with the \"Music Venues\" subcategory are not places that could be considered restaurants.\n",
    "    - Art Galleries\n",
    "      - Ex. The Fountain On Locust\n",
    "    - Farms\n",
    "      - Ex. Springdale Farm Market (this is a farmers market, not a restaurant), Swiss Farms (this is a convenience store)\n",
    "    - Wineries\n",
    "      - Ex. Publix (this is a grocery store), La Barca Mexican Store (also a grocery store)\n"
   ]
  },
  {
   "cell_type": "code",
   "execution_count": 0,
   "metadata": {
    "application/vnd.databricks.v1+cell": {
     "cellMetadata": {
      "byteLimit": 2048000,
      "rowLimit": 10000
     },
     "inputWidgets": {},
     "nuid": "44a96c73-0b5b-4049-baff-466b0c2e613d",
     "showTitle": false,
     "tableResultSettingsMap": {},
     "title": ""
    }
   },
   "outputs": [
    {
     "output_type": "stream",
     "name": "stdout",
     "output_type": "stream",
     "text": [
      "Number of restaurants in Arts & Entertainment included: 732\n+----------------------+--------------------------------------------+-----+------------+----------------------------------------------------------------------------------------------------+\n|           business_id|                                        name|stars|review_count|                                                                                          categories|\n+----------------------+--------------------------------------------+-----+------------+----------------------------------------------------------------------------------------------------+\n|aPNXGTDkf-4bjhyMBQxqpQ|                                  Craft Hall|  3.5|          65|[Eatertainment, Arts & Entertainment, Brewpubs, American (Traditional), Bakeries, Breweries, Food...|\n|ORL4JE6tz3rJxVqkdKfegA| Gaylord Opryland Resort & Convention Center|  3.0|        1639|[Venues & Event Spaces, Performing Arts, Arts & Entertainment, Hotels & Travel, Food, Convenience...|\n|tSFXJ0GFl5iUdy021YgWLw|                            The Mad Griddle |  5.0|           7|                       [Arts & Entertainment, Nightlife, Jazz & Blues, Restaurants, Pizza, Southern]|\n|Ucl9Vo5lwrUmYbV8Dv8X5g|                          O'Briens Irish Pub|  4.0|         108|                     [Bars, Pubs, Nightlife, Arts & Entertainment, Irish, Restaurants, Music Venues]|\n|diwwt5QBU3-Thig9SVlsOA|                               Brew Brothers|  3.5|         592|[Bars, Nightlife, American (Traditional), Music Venues, Food, Arts & Entertainment, Restaurants, ...|\n|MObScX791gFEwtkoFA9GQg|                               Creekside Inn|  3.5|          20|[Restaurants, American (New), Event Planning & Services, Bars, Pubs, American (Traditional), Soci...|\n|nHUJCK-Ek_lAVTSyEz9GEQ|                    Adventure Coast Fun Park|  4.5|          10|[American (New), Restaurants, Event Planning & Services, Arts & Entertainment, Arcades, Race Trac...|\n|4FaYG9qKDpDyr68bKmaIEw|                             Capitol Cellars|  4.0|         176|[Restaurants, Bars, Wine Bars, American (Traditional), Nightlife, American (New), Wineries, Local...|\n|3swM60bulnut1d4AZti80Q|                            Rockabilly Grill|  3.5|          37|[Nightlife, American (New), Music Venues, Restaurants, Breakfast & Brunch, Arts & Entertainment, ...|\n|5wgoIQXyP3BEPZLiVi1W8A|                            The Howlin' Wolf|  3.5|         213|    [Arts & Entertainment, Restaurants, Bars, Music Venues, Pubs, Nightlife, American (Traditional)]|\n|UFpCraqzFBAhtZqmxmiWsA|                                 Cat Therapy|  4.5|         116|[Themed Cafes, Cafes, Pets, Arts & Entertainment, Women's Clothing, Coffee & Tea, Shopping, Pet A...|\n|WQ832PDnsDshhbQFm83ISg|                            Villagio Cinemas|  3.0|         285|      [Cinema, Nightlife, Pizza, Italian, Arts & Entertainment, Burgers, Restaurants, Lounges, Bars]|\n|5PDNXMquh1C9E089G1RY2g|                     Ob's Pizza Pub & Eatery|  3.5|          10|[Nightlife, Pubs, Pizza, Bars, Restaurants, American (Traditional), Music Venues, Arts & Entertai...|\n|9L-MR0arflwFMF9szEBOOg|                    California Wine Festival|  4.5|           7|                         [Wineries, Food, Restaurants, Arts & Entertainment, Festivals, Food Stands]|\n|aYMpjij5ShtEoZueMrQPRw|                                    The Mill|  4.0|           5|[Breweries, Shopping, Food Court, Food, Venues & Event Spaces, Restaurants, Event Planning & Serv...|\n|ri7LOsk5W_xGVfxhXFHY5Q|                              Elbow Room Bar|  4.0|          12|[Dive Bars, Seafood, Bars, Restaurants, Cocktail Bars, Nightlife, Music Venues, Casinos, Arts & E...|\n|OAkcBAwedonnwT3Wf_DqTw|                             Parks Place Pub|  4.0|          52|[Casinos, American (Traditional), Pizza, Arts & Entertainment, Sports Bars, Bars, Nightlife, Rest...|\n|9XkgYvXhYibe85V6mNE_TQ|             Winners Bar and Grill Nashville|  3.0|         102|[American (Traditional), Sports Bars, Nightlife, Restaurants, Bars, Music Venues, Arts & Entertai...|\n|_E0WPHfJEYmwOUCAj-Jq1A|              Western Village Inn and Casino|  3.5|         266|[Casinos, Hotels, Arts & Entertainment, American (New), Restaurants, Event Planning & Services, H...|\n|FYIL5duVgc9eLyYw6hobmw|                                 Ellington's|  4.0|         107|[Arts & Entertainment, Restaurants, Cocktail Bars, American (New), Nightlife, Jazz & Blues, Steak...|\n|k6XrnjX2TBM_nDzD_XA9NQ|                              Terrace Lounge|  3.5|          84|         [Arts & Entertainment, Bars, Lounges, American (New), Restaurants, Nightlife, Music Venues]|\n|ncxN9II-MeXRudUrE3GVsA|                        Bridgeport Rib House|  3.5|         135|[Restaurants, Nightlife, Bars, Barbeque, Sports Bars, Dive Bars, Arts & Entertainment, Music Venues]|\n|xHdekRjTK93GR2AgtvrtgQ|                          Growler's Taphouse|  3.5|         149|[Beer, Wine & Spirits, Restaurants, Bars, Sports Bars, American (New), Food, Beer Bar, Music Venu...|\n|HLNtxaFvvHFx9whiptQzOg|                    Kalakutah Republic Grill|  3.0|          17|                      [Performing Arts, African, Nightlife, Restaurants, Bars, Arts & Entertainment]|\n|mLNSOU8Ki0Fm09xd6ZKkcA|                           Timpano Hyde Park|  3.5|         380|[Music Venues, Bars, Restaurants, Italian, Steakhouses, Nightlife, Arts & Entertainment, Cocktail...|\n|Q5odYgHa-ApKOPVrEFmRQA|                              Centro Cantina|  3.0|         107|                [Music Venues, Bars, Arts & Entertainment, Tex-Mex, Restaurants, Karaoke, Nightlife]|\n|FOtDhobe5Os8A7zSI_MvrA|                  Bayscape at Heritage Isles|  4.0|          20|[Venues & Event Spaces, Event Planning & Services, Country Clubs, Arts & Entertainment, Caterers,...|\n|VgsbZSm5NRaDg2ds_FDBrg|                     Deja Brew Laugh A Latte|  4.5|         115|[American (New), Wineries, Restaurants, Coffee & Tea, Food, Nightlife, Wine Bars, Bars, Arts & En...|\n|jMZ56S8Y1t7cA1Ob-d-qeA|                                 Three Muses|  4.0|        1165|[Nightlife, Jazz & Blues, American (New), Music Venues, Restaurants, Gastropubs, Arts & Entertain...|\n|BWPokhrYnWdfxdaUaM6l9Q|                          Nashville Symphony|  4.5|         107|[Venues & Event Spaces, Musicians, Restaurants, Arts & Entertainment, Local Services, Nightlife, ...|\n|Qi-A4ZgcEuSnq_8Fpfo_3Q|               Our Lady of Guadalupe Mercado|  4.5|           8|          [Mexican, Arts & Entertainment, Festivals, Restaurants, Religious Organizations, Churches]|\n|WwPPNhUpIsPhLumwravwKw|                              Millstone Cafe|  3.5|           5|                               [Soup, Cafes, Restaurants, Sandwiches, Arts & Entertainment, Museums]|\n|rViAhfKLKmwbhTKROM9m0w|                              Casino Del Sol|  3.0|         298|             [Arts & Entertainment, Hotels & Travel, Casinos, Diners, Restaurants, Mexican, Resorts]|\n|jQBPO3rYkNwIaOdQS5ktgQ|                      The Fountain On Locust|  4.5|        1010|[Ice Cream & Frozen Yogurt, Food, American (New), Art Galleries, Shopping, Cocktail Bars, Arts & ...|\n|KBvdN8Apn4DIxuNW3IESRw|                          NJ Weedman's Joint|  4.0|          42|[Chicken Wings, Music Venues, Food, Vegetarian, Sandwiches, Arts & Entertainment, Comfort Food, R...|\n|MKHJy86fkFnMAhZac6wuLw|                             Chuck E. Cheese|  2.5|          12|[Pizza, Venues & Event Spaces, Arcades, Arts & Entertainment, Event Planning & Services, Party & ...|\n|USekrAG0-4tJUs9V2gBBOQ|                                    The Honu|  4.0|         234|[Poke, Breakfast & Brunch, Parks, Mexican, Soup, Nightlife, Food, American (New), Restaurants, Ba...|\n|vmbc2yhml5Z54MknbHKbBA|                                      Publix|  3.0|           9|                       [Wineries, Grocery, Delis, Restaurants, Arts & Entertainment, Food, Bakeries]|\n|dYYkzkiAQoOtRjdR0kcspw|                        Tennessee Brew Works|  4.5|         421|[Breweries, Venues & Event Spaces, Beer Bar, Food, Pubs, Tours, Nightlife, Restaurants, Event Pla...|\n|UmjITdXHhEF46ho6IhaGQg|                             Dave & Buster's|  2.0|         351|[Adult Entertainment, Sports Bars, Restaurants, Eatertainment, Pool Halls, Bars, Active Life, Art...|\n|r43DrfYAbAgifsYyNkljZw|                   Red Hot & Blue Restaurant|  2.5|          99|        [Southern, Restaurants, Jazz & Blues, Sandwiches, Arts & Entertainment, Barbeque, Nightlife]|\n|KNjGyORbfFuhKHRXs9JtWQ|                      Scotland Run Golf Club|  3.5|          39|[Venues & Event Spaces, Event Planning & Services, American (Traditional), Country Clubs, Active ...|\n|gKPWC7F219oEbu5NXPzH4g|                             Sam's Beach Bar|  3.5|         555|[Seafood, American (Traditional), Music Venues, Caribbean, Arts & Entertainment, Nightlife, Resta...|\n|aRWVI7YfiFSdZLzyNgehag|                  Feather Sound Country Club|  3.5|           9|[Restaurants, Venues & Event Spaces, Event Planning & Services, Active Life, Country Clubs, Arts ...|\n|qAFVEkIEo7KLLdM4z7h-JA|        Incredible Pizza Company - St. Louis|  2.5|          89|[Arts & Entertainment, Restaurants, Buffets, Active Life, Kids Activities, Arcades, American (Tra...|\n|xB2NmS0JG1Vgy7dK2ftcwQ|                           Taco Bell Cantina|  2.5|          26|             [Arts & Entertainment, Music Venues, Fast Food, Tacos, Nightlife, Mexican, Restaurants]|\n|BzQiDngZIG0MfbjJFg-yUQ|                                    The Post|  4.0|          46|[Bars, Nightlife, Arts & Entertainment, Restaurants, Arcades, Beer Bar, Cocktail Bars, Burgers, C...|\n|Q_Wo3rX84Dy-YdQsiDmrWw|                             Chickie Wah Wah|  4.0|         126|   [Jazz & Blues, Italian, Arts & Entertainment, Restaurants, Nightlife, Cajun/Creole, Music Venues]|\n|7A-q7-bajt0NxMy36dUfIw|                                 The Station|  4.0|          37|[Restaurants, Food, Breakfast & Brunch, Vegetarian, Coffee & Tea, Art Galleries, Arts & Entertain...|\n|cX1VH_vpqGoLrio4sV9xcA|                 Ron's Original Bar & Grille|  4.0|         383|[American (Traditional), Music Venues, Arts & Entertainment, Pizza, Caterers, Food, Sandwiches, R...|\n|efou6IrwQhHAXZ0e0v0Gkw|                                   GYRO CLUB|  5.0|          21|                 [Greek, Restaurants, Sports Clubs, Arts & Entertainment, Active Life, Social Clubs]|\n|vQwRn1BU24O7XHNyjkzDog|                            The Pines Tavern|  4.0|          77|[Local Flavor, Nightlife, Bars, Restaurants, Beer, Wine & Spirits, American (New), Food, American...|\n|xI2wOBEkYz7gtXxAV4v9MQ|                             Foyt Wine Vault|  4.5|          49|[Sports Bars, Wineries, Food, Nightlife, Event Planning & Services, Arts & Entertainment, Restaur...|\n|gu7aSHgTjZ6DQBFD-8jH9A|                       Peppermint Hippo Reno|  4.0|          10|     [Cabaret, Restaurants, Adult Entertainment, Bars, Strip Clubs, Arts & Entertainment, Nightlife]|\n|sJz2WhvVGW8jsdQhZ_BlUQ|                             Foundation Room|  4.5|          60|[Jazz & Blues, Arts & Entertainment, Food, Music Venues, Lounges, Bars, Nightlife, Restaurants, B...|\n|skJ1w8B5YusIibyxH4ohxQ|                                Fulton Alley|  3.5|         182|[Active Life, American (New), Bowling, Lounges, Arts & Entertainment, Restaurants, Nightlife, Sou...|\n|bJLQvSbVKQ1FKCNJjFa9dg|                          Cove Cay Golf Club|  3.5|          43|[Fitness & Instruction, Event Planning & Services, Golf Lessons, American (Traditional), Venues &...|\n|HCqmx4ENAZ76SAjoalj-MQ|              Puckett's Grocery & Restaurant|  4.0|         850|[Barbeque, American (Traditional), Arts & Entertainment, Southern, Breakfast & Brunch, Comfort Fo...|\n|k3lTRgvPvYUI-cX7_TAqNA|            University Club of Santa Barbara|  5.0|          76|[Restaurants, Event Planning & Services, Party & Event Planning, Food, Venues & Event Spaces, Art...|\n|w6EsNczicg3DtIICHWr59A|                          The Chvrch of John|  3.0|           7|   [Cocktail Bars, Restaurants, Music Venues, Arts & Entertainment, Bars, Canadian (New), Nightlife]|\n|PYUI1OJVksGUbCrteU68bw|                            Bourbon & Branch|  4.0|         392|[Bars, American (Traditional), Breakfast & Brunch, Music Venues, Arts & Entertainment, Nightlife,...|\n|r5dUIJJwaChqvIjGkUJtfw|                                   C J Muggs|  3.5|         102|[Music Venues, American (New), Sports Bars, Restaurants, Cajun/Creole, Arts & Entertainment, Bars...|\n|Sh5x88Ty9NGgMvLoIKxAiQ|                                     Ole Red|  3.5|         629|[Bars, Nightlife, Restaurants, Music Venues, American (New), Arts & Entertainment, Event Planning...|\n|4oh1vo3mQwhJ7lC3gtw73w|Strike & Spare Family Fun Center - Nashville|  3.5|          29|[Active Life, Bowling, Nightlife, Bars, Food Stands, Restaurants, Arts & Entertainment, Arcades, ...|\n|Dp_yOU1VrnWDtntp2Kq1Kw|                             Jane’s Hideaway|  4.5|          52|[Cocktail Bars, Salad, American (New), Bars, Sandwiches, Restaurants, Arts & Entertainment, Music...|\n|SwBhaxfQPbyhsi0QHUAN0A|     Seminole Hard Rock Hotel & Casino Tampa|  2.5|         739|[Food, Hotels, Coffee & Tea, Hotels & Travel, Restaurants, Casinos, Burgers, Bars, Nightlife, Art...|\n|bj-_vwEXLa7ECiHZhoOmFg|                         Dooney's Pub Delran|  3.5|          97|[Nightlife, Sports Bars, American (Traditional), Irish Pub, Bars, Arts & Entertainment, Irish, Mu...|\n|ZMlqRNakFKpIfE24y8u-RA|                  Treasure Island Fun Center|  4.0|          24|[Pizza, Arcades, Active Life, Arts & Entertainment, Event Planning & Services, Amusement Parks, P...|\n|CglxS35-7j94tD5tWaPwsQ|                          Grindstone Theatre|  4.0|           8|       [Arts & Entertainment, Nightlife, Performing Arts, Cafes, Comedy Clubs, Restaurants, Bistros]|\n|9TJzfMc4gEKSUxfnGcj6dw|                              Table Top Cafe|  4.5|          33|                                 [Food, Restaurants, Sandwiches, Arts & Entertainment, Coffee & Tea]|\n|kjhIbW8NKRvXmLDwz7lzhw|                  Margaritaville - Nashville|  3.5|         580|[Nightlife, Bars, Restaurants, Music Venues, American (New), American (Traditional), Arts & Enter...|\n|Zc38kNMGlzhG1sivxyXeMA|                            Sundial St. Pete|  4.0|          42|[Restaurants, Women's Clothing, Arts & Entertainment, Shopping, Men's Clothing, Fashion, Shopping...|\n|WnhA8izmpAhdYQs0m2STsA|                             Chuck E. Cheese|  3.5|          14|[Party & Event Planning, Event Planning & Services, Pizza, Venues & Event Spaces, Restaurants, Ar...|\n|7e4Z9_qGA0Vjb8xlFC61PA|                            Chef Joseph Poon|  3.0|          22|[Ethnic Food, Local Flavor, Hotels & Travel, Cooking Classes, Chinese, Restaurants, Arts & Crafts...|\n|STJiRp7gZqrTq05g05QfFQ|                          Red Fish Blue Fish|  4.0|           5|[Social Clubs, American (New), Arts & Entertainment, Bars, Nightlife, Music Venues, Restaurants, ...|\n|Yaqg1BsxEH3iuunV4mZXNQ|                             Chuck E. Cheese|  3.0|          57|[Pizza, Arcades, American (Traditional), Arts & Entertainment, Restaurants, Indoor Playcentre, Ac...|\n|Y-lDDyIlaYqPwQkunfA-4g|                             Chuck E. Cheese|  3.0|           8|[Pizza, Restaurants, Kids Activities, Indoor Playcentre, Arcades, Active Life, Arts & Entertainment]|\n|eWzMF5AFIAiyixTWor9uOw|                               12th & Porter|  3.5|          46|[Event Planning & Services, Restaurants, Nightlife, Venues & Event Spaces, American (New), Arts &...|\n|ApcMztKwhVYYCceDX1L5qQ|              Edison's Entertainment Complex|  3.5|          88|                  [Active Life, Restaurants, Arcades, Arts & Entertainment, American (New), Bowling]|\n|kfqgGm2hJUj4NXEkkk1qIA|                 Indianapolis Motor Speedway|  4.5|         214|[Automotive, Arts & Entertainment, Event Planning & Services, Race Tracks, Stadiums & Arenas, Hot...|\n|IUN-1btz9-CiL2b6tDNQqg|             Benedetto's Ristorante Italiano|  3.5|         400|[Arts & Entertainment, Restaurants, Italian, Beer, Wine & Spirits, Fruits & Veggies, Farms, Speci...|\n|Ns8vJxhsc5ygiX7Vff1bDQ|                         Rippy's Bar & Grill|  3.0|         900|[Restaurants, Nightlife, Arts & Entertainment, Barbeque, Bars, Music Venues, American (Traditional)]|\n|LD6E23dXhTG29aFOMs0JGg|                             Chuck E. Cheese|  4.0|          12|[Playgrounds, Pizza, Restaurants, Kids Activities, Arts & Entertainment, Indoor Playcentre, Arcad...|\n|1817ULc2--fRD1eWnFLg3A|                               The Brass Tap|  3.5|         158|[Bars, Restaurants, Sports Bars, Beer Bar, Music Venues, Salad, Nightlife, Arts & Entertainment, ...|\n|_YHdVT1inpWzMU0FVjzgJg|                      The Sommelier Hideaway|  5.0|          11|[Tasting Classes, Wineries, Restaurants, Wine Tasting Room, Food, Bars, Tapas/Small Plates, Night...|\n|kVYVMYI_PstuweNmqRPlnQ|            Barefoot Billy's Friendly Tavern|  4.0|          11|             [Nightlife, Dive Bars, Restaurants, Bars, Arts & Entertainment, Hot Dogs, Music Venues]|\n|QfHcqJgrvBfgnyd9DlsZIw|              Craftsman House Gallery & Cafe|  4.0|          25|                 [Arts & Entertainment, Restaurants, Art Galleries, American (New), Cafes, Shopping]|\n|maOMGu_2dSHKydBgZdTsvQ|                            Wildhorse Saloon|  3.5|         559|[Tours, Local Flavor, Hotels & Travel, Arts & Entertainment, Event Planning & Services, American ...|\n|s3E_OAafutZHslDkkMnDQA|                Prospector's Grille & Saloon|  3.0|         262|          [Music Venues, Bars, Nightlife, Arts & Entertainment, Restaurants, American (Traditional)]|\n|uRYoY6ycuZUAO88dM6sauw|                             Surly Wench Pub|  4.0|         175|        [Pubs, Arts & Entertainment, Burgers, Restaurants, Music Venues, Nightlife, Bars, Dive Bars]|\n|hkfIwpKvtA6q8L7JkgDpGA|                           Laser Tag & Games|  4.0|          37|[American (Traditional), Laser Tag, Arcades, Arts & Entertainment, Active Life, Amusement Parks, ...|\n|uHfHKZj_RsNwP03ar_vwQg|         NashHouse Southern Spoon and Saloon|  3.5|         226|[Nightlife, Breakfast & Brunch, American (Traditional), American (New), Bars, Beer Bar, Coffee & ...|\n|lfftQB5UvC55aW0-HGjv-g|                           Magic Carpet Golf|  4.0|          66|[Restaurants, Arts & Entertainment, Golf, Arcades, Pizza, Mini Golf, Party & Event Planning, Acti...|\n|mfeh5dG324bY868LDz2TtA|                                  Vino Villa|  4.0|         133|[American (New), Wineries, Food, Restaurants, Arts & Entertainment, Bars, Wine Bars, Sandwiches, ...|\n|W7dTGLqvARlrQ-MHdoO3gA|                       Ragin Cajun Piano Bar|  3.5|          27|           [Arts & Entertainment, Nightlife, Music Venues, Bars, Lounges, Cajun/Creole, Restaurants]|\n|OiE-MRsu_E5O54crdNGZ1g|                              Voltage Lounge|  3.0|          44|[Arts & Entertainment, American (New), Event Planning & Services, Venues & Event Spaces, Restaura...|\n|W57360g1e7xMGerm7wPW0Q|                              Sparkman Wharf|  4.0|         242|[Food, Nightlife, Bars, Cocktail Bars, Beer, Wine & Spirits, Restaurants, Lawn Services, Food Cou...|\n|g82DuEDwnMrUQa7eSpGzAA|              Plaza Maya Restaurant & Lounge|  4.5|         127|[Art Galleries, Shopping, Arts & Entertainment, Restaurants, Event Planning & Services, Venues & ...|\n|pUlpCJBYR7chLMMUKA5Ydg|                                  The Maison|  4.0|         565|[Venues & Event Spaces, Bars, Event Planning & Services, Nightlife, Jazz & Blues, Vegetarian, Coc...|\n|aNNCjIDnTxn3YXRa4SnzYA|          Vesper Sporting Club - Center City|  3.5|         157|[Dance Clubs, Arts & Entertainment, Diners, Bars, Music Venues, Restaurants, Sports Bars, America...|\n+----------------------+--------------------------------------------+-----+------------+----------------------------------------------------------------------------------------------------+\nonly showing top 100 rows\n\n"
     ]
    }
   ],
   "source": [
    "#Arts & Entertainment and Nightlife\n",
    "df_filtered_restaurants = spark.sql(\"\"\"\n",
    "SELECT *\n",
    "FROM restaurants \n",
    "WHERE ARRAY_CONTAINS(categories, 'Arts & Entertainment') \n",
    "\"\"\")\n",
    "print(f\"Number of restaurants in Arts & Entertainment included: {df_filtered_restaurants.count()}\")\n",
    "df_filtered_restaurants.show(100,truncate=100)"
   ]
  },
  {
   "cell_type": "markdown",
   "metadata": {
    "application/vnd.databricks.v1+cell": {
     "cellMetadata": {
      "byteLimit": 2048000,
      "rowLimit": 10000
     },
     "inputWidgets": {},
     "nuid": "8518e8ff-129f-46c0-8726-b6499af748a8",
     "showTitle": false,
     "tableResultSettingsMap": {},
     "title": ""
    }
   },
   "source": [
    "###2B.4 Event Planning & Services\n",
    "####Decision: **Include**\n",
    "- Number of restaurants in Event Planning & Services: 2276\n",
    "- This top level category should be included, of the 50 results we analyzed, majority of the results were restaurants that offer additional event planning and services.\n"
   ]
  },
  {
   "cell_type": "code",
   "execution_count": 0,
   "metadata": {
    "application/vnd.databricks.v1+cell": {
     "cellMetadata": {
      "byteLimit": 2048000,
      "rowLimit": 10000
     },
     "inputWidgets": {},
     "nuid": "71792817-637c-4b04-8195-d6337d9dde13",
     "showTitle": false,
     "tableResultSettingsMap": {},
     "title": ""
    }
   },
   "outputs": [
    {
     "output_type": "stream",
     "name": "stdout",
     "output_type": "stream",
     "text": [
      "Number of restaurants also in Event Planning & Services: 2276\n+----------------------+---------------------------------------------------------+-----+------------+---------------------------------------------------------------------------------------------------------------------------------------------------------------------------------------------------------------------------------------------+\n|business_id           |name                                                     |stars|review_count|categories                                                                                                                                                                                                                                   |\n+----------------------+---------------------------------------------------------+-----+------------+---------------------------------------------------------------------------------------------------------------------------------------------------------------------------------------------------------------------------------------------+\n|YNjyv0gfOr2g8lbmUpTnKg|Copper Vine                                              |4.5  |350         |[Nightlife, Pubs, Event Planning & Services, Wine Bars, Bars, Gastropubs, Restaurants, Venues & Event Spaces]                                                                                                                                |\n|ORL4JE6tz3rJxVqkdKfegA|Gaylord Opryland Resort & Convention Center              |3.0  |1639        |[Venues & Event Spaces, Performing Arts, Arts & Entertainment, Hotels & Travel, Food, Convenience Stores, American (New), Beauty & Spas, Restaurants, Museums, Event Planning & Services, Hotels, Cinema, Resorts, Day Spas]                 |\n|pmuuoDqNZp7518AUd-YmPA|Bagelicious - King Of Prussia                            |3.5  |60          |[Restaurants, Bakeries, Caterers, Bagels, Food, Event Planning & Services]                                                                                                                                                                   |\n|rZw9O5lJ36m_mXeRKE4G9A|La Sponda                                                |4.5  |29          |[Italian, Restaurants, Salad, Bars, Venues & Event Spaces, Wine Bars, Nightlife, Event Planning & Services]                                                                                                                                  |\n|KdkMXzeoqpfNsZd-_axoTQ|emPIEnada                                                |4.5  |41          |[Event Planning & Services, Restaurants, Empanadas, Caterers, Food, Desserts, Comfort Food, American (Traditional), Food Trucks]                                                                                                             |\n|7mpYTDb24SywNMRn3yeakQ|The Twisted Tail                                         |4.0  |604         |[Event Planning & Services, Whiskey Bars, American (New), American (Traditional), Venues & Event Spaces, Bars, Nightlife, Restaurants]                                                                                                       |\n|TGfPJHImEq6AQL9a1laxlg|Chick-fil-A                                              |4.0  |80          |[Event Planning & Services, American (Traditional), Restaurants, Food, Caterers, Fast Food, Chicken Shop, Breakfast & Brunch]                                                                                                                |\n|1tLrjXG-I9hkOoZxlbwDqw|Olde Black Horse                                         |4.0  |9           |[American (Traditional), Bars, Breakfast & Brunch, Nightlife, Cocktail Bars, Restaurants, Hotels & Travel, Hotels, Event Planning & Services]                                                                                                |\n|adATTqggIQX5xxLDISkFTw|Just Churros                                             |5.0  |25          |[Food Trucks, Restaurants, Caterers, Event Planning & Services, Food, Mexican, Spanish, Desserts]                                                                                                                                            |\n|yN6jZyG1G1FG_HCZQlJZ1g|City Barbeque                                            |4.0  |188         |[Restaurants, Caterers, Barbeque, American (Traditional), Event Planning & Services]                                                                                                                                                         |\n|MObScX791gFEwtkoFA9GQg|Creekside Inn                                            |3.5  |20          |[Restaurants, American (New), Event Planning & Services, Bars, Pubs, American (Traditional), Social Clubs, Hotels, Hotels & Travel, Nightlife, Arts & Entertainment, Venues & Event Spaces]                                                  |\n|nHUJCK-Ek_lAVTSyEz9GEQ|Adventure Coast Fun Park                                 |4.5  |10          |[American (New), Restaurants, Event Planning & Services, Arts & Entertainment, Arcades, Race Tracks, Active Life, Mini Golf, Go Karts, Venues & Event Spaces]                                                                                |\n|zjQDk4tZyhEroyqtkgvx0g|The Cobblestone Eatery and Drinkery                      |3.5  |52          |[American (Traditional), Nightlife, Breakfast & Brunch, Event Planning & Services, Venues & Event Spaces, Italian, Bars, Restaurants]                                                                                                        |\n|JQ75_672GKJQ3tK1togIWw|Golden Capital Restaurant                                |3.5  |8           |[Chinese, Specialty Food, Food, Event Planning & Services, Imported Food, Vietnamese, Seafood, Caterers, Restaurants, Ethnic Food]                                                                                                           |\n|VK5NEKDHnZG8YcAw2JpaWw|Spring Hollow Golf Club                                  |3.0  |29          |[Golf, Venues & Event Spaces, Event Planning & Services, Restaurants, Active Life]                                                                                                                                                           |\n|MYoRNLb5chwjQe3c_k37Gg|Sean Thorntons Public House                              |3.5  |6           |[Food, Nightlife, Restaurants, Irish Pub, Bars, Irish, Pubs, Beer, Wine & Spirits, Event Planning & Services, Gastropubs, Caterers]                                                                                                          |\n|2vAqYNN86VWXZiy2E96-TQ|Chick-fil-A                                              |3.0  |13          |[Event Planning & Services, Caterers, Fast Food, Restaurants, Chicken Shop]                                                                                                                                                                  |\n|oQYZ3j2H758y07p4RpCWug|August Rhodes Bakery                                     |4.5  |89          |[Event Planning & Services, Food, Sandwiches, Bakeries, Restaurants, American (New), Caterers]                                                                                                                                               |\n|qbPsfIKJZQAlrPaYmSyZuQ|All Wrapped Up                                           |4.0  |7           |[Food Trucks, Food, Salad, Sandwiches, Caterers, Event Planning & Services, Restaurants, Wraps]                                                                                                                                              |\n|7p4iMnA_hE1Gpz6Yoc7TOQ|Meal Prep Reno                                           |4.5  |23          |[Food Delivery Services, Food, Health Markets, Personal Chefs, Do-It-Yourself Food, Specialty Food, Restaurants, Caterers, Event Planning & Services]                                                                                        |\n|sway6xsRT_CUC6peK_Pyww|Bobby Hotel                                              |3.5  |178         |[Hotels, Restaurants, Cocktail Bars, Event Planning & Services, Lounges, Hotels & Travel, Bars, Nightlife]                                                                                                                                   |\n|dERS4qwl9v-Gwft-Ug8APA|West Ave Grille Jenkintown Restaurant and Food Truck     |4.0  |277         |[Restaurants, Sandwiches, Breakfast & Brunch, Caterers, American (New), Comfort Food, Food Trucks, Event Planning & Services, American (Traditional), Food]                                                                                  |\n|VOEN8f9WEysinBsLqbiVqg|Andrea's Restaurant                                      |2.5  |218         |[Venues & Event Spaces, Italian, Event Planning & Services, Restaurants, Party & Event Planning, Seafood, Caterers]                                                                                                                          |\n|JWFpjvCc_nkNDVtMPx1ZGg|Bogo SB                                                  |4.5  |12          |[Food, Food Delivery Services, Burgers, Pizza, Caterers, Event Planning & Services, Restaurants]                                                                                                                                             |\n|cEG1r9aRMJwmRQVkh7eiJg|Falls Deli                                               |4.5  |31          |[Bagels, Food, Sandwiches, Delis, Breakfast & Brunch, Restaurants, Event Planning & Services, Caterers]                                                                                                                                      |\n|V4THIJk9uhoxL7f06fK5VA|Roundabout Catering                                      |5.0  |38          |[Caterers, Party Equipment Rentals, Food, Venues & Event Spaces, Event Planning & Services, Restaurants, Food Delivery Services]                                                                                                             |\n|TO1twT7_FLMbNeDm3KNNRw|F & M Delicatessen                                       |3.5  |67          |[Caterers, Restaurants, Event Planning & Services, Delis]                                                                                                                                                                                    |\n|0zH0l4Jbf-oove3cLvrFOg|Vecchia Osteria                                          |4.0  |359         |[American (New), Italian, Restaurants, Event Planning & Services, Food, Coffee & Tea, Caterers]                                                                                                                                              |\n|fJNSx1WOo77TmP7Bl26w_g|Washington Crossing Inn                                  |4.0  |144         |[American (New), Restaurants, Venues & Event Spaces, Event Planning & Services, Breakfast & Brunch]                                                                                                                                          |\n|sLgnx_WFCjEoPsS6NwU70Q|Le Peep                                                  |4.0  |259         |[Event Planning & Services, Salad, Caterers, American (New), Sandwiches, Restaurants, Breakfast & Brunch]                                                                                                                                    |\n|aYMpjij5ShtEoZueMrQPRw|The Mill                                                 |4.0  |5           |[Breweries, Shopping, Food Court, Food, Venues & Event Spaces, Restaurants, Event Planning & Services, Wineries, Wine Tasting Room, Arts & Entertainment, Shopping Centers]                                                                  |\n|B6qHZCAs7Nka-1zdjCzAIQ|Butter's Soul Food                                       |3.0  |77          |[Food, Caterers, Event Planning & Services, Restaurants, Soul Food]                                                                                                                                                                          |\n|1sXN7Oxteo5dP5nwIDyO4w|Mainland Grille                                          |3.5  |27          |[Burgers, Venues & Event Spaces, Diners, Restaurants, Event Planning & Services, Nightlife, Active Life, Bars, American (Traditional), Golf]                                                                                                 |\n|151ujtgcbkGzAHUnctSg4w|Faculty Club                                             |4.0  |13          |[Event Planning & Services, Restaurants, Venues & Event Spaces, Food, American (Traditional)]                                                                                                                                                |\n|NcO-pWiZmNM5zBg8H9zB6Q|La Tavola Ristorante Italiano                            |4.0  |191         |[Food, Pizza, Event Planning & Services, Italian, Caterers, Restaurants]                                                                                                                                                                     |\n|wtaBPP6fCHU4nvar9fKeuQ|Chuck Lager, America's Tavern                            |4.0  |25          |[Event Planning & Services, American (New), Fish & Chips, Burgers, Restaurants, Venues & Event Spaces]                                                                                                                                       |\n|laV1qL3qhGFOfkPbHo3SVQ|Joe Boccardi's Ristorante                                |3.5  |40          |[Food, Chicken Wings, Pizza, Pasta Shops, Italian, Restaurants, Sandwiches, Caterers, Event Planning & Services, Salad, Specialty Food]                                                                                                      |\n|hkh5iyDeGLNhu-JUQFRE1Q|Royal Sonesta New Orleans                                |3.5  |492         |[Event Planning & Services, Hotels & Travel, Hotels, Restaurants, Bed & Breakfast]                                                                                                                                                           |\n|RG4FoRw0vjzrCjMl4Apk4A|Salty Shamrock Fishing Charters and Events               |4.0  |12          |[Seafood, Restaurants, Boat Charters, Event Planning & Services]                                                                                                                                                                             |\n|P7oAQxDu8rapFn8QY0nmyA|LesbiVeggies                                             |4.5  |52          |[Food, Vegetarian, Cafes, Vegan, Food Delivery Services, Gluten-Free, Event Planning & Services, Caterers, Restaurants]                                                                                                                      |\n|Y2MuQoT_SpfzZxjn5JY7Ag|Whitts Barbecue                                          |4.5  |14          |[Event Planning & Services, Restaurants, Caterers, Barbeque]                                                                                                                                                                                 |\n|nGYXglmKHgUcovuTHIg6_A|Food Drunk Food Truck                                    |4.0  |29          |[Event Planning & Services, Food, Barbeque, Caterers, Food Trucks, Restaurants]                                                                                                                                                              |\n|siwG4ZM7RjUDO52DI84m3w|Ray's Vegan Soul                                         |5.0  |5           |[Soul Food, Vegan, Event Planning & Services, Restaurants, Caterers]                                                                                                                                                                         |\n|Bt7NBqA31uOI4H_hvasLLg|HORN'S EATERY                                            |4.0  |597         |[Caterers, Venues & Event Spaces, Breakfast & Brunch, Gastropubs, American (New), Restaurants, Food, Event Planning & Services, Bars, Cocktail Bars, Seafood, Nightlife]                                                                     |\n|zoAZydP_v380Yydf-2u3hw|The Mobile Bistro                                        |5.0  |5           |[Event Planning & Services, Caterers, Food, Sandwiches, American (Traditional), Restaurants, Food Trucks, Barbeque, Street Vendors]                                                                                                          |\n|JYDd5sgn18DqDnTnq_tBRQ|Las Trojes Mexican Restaurant                            |3.0  |106         |[Restaurants, Mexican, Event Planning & Services, Caterers]                                                                                                                                                                                  |\n|f31Cl39cl2T-CwwqZoMGkQ|Ray's Subs                                               |3.5  |39          |[Restaurants, Sandwiches, Caterers, Burgers, Salad, Event Planning & Services]                                                                                                                                                               |\n|Q4q9xFDxErreYTMrRshP_Q|Tijuana Flats                                            |3.5  |89          |[Restaurants, Mexican, Caterers, Event Planning & Services, Desserts, Tex-Mex, Food]                                                                                                                                                         |\n|oqP1oQEycpp4J6u5YebRoQ|American Social                                          |3.5  |768         |[American (Traditional), Restaurants, Venues & Event Spaces, Event Planning & Services, Breakfast & Brunch, Bars, Nightlife]                                                                                                                 |\n|M2m_SM9GpIbct2a_hOGzag|Daily Dish Events & Catering                             |4.0  |47          |[American (Traditional), Event Planning & Services, Salad, Nightlife, Active Life, Caterers, Burgers, Venues & Event Spaces, Southern, American (New), Restaurants, Tapas Bars, Food, Tennis, Bars, Soul Food, Sandwiches]                   |\n|_E0WPHfJEYmwOUCAj-Jq1A|Western Village Inn and Casino                           |3.5  |266         |[Casinos, Hotels, Arts & Entertainment, American (New), Restaurants, Event Planning & Services, Hotels & Travel]                                                                                                                             |\n|D7Os2-9ApTGmNyzidqfwGA|The Ritz-Carlton Spa, New Orleans                        |4.0  |66          |[Beauty & Spas, Restaurants, Hotels, Event Planning & Services, Day Spas, Hotels & Travel, Skin Care, Hair Salons]                                                                                                                           |\n|w_SsLvj6Xir_B4OQv6v8OA|Honey Baked Ham Company                                  |2.5  |8           |[Event Planning & Services, Caterers, Food, American (Traditional), Meat Shops, Restaurants, Delis, Cafes, Sandwiches, Food Delivery Services, Desserts, Salad, Specialty Food]                                                              |\n|BneXfQCiGY7yBiumOe7GCw|Rilling's Bucks County Bakery                            |4.5  |28          |[Bakeries, Custom Cakes, Food, Event Planning & Services, Party Supplies, Restaurants]                                                                                                                                                       |\n|T5f-IRQWQYgFQbgO_kVkvg|Northbrook MarketPlace                                   |4.0  |60          |[Breakfast & Brunch, American (Traditional), Restaurants, Local Flavor, Event Planning & Services, Bakeries, Food, Delis, Donuts, American (New), Caterers, Ice Cream & Frozen Yogurt, Desserts]                                             |\n|89VqFJf3COkgb6dL2AqXhg|Honey Baked Ham Company                                  |3.5  |15          |[Sandwiches, Cafes, Food, Restaurants, Delis, Caterers, Specialty Food, Event Planning & Services, Meat Shops]                                                                                                                               |\n|I2Yt74AzSQFfyQqgN7PSEg|Sheraton Indianapolis Hotel at Keystone Crossing         |2.5  |141         |[Venues & Event Spaces, Hotels, Restaurants, Hotels & Travel, Event Planning & Services]                                                                                                                                                     |\n|v_k6TaygyFq1YkjdtwPWpQ|The Dutch Cottage Tavern                                 |4.5  |29          |[American (Traditional), Event Planning & Services, Nightlife, Restaurants, Bars, Venues & Event Spaces]                                                                                                                                     |\n|yYuRiXwKTRP46dsyMVstKA|Organico Pizza                                           |4.0  |121         |[Tacos, Salad, Gluten-Free, Burgers, Mexican, Pizza, Restaurants, Sandwiches, Italian, Caterers, Event Planning & Services, Cheesesteaks]                                                                                                    |\n|4ziM5sfg9PfPGTysDJPLLg|Masso's Water Ice and Custard                            |3.0  |8           |[Ice Cream & Frozen Yogurt, Pizza, Caterers, Delis, Event Planning & Services, Food, Restaurants]                                                                                                                                            |\n|JvawJ9bSr22xn4R9oLvl_w|Desire Oyster Bar                                        |4.0  |1084        |[Southern, Event Planning & Services, Restaurants, Cajun/Creole, Seafood, Live/Raw Food, Hotels & Travel, Hotels]                                                                                                                            |\n|knA3b_WnHUJAyrIzzL9Lrg|Earl of Sandwich                                         |3.5  |100         |[Event Planning & Services, Restaurants, Food, Wraps, Caterers, Salad, Sandwiches, Food Delivery Services]                                                                                                                                   |\n|PEs5kilsGdB31jSt84ItuA|Chuck's BBQ                                              |3.0  |36          |[Event Planning & Services, Barbeque, Fast Food, American (Traditional), Restaurants, Sandwiches, Caterers, Comfort Food, Food Trucks, Food]                                                                                                 |\n|ZbsH2tXBjA-3v973ZsAZ_w|Parkway Pizza                                            |3.5  |20          |[Chicken Wings, Food, Food Delivery Services, Caterers, Restaurants, Pizza, Cheesesteaks, Event Planning & Services]                                                                                                                         |\n|FOtDhobe5Os8A7zSI_MvrA|Bayscape at Heritage Isles                               |4.0  |20          |[Venues & Event Spaces, Event Planning & Services, Country Clubs, Arts & Entertainment, Caterers, Bars, Comfort Food, Breakfast & Brunch, Tapas/Small Plates, Restaurants, Sandwiches, Nightlife]                                            |\n|Y8IzgicQSkxNsewSzR7NLg|Foodwerx                                                 |4.5  |11          |[Food Delivery Services, Wedding Planning, Coffee & Tea, Event Planning & Services, Restaurants, Food, Caterers, Party & Event Planning]                                                                                                     |\n|Gf1EboxqdJ9SPsVJur93Cw|QDOBA Mexican Eats                                       |2.5  |68          |[Fast Food, Event Planning & Services, Restaurants, Caterers, Mexican]                                                                                                                                                                       |\n|WHFYn-b52ApOFymcKuGoFw|Steak-Out                                                |4.0  |20          |[Event Planning & Services, Food Delivery Services, Caterers, Restaurants, Food]                                                                                                                                                             |\n|ugNplY4SZqIfP417oUxahQ|Chick-fil-A                                              |4.0  |256         |[Breakfast & Brunch, Sandwiches, Restaurants, Event Planning & Services, Caterers, Chicken Shop, Fast Food]                                                                                                                                  |\n|BWPokhrYnWdfxdaUaM6l9Q|Nashville Symphony                                       |4.5  |107         |[Venues & Event Spaces, Musicians, Restaurants, Arts & Entertainment, Local Services, Nightlife, Performing Arts, Event Planning & Services, Party & Event Planning, Community Service/Non-Profit, Music Venues]                             |\n|ATYVsHtyiQnknwFD1ZX4bQ|Dickey's Barbecue Pit                                    |3.0  |60          |[Sandwiches, Restaurants, American (Traditional), Salad, Caterers, Event Planning & Services, Barbeque, Chicken Wings, Southern]                                                                                                             |\n|DvkSkF83xDONjkNIoEPRnQ|Greko Greek Street Food                                  |4.0  |267         |[Restaurants, Street Vendors, Wine Bars, Food, Event Planning & Services, Bars, Mediterranean, Greek, Nightlife, Caterers]                                                                                                                   |\n|6FvC6w810uf6O7Ocd6Wpog|Yolklore                                                 |4.5  |263         |[Food, Restaurants, Bakeries, Coffee & Tea, Caterers, Event Planning & Services, Burgers, Breakfast & Brunch]                                                                                                                                |\n|dYicZfoQApq5y0vO6FbLtw|La Campagnola                                            |4.0  |98          |[Caterers, Steakhouses, Italian, Seafood, Restaurants, Event Planning & Services]                                                                                                                                                            |\n|B2wSy1zQCdZgDXOkhAKGDQ|Embassy Suites by Hilton Tampa Downtown Convention Center|2.5  |209         |[Cafes, Hotels & Travel, Hotels, Restaurants, Event Planning & Services]                                                                                                                                                                     |\n|KOAz86HXkNKNvEExrGXxlQ|Chick-fil-A                                              |3.0  |77          |[Caterers, Restaurants, Event Planning & Services, Chicken Shop, Fast Food]                                                                                                                                                                  |\n|seouwqRlM9YNNAkZS09FuQ|Jet's Pizza                                              |3.0  |37          |[Pizza, Restaurants, Food, Salad, Event Planning & Services, Italian, Sandwiches, Caterers, Food Delivery Services]                                                                                                                          |\n|JI3-QZwm6vihIFBcekgyaA|Matrix Hotel                                             |4.0  |55          |[International, Hotels & Travel, Hotels, Restaurants, Event Planning & Services]                                                                                                                                                             |\n|OEzYP44ER97a1hi4LgR6bA|QDOBA Mexican Eats                                       |3.5  |44          |[Event Planning & Services, Restaurants, Mexican, Fast Food, Caterers]                                                                                                                                                                       |\n|YHlZCtNLplWoXK_eoOs9-g|Florida Avenue Brewing Co.                               |4.0  |136         |[Restaurants, Event Planning & Services, Beer, Wine & Spirits, Venues & Event Spaces, Food, Breweries]                                                                                                                                       |\n|lwdkX7KcibM4mDqpDfK7JA|Kalamatas - Green Hills                                  |3.5  |153         |[Caterers, Specialty Food, Mediterranean, Moroccan, Restaurants, Event Planning & Services, Greek, Food]                                                                                                                                     |\n|uz0Af3aczwENPY48UUEY0Q|Valente’s Cucina                                         |5.0  |45          |[Italian, Farmers Market, Tapas/Small Plates, Specialty Food, Restaurants, Pasta Shops, Personal Chefs, Food, Event Planning & Services, Sandwiches, Caterers, Modern European]                                                              |\n|AjzEFdI4hheVodEJZLLJzA|Asados Al Carbon                                         |3.0  |26          |[Colombian, Event Planning & Services, Latin American, Specialty Food, Food Delivery Services, Caterers, Ethnic Food, Barbeque, Cafes, Food, Soup, Breakfast & Brunch, Spanish, Restaurants]                                                 |\n|Gw6dXkEHFRCisEsigmeJtg|Tompkins Riverside                                       |4.0  |124         |[American (New), Food, Bars, Nightlife, Event Planning & Services, Venues & Event Spaces, Beer, Wine & Spirits, Cocktail Bars, Restaurants]                                                                                                  |\n|DD3TxygdxBxKh9gbjCuLDA|Events By Rincon                                         |4.5  |109         |[Restaurants, American (Traditional), Food Delivery Services, Caterers, Venues & Event Spaces, Cocktail Bars, Bars, Wedding Planning, Nightlife, Food, Event Planning & Services]                                                            |\n|IwqFmo-RJs15WvA8PVHFnA|Madre - Boutique Taqueria                                |4.5  |141         |[Mexican, Food, Event Planning & Services, Breakfast & Brunch, Beer, Wine & Spirits, Personal Chefs, Restaurants, Tacos]                                                                                                                     |\n|P0yKtQ4cFjNTY1X2CIdzBw|Grand Hyatt Tampa Bay                                    |4.0  |246         |[Hotels & Travel, Event Planning & Services, Restaurants, American (New), Hotels]                                                                                                                                                            |\n|J-ciDDEdIHMcChGIyKZnOg|Cake Life Bake Shop                                      |4.5  |241         |[Caterers, Cafes, Event Planning & Services, Food, Cupcakes, Bakeries, Restaurants, Desserts]                                                                                                                                                |\n|MKHJy86fkFnMAhZac6wuLw|Chuck E. Cheese                                          |2.5  |12          |[Pizza, Venues & Event Spaces, Arcades, Arts & Entertainment, Event Planning & Services, Party & Event Planning, Restaurants, Active Life, Indoor Playcentre, Kids Activities]                                                               |\n|DuPRwh_pNsp4LkbICuF3Ig|Hilton Garden Inn Nashville Vanderbilt                   |3.5  |126         |[Event Planning & Services, Restaurants, American (New), Hotels, Hotels & Travel]                                                                                                                                                            |\n|kPLnhyH2JtpTGQLYEOewiA|Two Goats                                                |5.0  |7           |[Personal Chefs, Food, American (New), Caterers, Event Planning & Services, Pop-Up Restaurants, Restaurants, Food Trucks]                                                                                                                    |\n|tBnPLFSvHuyNgurZGN8dYg|QDOBA Mexican Eats                                       |3.0  |19          |[Fast Food, Caterers, Restaurants, Event Planning & Services, Mexican]                                                                                                                                                                       |\n|dYYkzkiAQoOtRjdR0kcspw|Tennessee Brew Works                                     |4.5  |421         |[Breweries, Venues & Event Spaces, Beer Bar, Food, Pubs, Tours, Nightlife, Restaurants, Event Planning & Services, Hotels & Travel, Bars, Beer Tours, Arts & Entertainment, American (Traditional), Gastropubs, Music Venues, American (New)]|\n|DVG3oqNuDZbTDe3zCUZsng|Italian Club                                             |3.5  |8           |[Women's Clothing, Community Service/Non-Profit, Restaurants, Bars, Nightlife, Professional Services, Italian, Shopping, Fashion, Venues & Event Spaces, Event Planning & Services, Local Services]                                          |\n|DzpaiMQnB_sNhZPrgdvKHg|Sushiya Express                                          |3.5  |163         |[Sushi Bars, Caterers, Food, Fast Food, Event Planning & Services, Japanese, Food Delivery Services, Korean, Restaurants, Specialty Food, Asian Fusion]                                                                                      |\n|0JPi9cyV9i3_kDPj049_qQ|Taco Suave                                               |4.0  |96          |[Mexican, Caterers, Event Planning & Services, Restaurants]                                                                                                                                                                                  |\n|fZGgthB_jgT0xd033DIMPQ|Kingpin Lanes                                            |4.0  |15          |[Nightlife, Active Life, Bars, Pizza, Sports Bars, Restaurants, Bowling, Event Planning & Services, Party & Event Planning]                                                                                                                  |\n|auH0BAgcZwxuQFKmvwy5PQ|Chef Tony Macaroni                                       |5.0  |5           |[American (Traditional), Italian, Personal Chefs, Restaurants, Event Planning & Services, Sandwiches, Caterers]                                                                                                                              |\n|vsQT6ru-kMuQrEiadapIlQ|LeBrane's Creole Cuisine & Catering                      |4.5  |17          |[Event Planning & Services, Salad, Caterers, Nightlife, Specialty Food, Seafood, Pasta Shops, Food, Cajun/Creole, Bars, Burgers, Restaurants, Pubs, Breakfast & Brunch, Chicken Wings]                                                       |\n|EYihmDxqVkspEaXgCorISQ|QDOBA Mexican Eats                                       |3.5  |21          |[Fast Food, Restaurants, Breakfast & Brunch, Salad, Event Planning & Services, Mexican, Caterers]                                                                                                                                            |\n+----------------------+---------------------------------------------------------+-----+------------+---------------------------------------------------------------------------------------------------------------------------------------------------------------------------------------------------------------------------------------------+\nonly showing top 100 rows\n\n"
     ]
    }
   ],
   "source": [
    "#Event Planning & Services and Restaurants\n",
    "df_restautant_event = spark.sql(\"\"\"\n",
    "SELECT * \n",
    "FROM restaurants\n",
    "WHERE ARRAY_CONTAINS(categories,'Event Planning & Services')\n",
    "\"\"\")\n",
    "print(f\"Number of restaurants also in Event Planning & Services: {df_restautant_event.count()}\")\n",
    "df_restautant_event.show(100, truncate=False)"
   ]
  },
  {
   "cell_type": "markdown",
   "metadata": {
    "application/vnd.databricks.v1+cell": {
     "cellMetadata": {
      "byteLimit": 2048000,
      "rowLimit": 10000
     },
     "inputWidgets": {},
     "nuid": "e5d24ee0-80cd-48c4-b649-2eb09ccf2478",
     "showTitle": false,
     "tableResultSettingsMap": {},
     "title": ""
    }
   },
   "source": [
    "###2B.5 Financial Services\n",
    "####Decision: **Include**\n",
    "- Number of restaurants in Financial Services: 10\n",
    "- This top level category should be included since nearly half of the results were restaurants that should be considered in our data. However, there are some subcategories that should be filtered to better define the results that are restaurants.\n",
    "  - Exclude subcategories: \n",
    "    - Banks & Credit Unions\n",
    "      - Most of the results with this subcategory are not restaurants, but rather cafes or banks\n",
    "      - Ex. Capital One Café, Suncoast Credit Union  \n"
   ]
  },
  {
   "cell_type": "code",
   "execution_count": 0,
   "metadata": {
    "application/vnd.databricks.v1+cell": {
     "cellMetadata": {
      "byteLimit": 2048000,
      "rowLimit": 10000
     },
     "inputWidgets": {},
     "nuid": "151ba183-cbc8-4494-8856-97aad3dcd932",
     "showTitle": false,
     "tableResultSettingsMap": {},
     "title": ""
    }
   },
   "outputs": [
    {
     "output_type": "stream",
     "name": "stdout",
     "output_type": "stream",
     "text": [
      "Number of restaurants also in Financial Services: 10\n+----------------------+---------------------------------+-----+------------+---------------------------------------------------------------------------------------------------------------------------------------------------+\n|business_id           |name                             |stars|review_count|categories                                                                                                                                         |\n+----------------------+---------------------------------+-----+------------+---------------------------------------------------------------------------------------------------------------------------------------------------+\n|LmZWlvPJBwj5WG2KHV-v1Q|Sushi Garden                     |3.0  |589         |[Buffets, Sushi Bars, Financial Services, Japanese, Tax Services, Restaurants]                                                                     |\n|_05DcCQmCP5aGnfCnI4r9Q|Capital One Café                 |4.0  |178         |[Food, Coffee & Tea, Financial Advising, Banks & Credit Unions, Internet Cafes, Financial Services, Restaurants, Cafes]                            |\n|WnMl9qwB4CGhm-ToOwClvw|MAMA's Indian Kitchen & Food Mart|4.5  |13          |[Billing Services, Professional Services, Restaurants, Indian, Convenience Stores, Food, Financial Services]                                       |\n|hLr6cRTANzEll1hGlmbgHA|Raising Cane's Chicken Fingers   |3.5  |32          |[Chicken Wings, Fast Food, American (New), Restaurants, Financial Services]                                                                        |\n|67brFulhSRppWNnZ3A8HqA|La Rancherita                    |4.0  |89          |[Grocery, Financial Services, Check Cashing/Pay-day Loans, Restaurants, Food, Mexican]                                                             |\n|xANlxMXcHBVFdTsmcX2ZzA|Capital One Café                 |4.0  |7           |[Restaurants, Cafes, Banks & Credit Unions, Financial Services]                                                                                    |\n|hX90I_sT7O2sXbZas6H74A|Golden Sea Chinese Restaurant    |3.5  |57          |[Banks & Credit Unions, Restaurants, Chinese, Financial Services]                                                                                  |\n|suLbqscI9St5H8BaGZmIyQ|Claybrooke Commons Kroger        |4.0  |28          |[Department Stores, Restaurants, Health & Medical, Automotive, Shopping, Fashion, Financial Services, Food, Pharmacy, Grocery, Gas Stations, Salad]|\n|CH5hq_9aEvbUtBmD0IoKuQ|Suncoast Credit Union            |3.5  |13          |[Investing, Financial Services, Automotive, Restaurants, Banks & Credit Unions, Local Services, Auto Loan Providers, Child Care & Day Care, Irish] |\n|YjiaGnfaVWVlOzOQ8GK6NA|Taco Bell                        |3.0  |25          |[Breakfast & Brunch, Banks & Credit Unions, Financial Services, Restaurants, Mexican, Tacos, Tex-Mex, Fast Food]                                   |\n+----------------------+---------------------------------+-----+------------+---------------------------------------------------------------------------------------------------------------------------------------------------+\n\n"
     ]
    }
   ],
   "source": [
    "#Financial Services and Restaurants\n",
    "df_restautant_financial = spark.sql(\"\"\"\n",
    "SELECT * \n",
    "FROM restaurants\n",
    "WHERE ARRAY_CONTAINS(categories,'Financial Services')\n",
    "\"\"\")\n",
    "print(f\"Number of restaurants also in Financial Services: {df_restautant_financial.count()}\")\n",
    "df_restautant_financial.show(50, truncate=False)"
   ]
  },
  {
   "cell_type": "markdown",
   "metadata": {
    "application/vnd.databricks.v1+cell": {
     "cellMetadata": {
      "byteLimit": 2048000,
      "rowLimit": 10000
     },
     "inputWidgets": {},
     "nuid": "50a50cf9-f32b-4ca8-9d7c-4e22c3f04ccb",
     "showTitle": false,
     "tableResultSettingsMap": {},
     "title": ""
    }
   },
   "source": [
    "###2B.6 Food\n",
    "####Decision: **Include**\n",
    "- Number of restaurants in Food: 10859\n",
    "- Since restaurants primarily serve food, the majority of these businesses were restaurants. However, there were a few subcategories that were common in the non-restaurants, such as grocery stores, juice bars, bakeries, and breweries.\n",
    "  - Exclude subcategories: \n",
    "    - Bakeries\n",
    "      - Bakeries are not considered restaurants, but rather stores that sell pastries and beverages.\n",
    "      - Ex. Brown Sugar Bakery & Cafe  \n",
    "    - Food Trucks\n",
    "      - Since the definition of a restaurant is “a place of business where people can choose a meal to be prepared and served to them at a table, and for which they pay, usually after eating”, according to Cambridge Dictionary, food trucks are not restaurants. ALthough their main business is selling food, and maybe even meals, restaurants are generally sit down places where customers can order and eat their food.\n",
    "      - Ex. Impasto \n",
    "    - Breweries\n",
    "      - Ex. Craft Hall \n",
    "    - Juice Bars & Smoothies\n",
    "      - Ex. Fresh Fruits & Salads   \n",
    "    - Acai Bowls\n",
    "      - Ex. Franklin Juice Co \n",
    "    - Grocery\n",
    "      - Ex. Frady's One Stop Food Store, ShopRite of Christina Crossing  \n",
    "    - International Grocery\n",
    "      - Ex. Lien Hoa Oriental Market  \n"
   ]
  },
  {
   "cell_type": "code",
   "execution_count": 0,
   "metadata": {
    "application/vnd.databricks.v1+cell": {
     "cellMetadata": {
      "byteLimit": 2048000,
      "rowLimit": 10000
     },
     "inputWidgets": {},
     "nuid": "7084daf3-cb2f-4da6-8a22-fbace4037b17",
     "showTitle": false,
     "tableResultSettingsMap": {},
     "title": ""
    }
   },
   "outputs": [
    {
     "output_type": "stream",
     "name": "stdout",
     "output_type": "stream",
     "text": [
      "Number of restaurants also in Food: 10859\n+----------------------+-------------------------------------------+-----+------------+----------------------------------------------------------------------------------------------------------------------------------------------------------------------------------------------------------------------------+\n|business_id           |name                                       |stars|review_count|categories                                                                                                                                                                                                                  |\n+----------------------+-------------------------------------------+-----+------------+----------------------------------------------------------------------------------------------------------------------------------------------------------------------------------------------------------------------------+\n|MTSW4McQd7CbVtyjqoe9mw|St Honore Pastries                         |4.0  |80          |[Restaurants, Food, Bubble Tea, Coffee & Tea, Bakeries]                                                                                                                                                                     |\n|CF33F8-E6oudUQ46HnavjQ|Sonic Drive-In                             |2.0  |6           |[Burgers, Fast Food, Sandwiches, Food, Ice Cream & Frozen Yogurt, Restaurants]                                                                                                                                              |\n|bBDDEgkFA1Otx9Lfe7BZUQ|Sonic Drive-In                             |1.5  |10          |[Ice Cream & Frozen Yogurt, Fast Food, Burgers, Restaurants, Food]                                                                                                                                                          |\n|eEOYSgkmpB90uNA7lDOMRA|Vietnamese Food Truck                      |4.0  |10          |[Vietnamese, Food, Restaurants, Food Trucks]                                                                                                                                                                                |\n|aPNXGTDkf-4bjhyMBQxqpQ|Craft Hall                                 |3.5  |65          |[Eatertainment, Arts & Entertainment, Brewpubs, American (Traditional), Bakeries, Breweries, Food, Restaurants]                                                                                                             |\n|ljxNT9p0y7YMPx0fcNBGig|Tony's Restaurant & 3rd Street Cafe        |3.0  |94          |[Restaurants, Specialty Food, Steakhouses, Food, Italian, Pizza, Pasta Shops]                                                                                                                                               |\n|ppFCk9aQkM338Rgwpl2F5A|Wawa                                       |3.0  |56          |[Restaurants, Automotive, Delis, Gas Stations, Food, Coffee & Tea, Sandwiches, Convenience Stores]                                                                                                                          |\n|IDtLPgUrqorrpqSLdfMhZQ|Helena Avenue Bakery                       |4.0  |389         |[Food, Restaurants, Salad, Coffee & Tea, Breakfast & Brunch, Sandwiches, Bakeries]                                                                                                                                          |\n|LhpPSrulqVeTyJeK2xydvQ|Fresh Fruits & Salads                      |4.5  |6           |[Juice Bars & Smoothies, Restaurants, Fruits & Veggies, Salad, Specialty Food, Food]                                                                                                                                        |\n|oaboaRBUgGjbo2kfUIKDLQ|Mike's Ice Cream                           |4.5  |593         |[Ice Cream & Frozen Yogurt, Coffee & Tea, Restaurants, Sandwiches, Food]                                                                                                                                                    |\n|RK6-cJ9hj53RzOlCBmpT-g|Impasto                                    |5.0  |5           |[Restaurants, Italian, Food Trucks, Food]                                                                                                                                                                                   |\n|SZU9c8V2GuREDN5KgyHFJw|Santa Barbara Shellfish Company            |4.0  |2404        |[Live/Raw Food, Restaurants, Seafood, Beer Bar, Beer, Wine & Spirits, Bars, Food, Nightlife]                                                                                                                                |\n|ORL4JE6tz3rJxVqkdKfegA|Gaylord Opryland Resort & Convention Center|3.0  |1639        |[Venues & Event Spaces, Performing Arts, Arts & Entertainment, Hotels & Travel, Food, Convenience Stores, American (New), Beauty & Spas, Restaurants, Museums, Event Planning & Services, Hotels, Cinema, Resorts, Day Spas]|\n|yM8LlTInbQH4FwWC97lz6w|McDonald's                                 |1.5  |100         |[Fast Food, Restaurants, Food, Burgers, Coffee & Tea]                                                                                                                                                                       |\n|pmuuoDqNZp7518AUd-YmPA|Bagelicious - King Of Prussia              |3.5  |60          |[Restaurants, Bakeries, Caterers, Bagels, Food, Event Planning & Services]                                                                                                                                                  |\n|bTve2mwLk5Zc01vRKqc2KQ|Red Hook Coffee & Tea                      |4.5  |183         |[Restaurants, Breakfast & Brunch, Vegan, Bagels, Food, Coffee & Tea]                                                                                                                                                        |\n|py5aKmlTB2NarfsfcOpHOQ|Cafe Con Leche                             |2.5  |55          |[Restaurants, Breakfast & Brunch, Coffee Roasteries, Coffee & Tea, Food]                                                                                                                                                    |\n|n8ecak12IF_jhnPNs37AZA|Baltic Bakery                              |4.5  |12          |[Food, Bakeries, Restaurants]                                                                                                                                                                                               |\n|_T0cPZE2ZJOTTlYYKMP64Q|Brown Sugar Bakery & Cafe                  |4.5  |66          |[Cupcakes, Caribbean, Restaurants, Trinidadian, Food, Bakeries, Cafes]                                                                                                                                                      |\n|1dSKEitDDgIkaApe6UNMSA|The Pepper Pott                            |5.0  |18          |[Caribbean, Food, Restaurants, Food Trucks]                                                                                                                                                                                 |\n|e8pMCk4bE0U4qk7z59Lxkg|Federal Donuts                             |4.5  |11          |[Sandwiches, Chicken Wings, Restaurants, Donuts, Food]                                                                                                                                                                      |\n|1E9o1SNo7UTf1XHTFPv1_Q|Franklin Juice Co                          |4.5  |66          |[Restaurants, Acai Bowls, Vegan, Organic Stores, Vegetarian, Food, Juice Bars & Smoothies]                                                                                                                                  |\n|f82dhKNiUXsDVPMLqKYiIQ|Sher-e-Punjab                              |4.0  |446         |[Restaurants, Salad, Pakistani, Indian, Cocktail Bars, Food, Food Delivery Services, Soup, Halal, Bars, Nightlife]                                                                                                          |\n|FF45pKN_lzqG8Bqk-_HQvw|Go! Gyro! Go!                              |4.5  |49          |[Street Vendors, Food, Food Trucks, Greek, Food Stands, Restaurants, Mediterranean]                                                                                                                                         |\n|aNXw3PkXVt8ANwLyCfcmpg|McDonald's                                 |1.5  |17          |[Restaurants, Fast Food, Burgers, Food, Coffee & Tea]                                                                                                                                                                       |\n|JwBTq6IOFH97b9Hr6RT7pw|Reinette Café & Patisserie                 |3.0  |5           |[Food, Coffee & Tea, Bakeries, Restaurants, Cafes]                                                                                                                                                                          |\n|KdkMXzeoqpfNsZd-_axoTQ|emPIEnada                                  |4.5  |41          |[Event Planning & Services, Restaurants, Empanadas, Caterers, Food, Desserts, Comfort Food, American (Traditional), Food Trucks]                                                                                            |\n|bPPy7yNFfb-6N_bHkn1qAw|Taste of the Caribbean                     |3.0  |17          |[Restaurants, Caribbean, Food Trucks, Food]                                                                                                                                                                                 |\n|516L9-ZWyqVgzqjP5uW7Jg|The Corner Cafe and Deli                   |4.0  |6           |[Sandwiches, Cafes, Burgers, Food, Restaurants]                                                                                                                                                                             |\n|gb7JjRJtzWDsIWpJihZhBQ|McDonald's                                 |2.0  |20          |[Food, Burgers, Restaurants, Coffee & Tea, Fast Food]                                                                                                                                                                       |\n|JPm93BlP-UHYPqFgK66JUw|Local Links                                |4.5  |70          |[Coffee & Tea, Restaurants, American (New), Food, Cafes, Breakfast & Brunch]                                                                                                                                                |\n|QZLOM3T6xl7y1Q6zqoqHWg|Freddy's Frozen Custard & Steakburgers     |3.5  |26          |[Food, American (Traditional), Fast Food, Ice Cream & Frozen Yogurt, Burgers, Restaurants]                                                                                                                                  |\n|9qxMhGWjGsuPUoQB3Y74Wg|McDonald's                                 |1.5  |62          |[Food, Restaurants, Coffee & Tea, Burgers, Fast Food]                                                                                                                                                                       |\n|TGfPJHImEq6AQL9a1laxlg|Chick-fil-A                                |4.0  |80          |[Event Planning & Services, American (Traditional), Restaurants, Food, Caterers, Fast Food, Chicken Shop, Breakfast & Brunch]                                                                                               |\n|VCkSUsdL5P0p16DAPxVROA|NY Bagel & Deli Shop                       |4.0  |31          |[Bagels, Food, Breakfast & Brunch, Coffee & Tea, Restaurants, Burgers, Delis]                                                                                                                                               |\n|dIpTuL2T1L98GQGU17IeSw|The Bricks                                 |4.0  |548         |[Bars, Breakfast & Brunch, Restaurants, American (New), Coffee & Tea, Food, Nightlife, Vegetarian]                                                                                                                          |\n|adATTqggIQX5xxLDISkFTw|Just Churros                               |5.0  |25          |[Food Trucks, Restaurants, Caterers, Event Planning & Services, Food, Mexican, Spanish, Desserts]                                                                                                                           |\n|bdfZdB2MTXlT6-RBjSIpQg|Pho Bistro                                 |3.0  |184         |[Food, Restaurants, Chinese, Bubble Tea, Vietnamese]                                                                                                                                                                        |\n|lPPYZr1_jx0XeW-xR9WJtw|DOSC                                       |4.0  |87          |[Bars, Cocktail Bars, Coffee & Tea, Food, Restaurants, Cafes, Steakhouses, Nightlife, Tapas/Small Plates]                                                                                                                   |\n|IbndcMURguByburM72o3SA|State Street Kitchen                       |4.5  |124         |[Korean, American (Traditional), Sandwiches, Cheesesteaks, Restaurants, Coffee & Tea, Breakfast & Brunch, Food]                                                                                                             |\n|diwwt5QBU3-Thig9SVlsOA|Brew Brothers                              |3.5  |592         |[Bars, Nightlife, American (Traditional), Music Venues, Food, Arts & Entertainment, Restaurants, Breweries]                                                                                                                 |\n|3uvFklejzRPwEPEZQ5vHYQ|Wawa                                       |3.5  |14          |[Delis, Convenience Stores, Restaurants, Food, Coffee & Tea, Sandwiches]                                                                                                                                                    |\n|0l_njS4wGMadAk1b4nZRUA|Panera Bread                               |2.5  |58          |[Restaurants, Bakeries, Cafes, Bagels, Food, Soup, Salad, Sandwiches, Breakfast & Brunch]                                                                                                                                   |\n|lB6jIOb1UBATmdfot4KJew|Soco's Gyros                               |4.0  |126         |[Delis, Kebab, Turkish, Mediterranean, Greek, Restaurants, Food]                                                                                                                                                            |\n|A1lAqN3SOaBLoo6NqVcy4Q|McDonald's                                 |2.0  |6           |[Sandwiches, Burgers, Food, Fast Food, Restaurants, Coffee & Tea]                                                                                                                                                           |\n|kLSEk3qXY1KdtFjxHJ9pww|McDonald's                                 |1.5  |20          |[Restaurants, Fast Food, Food, Coffee & Tea, Burgers]                                                                                                                                                                       |\n|8JEOmVGQffkr6xtn4vvplQ|Pita Kebob                                 |4.0  |142         |[Kebab, Mediterranean, Middle Eastern, Lebanese, Restaurants, Greek, Food]                                                                                                                                                  |\n|qma1sGQv7ArUtzuUTQElRg|Katie's Pizza & Pasta Osteria              |4.0  |313         |[Pasta Shops, Bars, Nightlife, Specialty Food, Cocktail Bars, Breakfast & Brunch, Restaurants, Pizza, Food, Italian]                                                                                                        |\n|Hp3Ony7yW60VPuWHQFIIHA|Frady's One Stop Food Store                |4.5  |73          |[Delis, Food, Grocery, Restaurants]                                                                                                                                                                                         |\n|JQ75_672GKJQ3tK1togIWw|Golden Capital Restaurant                  |3.5  |8           |[Chinese, Specialty Food, Food, Event Planning & Services, Imported Food, Vietnamese, Seafood, Caterers, Restaurants, Ethnic Food]                                                                                          |\n+----------------------+-------------------------------------------+-----+------------+----------------------------------------------------------------------------------------------------------------------------------------------------------------------------------------------------------------------------+\nonly showing top 50 rows\n\n"
     ]
    }
   ],
   "source": [
    "#Food and Restaurants\n",
    "df_restautant_food = spark.sql(\"\"\"\n",
    "SELECT * FROM restaurants\n",
    "WHERE ARRAY_CONTAINS(categories,'Food')\n",
    "\"\"\")\n",
    "print(f\"Number of restaurants also in Food: {df_restautant_food.count()}\")\n",
    "df_restautant_food.show(50, truncate=False)"
   ]
  },
  {
   "cell_type": "markdown",
   "metadata": {
    "application/vnd.databricks.v1+cell": {
     "cellMetadata": {
      "byteLimit": 2048000,
      "rowLimit": 10000
     },
     "inputWidgets": {},
     "nuid": "6fe12254-3eb8-48c2-8f50-24a1ad713cc1",
     "showTitle": false,
     "tableResultSettingsMap": {},
     "title": ""
    }
   },
   "source": [
    "###2B.7 Local Flavor\n",
    "####Decision: Include\n",
    "* Number of restaurants also in Local Flavor: 293 \n",
    "* This category has a solid relationship with Restaurants, with most restaurants in the results having “Local Flavor” as more ethnic and international foods. None of the 50 businesses we reviewed were places that were not restaurants that also contained any “Local Flavor” subcategories.\n"
   ]
  },
  {
   "cell_type": "code",
   "execution_count": 0,
   "metadata": {
    "application/vnd.databricks.v1+cell": {
     "cellMetadata": {
      "byteLimit": 2048000,
      "rowLimit": 10000
     },
     "inputWidgets": {},
     "nuid": "1a449499-b9b4-42d0-b240-e9137d07dac7",
     "showTitle": false,
     "tableResultSettingsMap": {},
     "title": ""
    }
   },
   "outputs": [
    {
     "output_type": "stream",
     "name": "stdout",
     "output_type": "stream",
     "text": [
      "Number of restaurants also in Local Flavor : 293\n-RECORD 0--------------------------------------------------------------------------------------------------------------------------------------------------------------------------------------------\n business_id  | 4FaYG9qKDpDyr68bKmaIEw                                                                                                                                                               \n name         | Capitol Cellars                                                                                                                                                                      \n stars        | 4.0                                                                                                                                                                                  \n review_count | 176                                                                                                                                                                                  \n categories   | [Restaurants, Bars, Wine Bars, American (Traditional), Nightlife, American (New), Wineries, Local Flavor, Coffee & Tea, Food, Breakfast & Brunch, Steakhouses, Arts & Entertainment] \n-RECORD 1--------------------------------------------------------------------------------------------------------------------------------------------------------------------------------------------\n business_id  | zSqTndm5Alq9dW1PyzbdTA                                                                                                                                                               \n name         | Grand Isle                                                                                                                                                                           \n stars        | 4.0                                                                                                                                                                                  \n review_count | 588                                                                                                                                                                                  \n categories   | [Seafood, Southern, Food, Live/Raw Food, Restaurants, Desserts, Local Flavor]                                                                                                        \n-RECORD 2--------------------------------------------------------------------------------------------------------------------------------------------------------------------------------------------\n business_id  | kpK6SmxIiNoGPNhlEGiL4w                                                                                                                                                               \n name         | Trattoria Marcella                                                                                                                                                                   \n stars        | 4.5                                                                                                                                                                                  \n review_count | 383                                                                                                                                                                                  \n categories   | [Italian, Local Flavor, Restaurants]                                                                                                                                                 \nonly showing top 3 rows\n\n"
     ]
    }
   ],
   "source": [
    "df_restautant_auto = spark.sql(\"\"\"\n",
    "SELECT * FROM restaurants\n",
    "WHERE ARRAY_CONTAINS(categories,'Local Flavor')\n",
    "\"\"\")\n",
    "print(f\"Number of restaurants also in Local Flavor : {df_restautant_auto.count()}\")\n",
    "df_restautant_auto.show(3, truncate=False, vertical = True)"
   ]
  },
  {
   "cell_type": "markdown",
   "metadata": {
    "application/vnd.databricks.v1+cell": {
     "cellMetadata": {
      "byteLimit": 2048000,
      "rowLimit": 10000
     },
     "inputWidgets": {},
     "nuid": "51702665-93c7-4cb7-9bec-3a11a0093125",
     "showTitle": false,
     "tableResultSettingsMap": {},
     "title": ""
    }
   },
   "source": [
    "###2B.8 Hotels & Travel\n",
    "####Decision: Include\n",
    "* Number of restaurants also in Hotels & Travel: 339 \n",
    "* Of the 50 results we reviewed, a fair amount of the business are restaurants. However, there were a few subcategories that were common amongst the businesses that were under “Hotels & Travel.”\n",
    "* Exclude Subcategories:\n",
    "* Hotels\n",
    "  * Most of the businesses with the subcategory “Hotel” are just hotels with restaurants.\n",
    "  * Ex. Embassy Suites by Hilton Tampa Downtown Convention Center, \n",
    "* Resorts\n",
    "  * Similar to Hotels, the businesses with this subcategory are just resorts with restaurants.\n",
    "  * Ex. Casino Del Sol \n",
    "* Tours\n",
    "  * Since tours are usually mobile and not stationary, while restaurants are generally considered one place where a person can sit and eat, most tours, such as food tours, historical tours, etc. are not considered restaurants\n",
    "  * Ybor City Food Tours, Independence After Hours \n"
   ]
  },
  {
   "cell_type": "code",
   "execution_count": 0,
   "metadata": {
    "application/vnd.databricks.v1+cell": {
     "cellMetadata": {
      "byteLimit": 2048000,
      "rowLimit": 10000
     },
     "inputWidgets": {},
     "nuid": "e2d483b9-ec50-4b5c-9cb7-eb48e3dceb4c",
     "showTitle": false,
     "tableResultSettingsMap": {},
     "title": ""
    }
   },
   "outputs": [
    {
     "output_type": "stream",
     "name": "stdout",
     "output_type": "stream",
     "text": [
      "Number of restaurants also in Hotels & Travel : 339\n-RECORD 0------------------------------------------------------------------------------------------------------------------------------------------------------------------------------------------------------------------------------------\n business_id  | ORL4JE6tz3rJxVqkdKfegA                                                                                                                                                                                                       \n name         | Gaylord Opryland Resort & Convention Center                                                                                                                                                                                  \n stars        | 3.0                                                                                                                                                                                                                          \n review_count | 1639                                                                                                                                                                                                                         \n categories   | [Venues & Event Spaces, Performing Arts, Arts & Entertainment, Hotels & Travel, Food, Convenience Stores, American (New), Beauty & Spas, Restaurants, Museums, Event Planning & Services, Hotels, Cinema, Resorts, Day Spas] \n-RECORD 1------------------------------------------------------------------------------------------------------------------------------------------------------------------------------------------------------------------------------------\n business_id  | 1tLrjXG-I9hkOoZxlbwDqw                                                                                                                                                                                                       \n name         | Olde Black Horse                                                                                                                                                                                                             \n stars        | 4.0                                                                                                                                                                                                                          \n review_count | 9                                                                                                                                                                                                                            \n categories   | [American (Traditional), Bars, Breakfast & Brunch, Nightlife, Cocktail Bars, Restaurants, Hotels & Travel, Hotels, Event Planning & Services]                                                                                \n-RECORD 2------------------------------------------------------------------------------------------------------------------------------------------------------------------------------------------------------------------------------------\n business_id  | MObScX791gFEwtkoFA9GQg                                                                                                                                                                                                       \n name         | Creekside Inn                                                                                                                                                                                                                \n stars        | 3.5                                                                                                                                                                                                                          \n review_count | 20                                                                                                                                                                                                                           \n categories   | [Restaurants, American (New), Event Planning & Services, Bars, Pubs, American (Traditional), Social Clubs, Hotels, Hotels & Travel, Nightlife, Arts & Entertainment, Venues & Event Spaces]                                  \nonly showing top 3 rows\n\n"
     ]
    }
   ],
   "source": [
    "df_restautant_auto = spark.sql(\"\"\"\n",
    "SELECT * FROM restaurants\n",
    "WHERE ARRAY_CONTAINS(categories,'Hotels & Travel')\n",
    "\"\"\")\n",
    "print(f\"Number of restaurants also in Hotels & Travel : {df_restautant_auto.count()}\")\n",
    "df_restautant_auto.show(3, truncate=False, vertical = True)"
   ]
  },
  {
   "cell_type": "markdown",
   "metadata": {
    "application/vnd.databricks.v1+cell": {
     "cellMetadata": {
      "byteLimit": 2048000,
      "rowLimit": 10000
     },
     "inputWidgets": {},
     "nuid": "843cd968-1d23-4782-9977-2c01ed66022c",
     "showTitle": false,
     "tableResultSettingsMap": {},
     "title": ""
    }
   },
   "source": [
    "### Excluded Categories:\n",
    "These following categories are excluded from our analysis. After reviewing the results of each top-level category, there were not enough relationships with “Restaurants” in these categories to be considered.\n",
    "- Local Services\n",
    "- Mass Media\n",
    "- Pets\n",
    "- Professional Services\n",
    "- Public Services & Government\n",
    "- Shopping\n",
    "- Active Life\n",
    "- Beauty & Spas\n",
    "- Education\n",
    "- Health & Medical\n",
    "- Home Services"
   ]
  },
  {
   "cell_type": "markdown",
   "metadata": {
    "application/vnd.databricks.v1+cell": {
     "cellMetadata": {
      "byteLimit": 2048000,
      "rowLimit": 10000
     },
     "inputWidgets": {},
     "nuid": "5c670545-b25e-4e03-9c39-171dc36a5383",
     "showTitle": false,
     "tableResultSettingsMap": {},
     "title": ""
    }
   },
   "source": [
    "###2B.9 Local Services\n",
    "####Conclusion: Exclude\n",
    "  - Number of restaurants also in Local Services: 58\n",
    "  - A remarkable number of the 50 results were businesses that were primarily service-based, and would not generally be considered restaurants.\n",
    "  - A lot of these businesses in the results seem to be service businesses that offer food on the side, or they provide services for restaurants.\n",
    "  - Examples: Fahrenheit Heating and Cooling & Jack Ward & Sons Plumbing do work for restaurants, they do not sell food.\n",
    "  - There were a few marketplaces that sold food that popped up, but they are not restaurants.\n",
    "  - Examples: Santa Barbara Hives, Old Southeast Market, MOM's Organic Market…\n"
   ]
  },
  {
   "cell_type": "code",
   "execution_count": 0,
   "metadata": {
    "application/vnd.databricks.v1+cell": {
     "cellMetadata": {
      "byteLimit": 2048000,
      "rowLimit": 10000
     },
     "inputWidgets": {},
     "nuid": "26c27546-3c74-42d7-939e-6d6da2ed2b02",
     "showTitle": false,
     "tableResultSettingsMap": {},
     "title": ""
    }
   },
   "outputs": [
    {
     "output_type": "stream",
     "name": "stdout",
     "output_type": "stream",
     "text": [
      "Number of restaurants also in Local Services: 58\n+----------------------+----------------------------------------------+-----+------------+-------------------------------------------------------------------------------------------------------------------------------------------------------------------------------------------------------------------------------------------------------------------------------------------------------------------------------------------------------------------------------------------------+\n|business_id           |name                                          |stars|review_count|categories                                                                                                                                                                                                                                                                                                                                                                                       |\n+----------------------+----------------------------------------------+-----+------------+-------------------------------------------------------------------------------------------------------------------------------------------------------------------------------------------------------------------------------------------------------------------------------------------------------------------------------------------------------------------------------------------------+\n|kdboJGRQZXuKYLIFMvsoJw|Boise Auto Repair Mobile Tech Auto Repair     |3.5  |15          |[Hawaiian, Car Stereo Installation, Auto Detailing, Trailer Repair, Parking, Local Services, Self Storage, RV Repair, Smog Check Stations, Auto Repair, Oil Change Stations, Counseling & Mental Health, Transmission Repair, Health & Medical, Body Shops, Windshield Installation & Repair, Shopping, Auto Glass Services, Restaurants, Automotive, Tires, Roadside Assistance, Battery Stores]|\n|XX2PSfT4xuHq0yuoPIge1A|Books & Brews - Zionsville                    |4.0  |66          |[Breweries, Bars, Community Service/Non-Profit, Beer, Wine & Spirits, Beer Bar, Sandwiches, Food, Nightlife, Shopping, Used Bookstore, Restaurants, Local Services]                                                                                                                                                                                                                              |\n|BWPokhrYnWdfxdaUaM6l9Q|Nashville Symphony                            |4.5  |107         |[Venues & Event Spaces, Musicians, Restaurants, Arts & Entertainment, Local Services, Nightlife, Performing Arts, Event Planning & Services, Party & Event Planning, Community Service/Non-Profit, Music Venues]                                                                                                                                                                                 |\n|d-VtgcAxArPxVYQUSyF6vw|Green Herb Thai Cuisine                       |4.0  |39          |[Couriers & Delivery Services, Food, Food Delivery Services, Restaurants, Local Services, Thai]                                                                                                                                                                                                                                                                                                  |\n|DVG3oqNuDZbTDe3zCUZsng|Italian Club                                  |3.5  |8           |[Women's Clothing, Community Service/Non-Profit, Restaurants, Bars, Nightlife, Professional Services, Italian, Shopping, Fashion, Venues & Event Spaces, Event Planning & Services, Local Services]                                                                                                                                                                                              |\n|r-776l-hZC4Vngbgn8KLQA|Key's Food Store                              |4.0  |13          |[Local Services, Grocery, Soul Food, Restaurants, Electronics Repair, Food]                                                                                                                                                                                                                                                                                                                      |\n|BJ0Z74sTz9sxRr1R533Inw|Best Rate Home Services                       |1.0  |5           |[Restaurants, Local Services, Movers, Home Cleaning, Home & Garden, Hardware Stores, Pizza, Junk Removal & Hauling, Shopping, Home Services]                                                                                                                                                                                                                                                     |\n|ZMQrlSkugKYxgvRMU-EqFg|Fahrenheit Heating and Cooling                |2.0  |56          |[Local Services, Home Services, Appliances & Repair, Crane Services, Heating & Air Conditioning/HVAC, Restaurants]                                                                                                                                                                                                                                                                               |\n|MPTi75aYZzjuKXB8e9jvBQ|Treetops Kitty Cafe                           |4.5  |10          |[Pets, Community Service/Non-Profit, Local Services, Pet Stores, Pet Adoption, Restaurants, Cafes, Themed Cafes]                                                                                                                                                                                                                                                                                 |\n|ADgeB1sfOGbzCR3LIi-4lg|Cafe Reconcile                                |4.5  |152         |[Cajun/Creole, Local Services, Southern, Soul Food, Food, Restaurants, Community Service/Non-Profit, Food Delivery Services]                                                                                                                                                                                                                                                                     |\n|6Tv1T3HFPmSfdxGBW1YSyg|Jacole Sound                                  |4.0  |10          |[Home Services, Home Theatre Installation, Restaurants, Local Services, TV Mounting]                                                                                                                                                                                                                                                                                                             |\n|4SN5pmG-Qsb-0OHY-23FGg|Glass Monkey                                  |3.5  |58          |[Gastropubs, Tapas Bars, Beer, Wine & Spirits, Food, IT Services & Computer Repair, Restaurants, Tapas/Small Plates, Mobile Phone Repair, Local Services]                                                                                                                                                                                                                                        |\n|qKnEaOZAsjRT0Xp-Epktcw|Mustang Ranch                                 |4.0  |26          |[Sandwiches, Nightlife, Restaurants, Local Services, Burgers, Chicken Wings, American (Traditional), Adult Entertainment, Bars, Lounges]                                                                                                                                                                                                                                                         |\n|_E2sNT-OzSntDerR7t4Djg|State of New Jersey Motor Vehicle Comission   |3.0  |23          |[Local Services, Restaurants, Departments of Motor Vehicles, Pizza, Public Services & Government]                                                                                                                                                                                                                                                                                                |\n|sC0nPDdjkErUhoT1BAduLQ|Trinity Cafe                                  |5.0  |7           |[Local Services, Restaurants, Community Service/Non-Profit, Food, Cafes]                                                                                                                                                                                                                                                                                                                         |\n|72_YsggUrXElHQ3eqVlOpw|GET Cafe                                      |5.0  |12          |[Local Services, Food, Restaurants, Juice Bars & Smoothies, Breakfast & Brunch, Community Service/Non-Profit, Coffee & Tea]                                                                                                                                                                                                                                                                      |\n|G_zuuYzVYI6_Yw34cdq_NA|Grooveground                                  |4.0  |97          |[Coffee & Tea, Restaurants, Food, Shopping, Cafes, Music & DVDs, Books, Mags, Music & Video, Dry Cleaning & Laundry, Local Services, Breakfast & Brunch]                                                                                                                                                                                                                                         |\n|DgLD56oDP0jMizXmgWmeug|Shapiro's Market                              |4.5  |44          |[Beer, Wine & Spirits, Organic Stores, Restaurants, Food, Delis, Sandwiches, Grocery, Couriers & Delivery Services, Local Services]                                                                                                                                                                                                                                                              |\n|K-YkmLFOeFe9mL4-XSvagA|Spartan Van Lines                             |1.5  |17          |[Restaurants, Home Organization, Movers, Pizza, Self Storage, Home Services, Local Services]                                                                                                                                                                                                                                                                                                     |\n|qwmlqH4blnTNTFDhUaCBXw|Peddler's Village                             |4.0  |177         |[Hotels & Travel, Dry Cleaning & Laundry, Local Services, Restaurants, Shopping, Accessories, Shopping Centers, American (Traditional), Local Flavor, Fashion]                                                                                                                                                                                                                                   |\n|P6DfeEXFpV_Z6RJRMZ6oXQ|Domino's Pizza                                |2.0  |15          |[Appliances, Sandwiches, Chicken Wings, Home & Garden, Appliances & Repair, Local Services, Restaurants, Shopping, Pizza]                                                                                                                                                                                                                                                                        |\n|fN17POyxijqDNBBe2UGZkA|Mikonos Restaurant                            |4.0  |199         |[Pest Control, Food, Local Services, Mediterranean, Restaurants, Greek]                                                                                                                                                                                                                                                                                                                          |\n|Vil6Ox7d0GXkKHIzztyUfA|The Bridge Coffee House                       |4.5  |19          |[Sandwiches, Breakfast & Brunch, Community Service/Non-Profit, Coffee & Tea, Food, Cafes, Local Services, Religious Organizations, Restaurants]                                                                                                                                                                                                                                                  |\n|iqvP4fAl6i6yQqiMcibPoQ|Sonny's Patio Pub and Refuge                  |4.0  |53          |[Pubs, Bars, Nightlife, Cocktail Bars, Restaurants, Sandwiches, American (Traditional), Grill Services, Local Services]                                                                                                                                                                                                                                                                          |\n|jJL3HcGjgtcUdLub93ZxNA|Bike Stop Cafe                                |4.0  |199         |[American (New), Internet Cafes, Vegetarian, Breakfast & Brunch, Bakeries, Food, Event Planning & Services, Coffee & Tea, Sporting Goods, Vegan, Cafes, Shopping, Bikes, Bike Rentals, Local Services, Venues & Event Spaces, Active Life, American (Traditional), Restaurants, Bike Repair/Maintenance]                                                                                         |\n|DPih_TVOcKR-CyA6K13j9w|Destination Café                              |5.0  |5           |[Restaurants, American (New), Cafes, Local Services, Community Service/Non-Profit]                                                                                                                                                                                                                                                                                                               |\n|Ul2yz_C9n-FOWxRdXaKeQg|Santa Barbara Hives                           |5.0  |5           |[Cheese Shops, Food, Arts & Crafts, Home Decor, Vegan, Honey, Restaurants, Souvenir Shops, Specialty Food, Wildlife Control, Home & Garden, Shopping, Local Services, Pest Control]                                                                                                                                                                                                              |\n|UwI-vRH7Mu6PmsPR67MXyw|Old Southeast Market                          |5.0  |112         |[Local Services, Food, Restaurants, Convenience Stores, Grocery, Delis, Propane, Specialty Food, Coffee & Tea, Poke]                                                                                                                                                                                                                                                                             |\n|V1o_BeHcTehuFD7ue-8H2A|The Well Coffeehouse                          |4.0  |102         |[Local Services, Cafes, Community Service/Non-Profit, Coffee & Tea, Restaurants, Food, Breakfast & Brunch]                                                                                                                                                                                                                                                                                       |\n|ZrsB3DVzC7nNI2a4PVJrmA|Jack Ward & Sons Plumbing                     |4.0  |38          |[Home Services, Restaurants, Water Heater Installation/Repair, American (Traditional), Water Purification Services, Local Services, Contractors, Plumbing, Heating & Air Conditioning/HVAC, Septic Services]                                                                                                                                                                                     |\n|QMbbErMrrp5mwg8oZwFE8A|The Indianapolis Propylaeum                   |3.0  |42          |[Arts & Entertainment, Community Service/Non-Profit, Cafes, Tea Rooms, Event Planning & Services, Local Services, Venues & Event Spaces, Social Clubs, Food, Active Life, American (Traditional), Restaurants]                                                                                                                                                                                   |\n|QfPYXRO7MTXUIBJKvOEjLA|Wildcat Moving & Labor                        |2.5  |15          |[Pizza, Movers, Local Services, Home Services, Septic Services, Restaurants]                                                                                                                                                                                                                                                                                                                     |\n|M4ME5ir-QwnRdM4fhjZtTA|Bob's Seafood                                 |4.5  |88          |[Seafood Markets, Local Services, Seafood, Specialty Food, Food, Restaurants, Shopping, Wholesale Stores]                                                                                                                                                                                                                                                                                        |\n|kdY9pcvJ-GAMfuZPeSsImA|ShopRite of Oxford & Levick                   |2.0  |18          |[Delis, Bakeries, Restaurants, Local Services, Grocery, Food, Shipping Centers]                                                                                                                                                                                                                                                                                                                  |\n|YE1l9L_0xBzq4no3WSlE8w|American Legion Post 275                      |4.5  |14          |[Restaurants, Local Services, Public Services & Government, Community Service/Non-Profit]                                                                                                                                                                                                                                                                                                        |\n|sRBpVgN5ExR7lOrBGWZZxQ|American Legion  Post 397                     |4.5  |5           |[Mexican, Bars, Nightlife, Pubs, Community Service/Non-Profit, Burgers, Local Services, Tacos, Restaurants, Lounges]                                                                                                                                                                                                                                                                             |\n|pZCNjLPZXRznxfC0Vzvh9g|MOM's Organic Market                          |4.5  |5           |[Restaurants, Grocery, Organic Stores, Local Services, Specialty Food, Recycling Center, Vegan, Health Markets, Food]                                                                                                                                                                                                                                                                            |\n|tpW26ob4-YTGLQr6xC7mbA|Java Ship Coffee                              |5.0  |22          |[Coffee & Tea, Vegan, Food Trucks, Bakeries, Cafes, Local Services, Restaurants, Desserts, Food]                                                                                                                                                                                                                                                                                                 |\n|tSEJQ0_vLgGiUOM2l1na6w|Bright Laundromat & Pizzeria                  |4.5  |10          |[Pizza, Dry Cleaning, Restaurants, Laundromat, Laundry Services, Local Services]                                                                                                                                                                                                                                                                                                                 |\n|VPM9GraTTl01jhubiDAAyQ|Gaslight Lounge                               |4.5  |26          |[Music Venues, Lounges, Food, Nightlife, Music Production Services, Arts & Entertainment, Food Trucks, Professional Services, Cocktail Bars, Bars, Local Services, Karaoke, Recording & Rehearsal Studios, Restaurants, Mexican, Tacos]                                                                                                                                                          |\n|g5GS2Mr42rKXzFrzea5GJw|USF Moving Company                            |4.0  |10          |[Local Services, Packing Services, Food, Professional Services, Junk Removal & Hauling, Automotive, Self Storage, Car Share Services, Home Services, Office Cleaning, Couriers & Delivery Services, Taxis, Home Cleaning, Pizza, Restaurants, Transportation, Food Delivery Services, Movers, Hotels & Travel]                                                                                   |\n|WZBo8DAj3BjR2y4MmyMf9A|Ice House Express                             |3.5  |10          |[Restaurants, Brewing Supplies, Bakeries, Propane, Ice Delivery, Local Services, Convenience Stores, Food, Shopping]                                                                                                                                                                                                                                                                             |\n|-XattEF9LvIcbVxMYJIU7Q|TriState Forestry Equipment                   |1.0  |9           |[Tree Services, Truck Rental, Commercial Truck Dealers, Home Services, Local Services, Automotive, Restaurants, Pizza]                                                                                                                                                                                                                                                                           |\n|HqXFcscNFrkK32VMVK2T0A|Venito's Pizzeria                             |4.0  |56          |[Pizza, Restaurants, Couriers & Delivery Services, Food, Chicken Wings, Local Services, Food Delivery Services]                                                                                                                                                                                                                                                                                  |\n|7gIJZfVX4zTfDvKp5gfa0w|The Hideaway                                  |4.5  |11          |[Men's Clothing, American (Traditional), Shopping, Restaurants, Fashion, Local Services, Customized Merchandise, Screen Printing/T-Shirt Printing]                                                                                                                                                                                                                                               |\n|-9zDI4h2dE3hFOpGFHB10Q|Road Crew Coffee & Cycles                     |5.0  |38          |[Local Services, Coffee & Tea, Food, Restaurants, Bike Repair/Maintenance, Cafes]                                                                                                                                                                                                                                                                                                                |\n|kLmnhqQuymX3hwtZUKIJVA|Weavers Way - Ambler                          |4.5  |23          |[Local Services, Sandwiches, Community Service/Non-Profit, Restaurants, Food, Organic Stores, Grocery]                                                                                                                                                                                                                                                                                           |\n|ymi8Cb93TUSN6wwlvMjV6A|Smokey Bones                                  |3.0  |230         |[Restaurants, American (Traditional), Barbeque, Carpet Cleaning, Burgers, Chicken Wings, Local Services]                                                                                                                                                                                                                                                                                         |\n|x9HEAV4YxgOuYPRzn0Egfw|Santa Maria Goretti Community Centre          |4.5  |7           |[Arts & Entertainment, Italian, Venues & Event Spaces, Performing Arts, Event Planning & Services, Restaurants, Local Services, Community Service/Non-Profit]                                                                                                                                                                                                                                    |\n|1toUQtH6rP-DmAQUJB7PYg|The National Shrine of Our Lady of Czestochowa|4.5  |7           |[Shopping, Restaurants, Polish, Community Service/Non-Profit, Churches, Religious Organizations, Elementary Schools, Local Services, Education]                                                                                                                                                                                                                                                  |\n+----------------------+----------------------------------------------+-----+------------+-------------------------------------------------------------------------------------------------------------------------------------------------------------------------------------------------------------------------------------------------------------------------------------------------------------------------------------------------------------------------------------------------+\nonly showing top 50 rows\n\n"
     ]
    }
   ],
   "source": [
    "df_restautant_auto = spark.sql(\"\"\"\n",
    "SELECT * FROM restaurants\n",
    "WHERE ARRAY_CONTAINS(categories,'Local Services')\n",
    "\"\"\")\n",
    "print(f\"Number of restaurants also in Local Services: {df_restautant_auto.count()}\")\n",
    "df_restautant_auto.show(50, truncate=False)"
   ]
  },
  {
   "cell_type": "markdown",
   "metadata": {
    "application/vnd.databricks.v1+cell": {
     "cellMetadata": {
      "byteLimit": 2048000,
      "rowLimit": 10000
     },
     "inputWidgets": {},
     "nuid": "19d2aab1-5667-449e-9eef-51767a950bbb",
     "showTitle": false,
     "tableResultSettingsMap": {},
     "title": ""
    }
   },
   "source": [
    "###2B.10 Mass Media \n",
    "####Conclusion: Exclude\n",
    "* Number of restaurants also in Mass Media: 5\n",
    "* Only 2 out of the 5 results could be considered restaurants (Juan's Flying Burrito & Mexican Post Express), the other 3 were places to buy tea (Avril 50), attractions (General Jackson Showboat), or news publishers (Sauce Magazine).\n"
   ]
  },
  {
   "cell_type": "code",
   "execution_count": 0,
   "metadata": {
    "application/vnd.databricks.v1+cell": {
     "cellMetadata": {
      "byteLimit": 2048000,
      "rowLimit": 10000
     },
     "inputWidgets": {},
     "nuid": "ffbd3c98-e500-4eee-8fcc-630eb74ae6e3",
     "showTitle": false,
     "tableResultSettingsMap": {},
     "title": ""
    }
   },
   "outputs": [
    {
     "output_type": "stream",
     "name": "stdout",
     "output_type": "stream",
     "text": [
      "Number of restaurants also in Mass Media: 5\n+----------------------+------------------------+-----+------------+------------------------------------------------------------------------------------------------------------------------------------------------------------------------------------------------------------------------------------------------------------------+\n|business_id           |name                    |stars|review_count|categories                                                                                                                                                                                                                                                        |\n+----------------------+------------------------+-----+------------+------------------------------------------------------------------------------------------------------------------------------------------------------------------------------------------------------------------------------------------------------------------+\n|RAucBixPYsidSxjtl6VioQ|Mexican Post Express    |3.0  |50          |[Print Media, Mexican, Restaurants, Mass Media]                                                                                                                                                                                                                   |\n|AhVvuzwWQU__CligbY4r0Q|Juan's Flying Burrito   |4.0  |794         |[Restaurants, Mexican, Mass Media, Cajun/Creole]                                                                                                                                                                                                                  |\n|0HZEzKR6Z3Cze7EJI8U5TA|Sauce Magazine          |4.0  |13          |[Web Design, Mass Media, Professional Services, Print Media, Restaurants]                                                                                                                                                                                         |\n|EHUNi6ZX3z8KaXFjGtDd7w|Avril 50                |4.5  |55          |[Food, Cards & Stationery, Coffee & Tea, Flowers & Gifts, Mass Media, Local Flavor, Print Media, Newspapers & Magazines, Candy Stores, Event Planning & Services, Specialty Food, Books, Mags, Music & Video, Tobacco Shops, Arts & Crafts, Restaurants, Shopping]|\n|tewtTBXF-_vNp9Fed97B8w|General Jackson Showboat|3.5  |165         |[American (Traditional), Arts & Entertainment, Mass Media, Event Planning & Services, Radio Stations, Party & Event Planning, Venues & Event Spaces, Restaurants, Nightlife, Local Flavor, Music Venues]                                                          |\n+----------------------+------------------------+-----+------------+------------------------------------------------------------------------------------------------------------------------------------------------------------------------------------------------------------------------------------------------------------------+\n\n"
     ]
    }
   ],
   "source": [
    "df_restautant_auto = spark.sql(\"\"\"\n",
    "SELECT * FROM restaurants\n",
    "WHERE ARRAY_CONTAINS(categories,'Mass Media')\n",
    "\"\"\")\n",
    "print(f\"Number of restaurants also in Mass Media: {df_restautant_auto.count()}\")\n",
    "df_restautant_auto.show(50, truncate=False)"
   ]
  },
  {
   "cell_type": "markdown",
   "metadata": {
    "application/vnd.databricks.v1+cell": {
     "cellMetadata": {
      "byteLimit": 2048000,
      "rowLimit": 10000
     },
     "inputWidgets": {},
     "nuid": "bdb2a482-d08c-4d32-b5a7-0a18fca3f52e",
     "showTitle": false,
     "tableResultSettingsMap": {},
     "title": ""
    }
   },
   "source": [
    "###2B.11 Pets \n",
    "####Conclusion: Exclude\n",
    "* Number of restaurants also in Pets: 24\n",
    "* Only a select few of the 24 results offered food. The results that did offer food were mostly pet cafes, or pet themed cafes, none of the results could confidently be considered restaurants.\n",
    "  * Example: Mauhaus is a cafe with coffees, pastries, and adoptable cats\n",
    "  * Example: Treetops Kitty Cafe is an adoption center with a small cafe in the facility\n",
    "* Most of the results were pet services, such as pet hospitals, pet supply stores, or pet sitting businesses.\n",
    "  * Example: Uncle G Bed And Biscuit is a pet boarding company\n",
    "  * Example: Tail Blazers West is a pet supply store\n",
    "  * Example: The Catio Cat Lounge is a place to adopt cats\n"
   ]
  },
  {
   "cell_type": "code",
   "execution_count": 0,
   "metadata": {
    "application/vnd.databricks.v1+cell": {
     "cellMetadata": {
      "byteLimit": 2048000,
      "rowLimit": 10000
     },
     "inputWidgets": {},
     "nuid": "eeab272b-0850-43c7-9c60-56a139f2a9c5",
     "showTitle": false,
     "tableResultSettingsMap": {},
     "title": ""
    }
   },
   "outputs": [
    {
     "output_type": "stream",
     "name": "stdout",
     "output_type": "stream",
     "text": [
      "Number of restaurants also in Pets: 24\n+----------------------+------------------------------+-----+------------+---------------------------------------------------------------------------------------------------------------------------------------------------------------------------------------------------------------------+\n|business_id           |name                          |stars|review_count|categories                                                                                                                                                                                                           |\n+----------------------+------------------------------+-----+------------+---------------------------------------------------------------------------------------------------------------------------------------------------------------------------------------------------------------------+\n|UFpCraqzFBAhtZqmxmiWsA|Cat Therapy                   |4.5  |116         |[Themed Cafes, Cafes, Pets, Arts & Entertainment, Women's Clothing, Coffee & Tea, Shopping, Pet Adoption, Fashion, Pet Sitting, Accessories, Pet Stores, Pet Services, Food, Restaurants]                            |\n|sU0eYd56_QArBBBlULxQaQ|Mayfield Veterinary Hospital  |5.0  |8           |[Pets, Breakfast & Brunch, Veterinarians, Restaurants]                                                                                                                                                               |\n|MPTi75aYZzjuKXB8e9jvBQ|Treetops Kitty Cafe           |4.5  |10          |[Pets, Community Service/Non-Profit, Local Services, Pet Stores, Pet Adoption, Restaurants, Cafes, Themed Cafes]                                                                                                     |\n|Vblnk16PBidxASjJBkTOcw|Pollos A La Brasa Fiesta      |3.5  |25          |[Cuban, Pets, Nightlife, Spanish, Juice Bars & Smoothies, Mexican, Restaurants, Food, Cocktail Bars, Animal Shelters, Bars]                                                                                          |\n|xAwnIKLl9zPA6fAe_1AbqA|VRC                           |3.5  |75          |[Personal Shopping, Shopping, Pet Services, Persian/Iranian, Restaurants, Pets, Veterinarians]                                                                                                                       |\n|rSYyGcZZziJLsqKl5hMcDw|Circus Circus Reno            |2.5  |1249        |[Hotels & Travel, Casinos, Hotels, Event Planning & Services, Nightlife, Restaurants, Pet Services, Pets, Arts & Entertainment, Pet Sitting]                                                                         |\n|wS2y6L0kV7_FSDroT3HETw|MeWow Cat Cafe                |4.0  |8           |[Themed Cafes, Cafes, Restaurants, Coffee & Tea, Food, Pets, Pet Adoption]                                                                                                                                           |\n|Pc3urwUFlzLyDP1qvsHQuA|Bar Les Freres                |4.5  |177         |[American (New), French, Pets, Restaurants, Beer, Wine & Spirits, Food]                                                                                                                                              |\n|ibe3g1TlMJmlkz_8Go0m1A|Nine Lives Cat Cafe           |4.5  |144         |[Food, Coffee & Tea, Sandwiches, Restaurants, Pets, Cafes, Pet Adoption]                                                                                                                                             |\n|_X9SsBerAMSTuEwJv-_cng|Cox's Seafood Market          |4.5  |62          |[Books, Mags, Music & Video, Seafood Markets, Pets, Pet Stores, Specialty Food, Shopping, Food, Seafood, Restaurants, Sushi Bars]                                                                                    |\n|Z_l5dmN5AvLDS0KtVEjZZA|Dogs-N-Donuts                 |5.0  |33          |[Food, Pet Services, Cafes, Coffee & Tea, Donuts, Pets, Pet Stores, Breakfast & Brunch, Restaurants, Bakeries]                                                                                                       |\n|nPruiFveAtUcGrUbFBeQuQ|Bark Busters Dog Home Training|4.0  |5           |[Pet Training, Pizza, Pets, Restaurants, Pet Services]                                                                                                                                                               |\n|QfzhKUUUEOvHK7OuHJ5Cqg|The Catio Cat Lounge          |5.0  |10          |[Food, Bakeries, Pets, Cafes, Restaurants, Coffee & Tea, Nightlife, Pet Adoption, Bars, Wine Bars]                                                                                                                   |\n|JDLEBMFfrF22154egA2eig|The Kerry Cottage             |3.5  |8           |[Pets, Accessories, Food, Pet Stores, Home Decor, Restaurants, Home & Garden, Imported Food, Arts & Crafts, Jewelry, Shopping, Fashion, Flowers & Gifts, Cosmetics & Beauty Supply, Gift Shops, Beauty & Spas, Irish]|\n|_EWIAcznqBcCLon_MBf47Q|The Wagamama                  |5.0  |12          |[Restaurants, Food, Pet Photography, Shopping, Gift Shops, Pet Services, Pets, Flowers & Gifts, Pet Stores, Cafes, Coffee & Tea]                                                                                     |\n|XXGtqYn5ocI-xSlcN24FSg|Doggy Style Deli              |3.5  |23          |[Delis, Pet Stores, Pet Services, Restaurants, Pets]                                                                                                                                                                 |\n|9U2w4rQlIgBQqHuTRgp7Rw|Mauhaus                       |4.0  |102         |[Cafes, Pets, Bakeries, Restaurants, Themed Cafes, Pet Adoption, Food]                                                                                                                                               |\n|SV-cs_QJD5cdv5u5CUKHiw|Tail Blazers West             |4.5  |5           |[Pet Services, Pet Stores, Canadian (New), Pets, Restaurants]                                                                                                                                                        |\n|6JuENUKBRp-ZjaXhznkOkg|Uncle G Bed And Biscuit       |4.0  |8           |[Pet Sitting, Restaurants, Pet Services, Pet Boarding, Pets, Pet Groomers]                                                                                                                                           |\n|U3cgoW533NMhBthVOA0tNA|Langhorne Hotel               |3.5  |42          |[Restaurants, Nightlife, American (Traditional), Pubs, Pets, Bars]                                                                                                                                                   |\n|Zp4X56N9m4klDAPb0UhzJQ|Legacy Feed and Fuel          |4.5  |6           |[Shopping, Grilling Equipment, Restaurants, Pet Stores, Southern, Pet Services, Livestock Feed & Supply, Home & Garden, Pets]                                                                                        |\n|wc2XgFV0HnvgF127QHkSNw|Watkins Drinkery              |4.0  |145         |[Sandwiches, Burgers, Restaurants, Pets, Bars, Nightlife, Vegan, Pubs, Gastropubs]                                                                                                                                   |\n|4gszBjoouIzfi1ltSQZ2BQ|Tampa Bay Brewing Company     |4.0  |1086        |[Restaurants, Food, Breweries, American (Traditional), Pets, Brasseries]                                                                                                                                             |\n|Y7CyVy4yXkpYUfQyKu9ZYw|Enchanted Cat Cafe            |5.0  |8           |[Cafes, Pets, Pet Adoption, Restaurants, Themed Cafes]                                                                                                                                                               |\n+----------------------+------------------------------+-----+------------+---------------------------------------------------------------------------------------------------------------------------------------------------------------------------------------------------------------------+\n\n"
     ]
    }
   ],
   "source": [
    "df_restautant_auto = spark.sql(\"\"\"\n",
    "SELECT * FROM restaurants\n",
    "WHERE ARRAY_CONTAINS(categories,'Pets')\n",
    "\"\"\")\n",
    "print(f\"Number of restaurants also in Pets: {df_restautant_auto.count()}\")\n",
    "df_restautant_auto.show(50, truncate=False)"
   ]
  },
  {
   "cell_type": "markdown",
   "metadata": {
    "application/vnd.databricks.v1+cell": {
     "cellMetadata": {
      "byteLimit": 2048000,
      "rowLimit": 10000
     },
     "inputWidgets": {},
     "nuid": "659fadb9-ef63-42aa-954a-691e0709a964",
     "showTitle": false,
     "tableResultSettingsMap": {},
     "title": ""
    }
   },
   "source": [
    "###2B.12 Professional Services\n",
    "####Conclusion: Exclude.\n",
    "* Number of restaurants also in Local Services: 30\n",
    "* Though some restaurants do pop up in the results, the majority seem to be involved with event planning, wholesale, selling restaurant supplies, or the main focus of the company is not the food offered.\n"
   ]
  },
  {
   "cell_type": "code",
   "execution_count": 0,
   "metadata": {
    "application/vnd.databricks.v1+cell": {
     "cellMetadata": {
      "byteLimit": 2048000,
      "rowLimit": 10000
     },
     "inputWidgets": {},
     "nuid": "3a9cf430-611f-4752-a8cf-b59fb805b511",
     "showTitle": false,
     "tableResultSettingsMap": {},
     "title": ""
    }
   },
   "outputs": [
    {
     "output_type": "stream",
     "name": "stdout",
     "output_type": "stream",
     "text": [
      "Number of restaurants also in Professional Services: 30\n+----------------------+-----------------------------------------------------+-----+------------+--------------------------------------------------------------------------------------------------------------------------------------------------------------------------------------------------------------------------------------------------------------------------------------------------------------+\n|business_id           |name                                                 |stars|review_count|categories                                                                                                                                                                                                                                                                                                    |\n+----------------------+-----------------------------------------------------+-----+------------+--------------------------------------------------------------------------------------------------------------------------------------------------------------------------------------------------------------------------------------------------------------------------------------------------------------+\n|ZoV8kXQopyz24dJBlFByRA|Imo's Pizza                                          |3.0  |10          |[Professional Services, Restaurants, Food, Food Delivery Services, Business Consulting, Pizza]                                                                                                                                                                                                                |\n|9XyO6Vk13vUXgJ2yM39P3A|Turchettis Delicatessen                              |4.5  |115         |[Wholesalers, Professional Services, Italian, American (Traditional), Sandwiches, Specialty Food, Delis, Meat Shops, Butcher, Restaurants, Burgers, Food, Grocery, American (New)]                                                                                                                            |\n|DVG3oqNuDZbTDe3zCUZsng|Italian Club                                         |3.5  |8           |[Women's Clothing, Community Service/Non-Profit, Restaurants, Bars, Nightlife, Professional Services, Italian, Shopping, Fashion, Venues & Event Spaces, Event Planning & Services, Local Services]                                                                                                           |\n|3D2hDzIkashmMJ6BKBoy9A|Cynthia's Soul Grill                                 |4.0  |5           |[American (New), Soul Food, Wholesalers, Restaurant Supplies, Professional Services, Restaurants]                                                                                                                                                                                                             |\n|faSi7EoZ38xMPJEpp7-pqg|Algorithm Restaurants                                |5.0  |10          |[Food, Food Trucks, Pop-Up Restaurants, Business Consulting, Professional Services, Event Planning & Services, Street Vendors, Restaurants, Mexican, Burgers, Party Equipment Rentals, Tacos, Vegan]                                                                                                          |\n|BjB3V_pwlTfuxb2s9rqE_g|Falafel King Metairie                                |4.0  |53          |[Restaurant Supplies, Professional Services, Wholesalers, Lebanese, Halal, Greek, Restaurants, Middle Eastern]                                                                                                                                                                                                |\n|7SHh7-aWuAVlp3YKahSQHg|Edwards-Freeman Nut                                  |5.0  |47          |[Desserts, Shopping, Yelp Events, Restaurants, Specialty Food, American (New), Fruits & Veggies, Professional Services, Flowers & Gifts, Food, Local Flavor, Candy Stores, Outlet Stores, Convenience Stores, Chocolatiers & Shops]                                                                           |\n|mN6fOLYGCVOwXHN1KGPeug|Tinwings                                             |4.5  |13          |[Home Services, Restaurants, Caterers, Food Delivery Services, Event Planning & Services, Professional Services, Home Organization, Food, Specialty Food]                                                                                                                                                     |\n|wBo_8-g29R29-1QVWYu7uQ|ABC Permits                                          |5.0  |10          |[Restaurants, Education, Professional Services, Specialty Schools]                                                                                                                                                                                                                                            |\n|4Rt6pP3sUaACgp-RLjrsqQ|Trader Bay Seafood Company                           |4.0  |35          |[Food, Specialty Food, Accountants, Professional Services, Seafood Markets, Shopping, Seafood, Wholesale Stores, Restaurants]                                                                                                                                                                                 |\n|QnFIWz-CgEVqQ8qhzFrl7A|Cornerstone Cafe                                     |4.5  |19          |[Burgers, Food, Coffee & Tea, Sandwiches, American (Traditional), Professional Services, Restaurants, Lawyers]                                                                                                                                                                                                |\n|WnMl9qwB4CGhm-ToOwClvw|MAMA's Indian Kitchen & Food Mart                    |4.5  |13          |[Billing Services, Professional Services, Restaurants, Indian, Convenience Stores, Food, Financial Services]                                                                                                                                                                                                  |\n|n1DCk2PuzJ-5c2jQb8IKOg|Port Tarpon Marina                                   |2.5  |9           |[Boat Repair, Boating, Marinas, Restaurants, Boat Charters, Automotive, Event Planning & Services, Active Life, Professional Services]                                                                                                                                                                        |\n|E_4ml5x-yncwGYHCpysMAA|Fibber's Sports Bar & Grille                         |3.0  |29          |[Bars, Nightlife, Restaurants, Professional Services, Lawyers, Sports Bars, Chicken Wings, American (Traditional), Seafood]                                                                                                                                                                                   |\n|cVWOVdiHpPRzuS2FSQUgfA|Omka Grill & Sushi                                   |4.5  |20          |[Sushi Bars, Restaurants, Wholesalers, Professional Services, Japanese, Restaurant Supplies]                                                                                                                                                                                                                  |\n|lrxvP4vdxz9PBgP5PSNzig|Capt'n Chucky's Crab Cake                            |4.5  |22          |[Restaurants, Professional Services, Wholesalers, Food, Desserts, Specialty Food, Seafood Markets, Seafood, Restaurant Supplies]                                                                                                                                                                              |\n|h_n1ud_xJSpskAyBwMK4jg|ZESCO                                                |3.5  |9           |[Professional Services, Restaurant Supplies, Kitchen & Bath, Nightlife, Appliances, Kitchen Supplies, Food, Hotels & Travel, Tableware, Restaurants, Shopping, Home & Garden, Wholesalers]                                                                                                                    |\n|0HZEzKR6Z3Cze7EJI8U5TA|Sauce Magazine                                       |4.0  |13          |[Web Design, Mass Media, Professional Services, Print Media, Restaurants]                                                                                                                                                                                                                                     |\n|r4bi-XadaNC4CTs_QbPpyA|GINO's Restaurant & Bar                              |4.0  |291         |[Beer Bar, Restaurants, Italian, Wholesalers, Wine Bars, Nightlife, Bars, Professional Services, Restaurant Supplies]                                                                                                                                                                                         |\n|VPM9GraTTl01jhubiDAAyQ|Gaslight Lounge                                      |4.5  |26          |[Music Venues, Lounges, Food, Nightlife, Music Production Services, Arts & Entertainment, Food Trucks, Professional Services, Cocktail Bars, Bars, Local Services, Karaoke, Recording & Rehearsal Studios, Restaurants, Mexican, Tacos]                                                                       |\n|g5GS2Mr42rKXzFrzea5GJw|USF Moving Company                                   |4.0  |10          |[Local Services, Packing Services, Food, Professional Services, Junk Removal & Hauling, Automotive, Self Storage, Car Share Services, Home Services, Office Cleaning, Couriers & Delivery Services, Taxis, Home Cleaning, Pizza, Restaurants, Transportation, Food Delivery Services, Movers, Hotels & Travel]|\n|GPLioj0TJ7oM8-IuF1vKdQ|SUB - Student Union Building at University of Alberta|3.5  |14          |[Professional Services, Internet Service Providers, Shopping, Lounges, Restaurants, Education, Nightlife, Bars, Home Services, Real Estate, Colleges & Universities, University Housing]                                                                                                                      |\n|FRKwXrjKu5qveu-_-DlxBw|St. Louis Paranormal Research Society                |5.0  |14          |[Historical Tours, Professional Services, Tours, Hotels & Travel, Restaurants]                                                                                                                                                                                                                                |\n|XW-VU3PTa-oAGsy957QI6g|McAlister's Deli                                     |3.5  |29          |[Restaurants, Restaurant Supplies, Professional Services, Wholesalers, Salad, Sandwiches, Delis]                                                                                                                                                                                                              |\n|jh2xWoPQxlU096Y3v8I_1A|Lieser Skaff Alexander                               |4.5  |6           |[Personal Injury Law, Business Law, Contract Law, Real Estate Law, Lawyers, Employment Law, Legal Services, Professional Services, Restaurants, Fondue, Divorce & Family Law, General Litigation]                                                                                                             |\n|iv8-Ud6KlrpoZ49D67OJbQ|The Sanctuary On Penn                                |4.0  |46          |[Caterers, Venues & Event Spaces, Nightlife, Professional Services, Music Venues, Restaurants, Event Planning & Services, Arts & Entertainment, Wedding Planning]                                                                                                                                             |\n|lvF733su2iKwO9ZH3LbH8A|Hellas Bakery & Pita                                 |4.0  |22          |[Food, Bakeries, Professional Services, Wholesalers, Restaurants, Seafood]                                                                                                                                                                                                                                    |\n|5Qb8B9qSCT_oz5qsjk4jgA|Bob's Tu Your Door Pizza                             |3.0  |21          |[Event Planning & Services, Caterers, Restaurants, Advertising, Pizza, Professional Services, Sandwiches]                                                                                                                                                                                                     |\n|yYbKiItwE3eQIP_yI_26Ug|Toscana Gourmet Pizza                                |3.0  |35          |[Pizza, Accountants, Professional Services, Restaurants]                                                                                                                                                                                                                                                      |\n|rrHo61_HD5-KTlo65MNXbQ|Pro tech Electronic Monitoring                       |3.0  |27          |[Restaurants, Home & Garden, Contractors, Countertop Installation, Building Supplies, Professional Services, Barbeque, Kitchen & Bath, Home Services, Electronics, Security Systems, Shopping]                                                                                                                |\n+----------------------+-----------------------------------------------------+-----+------------+--------------------------------------------------------------------------------------------------------------------------------------------------------------------------------------------------------------------------------------------------------------------------------------------------------------+\n\n"
     ]
    }
   ],
   "source": [
    "df_restautant_auto = spark.sql(\"\"\"\n",
    "SELECT * FROM restaurants\n",
    "WHERE ARRAY_CONTAINS(categories,'Professional Services')\n",
    "\"\"\")\n",
    "print(f\"Number of restaurants also in Professional Services: {df_restautant_auto.count()}\")\n",
    "df_restautant_auto.show(50, truncate=False)"
   ]
  },
  {
   "cell_type": "markdown",
   "metadata": {
    "application/vnd.databricks.v1+cell": {
     "cellMetadata": {
      "byteLimit": 2048000,
      "rowLimit": 10000
     },
     "inputWidgets": {},
     "nuid": "101ef7d2-e577-44dd-ac11-a970f4cf6513",
     "showTitle": false,
     "tableResultSettingsMap": {},
     "title": ""
    }
   },
   "source": [
    "###2B.13 Public Services & Government\n",
    "####Decision: **Exclude**. \n",
    "- Number of restaurants in public services & govt: **32** \n",
    "- Note: With the exception of one iHop location that showed up in the results, all results were either DMV’s, county jails, university buildings, or historical landmarks and buildings that offered food on the side of a tour or operated as a bed and breakfast. None of the results were restaurants."
   ]
  },
  {
   "cell_type": "code",
   "execution_count": 0,
   "metadata": {
    "application/vnd.databricks.v1+cell": {
     "cellMetadata": {
      "byteLimit": 2048000,
      "rowLimit": 10000
     },
     "inputWidgets": {},
     "nuid": "7445b32c-4028-4751-8fc9-e7512c4423d3",
     "showTitle": false,
     "tableResultSettingsMap": {},
     "title": ""
    }
   },
   "outputs": [
    {
     "output_type": "stream",
     "name": "stdout",
     "output_type": "stream",
     "text": [
      "Number of restaurants also in Public Services & Government: 32\n+----------------------+-------------------------------------------+-----+------------+-------------------------------------------------------------------------------------------------------------------------------------------------------------------------------------------------------------------------------------------------------------+\n|business_id           |name                                       |stars|review_count|categories                                                                                                                                                                                                                                                   |\n+----------------------+-------------------------------------------+-----+------------+-------------------------------------------------------------------------------------------------------------------------------------------------------------------------------------------------------------------------------------------------------------+\n|onPYxtkOmTIGYJbLCPX9Qg|State of New Jersey Motor Vehicle Comission|2.0  |10          |[Pizza, Restaurants, Public Services & Government, Departments of Motor Vehicles]                                                                                                                                                                            |\n|WSrHn_qHCOHqF5BfOmTr1g|State of New Jersey Motor Vehicle Comission|2.5  |5           |[Pizza, Departments of Motor Vehicles, Public Services & Government, Restaurants]                                                                                                                                                                            |\n|IJEivHHf5A8LzXXOn0o0Nw|Skull's Rainbow Room                       |4.5  |993         |[American (New), Public Services & Government, Landmarks & Historical Buildings, Diners, Salad, Bars, Burgers, Nightlife, American (Traditional), Restaurants, Steakhouses, Seafood, Breakfast & Brunch, Cocktail Bars]                                      |\n|_E2sNT-OzSntDerR7t4Djg|State of New Jersey Motor Vehicle Comission|3.0  |23          |[Local Services, Restaurants, Departments of Motor Vehicles, Pizza, Public Services & Government]                                                                                                                                                            |\n|V2cQOeZwPBmjpln6_p1Ygw|Stearns Wharf                              |4.0  |297         |[Public Services & Government, Landmarks & Historical Buildings, Local Flavor, Restaurants, Tours, Shopping, Shopping Centers, Seafood, Hotels & Travel, Boat Tours]                                                                                         |\n|GoWtRH0p8mwIDrDhi3v85A|Piper Palm House                           |4.0  |7           |[Event Planning & Services, Venues & Event Spaces, Public Services & Government, Restaurants, Landmarks & Historical Buildings, Breakfast & Brunch]                                                                                                          |\n|iJDhEQLDdqaCENyU7BGBFA|Schnucks University City                   |2.5  |15          |[Shopping Centers, Florists, Public Services & Government, Delis, Restaurants, Bakeries, Food, Drugstores, Grocery, Flowers & Gifts, Shopping]                                                                                                               |\n|FOwe5FnsMZb_mb8ZmkiZuA|Marion County Jail                         |2.5  |7           |[Jails & Prisons, Breakfast & Brunch, Public Services & Government, Restaurants]                                                                                                                                                                             |\n|sn4-BbWfsdQ4UVukfRl2Nw|Belle Meade Historic Site & Winery         |4.0  |369         |[Landmarks & Historical Buildings, Restaurants, Museums, Wine Tasting Room, Event Planning & Services, Venues & Event Spaces, Public Services & Government, Tours, Hotels & Travel, Food, Arts & Entertainment, Wineries]                                    |\n|zqEmarWiEUQ5jl9R4t8CnQ|Plaza Mariachi                             |4.5  |117         |[Community Centers, Food, Public Services & Government, Dance Clubs, Music Venues, Food Court, Restaurants, Arts & Entertainment, Mexican, Shopping Centers, Performing Arts, Cultural Center, Nightlife, Shopping]                                          |\n|YE1l9L_0xBzq4no3WSlE8w|American Legion Post 275                   |4.5  |14          |[Restaurants, Local Services, Public Services & Government, Community Service/Non-Profit]                                                                                                                                                                    |\n|oeOKkk67d3NTCXl24HOp2w|State of New Jersey Motor Vehicle Comission|2.5  |19          |[Public Services & Government, Restaurants, Pizza, Departments of Motor Vehicles]                                                                                                                                                                            |\n|htgBkzIP-whY40cDuj0w0w|State of New Jersey Motor Vehicle Comission|2.0  |17          |[Departments of Motor Vehicles, Restaurants, Pizza, Public Services & Government]                                                                                                                                                                            |\n|IBIp-yVFl2PxYS-rgc19Yg|Independence Visitor Center                |4.5  |141         |[Breakfast & Brunch, Landmarks & Historical Buildings, Hotels & Travel, Local Flavor, Museums, Public Services & Government, Restaurants, Travel Services, Arts & Entertainment, Ticket Sales, Visitor Centers]                                              |\n|tGCs0AhgubODocZOLqAuMw|State of New Jersey Motor Vehicle Comission|3.5  |5           |[Departments of Motor Vehicles, Pizza, Restaurants, Public Services & Government]                                                                                                                                                                            |\n|BLSvUe3CjhHi9CMm2px3Gg|Granite City Driver Services DMV           |4.5  |7           |[Public Services & Government, Departments of Motor Vehicles, Restaurants]                                                                                                                                                                                   |\n|Zre8y_XnmF0Pt2Lj5GhmVw|Howard Frankland Bridge                    |3.5  |47          |[Restaurants, American (New), Public Services & Government, Hotels & Travel, Landmarks & Historical Buildings, Transportation]                                                                                                                               |\n|vNkD-VrWg5mRyvqGx4gxGQ|St. Peter's Village                        |4.5  |6           |[Landmarks & Historical Buildings, Event Planning & Services, Restaurants, Hotels & Travel, Active Life, Antiques, Hiking, Hotels, Public Services & Government, Shopping]                                                                                   |\n|cAutlIoSn9wV7aYVl2reOg|State of New Jersey Motor Vehicle Comission|2.5  |7           |[Public Services & Government, Pizza, Restaurants, Departments of Motor Vehicles]                                                                                                                                                                            |\n|njkWmkrNQTkw_J9YDilLCA|Broadway Historic District                 |4.0  |29          |[Shopping, Public Services & Government, Nightlife, American (Traditional), Local Flavor, Restaurants, Bars, Municipality]                                                                                                                                   |\n|w-3bSeOcplOJ1hZUghC22A|Printer's Alley                            |3.5  |27          |[Landmarks & Historical Buildings, Karaoke, Public Services & Government, Nightlife, Restaurants, Sushi Bars, Adult Entertainment]                                                                                                                           |\n|ZyFEDOkHLMDVfe3EMrYxrg|IHOP                                       |3.5  |38          |[Public Services & Government, Burgers, American (Traditional), Restaurants, Breakfast & Brunch, American (New)]                                                                                                                                             |\n|lzaR8qKF_s5IjeUY3VQPBQ|Bella Tori At the Mansion                  |4.0  |85          |[Public Services & Government, Mediterranean, American (New), Restaurants, Landmarks & Historical Buildings, Caterers, Breakfast & Brunch, Venues & Event Spaces, Nightlife, Italian, American (Traditional), Bars, Cocktail Bars, Event Planning & Services]|\n|E359ITHKa9CVe9cTOofZUQ|Tower Grove Park                           |4.5  |113         |[Active Life, Restaurants, Botanical Gardens, Tennis, Arts & Entertainment, Public Services & Government, Landmarks & Historical Buildings, Parks, Hiking]                                                                                                   |\n|YceW0kQBKMxvol_SspBXVg|Piazza d-Italia                            |4.0  |14          |[Cultural Center, Active Life, Local Flavor, Landmarks & Historical Buildings, Restaurants, Pizza, Public Services & Government, Parks, Arts & Entertainment]                                                                                                |\n|nk96iwJV1_p2HECYQW1ysA|French Quarter Phantoms                    |4.5  |1481        |[Public Services & Government, Landmarks & Historical Buildings, Walking Tours, Art Tours, Restaurants, Hotels & Travel, Historical Tours, Tours, Barbeque, Local Flavor]                                                                                    |\n|LIhxh7smKaSnc0MxF9KAwQ|Swedeland Volunteer Fire Company           |4.0  |5           |[American (Traditional), Restaurants, Fire Departments, Public Services & Government, Bars, Nightlife]                                                                                                                                                       |\n|Iyml-SRyWR_nY_r76wepRw|Old City District                          |4.0  |5           |[Shopping, Landmarks & Historical Buildings, Restaurants, Local Flavor, Public Services & Government]                                                                                                                                                        |\n|GM32vllI6tKA6Ksi5EKvwg|Dr Jazz Soda Fountain & Grille             |4.0  |30          |[Ice Cream & Frozen Yogurt, Bed & Breakfast, Landmarks & Historical Buildings, Public Services & Government, American (Traditional), Restaurants, Food, Hotels & Travel]                                                                                     |\n|wP7GPGHVd79vx92g9QJclg|Shameless Grounds                          |4.0  |71          |[American (New), Public Services & Government, Libraries, Restaurants, Sandwiches, Salad, Soup, Coffee & Tea, Food]                                                                                                                                          |\n|6iK1I_1a2_l5IFDUPfj2tQ|Philadelphia Art Alliance                  |4.5  |6           |[Art Galleries, Shopping, Landmarks & Historical Buildings, Public Services & Government, Arts & Entertainment, American (New), Museums, Restaurants]                                                                                                        |\n|shY04R-JPKuAX0hCyHBrbA|Haverford College                          |4.5  |18          |[Diners, Education, Libraries, Restaurants, Hiking, Active Life, Public Services & Government, Colleges & Universities]                                                                                                                                      |\n+----------------------+-------------------------------------------+-----+------------+-------------------------------------------------------------------------------------------------------------------------------------------------------------------------------------------------------------------------------------------------------------+\n\n"
     ]
    }
   ],
   "source": [
    "df_restautant_auto = spark.sql(\"\"\"\n",
    "SELECT * FROM restaurants\n",
    "WHERE ARRAY_CONTAINS(categories,'Public Services & Government')\n",
    "\"\"\")\n",
    "print(f\"Number of restaurants also in Public Services & Government: {df_restautant_auto.count()}\")\n",
    "df_restautant_auto.show(50, truncate=False)"
   ]
  },
  {
   "cell_type": "markdown",
   "metadata": {
    "application/vnd.databricks.v1+cell": {
     "cellMetadata": {
      "byteLimit": 2048000,
      "rowLimit": 10000
     },
     "inputWidgets": {},
     "nuid": "1392f391-fe34-4c96-b742-e4f22e5ed20c",
     "showTitle": false,
     "tableResultSettingsMap": {},
     "title": ""
    }
   },
   "source": [
    "###2B.14 Shopping\n",
    "####Decision: Exclude.\n",
    "* Number of restaurants in shopping: 455\n",
    "* Note: The most common results in this area were just local shopping plazas that happened to have cafe’s included with the clothing stores. A couple pet cafe’s showed up in the results as well. Some more common results included health and nutrition stores, food markets that wouldn’t really be considered restaurants, and bakeries. Due to the lack of traditional restaurants in these results, we would recommend that ‘Shopping’ be excluded."
   ]
  },
  {
   "cell_type": "code",
   "execution_count": 0,
   "metadata": {
    "application/vnd.databricks.v1+cell": {
     "cellMetadata": {
      "byteLimit": 2048000,
      "rowLimit": 10000
     },
     "inputWidgets": {},
     "nuid": "f6e66fee-e45a-4152-ab30-8b3e20bd04d9",
     "showTitle": false,
     "tableResultSettingsMap": {},
     "title": ""
    }
   },
   "outputs": [
    {
     "output_type": "stream",
     "name": "stdout",
     "output_type": "stream",
     "text": [
      "Number of restaurants also in Shopping: 455\n+----------------------+-----------------------------------------+-----+------------+-------------------------------------------------------------------------------------------------------------------------------------------------------------------------------------------------------------------------------------------------------------------------------------------------------------------------------------------------------------------------------------------------+\n|business_id           |name                                     |stars|review_count|categories                                                                                                                                                                                                                                                                                                                                                                                       |\n+----------------------+-----------------------------------------+-----+------------+-------------------------------------------------------------------------------------------------------------------------------------------------------------------------------------------------------------------------------------------------------------------------------------------------------------------------------------------------------------------------------------------------+\n|knQ4vIgx-r85kjlWVVjcpQ|Silver and Blue Outfitters               |4.5  |5           |[Sporting Goods, Sports Wear, Fashion, Restaurants, Fast Food, Sandwiches, Shopping]                                                                                                                                                                                                                                                                                                             |\n|6BF3eaIzHtoNHSxKTFnTyg|Mister B's Cigar Box                     |3.5  |13          |[Bars, Lounges, Nightlife, Pizza, Restaurants, Shopping, Tobacco Shops, Hookah Bars]                                                                                                                                                                                                                                                                                                             |\n|nBr6NgqcZz1GhtAngU0RSQ|Forin Cafe                               |4.5  |10          |[Shopping, Restaurants, Cafes, Fashion]                                                                                                                                                                                                                                                                                                                                                          |\n|UFpCraqzFBAhtZqmxmiWsA|Cat Therapy                              |4.5  |116         |[Themed Cafes, Cafes, Pets, Arts & Entertainment, Women's Clothing, Coffee & Tea, Shopping, Pet Adoption, Fashion, Pet Sitting, Accessories, Pet Stores, Pet Services, Food, Restaurants]                                                                                                                                                                                                        |\n|IazLGcO9aggJnMMa_5UO1Q|Kimberton Whole Foods - Collegeville     |5.0  |6           |[Juice Bars & Smoothies, Restaurants, Food, Coffee & Tea, Specialty Food, Organic Stores, Health Markets, Grocery, Sandwiches, Shopping, Vitamins & Supplements]                                                                                                                                                                                                                                 |\n|aYMpjij5ShtEoZueMrQPRw|The Mill                                 |4.0  |5           |[Breweries, Shopping, Food Court, Food, Venues & Event Spaces, Restaurants, Event Planning & Services, Wineries, Wine Tasting Room, Arts & Entertainment, Shopping Centers]                                                                                                                                                                                                                      |\n|t03mAErURyb_wsZuy7lo5Q|St. Philip’s Plaza                       |4.5  |19          |[Shopping, Restaurants, Shopping Centers, Nightlife]                                                                                                                                                                                                                                                                                                                                             |\n|eaJCpC6IhYphj7bwCDHTwQ|Three Brothers Coffee                    |4.5  |249         |[Bagels, Sporting Goods, Outdoor Gear, Coffee & Tea, Cafes, Sandwiches, Food, Shopping, Internet Cafes, Restaurants]                                                                                                                                                                                                                                                                             |\n|kdboJGRQZXuKYLIFMvsoJw|Boise Auto Repair Mobile Tech Auto Repair|3.5  |15          |[Hawaiian, Car Stereo Installation, Auto Detailing, Trailer Repair, Parking, Local Services, Self Storage, RV Repair, Smog Check Stations, Auto Repair, Oil Change Stations, Counseling & Mental Health, Transmission Repair, Health & Medical, Body Shops, Windshield Installation & Repair, Shopping, Auto Glass Services, Restaurants, Automotive, Tires, Roadside Assistance, Battery Stores]|\n|MpkCQTOV6D3XGRPbtQPj5Q|Pho 36                                   |4.5  |236         |[Vietnamese, Vegetarian, Noodles, Home Cleaning, Soup, Home Services, Thrift Stores, Shopping, Restaurants]                                                                                                                                                                                                                                                                                      |\n|XX2PSfT4xuHq0yuoPIge1A|Books & Brews - Zionsville               |4.0  |66          |[Breweries, Bars, Community Service/Non-Profit, Beer, Wine & Spirits, Beer Bar, Sandwiches, Food, Nightlife, Shopping, Used Bookstore, Restaurants, Local Services]                                                                                                                                                                                                                              |\n|z3Zv5di2BEok__snpopeBA|Largo Golf Course                        |4.0  |5           |[Active Life, Golf, Fish & Chips, Golf Equipment, Shopping, Restaurants, Sporting Goods]                                                                                                                                                                                                                                                                                                         |\n|ABp0BSeiYty6EpVW2ScO-w|Fleur-De-Lis Nutrition                   |4.5  |5           |[Food, Health Markets, Gluten-Free, Coffee & Tea, Juice Bars & Smoothies, Vitamins & Supplements, Restaurants, Specialty Food, Shopping]                                                                                                                                                                                                                                                         |\n|digvt_7fV-AZFwt2Fp9Z-Q|Schnucks - Loughborough                  |3.0  |25          |[Bakeries, Florists, Flowers & Gifts, Delis, Drugstores, Restaurants, Grocery, Shopping, Food]                                                                                                                                                                                                                                                                                                   |\n|IDITmPV4olLuRHdnQ9m9BQ|Katsumi's Teaching Kitchen               |5.0  |21          |[Education, Specialty Schools, Cooking Classes, Restaurants, Arts & Crafts, Cooking Schools, Shopping, Sushi Bars, Japanese]                                                                                                                                                                                                                                                                     |\n|jQBPO3rYkNwIaOdQS5ktgQ|The Fountain On Locust                   |4.5  |1010        |[Ice Cream & Frozen Yogurt, Food, American (New), Art Galleries, Shopping, Cocktail Bars, Arts & Entertainment, Restaurants, Nightlife, Chocolatiers & Shops, Specialty Food, Bars]                                                                                                                                                                                                              |\n|DVG3oqNuDZbTDe3zCUZsng|Italian Club                             |3.5  |8           |[Women's Clothing, Community Service/Non-Profit, Restaurants, Bars, Nightlife, Professional Services, Italian, Shopping, Fashion, Venues & Event Spaces, Event Planning & Services, Local Services]                                                                                                                                                                                              |\n|_O_KBH1MStcUkS1xk5pxsg|Franny Lou's Porch                       |4.5  |68          |[Coffee & Tea, Breakfast & Brunch, Books, Mags, Music & Video, Bookstores, Tea Rooms, Bagels, Shopping, Sandwiches, Restaurants, Food]                                                                                                                                                                                                                                                           |\n|g5ogvPhw3PSobtaZFkdEXg|Bittersweet Confections                  |4.5  |351         |[Cupcakes, Caterers, Food, Chocolatiers & Shops, Bakeries, Specialty Food, Breakfast & Brunch, Shopping, Desserts, Restaurants, Event Planning & Services]                                                                                                                                                                                                                                       |\n|1SQdqp3oEtDe4aQ1fGNJ5g|Assembly Food Hall                       |4.0  |66          |[Venues & Event Spaces, Event Planning & Services, Shopping, Public Markets, Restaurants, Food Court]                                                                                                                                                                                                                                                                                            |\n|FWfUki6qewYDWdMdb_gcEQ|Kroger                                   |2.0  |11          |[Shopping, Drugstores, Grocery, Flowers & Gifts, Food, Restaurants, Delis, Florists, Sandwiches]                                                                                                                                                                                                                                                                                                 |\n|yYpU8EWucx32OYIIHqP63A|Oteri's Italian Bakery | North 5th St    |2.5  |55          |[Restaurants, Shopping, Jewelry, Event Planning & Services, Desserts, Bakeries, Caterers, Food]                                                                                                                                                                                                                                                                                                  |\n|BJ0Z74sTz9sxRr1R533Inw|Best Rate Home Services                  |1.0  |5           |[Restaurants, Local Services, Movers, Home Cleaning, Home & Garden, Hardware Stores, Pizza, Junk Removal & Hauling, Shopping, Home Services]                                                                                                                                                                                                                                                     |\n|EyBlARgBUFBu6ZYS9wENyg|Schnucks Des Peres                       |4.0  |67          |[Delis, Drugstores, Flowers & Gifts, Grocery, Restaurants, Bakeries, Food, Florists, Beer, Wine & Spirits, Shopping]                                                                                                                                                                                                                                                                             |\n|LdKOAUDS7L8wj1ft3GnMmw|Health Haven Market                      |3.5  |14          |[Vegan, Gluten-Free, Specialty Food, Shopping, Health Markets, Cafes, Restaurants, Vitamins & Supplements, Food]                                                                                                                                                                                                                                                                                 |\n|pvuaumnAjI-0MBQuo_QSww|African Naturals                         |5.0  |9           |[Ethnic Food, Grocery, Shopping, Health Markets, Wholesale Stores, Beauty & Spas, Vitamins & Supplements, Restaurants, African, Cosmetics & Beauty Supply, Local Flavor, Specialty Food, Organic Stores, Food, Health & Medical, Herbal Shops]                                                                                                                                                   |\n|7A-q7-bajt0NxMy36dUfIw|The Station                              |4.0  |37          |[Restaurants, Food, Breakfast & Brunch, Vegetarian, Coffee & Tea, Art Galleries, Arts & Entertainment, Bakeries, Shopping, Jewelry]                                                                                                                                                                                                                                                              |\n|o6M6fFBHl_nsDkYxopZuuw|Main Gate Square                         |4.5  |7           |[Shopping, Shopping Centers, Restaurants]                                                                                                                                                                                                                                                                                                                                                        |\n|b6tcKm-auC0T0CK39ikNZg|Best Life Pharmacy & Restaurant          |3.0  |19          |[Soul Food, Drugstores, Shopping, Health & Medical, Nutritionists, Restaurants]                                                                                                                                                                                                                                                                                                                  |\n|Esz_uoKXBN4RJRWmtLpRlg|Sak'n Save Food Store                    |2.5  |28          |[Grocery, Drugstores, Food, Shopping, Bakeries, Flowers & Gifts, Delis, Florists, Restaurants]                                                                                                                                                                                                                                                                                                   |\n|f3umcbFgGLVUx1R7iz9Qnw|Riverside Village                        |4.5  |7           |[Local Flavor, Ice Cream & Frozen Yogurt, Coffee & Tea, Food, Shopping, Shopping Centers, Restaurants, Hair Salons, Beauty & Spas]                                                                                                                                                                                                                                                               |\n|ZB2T9dwB4vhHPsJC_4eOnw|Nordstrom                                |4.0  |24          |[Children's Clothing, Comfort Food, Fashion, Department Stores, Beauty & Spas, Women's Clothing, Restaurants, Men's Clothing, Cosmetics & Beauty Supply, Shopping]                                                                                                                                                                                                                               |\n|yfLlpU8h1plvnMgui6xwRw|The Brisket Shoppe                       |5.0  |20          |[Restaurants, Barbeque, Shopping, Grilling Equipment, Food, Home & Garden, Meat Shops, Specialty Food]                                                                                                                                                                                                                                                                                           |\n|qNXAR7i6Tb3m0J0UBurj6g|The Food Liaison                         |4.5  |84          |[Cooking Schools, Shopping, Cooking Classes, Restaurants, Caterers, Education, Cafes, Event Planning & Services, Specialty Schools, Arts & Crafts]                                                                                                                                                                                                                                               |\n|ZiQiMlvgk19GrEEkN9kyRA|The Blind Tiger Cafe - Ybor City         |4.5  |331         |[Shopping, Vegan, Vegetarian, Beer, Wine & Spirits, Sandwiches, Food, Bagels, Bakeries, Coffee & Tea, Men's Clothing, American (Traditional), Restaurants, Women's Clothing, Breakfast & Brunch, Acai Bowls, Fashion, Cafes]                                                                                                                                                                     |\n|fvnh3uojBa47ooZPyF7-2w|Wilson Famous Blue Ribbon Meats          |3.0  |6           |[Specialty Food, Meat Shops, Food, Shopping, Restaurants, Chicken Wings, Wholesale Stores]                                                                                                                                                                                                                                                                                                       |\n|bw90rjFL02A_8rVE34m5Lg|Cosmetic Solutions                       |3.5  |17          |[Cosmetic Surgeons, Pizza, Doctors, Beauty & Spas, Nail Salons, Cosmetics & Beauty Supply, Chiropractors, Shopping, Restaurants, Health & Medical]                                                                                                                                                                                                                                               |\n|n5jsPRd2flEKEzTmf3Kl3Q|SharpShooter Indoor Shooting Range       |4.5  |59          |[Restaurants, Active Life, Shopping, Guns & Ammo, Gun/Rifle Ranges, Barbeque]                                                                                                                                                                                                                                                                                                                    |\n|pxITXo8ZoSmCq05eIEN1pw|Blue Ribbon Meat & Butcher Shop          |4.5  |82          |[Seafood, Specialty Food, Butcher, Meat Shops, Food, Restaurants, Shopping, Wholesale Stores]                                                                                                                                                                                                                                                                                                    |\n|VD4Rdyj0tauBckrTYgIcpQ|The Concourse at Comcast Center          |3.0  |48          |[Restaurants, Food, Shopping Centers, Shopping]                                                                                                                                                                                                                                                                                                                                                  |\n|FrjN8iGJBqRWhLW2E1brAg|Schnucks Telegraph                       |2.0  |9           |[Florists, Flowers & Gifts, Food, Bakeries, Grocery, Delis, Restaurants, Drugstores, Shopping]                                                                                                                                                                                                                                                                                                   |\n|WK5Lzv1dte6XMm8Ov17THA|The Craft House                          |3.0  |75          |[Nightlife, American (Traditional), Pool & Billiards, Shopping, Restaurants, Pubs, Beer, Wine & Spirits, Gastropubs, Bars, Food, Beer Gardens]                                                                                                                                                                                                                                                   |\n|Zc38kNMGlzhG1sivxyXeMA|Sundial St. Pete                         |4.0  |42          |[Restaurants, Women's Clothing, Arts & Entertainment, Shopping, Men's Clothing, Fashion, Shopping Centers]                                                                                                                                                                                                                                                                                       |\n|U0zDLXmqyUwRnPrF8KCepQ|Maat Zip                                 |5.0  |7           |[Specialty Food, Wholesale Stores, Food, Ethnic Food, Restaurants, Korean, Shopping]                                                                                                                                                                                                                                                                                                             |\n|z93XuM3i7kEPmdowLQMKBA|Fifth + Broadway                         |4.5  |14          |[Restaurants, Shopping, Food Court, Fashion, Shopping Centers]                                                                                                                                                                                                                                                                                                                                   |\n|7e4Z9_qGA0Vjb8xlFC61PA|Chef Joseph Poon                         |3.0  |22          |[Ethnic Food, Local Flavor, Hotels & Travel, Cooking Classes, Chinese, Restaurants, Arts & Crafts, Tours, Arts & Entertainment, Food, Specialty Food, Shopping]                                                                                                                                                                                                                                  |\n|_XqG090bh8QAELm4GvN4iQ|Greenman's Deli                          |2.5  |18          |[Salad, Sandwiches, Eyewear & Opticians, Shopping, Delis, Restaurants]                                                                                                                                                                                                                                                                                                                           |\n|n_4gsBBkJHXn7Kg_fUx8KQ|ShopRite of Union Mill Road              |3.0  |18          |[Personal Shopping, Shopping, Food, Grocery, Bakeries, Delis, Restaurants]                                                                                                                                                                                                                                                                                                                       |\n|TIO4TylIjSenKmuzNzv0Mg|Dash of Salt 'N Pepper                   |4.5  |13          |[Indian, Cooking Classes, Arts & Crafts, Greek, Restaurants, Food, Italian, Specialty Food, Shopping, Caterers, Desserts, Event Planning & Services]                                                                                                                                                                                                                                             |\n|Q8YTUFvcSrT8a8UWxZvhxw|The Mardi Gras School of Cooking         |4.5  |70          |[Cooking Schools, Personal Chefs, Shopping, Restaurants, Education, Caterers, Event Planning & Services, Specialty Schools, Arts & Crafts, Cajun/Creole, Cooking Classes]                                                                                                                                                                                                                        |\n+----------------------+-----------------------------------------+-----+------------+-------------------------------------------------------------------------------------------------------------------------------------------------------------------------------------------------------------------------------------------------------------------------------------------------------------------------------------------------------------------------------------------------+\nonly showing top 50 rows\n\n"
     ]
    }
   ],
   "source": [
    "df_restautant_auto = spark.sql(\"\"\"\n",
    "SELECT * FROM restaurants\n",
    "WHERE ARRAY_CONTAINS(categories,'Shopping')\n",
    "\"\"\")\n",
    "print(f\"Number of restaurants also in Shopping: {df_restautant_auto.count()}\")\n",
    "df_restautant_auto.show(50, truncate=False)"
   ]
  },
  {
   "cell_type": "markdown",
   "metadata": {
    "application/vnd.databricks.v1+cell": {
     "cellMetadata": {
      "byteLimit": 2048000,
      "rowLimit": 10000
     },
     "inputWidgets": {},
     "nuid": "29e36839-c15c-4235-ad13-8374f7ddb3ae",
     "showTitle": false,
     "tableResultSettingsMap": {},
     "title": ""
    }
   },
   "source": [
    "###2B.15 Active Life\n",
    "####Decision: Exclude\n",
    "* Number of restaurants also in Active Life: 270\n",
    "* The majority of these restaurants can be considered a social club with not a strong focus on serving food. The only strong contender that we found was John’s Roast Pork with a strong focus on serving food to their customers. Therefore, we’re excluding this category."
   ]
  },
  {
   "cell_type": "code",
   "execution_count": 0,
   "metadata": {
    "application/vnd.databricks.v1+cell": {
     "cellMetadata": {
      "byteLimit": 2048000,
      "rowLimit": 10000
     },
     "inputWidgets": {},
     "nuid": "985976c5-f996-4d12-8c90-d8376cd52983",
     "showTitle": false,
     "tableResultSettingsMap": {},
     "title": ""
    }
   },
   "outputs": [
    {
     "output_type": "stream",
     "name": "stdout",
     "output_type": "stream",
     "text": [
      "Number of restaurants in Active Life included: 270\n+----------------------+--------------------------------------------+-----+------------+----------------------------------------------------------------------------------------------------+\n|           business_id|                                        name|stars|review_count|                                                                                          categories|\n+----------------------+--------------------------------------------+-----+------------+----------------------------------------------------------------------------------------------------+\n|rmHgqdVkLsGN2byesWRo0w|                              Brewster's Pub|  3.5|          12|                              [American (Traditional), Active Life, Nightlife, Bowling, Restaurants]|\n|nHUJCK-Ek_lAVTSyEz9GEQ|                    Adventure Coast Fun Park|  4.5|          10|[American (New), Restaurants, Event Planning & Services, Arts & Entertainment, Arcades, Race Trac...|\n|VK5NEKDHnZG8YcAw2JpaWw|                     Spring Hollow Golf Club|  3.0|          29|                  [Golf, Venues & Event Spaces, Event Planning & Services, Restaurants, Active Life]|\n|E9-k8aOCS2sSh9RYxvWU_A|                 Steppy's Sports Bar & Grill|  3.0|          69|[Bowling, Sports Bars, Restaurants, Bars, Mexican, American (Traditional), Active Life, Pubs, Nig...|\n|1sXN7Oxteo5dP5nwIDyO4w|                             Mainland Grille|  3.5|          27|[Burgers, Venues & Event Spaces, Diners, Restaurants, Event Planning & Services, Nightlife, Activ...|\n|C1QkJ4s_p3hMTrvOgM7ssA|                              The Enerjuicer|  3.5|         122|[Juice Bars & Smoothies, Active Life, Fitness & Instruction, Burgers, Acai Bowls, Food, Vegan, Sa...|\n|M2m_SM9GpIbct2a_hOGzag|                Daily Dish Events & Catering|  4.0|          47|[American (Traditional), Event Planning & Services, Salad, Nightlife, Active Life, Caterers, Burg...|\n|GyNGss56OYoAdg7ANI5M7A|                    Warm Springs Golf Course|  3.5|          11|                                                                    [Active Life, Restaurants, Golf]|\n|z3Zv5di2BEok__snpopeBA|                           Largo Golf Course|  4.0|           5|            [Active Life, Golf, Fish & Chips, Golf Equipment, Shopping, Restaurants, Sporting Goods]|\n|yWx7-4lHvyT0TpIO7pLA3Q|                           StarLite Sapphire|  3.5|          45|                                                 [Boating, Restaurants, American (New), Active Life]|\n|MKHJy86fkFnMAhZac6wuLw|                             Chuck E. Cheese|  2.5|          12|[Pizza, Venues & Event Spaces, Arcades, Arts & Entertainment, Event Planning & Services, Party & ...|\n|USekrAG0-4tJUs9V2gBBOQ|                                    The Honu|  4.0|         234|[Poke, Breakfast & Brunch, Parks, Mexican, Soup, Nightlife, Food, American (New), Restaurants, Ba...|\n|UmjITdXHhEF46ho6IhaGQg|                             Dave & Buster's|  2.0|         351|[Adult Entertainment, Sports Bars, Restaurants, Eatertainment, Pool Halls, Bars, Active Life, Art...|\n|fZGgthB_jgT0xd033DIMPQ|                               Kingpin Lanes|  4.0|          15|[Nightlife, Active Life, Bars, Pizza, Sports Bars, Restaurants, Bowling, Event Planning & Service...|\n|lqBurWf5LxIhUQ0HtXTu_A|                   Philadelphia Cricket Club|  4.0|          13|[Venues & Event Spaces, Restaurants, Active Life, Event Planning & Services, Sports Clubs, Beache...|\n|LmbGTYqufVQX8kWuUzO8mg|                    Tucson Trap & Skeet Club|  5.0|          13|                                                        [Active Life, Gun/Rifle Ranges, Restaurants]|\n|vUrTGX_7HxqeoQ_6QCVz6g|                                      Suraya|  4.5|        1121|[Active Life, Beer Gardens, Grocery, Middle Eastern, Specialty Food, American (New), Parks, Cafes...|\n|KNjGyORbfFuhKHRXs9JtWQ|                      Scotland Run Golf Club|  3.5|          39|[Venues & Event Spaces, Event Planning & Services, American (Traditional), Country Clubs, Active ...|\n|aRWVI7YfiFSdZLzyNgehag|                  Feather Sound Country Club|  3.5|           9|[Restaurants, Venues & Event Spaces, Event Planning & Services, Active Life, Country Clubs, Arts ...|\n|qAFVEkIEo7KLLdM4z7h-JA|        Incredible Pizza Company - St. Louis|  2.5|          89|[Arts & Entertainment, Restaurants, Buffets, Active Life, Kids Activities, Arcades, American (Tra...|\n|efou6IrwQhHAXZ0e0v0Gkw|                                   GYRO CLUB|  5.0|          21|                 [Greek, Restaurants, Sports Clubs, Arts & Entertainment, Active Life, Social Clubs]|\n|7fGsiwsL-cg4UIXWys5fNA|                 Concord Bowl and Recreation|  3.0|          27|                  [Bowling, Local Flavor, Restaurants, Active Life, Mini Golf, Batting Cages, Cafes]|\n|MWmXGQ98KbRo3vsS5nZhMA|                   Anthony's at Paxon Hollow|  3.5|          32|   [Event Planning & Services, Italian, Venues & Event Spaces, Restaurants, Active Life, Food, Golf]|\n|-4E0hSCldRJZLI-1cT38Sw|                               Smoothie King|  3.0|          13|[Food, Gluten-Free, Health & Medical, Specialty Food, American (Traditional), Active Life, Restau...|\n|skJ1w8B5YusIibyxH4ohxQ|                                Fulton Alley|  3.5|         182|[Active Life, American (New), Bowling, Lounges, Arts & Entertainment, Restaurants, Nightlife, Sou...|\n|bJLQvSbVKQ1FKCNJjFa9dg|                          Cove Cay Golf Club|  3.5|          43|[Fitness & Instruction, Event Planning & Services, Golf Lessons, American (Traditional), Venues &...|\n|hS6KNGCQVTYUdLb2edt58g|                           Steamboat Natchez|  3.5|         780|[Boat Charters, Event Planning & Services, Hotels & Travel, Boat Tours, Restaurants, Active Life,...|\n|4oh1vo3mQwhJ7lC3gtw73w|Strike & Spare Family Fun Center - Nashville|  3.5|          29|[Active Life, Bowling, Nightlife, Bars, Food Stands, Restaurants, Arts & Entertainment, Arcades, ...|\n|n5jsPRd2flEKEzTmf3Kl3Q|          SharpShooter Indoor Shooting Range|  4.5|          59|                       [Restaurants, Active Life, Shopping, Guns & Ammo, Gun/Rifle Ranges, Barbeque]|\n|ZMlqRNakFKpIfE24y8u-RA|                  Treasure Island Fun Center|  4.0|          24|[Pizza, Arcades, Active Life, Arts & Entertainment, Event Planning & Services, Amusement Parks, P...|\n|S3Kl763P-wKnDLFy0iirqA|                Gateway Entertainment Centre|  2.5|          43|[Bars, Leisure Centers, Active Life, Restaurants, Party & Event Planning, Event Planning & Servic...|\n|KDC4yE8av8-A5TxgmjjUiw|                                Fiesta Lanes|  3.0|          50|[Bowling, Amusement Parks, Active Life, Party & Event Planning, Restaurants, Event Planning & Ser...|\n|WnhA8izmpAhdYQs0m2STsA|                             Chuck E. Cheese|  3.5|          14|[Party & Event Planning, Event Planning & Services, Pizza, Venues & Event Spaces, Restaurants, Ar...|\n|_RGH0PIjwMoFaYUm2P5dKQ|                           Lombard Swim Club|  3.5|           7|                                          [Beaches, Active Life, Swimming Pools, Restaurants, Greek]|\n|Yaqg1BsxEH3iuunV4mZXNQ|                             Chuck E. Cheese|  3.0|          57|[Pizza, Arcades, American (Traditional), Arts & Entertainment, Restaurants, Indoor Playcentre, Ac...|\n|Y-lDDyIlaYqPwQkunfA-4g|                             Chuck E. Cheese|  3.0|           8|[Pizza, Restaurants, Kids Activities, Indoor Playcentre, Arcades, Active Life, Arts & Entertainment]|\n|ApcMztKwhVYYCceDX1L5qQ|              Edison's Entertainment Complex|  3.5|          88|                  [Active Life, Restaurants, Arcades, Arts & Entertainment, American (New), Bowling]|\n|tYkgqLuWjmgP6OE4hhHkRA|                  Haifa Cuisine & Hookah Bar|  3.0|         152|     [Bars, Nightlife, Food, Mediterranean, Restaurants, Hookah Bars, Active Life, Lounges, Turkish]|\n|LD6E23dXhTG29aFOMs0JGg|                             Chuck E. Cheese|  4.0|          12|[Playgrounds, Pizza, Restaurants, Kids Activities, Arts & Entertainment, Indoor Playcentre, Arcad...|\n|uasMzMp00F9azoVpqq-xOw|                                 Pin-Up Bowl|  3.0|          77|               [American (Traditional), Nightlife, Bars, Active Life, Restaurants, Bowling, Lounges]|\n|JGnMReTpqZIvgWvUrQaIpw|                               Eastside Bowl|  2.5|           8|                            [Diners, Pool Halls, Nightlife, Bowling, Restaurants, Bars, Active Life]|\n|y6-J_UjNk69VNLb39c_5CA|                      Spirit of Philadelphia|  3.0|         165|[Event Planning & Services, American (New), Venues & Event Spaces, Active Life, Boating, Boat Tou...|\n|LM54ufrINJWoTN5imV8Etw|                           John's Roast Pork|  4.5|        1564|[Sandwiches, Salad, American (Traditional), Cheesesteaks, Breakfast & Brunch, Active Life, Americ...|\n|hkfIwpKvtA6q8L7JkgDpGA|                           Laser Tag & Games|  4.0|          37|[American (Traditional), Laser Tag, Arcades, Arts & Entertainment, Active Life, Amusement Parks, ...|\n|lfftQB5UvC55aW0-HGjv-g|                           Magic Carpet Golf|  4.0|          66|[Restaurants, Arts & Entertainment, Golf, Arcades, Pizza, Mini Golf, Party & Event Planning, Acti...|\n|9PXJkRLVWd6IMPfBzdJp2Q|     El Conquistador Tucson, A Hilton Resort|  3.0|         269|[American (New), Fitness & Instruction, Resorts, Day Spas, Hotels, Restaurants, Steakhouses, Hote...|\n|41EGAPq5ckADVRe9t24A-w|                  Derrick Golf & Winter Club|  3.0|           5|                             [Active Life, Golf, Swimming Pools, Restaurants, Fitness & Instruction]|\n|YKfY2UGz7L8ZG_HMzW1_Ug|                               Joe's Kitchen|  4.5|           9|                [Hot Dogs, Fishing, Sandwiches, Nightlife, Restaurants, Beer Bar, Bars, Active Life]|\n|NxHgOhIkbET-XXKwWSqygg|       Palace Bowling & Entertainment Center|  3.5|          17|[Sports Bars, Active Life, Event Planning & Services, Bowling, Bars, Nightlife, Pizza, Party & Ev...|\n|4mSdL2rei9tsT8xwsV-BBA|                     PALM Integrative Health|  4.0|          10|[Counseling & Mental Health, Eyebrow Services, Psychiatrists, Neurologist, Skin Care, Restaurants...|\n|PFgsZA3Gxp6Ceqjd52EtOg|          D.S. Vespers Sports Pub and Eatery|  3.0|          33|[Nightlife, Active Life, Shopping, Restaurants, Bars, Sports Bars, American (New), Mini Golf, Hob...|\n|XKdtB0Oc0jKjd64Vxayv_g|                        GYMVMT  - Kensington|  2.5|          16|[Gyms, Active Life, Restaurants, Recreation Centers, Breakfast & Brunch, Fitness & Instruction, T...|\n|EdHV7lv4hYiuruLCDspAgA|                 Tucson Indoor Sports Center|  4.0|           5|[Soccer, Sports Bars, Bars, Active Life, Restaurants, American (Traditional), Nightlife, Amateur ...|\n|HuawlT4tXzCXL8ftyvCZ0Q|                                     Topgolf|  4.0|         734|                      [Golf, Sports Bars, Nightlife, Active Life, Bars, Restaurants, American (New)]|\n|OD8wx1sG9hvOizhXw-bPFQ|                                     Topgolf|  3.5|         222|                [Bars, Active Life, Restaurants, Nightlife, Golf, American (New), Sports Bars, Food]|\n|VeQDoCQmur6VG8TMvyzYUQ|                               Boost FitClub|  4.0|          20|[Active Life, Fitness & Instruction, Gymnastics, Health & Medical, Trainers, Recreation Centers, ...|\n|AGxZAzfxI-QXPLaHVd9flQ|                         OmTurtleYoga & Cafe|  5.0|           7|                  [Yoga, Food, Active Life, Fitness & Instruction, Coffee & Tea, Restaurants, Cafes]|\n|52q3_FQ5uX43IayrQS7znQ|                     Carmel Christkindlmarkt|  4.0|         256|[Arts & Entertainment, Restaurants, Skating Rinks, Festivals, Shopping, Food Stands, Public Marke...|\n|Yyn4z5ZysBDYCXfTFzflaQ|              Punch Bowl Social Indianapolis|  4.0|         649|[Active Life, Restaurants, Arts & Entertainment, Bars, Breakfast & Brunch, Beer Bar, Beer, Wine &...|\n|Z_xbp4N5MDssZxdUohybTg|                           Main Event Newark|  2.5|         140|          [Arcades, American (Traditional), Restaurants, Active Life, Bowling, Arts & Entertainment]|\n|hC9FlobGGp0G2C59WzOfFg|                                The Rec Room|  2.5|          97|     [Active Life, Arts & Entertainment, Bowling, LAN Centers, Arcades, Restaurants, Canadian (New)]|\n|W88TGPXccCsYPiLSTDjrLQ|           AirHeads Trampoline Arena - Tampa|  3.5|          90|[Event Planning & Services, Recreation Centers, Trampoline Parks, Venues & Event Spaces, Restaura...|\n|CYSPKiVdoPX3erovujnE9Q|                                Harp & Crown|  4.0|         912|[Active Life, Nightlife, Bars, American (Traditional), Bowling, Restaurants, American (New), Gast...|\n|Zofb78HMkCfyQ8S1jCmT9A|                            Libertee Grounds|  4.5|          48|[Sandwiches, Bars, Mini Golf, Pan Asian, Active Life, Salad, Nightlife, Beer Bar, Golf, Restaurants]|\n|l5bqbYQK97vp7V6cxQCYMg|        The Restaurant at Westover Golf Club|  2.5|          13|                               [Active Life, Country Clubs, Golf, Restaurants, Arts & Entertainment]|\n|Z1ircBzTaZL0ljDMwRblMQ|                       WhatSUP Paddle Sports|  3.5|           5|[Restaurants, Active Life, Food Stands, Rafting/Kayaking, Bike Rentals, Fitness & Instruction, Yo...|\n|J6xW0HTSY3_-SlEf3A1aJg|                    White Manor Country Club|  3.5|           7|[Golf, Country Clubs, Arts & Entertainment, Party & Event Planning, Restaurants, Buffets, Event P...|\n|fG3hJ6PAGVbEksgLTJZsCw|                        Yardley Country Club|  3.5|          12|[Restaurants, Social Clubs, Country Clubs, Golf, Arts & Entertainment, Event Planning & Services,...|\n|_QprVCMmF5AXubfb6L3ShQ|                               St Clair Bowl|  3.0|           7|[Arts & Entertainment, Leisure Centers, Active Life, Party & Event Planning, Event Planning & Ser...|\n|kMNvkPsY8rNpuf2M71w_Ew|            East Lake Woodlands Country Club|  2.5|          10|[Venues & Event Spaces, Swimming Pools, Sporting Goods, Golf, Tennis, Shopping, Arts & Entertainm...|\n|AgiBcv5rKdV9QIO5yF7w8g|                 Harbor of Santa Barbara Inc|  3.5|           5|                                                                 [Active Life, Restaurants, Boating]|\n|pjuH_LKDQpmEnKJLhTJByQ|                          Wolf Run Golf Club|  3.5|          38|                  [Restaurants, Golf, Active Life, Venues & Event Spaces, Event Planning & Services]|\n|9O5FMfiJIi_u81D6ksG8Ag|                                    GameTime|  3.0|         191|[Event Planning & Services, Sports Bars, Arts & Entertainment, Venues & Event Spaces, Books, Mags...|\n|JShS0H2Fh9PJOvPgIti4Og|                      Kinsmen Leisure Centre|  3.0|           9| [Recreation Centers, Swimming Pools, Breakfast & Brunch, Restaurants, Leisure Centers, Active Life]|\n|MDNDbOBk25yK7qphGMN9YQ|      Bayou Oaks at City Park - South Course|  3.0|          10|[Golf Lessons, Golf, Sporting Goods, Fitness & Instruction, Restaurants, Shopping, Golf Equipment...|\n|drSsIw6-GFLt2IMy1UNkdw|        The Restaurant At Westover Golf Club|  4.0|           8|[Sports Bars, Active Life, Party & Event Planning, Nightlife, Golf, American (Traditional), Resta...|\n|CNGE5oRnF79TGImAIC1VAQ|                      Macoby Run Golf Course|  4.5|           7|  [Event Planning & Services, Golf, Venues & Event Spaces, Active Life, Restaurants, American (New)]|\n|tyPpn-nrmlhhSJlct6WAjw|                          Jimmy's Crows Nest|  3.5|         198|[Nightlife, Active Life, American (Traditional), Tapas/Small Plates, Beaches, Bars, Restaurants, ...|\n|oFYqL4RgThCupYhumEc1KQ|                          Seminole Lanes Inc|  3.5|          37|           [Bowling, American (Traditional), Active Life, Nightlife, Restaurants, Sports Bars, Bars]|\n|jZ2aeMkMMAquRGRRg4Gv2g|                              India Sizzling|  4.0|         187|                                              [Fishing, Active Life, Pakistani, Restaurants, Indian]|\n|M4oFZszg38THXefgu-5ydg|                               Lulu's Casita|  4.5|          54|              [Preschools, Restaurants, Education, Active Life, Cafes, Kids Activities, Playgrounds]|\n|LopM4z-nUhAEpTsQkMrdPA|                    Spring Mill Country Club|  2.5|          10|[Country Clubs, Caterers, Arts & Entertainment, Party & Event Planning, Restaurants, Active Life,...|\n|WPleSelT-dnFxDnnOeOi6A|                               Emerald Lanes|  3.0|          25|    [Arcades, Pizza, Restaurants, Bowling, Arts & Entertainment, Nightlife, Active Life, Pool Halls]|\n|bpz71eysAa3JdgF1qXFa7Q|                    St Albert Bowling Centre|  3.0|           8|[Event Planning & Services, Pizza, Mini Golf, Party & Event Planning, Hobby Shops, Casinos, Resta...|\n|lh3QYUmMsx1gSnH2dYwJSg|                Brooklyn Bowl - Philadelphia|  4.0|           6|[Nightlife, Arts & Entertainment, Restaurants, American (Traditional), Venues & Event Spaces, Eve...|\n|yy6suHtRjIg3RwsNt5vstA|                         Sandpiper Golf Club|  3.5|          85|                                            [Restaurants, American (Traditional), Active Life, Golf]|\n|R0JUjyjGEzUlY3auVhY_tg|                                  North Bowl|  4.0|         484|[Restaurants, Vegan, Venues & Event Spaces, Active Life, American (Traditional), Sports Bars, Lou...|\n|cRniBePzp8nfzP6vacYD-A|                     Crescent Oaks Golf Club|  4.0|          10|[Country Clubs, Event Planning & Services, American (Traditional), Active Life, Venues & Event Sp...|\n|dn7j1FWVxccXsL2lORqlfQ|                    Tanque Verde Guest Ranch|  3.5|         114|[Horseback Riding, Hotels & Travel, Event Planning & Services, Hotels, American (Traditional), Re...|\n|B93BiuxTi4M533Ll-7XYTA|                        My Little Adventures|  4.0|          30|[Education, Playgrounds, Active Life, Restaurants, Cafes, Kids Activities, Party & Event Planning...|\n|skdfzkO2n5NjNR77QOvZow|                             Chuck E. Cheese|  3.0|          15|[Arcades, Party & Event Planning, Kids Activities, Arts & Entertainment, Restaurants, Pizza, Even...|\n|Cmo0C0TgMbY0RUlsNR2wRw|                        Mainland Golf Course|  3.5|           9|                                                    [American (New), Restaurants, Active Life, Golf]|\n|KMytEZ9j9w8Xec4kjHRgVg|                        Seascapes Beach Club|  3.5|          13|                                                  [Food, Active Life, Restaurants, Beaches, Seafood]|\n|Sfml-YTCGYKiCpLlP7dAMA|       Hillsborough State Park Poolside Cafe|  4.5|          27|       [Restaurants, Cafes, Beer, Wine & Spirits, Active Life, Rafting/Kayaking, Food, Bike Rentals]|\n|yrpbZJblFvKpXSMvj--WVQ|             Blue Cross RiverRink Winterfest|  4.0|          67|[Nightlife, Skating Rinks, Restaurants, Hotels & Travel, Event Planning & Services, Bars, Comfort...|\n|xk8Uo9ivXjafCuljbNI_4A|                          Edmonton Riverboat|  4.0|          19|[Local Flavor, Event Planning & Services, Boating, Nightlife, Buffets, Restaurants, Bars, Active ...|\n|DAnLdptD_u-FMPlCCRn6DA|                             Chuck E. Cheese|  3.5|           8|[Party & Event Planning, Event Planning & Services, Restaurants, Arts & Entertainment, Arcades, A...|\n|iGMS1iM71HLrZN3V_kqd2g|                           Lucky Strike Bowl|  3.5|          81|[Travel Services, Shopping, Nightlife, Party & Event Planning, Fashion, Hotels & Travel, Bowling,...|\n|waMeR43MNRlowsLDY02HXA|                      Charming Star Playroom|  4.5|          14|[Active Life, Cafes, Venues & Event Spaces, Event Planning & Services, Restaurants, Kids Activiti...|\n|jJL3HcGjgtcUdLub93ZxNA|                              Bike Stop Cafe|  4.0|         199|[American (New), Internet Cafes, Vegetarian, Breakfast & Brunch, Bakeries, Food, Event Planning &...|\n+----------------------+--------------------------------------------+-----+------------+----------------------------------------------------------------------------------------------------+\nonly showing top 100 rows\n\n"
     ]
    }
   ],
   "source": [
    "df_filtered_restaurants = spark.sql(\"\"\"\n",
    "SELECT *\n",
    "FROM restaurants \n",
    "WHERE ARRAY_CONTAINS(categories, 'Active Life') \n",
    "\"\"\")\n",
    "print(f\"Number of restaurants in Active Life included: {df_filtered_restaurants.count()}\")\n",
    "df_filtered_restaurants.show(100,truncate=100)"
   ]
  },
  {
   "cell_type": "markdown",
   "metadata": {
    "application/vnd.databricks.v1+cell": {
     "cellMetadata": {
      "byteLimit": 2048000,
      "rowLimit": 10000
     },
     "inputWidgets": {},
     "nuid": "19a3b53e-f368-40a2-b25c-a0f03fdca0a7",
     "showTitle": false,
     "tableResultSettingsMap": {},
     "title": ""
    }
   },
   "source": [
    "###2B.16 Beauty & Spas\n",
    "####Decision: Exclude\n",
    "* Number of restaurants also in Active Life: 62\n",
    "* Less than 10 the businesses that pull under this category have a main focus on serving food. The rest are solely focused on Beauty & Spas services; therefore, we are excluding this category because less than 15% are restaurant-oriented\n"
   ]
  },
  {
   "cell_type": "code",
   "execution_count": 0,
   "metadata": {
    "application/vnd.databricks.v1+cell": {
     "cellMetadata": {
      "byteLimit": 2048000,
      "rowLimit": 10000
     },
     "inputWidgets": {},
     "nuid": "46486b54-8f04-4f01-8766-6f40004c7008",
     "showTitle": false,
     "tableResultSettingsMap": {},
     "title": ""
    }
   },
   "outputs": [
    {
     "output_type": "stream",
     "name": "stdout",
     "output_type": "stream",
     "text": [
      "Number of restaurants in Beauty & Spas included: 62\n+----------------------+-----------------------------------------------+-----+------------+----------------------------------------------------------------------------------------------------+\n|           business_id|                                           name|stars|review_count|                                                                                          categories|\n+----------------------+-----------------------------------------------+-----+------------+----------------------------------------------------------------------------------------------------+\n|ORL4JE6tz3rJxVqkdKfegA|    Gaylord Opryland Resort & Convention Center|  3.0|        1639|[Venues & Event Spaces, Performing Arts, Arts & Entertainment, Hotels & Travel, Food, Convenience...|\n|D7Os2-9ApTGmNyzidqfwGA|              The Ritz-Carlton Spa, New Orleans|  4.0|          66|[Beauty & Spas, Restaurants, Hotels, Event Planning & Services, Day Spas, Hotels & Travel, Skin C...|\n|GZDkhotwnmGlpYUKxAwobw|                      Bullard Seafood and Grill|  3.5|          41|[Restaurants, Cafeteria, Seafood, Comfort Food, Cajun/Creole, Chinese, Barbers, American (New), B...|\n|pvuaumnAjI-0MBQuo_QSww|                               African Naturals|  5.0|           9|[Ethnic Food, Grocery, Shopping, Health Markets, Wholesale Stores, Beauty & Spas, Vitamins & Supp...|\n|PBtZNTQl5tRReeC8It1G7g|Safety Harbor Resort & Spa Trademark Collection|  3.0|         305|[Restaurants, Hotels & Travel, Hotels, Beauty & Spas, American (New), Day Spas, Event Planning & ...|\n|f3umcbFgGLVUx1R7iz9Qnw|                              Riverside Village|  4.5|           7|[Local Flavor, Ice Cream & Frozen Yogurt, Coffee & Tea, Food, Shopping, Shopping Centers, Restaur...|\n|ZB2T9dwB4vhHPsJC_4eOnw|                                      Nordstrom|  4.0|          24|[Children's Clothing, Comfort Food, Fashion, Department Stores, Beauty & Spas, Women's Clothing, ...|\n|sFQTyTiBqhTpSvyyB73iYA|                                   Oriental Chi|  3.0|          16|                                               [Massage, American (New), Beauty & Spas, Restaurants]|\n|bw90rjFL02A_8rVE34m5Lg|                             Cosmetic Solutions|  3.5|          17|[Cosmetic Surgeons, Pizza, Doctors, Beauty & Spas, Nail Salons, Cosmetics & Beauty Supply, Chirop...|\n|SSngoZZUm4EwQ7DBCsKNFA|                                  Akoi Nail Spa|  3.5|          49|                [Cafes, Nail Salons, Restaurants, Beauty & Spas, Cheesesteaks, Waxing, Hair Removal]|\n|CSCm7XPkoz72Ovfa0ugu7Q|        Maplewood Nutrition & Dietary Food Shop|  5.0|           6|[Food, Cosmetics & Beauty Supply, Specialty Food, Shopping, Health Markets, Beauty & Spas, Restau...|\n|jFAj4ZTHKukcEnFZXz2DiA|                                  Hip Hemp Cafe|  4.5|          11|[Health & Medical, Beauty & Spas, Massage Therapy, Doctors, Desserts, Restaurants, Naturopathic/H...|\n|9PXJkRLVWd6IMPfBzdJp2Q|        El Conquistador Tucson, A Hilton Resort|  3.0|         269|[American (New), Fitness & Instruction, Resorts, Day Spas, Hotels, Restaurants, Steakhouses, Hote...|\n|4mSdL2rei9tsT8xwsV-BBA|                        PALM Integrative Health|  4.0|          10|[Counseling & Mental Health, Eyebrow Services, Psychiatrists, Neurologist, Skin Care, Restaurants...|\n|n5F28lHE8-zv3roaTh248w|                                       Best Wok|  4.0|          39|                                                  [Restaurants, Chinese, Beauty & Spas, Hair Salons]|\n|Z8c0t6xPfM8u1H1ZUcWlOw|                                     Anzie Blue|  4.0|         121|[Cafes, Cocktail Bars, Cosmetics & Beauty Supply, Breakfast & Brunch, Flowers & Gifts, Bakeries, ...|\n|o-fYJMHuiQ8260PNK2QMjw|          Joseph-Jeffrey's Salon & Color Studio|  4.0|          22|                                       [Pizza, Beauty & Spas, Nail Salons, Hair Salons, Restaurants]|\n|ECmPXOHont5XlHp3zs4g4A|                                   Spa Atlantis|  4.0|         221|[Beauty & Spas, Restaurants, Hotels & Travel, Massage, Day Spas, Event Planning & Services, Arts ...|\n|fhtqwbSZLUH1s2NK2Vabvw|                          Boise Co-op North End|  4.0|         120|[Delis, Food, Cosmetics & Beauty Supply, Shopping, Beer, Wine & Spirits, Restaurants, Specialty F...|\n|drGXBdOjpY9UdSQLpZSshA|                            Gamar Family Market|  4.5|           8|[Imported Food, Herbs & Spices, Cosmetics & Beauty Supply, International Grocery, Beauty & Spas, ...|\n|mXLGdrsBTKHGx99W75sLMQ|                                  Wayne Lee, MD|  5.0|           7|[Plastic Surgeons, Doctors, Cosmetic Surgeons, Beauty & Spas, Skin Care, Restaurants, Pizza, Heal...|\n|kKfwRhExL-lwLFWF3aw3nQ|                    Omni Tucson National Resort|  3.0|         201|          [Hotels & Travel, Restaurants, Beauty & Spas, Hotels, Event Planning & Services, Day Spas]|\n|fkwnW_Ht2Rw9shAC7tTVCg|                           Omni Nashville Hotel|  3.5|         394|          [Hotels & Travel, Beauty & Spas, Day Spas, Event Planning & Services, Hotels, Restaurants]|\n|IjMs1n7UelI7ev_5IDl5kA|                                     Pho Saigon|  4.0|         419|[Coffee & Tea, Beauty & Spas, Cosmetics & Beauty Supply, Shopping, Arts & Crafts, Costumes, Resta...|\n|Qr6xtvbs_jfOKeH9Kvt-TA|                        Sassy Angels Hair Salon|  4.0|           5|                                                           [Restaurants, Beauty & Spas, Hair Salons]|\n|wyBSJFFBrzWd6WQGTl_wAA|                        Enchanted Dragon Tattoo|  4.0|          20|                                   [Tattoo, Beauty & Spas, Restaurants, Piercing, Jewelry, Shopping]|\n|w9WLlcY_mziJ6qAB6WtpsA|                       The Flying V Bar & Grill|  4.0|         152|[Restaurants, Hotels, American (Traditional), Nightlife, Bars, Beauty & Spas, Event Planning & Se...|\n|fd3Ad8E8YjsaW_tKDW8geQ|                                      TKO Grill|  4.0|          33|                                                     [Restaurants, Beauty & Spas, Barbeque, Barbers]|\n|8A5LSwsKK5vXDH1M3_Tf1w|         The Ritz-Carlton Bacara, Santa Barbara|  3.5|        1383|[Restaurants, Beauty & Spas, American (New), Event Planning & Services, Hotels, Massage, Resorts,...|\n|YwKy4rbZgMAiVy3lM5cQfw|                      North Beach Parking Plaza|  3.0|           5|                  [Automotive, Parking, Beauty & Spas, Nail Salons, Breakfast & Brunch, Restaurants]|\n|t1O2maRO9R65clkQEbMPLw|   Rolando Garcia, MD - Big Bend Pediatric Care|  1.0|           6|         [Pizza, Medical Spas, Health & Medical, Beauty & Spas, Doctors, Pediatricians, Restaurants]|\n|JDLEBMFfrF22154egA2eig|                              The Kerry Cottage|  3.5|           8|[Pets, Accessories, Food, Pet Stores, Home Decor, Restaurants, Home & Garden, Imported Food, Arts...|\n|xr9YuIfv4ZqgLTAMF1FrXw|                                    Blend Salon|  4.5|          10|[Restaurants, Beauty & Spas, Vegan, Fruits & Veggies, Specialty Food, Hair Salons, Coffee & Tea, ...|\n|RuM9hDl_E9FN5IkkJ7HPQQ|                                    Jade Garden|  3.5|         111|                                              [Beauty & Spas, Eyelash Service, Chinese, Restaurants]|\n|QM-PT8u_miuQ9bjNNs8V-Q|                                       Maritana|  4.5|         181|[Lounges, Nightlife, Restaurants, Beauty & Spas, Seafood, Mediterranean, Day Spas, American (New)...|\n|Ye_68B-0SykH-o2LZU3pzg|                                       Fazoli's|  2.5|          15|                                  [Skin Care, Italian, Beauty & Spas, Pizza, Restaurants, Fast Food]|\n|X-E_qJ1Z9tif_4FGQgs91A|                 Diamond Dominican Beauty Salon|  4.0|          17|                        [Dominican, Caribbean, Nail Salons, Restaurants, Hair Salons, Beauty & Spas]|\n|OypYjTC0zPu_lJ_SGzV4pw|                       Saddlebrook Resort Tampa|  2.5|         124|                                    [Day Spas, Beauty & Spas, Resorts, Hotels & Travel, Restaurants]|\n|X0hWkMBvDTPz2oJwkHajmg|                        Carosello Pizza & Pasta|  4.0|          15|                               [Beauty & Spas, Restaurants, Italian, Nail Salons, Sandwiches, Pizza]|\n|spcryHbDO4TPxQUSt0L2RA|                                  Myra Eyebrows|  4.0|          17|            [Beauty & Spas, Threading Services, Eyebrow Services, Hair Removal, Waxing, Restaurants]|\n|v1Uesklh8DpEufYOhTq4iA|                        Mar Monte Hotel - Hyatt|  2.5|         767|          [Hotels, Restaurants, Beauty & Spas, Hotels & Travel, Day Spas, Event Planning & Services]|\n|EtWAtnK13mftCl3TgsWyJA|                               Abode Mercantile|  4.5|          13|[Beauty & Spas, Jewelry, Home Decor, Skin Care, Home & Garden, Restaurants, Shopping, Cafes, Gift...|\n|GWFtAfYjHVR2_xXR6upJhA|                           Hat's Off Barbershop|  4.5|          13|                        [Barbers, Men's Hair Salons, Beauty & Spas, Hair Salons, Restaurants, Salad]|\n|zE2IC_ocw2dxM6Hzd4iL0g|                             Chickie's & Pete's|  2.5|         139|[Nightlife, Seafood, Beauty & Spas, Restaurants, Bars, Salad, Sports Bars, Barbers, American (Tra...|\n|YfWzms7mxcN3dG9S_bzePw|  Nadina Newman Professional Massage & Bodywork|  3.5|           7|[Naturopathic/Holistic, Doctors, Beauty & Spas, Pizza, Massage Therapy, Health & Medical, Restaur...|\n|7_2O7S0_jpKAjQp-iETYXA|                         Painted Saguaro Studio|  5.0|           6|                                                         [Tattoo, Cafes, Beauty & Spas, Restaurants]|\n|FUMp1kmo3ix5BstG-OW-8Q|                                   Blind Barber|  4.0|          23|[Beauty & Spas, Nightlife, Bars, American (Traditional), Shopping, Cosmetics & Beauty Supply, Hai...|\n|5THN_NeVZlyQ1Lx89hUAVA|                                 The Bucks Club|  4.0|          22|[Day Spas, Bars, American (Traditional), Active Life, Swimming Pools, Gyms, Beauty & Spas, Venues...|\n|AepXVHWAt36xmgS__ZP4eg|                     Fantastic Sams Hair Salons|  2.5|           5|                                      [Restaurants, Barbers, Hair Salons, Beauty & Spas, Sandwiches]|\n|Gd52kRpEyLdQvUyO3I-3JA|                              Ybor Metro Market|  3.0|           6|[Sandwiches, Food, Convenience Stores, Restaurants, Delis, Juice Bars & Smoothies, Nail Technicia...|\n|KnINy50lEEU1GIVC3nPF8Q|                                In-N-Out Burger|  4.0|          76|                                                    [Fast Food, Restaurants, Burgers, Beauty & Spas]|\n|vqXp8x5uCQYocaOMlGvJlg|                                        SEPHORA|  3.5|          63|                          [Restaurants, Shopping, Perfume, Beauty & Spas, Cosmetics & Beauty Supply]|\n|qKBl5djlvC0aww_-IvREng|                 Natural Detox Nutrition Shoppe|  3.5|           5|[Health & Medical, Beauty & Spas, Food, Specialty Food, Medical Spas, Vegan, Restaurants, Health ...|\n|7hzOeTR46RxhOwZezsZ4Lg|                           Bottleworks District|  4.5|          20|[Barbers, Public Markets, Beauty & Spas, Food Stands, Shopping, Restaurants, Hotels, Event Planni...|\n|dAZASdppYH5DQvXLlzGiow|                                  Society Table|  3.0|         101|                   [Breakfast & Brunch, Day Spas, Restaurants, Cafes, Beauty & Spas, American (New)]|\n|XTVlIRK2X9XYGCv-1OiaFw|                   King and Queen Massage & Spa|  4.0|          45|[Reflexology, American (New), Health & Medical, Beauty & Spas, Massage, Restaurants, Day Spas, Ma...|\n|sai0d8BqmAoOL73XGZ4i6w|                               Inn at the Villa|  3.5|          21|[Day Spas, Guest Houses, Restaurants, Event Planning & Services, Beauty & Spas, Hotels & Travel, ...|\n|mKqlE-HZViEz6v5OWBMBEA|                    Loews Ventana Canyon Resort|  3.5|         369|          [Restaurants, Event Planning & Services, Day Spas, Hotels & Travel, Beauty & Spas, Hotels]|\n|9VTCalrSzAyVDcf-6gDIZw|                                   Thai Day Spa|  5.0|          27|[Beauty & Spas, Skin Care, Hair Removal, Massage, Waxing, Makeup Artists, Restaurants, Reflexolog...|\n|bErZNO33F5Bb2Gtdm-utCw|                                  The Don CeSar|  3.5|         521|[Hotels & Travel, Hotels, Event Planning & Services, Beauty & Spas, Venues & Event Spaces, Restau...|\n|7McQCpcpjyAA_TaQPlsirg|                             Miller's Ale House|  3.0|         362|[Beauty & Spas, Massage, Hair Salons, Restaurants, Nightlife, Bars, Day Spas, Sports Bars, Americ...|\n|l_mx_q740TLKBPCMa_mtJw|                                     Thai Spice|  4.0|         467|                                                 [Thai, Restaurants, Diners, Massage, Beauty & Spas]|\n+----------------------+-----------------------------------------------+-----+------------+----------------------------------------------------------------------------------------------------+\n\n"
     ]
    }
   ],
   "source": [
    "df_filtered_restaurants = spark.sql(\"\"\"\n",
    "SELECT *\n",
    "FROM restaurants \n",
    "WHERE ARRAY_CONTAINS(categories, 'Beauty & Spas') \n",
    "\"\"\")\n",
    "print(f\"Number of restaurants in Beauty & Spas included: {df_filtered_restaurants.count()}\")\n",
    "df_filtered_restaurants.show(100,truncate=100)"
   ]
  },
  {
   "cell_type": "markdown",
   "metadata": {
    "application/vnd.databricks.v1+cell": {
     "cellMetadata": {
      "byteLimit": 2048000,
      "rowLimit": 10000
     },
     "inputWidgets": {},
     "nuid": "477e0e9d-a3bc-49e5-8eee-ad180514477d",
     "showTitle": false,
     "tableResultSettingsMap": {},
     "title": ""
    }
   },
   "source": [
    "###2B.17 Education\n",
    "####Decision: Exclude\n",
    "* Number of restaurants also in Active Life: 42\n",
    "* About 2 businesses that we found were restaurant dominant: Panda Express and Versi Vino while the rest are focused on providing cooking classes. Therefore, this category will be excluded\n"
   ]
  },
  {
   "cell_type": "code",
   "execution_count": 0,
   "metadata": {
    "application/vnd.databricks.v1+cell": {
     "cellMetadata": {
      "byteLimit": 2048000,
      "rowLimit": 10000
     },
     "inputWidgets": {},
     "nuid": "6e83dbf8-8914-462d-bab1-28ab76e3a66d",
     "showTitle": false,
     "tableResultSettingsMap": {},
     "title": ""
    }
   },
   "outputs": [
    {
     "output_type": "stream",
     "name": "stdout",
     "output_type": "stream",
     "text": [
      "Number of restaurants in Education included: 42\n+----------------------+-----------------------------------------------------+-----+------------+----------------------------------------------------------------------------------------------------+\n|           business_id|                                                 name|stars|review_count|                                                                                          categories|\n+----------------------+-----------------------------------------------------+-----+------------+----------------------------------------------------------------------------------------------------+\n|qmxmUc4xzNt3ogaZLH8Eiw|                                           Versi Vino|  5.0|          60|[Restaurants, American (New), Wine Tasting Classes, Beer, Wine & Spirits, Food, Education, Italia...|\n|IDITmPV4olLuRHdnQ9m9BQ|                           Katsumi's Teaching Kitchen|  5.0|          21|[Education, Specialty Schools, Cooking Classes, Restaurants, Arts & Crafts, Cooking Schools, Shop...|\n|h8iDZcXLDicI_Wg8fwl-ig|                                 Ybor City Food Tours|  4.5|          15|[Cuban, Restaurants, Food Tours, Yelp Events, Tours, Educational Services, Hotels & Travel, Educa...|\n|qNXAR7i6Tb3m0J0UBurj6g|                                     The Food Liaison|  4.5|          84|[Cooking Schools, Shopping, Cooking Classes, Restaurants, Caterers, Education, Cafes, Event Plann...|\n|Q8YTUFvcSrT8a8UWxZvhxw|                     The Mardi Gras School of Cooking|  4.5|          70|[Cooking Schools, Personal Chefs, Shopping, Restaurants, Education, Caterers, Event Planning & Se...|\n|Q0bwND_jdenW29uQ4z7ugg|                                          Cornerstone|  4.0|          63|[French, Restaurants, Tasting Classes, Cheese Shops, Breakfast & Brunch, Beer, Wine & Spirits, Am...|\n|_YHdVT1inpWzMU0FVjzgJg|                               The Sommelier Hideaway|  5.0|          11|[Tasting Classes, Wineries, Restaurants, Wine Tasting Room, Food, Bars, Tapas/Small Plates, Night...|\n|_30PYsnQuGax9SbSnVL0-A|                                             Mr China|  4.0|           5|                     [Restaurants, Chinese, Preschools, Education, Elementary Schools, Asian Fusion]|\n|28Q07HstcPUjj_WaqI-8DA|                                      Ocho's Wine Bar|  5.0|           9|[Nightlife, Wine Bars, Education, Specialty Schools, Bars, Dance Schools, Restaurants, Dance Club...|\n|69p9xp4x2VruElIdR2nK9A|                                         Indy VegFest|  4.0|          31|[Adult Education, Vegan, Local Flavor, Education, Festivals, Yelp Events, Restaurants, Arts & Ent...|\n|gm4cW6bfnr33jOnh7V95GQ|                        Nothing To It Culinary Center|  4.5|          89|[Event Planning & Services, Specialty Schools, Home & Garden, Education, Caterers, Kitchen & Bath...|\n|sZHLbLnw1vwHF1xDzuV1iw|             Foley Food and Wine Society Tasting Room|  4.5|          11|[Wine Tasting Room, Tasting Classes, Bars, Wineries, Wine Bars, Tours, Food, Education, Wine Tast...|\n|evV6MdUu2ku9xVYf1i_skA|                                        The Cork Room|  4.0|           5|[Education, Wine Tasting Classes, Tasting Classes, Bars, Nightlife, Cheese Shops, Food, Beverage ...|\n|0XEjPw4url15RHk-qrcbHg|                          In My Grandmother's Kitchen|  5.0|           6|[Adult Education, Education, Specialty Schools, Food, Comfort Food, Arts & Crafts, Restaurants, C...|\n|M4oFZszg38THXefgu-5ydg|                                        Lulu's Casita|  4.5|          54|              [Preschools, Restaurants, Education, Active Life, Cafes, Kids Activities, Playgrounds]|\n|wBo_8-g29R29-1QVWYu7uQ|                                          ABC Permits|  5.0|          10|                                  [Restaurants, Education, Professional Services, Specialty Schools]|\n|x7gEX6dthpJvoOafV1XHaA|                                                 Cook|  4.5|          50|[Adult Education, Specialty Schools, Kitchen Supplies, Restaurants, Cooking Schools, Education, K...|\n|b-XcM-IyX0mNDlGC41jrPQ|                                         iCreate Cafe|  4.5|         107|[Vegan, Educational Services, Education, Private Tutors, Coffee & Tea, Cafes, Tutoring Centers, R...|\n|B93BiuxTi4M533Ll-7XYTA|                                 My Little Adventures|  4.0|          30|[Education, Playgrounds, Active Life, Restaurants, Cafes, Kids Activities, Party & Event Planning...|\n|5K2qgkNYUo7wlAckztmngA|                                    Sip St Pete Beach|  5.0|          17|[Restaurants, Nightlife, Education, Wine Tasting Classes, Tasting Classes, Food, Wine Bars, Bars,...|\n|EKJ_PRhJx6gyDlcppRIofQ|                                       Olive and Vyne|  5.0|          25|[Education, Flowers & Gifts, Health Markets, Gluten-Free, Grocery, Herbs & Spices, Restaurants, S...|\n|ppgoocYga1HPYL6lsIZvnw|                                       Bistro Perrier|  4.0|          77|[Colleges & Universities, Bars, Specialty Schools, Cooking Classes, Food, Mediterranean, American...|\n|NMoB0LogwnIkQl1fubRs0w|                                   The Gallery Grille|  3.0|          18|[Venues & Event Spaces, Active Life, Education, Wedding Planning, American (Traditional), Tasting...|\n|D71b7ktwXX3BwAY3-rk8fw|                                        Panda Express|  3.0|          42|                                                        [Restaurants, Fast Food, Education, Chinese]|\n|sitve7-2mPUQQ2bV8jLCRg|                        New Orleans School of Cooking|  4.5|         525|                [Hotels & Travel, Cooking Schools, Restaurants, Tours, Specialty Schools, Education]|\n|d6gc4ADgKZmDtMy_P40nVw|                                    Haneeda's Kitchen|  5.0|          16|[Education, Cooking Schools, Indian, Specialty Schools, Do-It-Yourself Food, Food, Specialty Food...|\n|z-BMYKp2XjdNdUArwj2BPw|                                          Loomen Labs|  4.5|           6|[Gift Shops, Candle Stores, Restaurants, Art Classes, Event Planning & Services, Shopping, Flower...|\n|3BhUBNiHrLYO48n7PYlepw|                                   Traditions at TCNJ|  1.5|           6|              [Restaurants, Education, Educational Services, American (Traditional), American (New)]|\n|zD4zXTjTaUKtD3J_Zp8mWw|                                             Langlois|  4.5|          57|[Food Tours, Local Flavor, Venues & Event Spaces, Education, Specialty Schools, Cajun/Creole, Foo...|\n|dYu1jfKGyz7u-Mks4BhcXg|                                    The Flavor Studio|  4.5|           9|[Beer, Wine & Spirits, Food, Bars, Specialty Food, Nightlife, Beverage Store, Tapas/Small Plates,...|\n|8fo0qqOnUaHwJcue2KkQ2A|                                  Moccia's Train Stop|  4.0|          94|                                                [Education, Pizza, Italian, Restaurants, Sandwiches]|\n|3aOvhh2lSwDiq1MtQLHoDA|                                      Academic Bistro|  5.0|           6|[Event Planning & Services, Restaurants, Education, Venues & Event Spaces, Colleges & Universitie...|\n|YwkYSoViGv2R1-dYpzbebA|                                       Courses Bakery|  4.0|          19|                            [Restaurants, Education, Food, Cafes, Colleges & Universities, Bakeries]|\n|aPs-Pf4_CLWcFQcMnbfcUw|                  WINO  Wine Institute of New Orleans|  4.5|         235|[Wineries, Arts & Entertainment, Beer, Wine & Spirits, Education, Bars, Nightlife, Specialty Scho...|\n|GPLioj0TJ7oM8-IuF1vKdQ|SUB - Student Union Building at University of Alberta|  3.5|          14|[Professional Services, Internet Service Providers, Shopping, Lounges, Restaurants, Education, Ni...|\n|NKHiFAO78E_ty7xpK_gVKw|     The Restaurant at JNA Institute of Culinary Arts|  4.0|          61|[American (Traditional), Caterers, Cooking Schools, Specialty Schools, Education, Event Planning ...|\n|mShRkXrlpWJMkTz0dWj5VA|                    Vituperio Artisan Breads & Studio|  5.0|           5|[Education, Specialty Schools, Breakfast & Brunch, Bakeries, Shopping, Team Building Activities, ...|\n|w4BzWRJ3xh0uRBvfqo28RA|                                    Happy Hangar Cafe|  4.0|         143|[Education, Burgers, Cafes, Specialty Schools, Tours, Breakfast & Brunch, Flight Instruction, Hot...|\n|1toUQtH6rP-DmAQUJB7PYg|       The National Shrine of Our Lady of Czestochowa|  4.5|           7|[Shopping, Restaurants, Polish, Community Service/Non-Profit, Churches, Religious Organizations, ...|\n|OiQuTy4dVZbbtnNIRKv1EA|                                         SharpShooter|  4.0|           8|                          [Restaurants, Special Education, Active Life, Gun/Rifle Ranges, Education]|\n|JbY3ToYmjkvk79LxQWYI_g|                                          Dinner Done|  4.5|          28|[Food, Food Delivery Services, Fast Food, Cooking Schools, Diners, Restaurants, Event Planning & ...|\n|shY04R-JPKuAX0hCyHBrbA|                                    Haverford College|  4.5|          18|[Diners, Education, Libraries, Restaurants, Hiking, Active Life, Public Services & Government, Co...|\n+----------------------+-----------------------------------------------------+-----+------------+----------------------------------------------------------------------------------------------------+\n\n"
     ]
    }
   ],
   "source": [
    "df_filtered_restaurants = spark.sql(\"\"\"\n",
    "SELECT *\n",
    "FROM restaurants \n",
    "WHERE ARRAY_CONTAINS(categories, 'Education') \n",
    "\"\"\")\n",
    "print(f\"Number of restaurants in Education included: {df_filtered_restaurants.count()}\")\n",
    "df_filtered_restaurants.show(100,truncate=100)"
   ]
  },
  {
   "cell_type": "markdown",
   "metadata": {
    "application/vnd.databricks.v1+cell": {
     "cellMetadata": {
      "byteLimit": 2048000,
      "rowLimit": 10000
     },
     "inputWidgets": {},
     "nuid": "1c0c67c3-133f-49ac-9bab-963ffc1224eb",
     "showTitle": false,
     "tableResultSettingsMap": {},
     "title": ""
    }
   },
   "source": [
    "###2B.18 Health & Medical\n",
    "####Decision: Exclude\n",
    "* Number of restaurants also in Health & Medical: 56\n",
    "* Many of these establishments are health/fitness/drug/cosmetic stores. Though they sell some food products as well, their primary focus is not food. There are also no options to dine-in. There’s also not enough data, so excluding these would not skew the result.\n"
   ]
  },
  {
   "cell_type": "code",
   "execution_count": 0,
   "metadata": {
    "application/vnd.databricks.v1+cell": {
     "cellMetadata": {
      "byteLimit": 2048000,
      "rowLimit": 10000
     },
     "inputWidgets": {},
     "nuid": "6b15ecca-8e62-4572-8add-f8ef096cfecc",
     "showTitle": false,
     "tableResultSettingsMap": {},
     "title": ""
    }
   },
   "outputs": [
    {
     "output_type": "stream",
     "name": "stdout",
     "output_type": "stream",
     "text": [
      "Number of restaurants also in Health & Medical: 56\n+----------------------+---------------------------------------------+-----+------------+-------------------------------------------------------------------------------------------------------------------------------------------------------------------------------------------------------------------------------------------------------------------------------------------------------------------------------------------------------------------------------------------------+\n|business_id           |name                                         |stars|review_count|categories                                                                                                                                                                                                                                                                                                                                                                                       |\n+----------------------+---------------------------------------------+-----+------------+-------------------------------------------------------------------------------------------------------------------------------------------------------------------------------------------------------------------------------------------------------------------------------------------------------------------------------------------------------------------------------------------------+\n|kdboJGRQZXuKYLIFMvsoJw|Boise Auto Repair Mobile Tech Auto Repair    |3.5  |15          |[Hawaiian, Car Stereo Installation, Auto Detailing, Trailer Repair, Parking, Local Services, Self Storage, RV Repair, Smog Check Stations, Auto Repair, Oil Change Stations, Counseling & Mental Health, Transmission Repair, Health & Medical, Body Shops, Windshield Installation & Repair, Shopping, Auto Glass Services, Restaurants, Automotive, Tires, Roadside Assistance, Battery Stores]|\n|Ho0uAnaLL57On7enESYfeA|Imo's Pizza                                  |2.5  |22          |[Health & Medical, Pizza, Restaurants, Chiropractors]                                                                                                                                                                                                                                                                                                                                            |\n|_JNRKX9qdBTHLKtAl7dbWg|Botanicals Nola                              |5.0  |25          |[Health & Medical, Restaurants, Juice Bars & Smoothies, Acai Bowls, Salad, Vegan, Food, Herbal Shops]                                                                                                                                                                                                                                                                                            |\n|pvuaumnAjI-0MBQuo_QSww|African Naturals                             |5.0  |9           |[Ethnic Food, Grocery, Shopping, Health Markets, Wholesale Stores, Beauty & Spas, Vitamins & Supplements, Restaurants, African, Cosmetics & Beauty Supply, Local Flavor, Specialty Food, Organic Stores, Food, Health & Medical, Herbal Shops]                                                                                                                                                   |\n|b6tcKm-auC0T0CK39ikNZg|Best Life Pharmacy & Restaurant              |3.0  |19          |[Soul Food, Drugstores, Shopping, Health & Medical, Nutritionists, Restaurants]                                                                                                                                                                                                                                                                                                                  |\n|-4E0hSCldRJZLI-1cT38Sw|Smoothie King                                |3.0  |13          |[Food, Gluten-Free, Health & Medical, Specialty Food, American (Traditional), Active Life, Restaurants, Health Markets, Juice Bars & Smoothies]                                                                                                                                                                                                                                                  |\n|bw90rjFL02A_8rVE34m5Lg|Cosmetic Solutions                           |3.5  |17          |[Cosmetic Surgeons, Pizza, Doctors, Beauty & Spas, Nail Salons, Cosmetics & Beauty Supply, Chiropractors, Shopping, Restaurants, Health & Medical]                                                                                                                                                                                                                                               |\n|oIgTezEZ197Hv6nOvO1V3g|All Pediatrics                               |1.5  |6           |[Health & Medical, Restaurants, Pediatricians, Doctors, Pizza]                                                                                                                                                                                                                                                                                                                                   |\n|jFAj4ZTHKukcEnFZXz2DiA|Hip Hemp Cafe                                |4.5  |11          |[Health & Medical, Beauty & Spas, Massage Therapy, Doctors, Desserts, Restaurants, Naturopathic/Holistic, Internet Cafes, Massage, Food, Cafes, Coffee & Tea, Cannabis Dispensaries, Shopping, Vape Shops, Cannabis Clinics, Vitamins & Supplements]                                                                                                                                             |\n|BtPJ9tdNy9rGLSnax9Iu5g|Publix                                       |3.0  |23          |[Food, Grocery, Pharmacy, Delis, Restaurants, Health & Medical]                                                                                                                                                                                                                                                                                                                                  |\n|gd22TmYLmbrgW6XEkffvHQ|Paleo on the Go                              |4.0  |30          |[Restaurants, Health & Medical, Food Delivery Services, Health Markets, Specialty Food, Nutritionists, American (New), Food, Do-It-Yourself Food]                                                                                                                                                                                                                                                |\n|4mSdL2rei9tsT8xwsV-BBA|PALM Integrative Health                      |4.0  |10          |[Counseling & Mental Health, Eyebrow Services, Psychiatrists, Neurologist, Skin Care, Restaurants, Massage, Doctors, Fitness & Instruction, Beauty & Spas, Medical Spas, Active Life, Health & Medical, Cafes, Family Practice]                                                                                                                                                                  |\n|2YowFoVtjOiZftrCldUyWA|Fit-Flavors                                  |4.0  |46          |[Caterers, Event Planning & Services, Dietitians, Live/Raw Food, Food, Health & Medical, Gluten-Free, Restaurants, Health Markets, Food Delivery Services, Specialty Food, Nutritionists]                                                                                                                                                                                                        |\n|VeQDoCQmur6VG8TMvyzYUQ|Boost FitClub                                |4.0  |20          |[Active Life, Fitness & Instruction, Gymnastics, Health & Medical, Trainers, Recreation Centers, Yoga, Restaurants, Pilates, Gyms, Nutritionists, Sports Clubs, Medical Centers]                                                                                                                                                                                                                 |\n|5BS1x4un3qHfEwaLFMdn8A|China Town                                   |3.0  |5           |[Traditional Chinese Medicine, Shopping, Health & Medical, Chinese, Restaurants]                                                                                                                                                                                                                                                                                                                 |\n|3rOPYx_j9bbNztlxuh2wDA|Fitlife Foods - South Tampa                  |4.0  |85          |[Food, Cafes, Health & Medical, Nutritionists, Restaurants, Specialty Food, Health Markets]                                                                                                                                                                                                                                                                                                      |\n|EcizLNGcBBg8xZo0uVaZdg|Kenneth A Murachanian, MD                    |3.5  |6           |[Pizza, Doctors, Internal Medicine, Restaurants, Health & Medical]                                                                                                                                                                                                                                                                                                                               |\n|amBwpJZQb0CcEdBdKlO5Rg|Kroger                                       |3.0  |17          |[Drugstores, Shopping, Restaurants, Grocery, Delis, Sandwiches, Florists, Flowers & Gifts, Pharmacy, Food, Health & Medical]                                                                                                                                                                                                                                                                     |\n|mXLGdrsBTKHGx99W75sLMQ|Wayne Lee, MD                                |5.0  |7           |[Plastic Surgeons, Doctors, Cosmetic Surgeons, Beauty & Spas, Skin Care, Restaurants, Pizza, Health & Medical, Medical Spas]                                                                                                                                                                                                                                                                     |\n|ep09icFoD0AV6R78F7v4Eg|IU Health Methodist Hospital                 |2.5  |68          |[Osteopaths, Health & Medical, Medical Centers, Hospitals, Restaurants]                                                                                                                                                                                                                                                                                                                          |\n|WC5Nu5fg2a308gJ_2ar4Vg|TriLIFE Nutrition                            |5.0  |5           |[Juice Bars & Smoothies, Health & Medical, Specialty Food, Restaurants, Acai Bowls, Food, Health Markets, Fast Food, Nutritionists]                                                                                                                                                                                                                                                              |\n|1Cm3f1ys5_sBRUBTFECnww|Weis Markets                                 |3.0  |13          |[Shopping, Food, Sushi Bars, Japanese, Health & Medical, Drugstores, Pharmacy, Restaurants, Grocery]                                                                                                                                                                                                                                                                                             |\n|0jDPdf7kIkjZuNDNVH8Qew|eat.drink.Om...YOGA CAFE                     |5.0  |7           |[Yoga, Cafes, Fitness & Instruction, Active Life, Restaurants, Massage Therapy, Health & Medical]                                                                                                                                                                                                                                                                                                |\n|CQfIbhfIufT5M2BMYyeYTw|Saffron Cafe                                 |4.0  |327         |[Mediterranean, Shopping, Cooking Classes, Nutritionists, Restaurants, Moroccan, Arts & Crafts, Health & Medical]                                                                                                                                                                                                                                                                                |\n|q6--GFTgJBf1c3hwFaJ-Ew|Fitlife Foods - Countryside                  |4.0  |22          |[Grocery, Health & Medical, Restaurants, Nutritionists, Health Markets, Specialty Food, Food]                                                                                                                                                                                                                                                                                                    |\n|zN1nWYBHTL4T4onTRoqE6g|Children's Hospital of Philadelphia Cafeteria|3.5  |28          |[Food, Health & Medical, Hospitals, Restaurants, Cafes]                                                                                                                                                                                                                                                                                                                                          |\n|eBxc95u_Gcs9bLST0UntOQ|Santa Barbara Chicken Ranch                  |4.0  |378         |[Health & Medical, Restaurants, Mexican, Cannabis Clinics, Barbeque]                                                                                                                                                                                                                                                                                                                             |\n|jHoXH1jYpFRJjOsQC0wwmQ|ShopRite of Fox Street                       |3.0  |52          |[Pharmacy, Health & Medical, Grocery, Food, Beer, Wine & Spirits, Restaurants, Delis]                                                                                                                                                                                                                                                                                                            |\n|t1O2maRO9R65clkQEbMPLw|Rolando Garcia, MD - Big Bend Pediatric Care |1.0  |6           |[Pizza, Medical Spas, Health & Medical, Beauty & Spas, Doctors, Pediatricians, Restaurants]                                                                                                                                                                                                                                                                                                      |\n|b2NYyx-BqwNHgOC5RnXzmw|Original Thought                             |5.0  |23          |[Restaurants, Gluten-Free, Burgers, Food, Health Markets, Herbal Shops, Wraps, Health & Medical, Vegan, Food Trucks, Specialty Food]                                                                                                                                                                                                                                                             |\n|0FIfHHrNbcc_hXbCjhU8HQ|Au Bon Pain                                  |2.5  |61          |[Food, Coffee & Tea, Sandwiches, Health & Medical, Hospitals, Restaurants]                                                                                                                                                                                                                                                                                                                       |\n|Qfhf_0TSTL_ezoUVBUVk5A|Boise Juice Company                          |4.5  |66          |[Food, Breakfast & Brunch, Nutritionists, Vegan, Juice Bars & Smoothies, Soup, Health & Medical, Acai Bowls, Vegetarian, Restaurants]                                                                                                                                                                                                                                                            |\n|a-oshK5drqQfSgLYvmwOKA|Healthy Habits Nutrition                     |4.0  |23          |[Juice Bars & Smoothies, Salad, Health & Medical, Food, Restaurants, Nutritionists]                                                                                                                                                                                                                                                                                                              |\n|R5ycR4CZc1mNdxDtY2PYAw|Sunset Moon Wellness Center - Superfoods Cafe|5.0  |13          |[Cafes, Doctors, Yoga, Kombucha, Herbs & Spices, Specialty Food, Vegan, Food, Active Life, Restaurants, Coffee & Tea, Fitness & Instruction, Health & Medical, Naturopathic/Holistic, Gluten-Free]                                                                                                                                                                                               |\n|qq0A_V6VDrrNv3ysThskig|ShopRite of Brooklawn                        |2.0  |19          |[Pharmacy, Bakeries, Delis, Grocery, Health & Medical, Restaurants, Food]                                                                                                                                                                                                                                                                                                                        |\n|Jg9kkOl4sx2AXJVohbpSiw|South Philly Barbacoa                        |4.5  |593         |[Barbeque, Coffee & Tea, Mexican, Cannabis Clinics, Event Planning & Services, Personal Chefs, Restaurants, Juice Bars & Smoothies, Food, Health & Medical]                                                                                                                                                                                                                                      |\n|_CatY2VC230AGI0cWzEmxQ|Main Street Nutrition                        |4.0  |7           |[Restaurants, Breakfast & Brunch, Nutritionists, Juice Bars & Smoothies, Gyms, Active Life, Vegetarian, Food, Fitness & Instruction, Health & Medical]                                                                                                                                                                                                                                           |\n|JGVcrMpcaK6Wk0SEJLMx7w|Fit-Flavors                                  |4.5  |33          |[Food, Dietitians, Health Markets, Fast Food, Vegetarian, Health & Medical, Restaurants, Event Planning & Services, Caterers, Fruits & Veggies, Specialty Food, Nutritionists, Food Delivery Services, Gluten-Free]                                                                                                                                                                              |\n|uVri4t3oyA7gqbX5q7_0LA|El Balconcito                                |3.5  |59          |[Peruvian, Portuguese, Dentists, Restaurants, General Dentistry, Health & Medical, Nightlife, Cocktail Bars, Bars, Iberian]                                                                                                                                                                                                                                                                      |\n|73drilWC1i5ZwiH5Y6JxFw|SIMPLICITY Cold Pressed Juice                |5.0  |25          |[Specialty Food, Health Markets, Health & Medical, Weight Loss Centers, Food, Live/Raw Food, Juice Bars & Smoothies, Restaurants]                                                                                                                                                                                                                                                                |\n|HtWJVjBrlFFQ_9q0B-5RQQ|Vons                                         |2.5  |74          |[Food, Restaurants, Florists, Flowers & Gifts, Bakeries, Health & Medical, Pharmacy, Shopping, Grocery, Drugstores]                                                                                                                                                                                                                                                                              |\n|MEhkXOeLwdbSZgCIpDVftg|Schnucks - Arsenal                           |3.5  |50          |[Food Delivery Services, Shopping, Delis, Restaurants, Health & Medical, Drugstores, Bakeries, Florists, Grocery, Flowers & Gifts, Food, Pharmacy]                                                                                                                                                                                                                                               |\n|suLbqscI9St5H8BaGZmIyQ|Claybrooke Commons Kroger                    |4.0  |28          |[Department Stores, Restaurants, Health & Medical, Automotive, Shopping, Fashion, Financial Services, Food, Pharmacy, Grocery, Gas Stations, Salad]                                                                                                                                                                                                                                              |\n|YfWzms7mxcN3dG9S_bzePw|Nadina Newman Professional Massage & Bodywork|3.5  |7           |[Naturopathic/Holistic, Doctors, Beauty & Spas, Pizza, Massage Therapy, Health & Medical, Restaurants, Massage]                                                                                                                                                                                                                                                                                  |\n|zsBpKQiGTgMdfsRcyuSbgA|Fit-Flavors                                  |4.5  |25          |[Nutritionists, Health & Medical, Restaurants, Food Delivery Services, Do-It-Yourself Food, Specialty Food, Event Planning & Services, Food, Dietitians, Salad, Gluten-Free, Health Markets, Caterers]                                                                                                                                                                                           |\n|D9bwQb0M2iA71ws7l7fnaw|Herculean Meal Prep                          |4.5  |25          |[Restaurants, American (Traditional), Nutritionists, Specialty Food, Food, Weight Loss Centers, Health & Medical, Grocery, Food Delivery Services, Health Markets]                                                                                                                                                                                                                               |\n|LxzpsgphqkfKAGNk0n6jMQ|The Smoothie Bar                             |4.5  |8           |[Nutritionists, Juice Bars & Smoothies, Dietitians, Health Markets, Restaurants, Specialty Food, Gluten-Free, Food, Health & Medical]                                                                                                                                                                                                                                                            |\n|46YjLxRCY_3OFbMfWKXWxw|Puccini's Pizza Pasta - Fishers              |3.5  |141         |[Health & Medical, Dentists, Pizza, Italian, Oral Surgeons, Restaurants, Gluten-Free]                                                                                                                                                                                                                                                                                                            |\n|_sOrrftHYAgEi0Y2KV89hw|Advanced Open MRI of Tucson                  |4.5  |5           |[Diagnostic Imaging, Diagnostic Services, Pizza, Restaurants, Doctors, Chiropractors, Radiologists, Health & Medical]                                                                                                                                                                                                                                                                            |\n|uXxrl2LRH2mB1uw0GJF4GA|Indo-China Market                            |3.5  |69          |[British, International Grocery, Grocery, Food, Ethnic Food, Herbal Shops, Restaurants, Health Markets, Specialty Food, Health & Medical]                                                                                                                                                                                                                                                        |\n+----------------------+---------------------------------------------+-----+------------+-------------------------------------------------------------------------------------------------------------------------------------------------------------------------------------------------------------------------------------------------------------------------------------------------------------------------------------------------------------------------------------------------+\nonly showing top 50 rows\n\n"
     ]
    }
   ],
   "source": [
    "df_restautant_health = spark.sql(\"\"\"\n",
    "SELECT * FROM restaurants\n",
    "WHERE ARRAY_CONTAINS(categories,'Health & Medical')\n",
    "\"\"\")\n",
    "print(f\"Number of restaurants also in Health & Medical: {df_restautant_health.count()}\")\n",
    "df_restautant_health.show(50, truncate=False)"
   ]
  },
  {
   "cell_type": "markdown",
   "metadata": {
    "application/vnd.databricks.v1+cell": {
     "cellMetadata": {
      "byteLimit": 2048000,
      "rowLimit": 10000
     },
     "inputWidgets": {},
     "nuid": "41df56cb-62dd-494f-b253-e4aeb4f80de8",
     "showTitle": false,
     "tableResultSettingsMap": {},
     "title": ""
    }
   },
   "source": [
    "###2B.19 Home Services\n",
    "####Decision: Exclude\n",
    "* Number of restaurants also in Home Services: 53\n",
    "* A vast majority of these are service-based establishments such as real estate, IKEA, plumbing, HVAC, etc. The primary purpose is not a sit-in meal."
   ]
  },
  {
   "cell_type": "code",
   "execution_count": 0,
   "metadata": {
    "application/vnd.databricks.v1+cell": {
     "cellMetadata": {
      "byteLimit": 2048000,
      "rowLimit": 10000
     },
     "inputWidgets": {},
     "nuid": "2b340a6b-a27f-4860-91c9-cc5c4998917e",
     "showTitle": false,
     "tableResultSettingsMap": {},
     "title": ""
    }
   },
   "outputs": [
    {
     "output_type": "stream",
     "name": "stdout",
     "output_type": "stream",
     "text": [
      "Number of restaurants also in Home Services: 53\n+----------------------+-----------------------------------------------------+-----+------------+--------------------------------------------------------------------------------------------------------------------------------------------------------------------------------------------------------------------------------------------------------------------------------------------------------------+\n|business_id           |name                                                 |stars|review_count|categories                                                                                                                                                                                                                                                                                                    |\n+----------------------+-----------------------------------------------------+-----+------------+--------------------------------------------------------------------------------------------------------------------------------------------------------------------------------------------------------------------------------------------------------------------------------------------------------------+\n|71q2UD1A7KL2q4AA8mPobQ|Urban Eats                                           |4.0  |88          |[Pizza, Vegan, Food, Home Services, Coffee & Tea, Vegetarian, Real Estate, Sandwiches, Kitchen Incubators, Delis, Restaurants, American (New), Southern, Bakeries]                                                                                                                                            |\n|MpkCQTOV6D3XGRPbtQPj5Q|Pho 36                                               |4.5  |236         |[Vietnamese, Vegetarian, Noodles, Home Cleaning, Soup, Home Services, Thrift Stores, Shopping, Restaurants]                                                                                                                                                                                                   |\n|4dQUCcugbjHpiH5f2WZXsA|Hollyberry Catering                                  |4.0  |11          |[Home Services, Building Supplies, Event Planning & Services, Bakeries, Restaurants, Food, Caterers]                                                                                                                                                                                                          |\n|BJ0Z74sTz9sxRr1R533Inw|Best Rate Home Services                              |1.0  |5           |[Restaurants, Local Services, Movers, Home Cleaning, Home & Garden, Hardware Stores, Pizza, Junk Removal & Hauling, Shopping, Home Services]                                                                                                                                                                  |\n|ZMQrlSkugKYxgvRMU-EqFg|Fahrenheit Heating and Cooling                       |2.0  |56          |[Local Services, Home Services, Appliances & Repair, Crane Services, Heating & Air Conditioning/HVAC, Restaurants]                                                                                                                                                                                            |\n|kFxHQcrCEycaWLEOkkoE1A|The Neidhammer Coffee Co.                            |4.5  |156         |[Real Estate, Venues & Event Spaces, Food, Home Services, Coffee & Tea, Sandwiches, Event Planning & Services, Restaurants, Breakfast & Brunch, Specialty Food, Creperies, Shared Office Spaces, Wedding Planning]                                                                                            |\n|6Tv1T3HFPmSfdxGBW1YSyg|Jacole Sound                                         |4.0  |10          |[Home Services, Home Theatre Installation, Restaurants, Local Services, TV Mounting]                                                                                                                                                                                                                          |\n|W57360g1e7xMGerm7wPW0Q|Sparkman Wharf                                       |4.0  |242         |[Food, Nightlife, Bars, Cocktail Bars, Beer, Wine & Spirits, Restaurants, Lawn Services, Food Court, Landscaping, Beer Gardens, Shopping, Real Estate, Shopping Centers, Home Services, Shared Office Spaces, Arts & Entertainment]                                                                           |\n|f5VqTIMC-9Iw747SwhS0rg|IKEA Restaurant                                      |3.5  |218         |[Mattresses, Home Decor, Furniture Stores, Restaurants, Scandinavian, Home & Garden, Home Services, Shopping, Breakfast & Brunch, Interior Design]                                                                                                                                                            |\n|_78Lam9Jd0W6ZmnHTvdjMg|Armature Works                                       |4.5  |1119        |[Specialty Food, Event Planning & Services, Food, Venues & Event Spaces, Real Estate, Restaurants, Southern, Food Court, Bars, Shared Office Spaces, Nightlife, Home Services]                                                                                                                                |\n|mN6fOLYGCVOwXHN1KGPeug|Tinwings                                             |4.5  |13          |[Home Services, Restaurants, Caterers, Food Delivery Services, Event Planning & Services, Professional Services, Home Organization, Food, Specialty Food]                                                                                                                                                     |\n|pzKzUt-XPgvYrhzuLgByRg|Two Chicks District Co.                              |4.5  |17          |[Shopping, Restaurants, Real Estate, Home Services, Real Estate Services, Furniture Stores, Home Decor, Home & Garden, Cafes]                                                                                                                                                                                 |\n|nAgWSFFiSXUn5fg3-2lvJA|Hotshots Sports Bar & Grill- Arnold                  |3.0  |30          |[Party & Event Planning, Restaurants, Real Estate, Pool Halls, Sports Bars, Home Services, Property Management, Bars, Chicken Wings, Event Planning & Services, American (Traditional), American (New), Nightlife]                                                                                            |\n|K-YkmLFOeFe9mL4-XSvagA|Spartan Van Lines                                    |1.5  |17          |[Restaurants, Home Organization, Movers, Pizza, Self Storage, Home Services, Local Services]                                                                                                                                                                                                                  |\n|1OZldaby_NiD387uZy2ExA|Besel Plumbing                                       |3.5  |7           |[Home Services, Plumbing, Water Heater Installation/Repair, Restaurants, Pizza]                                                                                                                                                                                                                               |\n|hay0mXRcirAgdKWnBblidQ|Av Tree Farms                                        |4.0  |6           |[Tapas/Small Plates, Home Decor, Tree Services, Home & Garden, Holiday Decorations, Shopping, Home Services, Christmas Trees, Restaurants]                                                                                                                                                                    |\n|YbpNzwI5iBvsBDwdwc9Mmg|Gordon Stein -I Love Philly Homes Team - Compass     |5.0  |5           |[Real Estate, Restaurants, Real Estate Agents, Home Services, Cheesesteaks, Property Management]                                                                                                                                                                                                              |\n|ebuycCvuqc3kn4wSBBOxVQ|The Piazza                                           |3.5  |126         |[Shopping, Arts & Entertainment, Real Estate, Home Services, Restaurants, Art Galleries, Event Planning & Services, Local Flavor, Venues & Event Spaces, Apartments]                                                                                                                                          |\n|PJLh9DYLcf5JJ_fdwHDbzA|Station House                                        |4.0  |128         |[Caterers, Nightlife, Home Services, Bars, American (New), Restaurants, Venues & Event Spaces, Hotels & Travel, Hotels, Real Estate, Coffee & Tea, Event Planning & Services, Tapas/Small Plates, Cocktail Bars, Food, Shared Office Spaces]                                                                  |\n|MOSR1deJTGCSK8PzoRT2Hw|Cugino's Pizza                                       |4.0  |26          |[Pizza, Home Services, Restaurants, Movers]                                                                                                                                                                                                                                                                   |\n|sAtMh5Cosg9kCWwDTTKivQ|PetersenDean                                         |2.5  |18          |[Roofing, Restaurants, Solar Installation, Salad, Home Services]                                                                                                                                                                                                                                              |\n|gfyMB3EprSRf0Ddjj0GXeA|Enos Executive Painting                              |3.0  |8           |[Painters, Restaurants, Interior Design, Pizza, Home Services, Pressure Washers]                                                                                                                                                                                                                              |\n|ZrsB3DVzC7nNI2a4PVJrmA|Jack Ward & Sons Plumbing                            |4.0  |38          |[Home Services, Restaurants, Water Heater Installation/Repair, American (Traditional), Water Purification Services, Local Services, Contractors, Plumbing, Heating & Air Conditioning/HVAC, Septic Services]                                                                                                  |\n|QfPYXRO7MTXUIBJKvOEjLA|Wildcat Moving & Labor                               |2.5  |15          |[Pizza, Movers, Local Services, Home Services, Septic Services, Restaurants]                                                                                                                                                                                                                                  |\n|WGBGKtaVb5iVjFfew2SApg|Reedy Plumbing                                       |3.0  |5           |[Pizza, Plumbing, Home Services, Restaurants]                                                                                                                                                                                                                                                                 |\n|1bwEz9wJwgfNFnBdW-rWkg|Lien Hoa Oriental Market                             |3.5  |31          |[Vietnamese, Home Services, Grocery, Restaurants, Real Estate, Food, Homeowner Association, International Grocery]                                                                                                                                                                                            |\n|jTNrCowWjPrpbUehvGBd1w|Hunter's Green Country Club                          |4.0  |8           |[Real Estate, Tennis, Social Clubs, Golf, Home Services, Venues & Event Spaces, Active Life, Arts & Entertainment, Country Clubs, Swimming Pools, Restaurants, Event Planning & Services]                                                                                                                     |\n|qH8HjaLsg2sCqZUUCcR02A|Wades tree service                                   |3.5  |5           |[Restaurants, Vegetarian, Tree Services, Home Services]                                                                                                                                                                                                                                                       |\n|VBf70Zn9CWXBAwqz8u0TjA|InVision Creative Cafe                               |4.0  |9           |[Nightlife, Restaurants, Audio/Visual Equipment Rental, Arts & Entertainment, Shared Office Spaces, Music Venues, Party Equipment Rentals, Food, Real Estate, Coffee & Tea, Event Planning & Services, Home Services, Cafes]                                                                                  |\n|ysO6c4ylOy6-yhIuF84fgg|Floridan Palace Hotel, BW Premier Collection         |3.0  |125         |[Contractors, Home Services, Event Planning & Services, Piano Bars, Hotels & Travel, American (Traditional), Wedding Planning, Nightlife, Hotels, Local Flavor, Venues & Event Spaces, Greek, Restaurants]                                                                                                    |\n|js2nHugz_merD1GghFXIcA|Westport Plaza                                       |3.5  |13          |[Real Estate, Event Planning & Services, Shopping Centers, Hotels & Travel, Home Services, American (New), Venues & Event Spaces, Arts & Entertainment, Restaurants, Nightlife, Shopping]                                                                                                                     |\n|YICdPG1yr1tzlZBd05xcQQ|Urban Bungalow                                       |5.0  |31          |[Home Decor, Coffee & Tea, Home Services, Shopping, Flowers & Gifts, Restaurants, Bars, American (Traditional), Furniture Stores, Interior Design, Nightlife, Food, Gift Shops, Wine Bars, Home & Garden]                                                                                                     |\n|g5GS2Mr42rKXzFrzea5GJw|USF Moving Company                                   |4.0  |10          |[Local Services, Packing Services, Food, Professional Services, Junk Removal & Hauling, Automotive, Self Storage, Car Share Services, Home Services, Office Cleaning, Couriers & Delivery Services, Taxis, Home Cleaning, Pizza, Restaurants, Transportation, Food Delivery Services, Movers, Hotels & Travel]|\n|GPLioj0TJ7oM8-IuF1vKdQ|SUB - Student Union Building at University of Alberta|3.5  |14          |[Professional Services, Internet Service Providers, Shopping, Lounges, Restaurants, Education, Nightlife, Bars, Home Services, Real Estate, Colleges & Universities, University Housing]                                                                                                                      |\n|-XattEF9LvIcbVxMYJIU7Q|TriState Forestry Equipment                          |1.0  |9           |[Tree Services, Truck Rental, Commercial Truck Dealers, Home Services, Local Services, Automotive, Restaurants, Pizza]                                                                                                                                                                                        |\n|am5qD6LFjkV8f_4MLp8Img|Brennan’s Work and Leisure                           |4.5  |10          |[Home Services, Shared Office Spaces, Real Estate, Bars, Breakfast & Brunch, Restaurants, Nightlife, Event Planning & Services, Venues & Event Spaces, Cafes]                                                                                                                                                 |\n|NxL8tLb85O1OOlaGyaQSKA|Carniceria Coalcoman                                 |4.5  |71          |[Food, Home Services, Restaurants, Mexican, Grocery, Meat Shops, Specialty Food]                                                                                                                                                                                                                              |\n|K0FZ1g8jngnIEyRZnr3JKw|The Fireplace Bar                                    |4.5  |12          |[Nightlife, Fireplace Services, Pizza, Bars, Home Services, Karaoke, Pubs, Restaurants]                                                                                                                                                                                                                       |\n|maPUhZqJsZovg8z-FFVIfA|The Stove Shop                                       |3.5  |7           |[Barbeque, Appliances, Restaurants, Heating & Air Conditioning/HVAC, Home Services, Fireplace Services, Home & Garden, Shopping]                                                                                                                                                                              |\n|KU4A_dKaIcYX3QGMptCaFg|Baymont by Wyndham Tampa Near Busch Gardens          |2.5  |43          |[Venues & Event Spaces, Hotels & Travel, Real Estate, Building Supplies, Property Management, Home Services, Hotels, Restaurants, Event Planning & Services]                                                                                                                                                  |\n|Tv5gLZyjnMuEpLvdbE5wGw|Rosedale                                             |4.0  |135         |[Cocktail Bars, Bars, Home Services, Restaurants, Nightlife, American (Traditional), Real Estate, Apartments]                                                                                                                                                                                                 |\n|DIsakzk-hTU48OEhqYIf7w|The Basement                                         |4.0  |67          |[Fashion, Home Services, Chocolatiers & Shops, Specialty Food, Restaurants, Food, Shopping Centers, Kitchen Incubators, Real Estate, Juice Bars & Smoothies, Shopping, Coffee & Tea, Shared Office Spaces]                                                                                                    |\n|_vXUaBjScB75r0yYOv-FIw|Big Boys Moving And Storage                          |1.5  |66          |[Movers, American (New), Landscape Architects, Food, Home Services, Self Storage, Local Services, Restaurants]                                                                                                                                                                                                |\n|Yn6YpvotFLYofHSHEqwOiw|Subway                                               |3.0  |5           |[Sandwiches, Home Services, Painters, Local Services, Restaurants, Fast Food]                                                                                                                                                                                                                                 |\n|-KQsS-zouGNa6qczrzO0Ew|Dublin Towne Diner                                   |2.5  |32          |[Event Planning & Services, Diners, Building Supplies, Food, Food Delivery Services, Home Services, Venues & Event Spaces, Restaurants, Breakfast & Brunch]                                                                                                                                                   |\n|Aq75o21HuYgehMHaZiC8aw|Ambler Fireplace & Patio                             |3.0  |19          |[Home & Garden, American (New), Furniture Stores, Restaurants, Shopping, Fireplace Services, Home Services]                                                                                                                                                                                                   |\n|aqdoynddLcBTSmI7uJVBiw|Miles: The Auto Spa                                  |2.5  |191         |[Home Services, Restaurants, Auto Glass Services, Auto Repair, Gluten-Free, Automotive, Plumbing, Auto Detailing, Car Wash]                                                                                                                                                                                   |\n|wmBifxnIt93TEqQKmWfOaw|HYPER                                                |3.0  |20          |[Furniture Reupholstery, Restaurants, Food Court, Carpet Cleaning, Damage Restoration, Air Duct Cleaning, Local Services, Home Services]                                                                                                                                                                      |\n|gsi8x3uSGRk72Z2V01ABfw|Place St. Charles                                    |3.5  |9           |[Shopping, Real Estate, Pizza, Shopping Centers, Shared Office Spaces, Restaurants, Home Services, Real Estate Agents]                                                                                                                                                                                        |\n|rrHo61_HD5-KTlo65MNXbQ|Pro tech Electronic Monitoring                       |3.0  |27          |[Restaurants, Home & Garden, Contractors, Countertop Installation, Building Supplies, Professional Services, Barbeque, Kitchen & Bath, Home Services, Electronics, Security Systems, Shopping]                                                                                                                |\n+----------------------+-----------------------------------------------------+-----+------------+--------------------------------------------------------------------------------------------------------------------------------------------------------------------------------------------------------------------------------------------------------------------------------------------------------------+\nonly showing top 50 rows\n\n"
     ]
    }
   ],
   "source": [
    "df_restautant_home = spark.sql(\"\"\"\n",
    "SELECT * FROM restaurants\n",
    "WHERE ARRAY_CONTAINS(categories,'Home Services')\n",
    "\"\"\")\n",
    "print(f\"Number of restaurants also in Home Services: {df_restautant_home.count()}\")\n",
    "df_restautant_home.show(50, truncate=False)"
   ]
  },
  {
   "cell_type": "markdown",
   "metadata": {
    "application/vnd.databricks.v1+cell": {
     "cellMetadata": {
      "byteLimit": 2048000,
      "rowLimit": 10000
     },
     "inputWidgets": {},
     "nuid": "4aa91270-6a1d-4b73-a73a-51bac8898df4",
     "showTitle": false,
     "tableResultSettingsMap": {},
     "title": ""
    }
   },
   "source": [
    "###2B.20 Filtering Categories and Sub-categories for Accurate Analyses\n",
    "* By excluding the irrelevant categories and subcategories that do not fit the standards or definition of a restaurant, it results in:\n",
    "  * Improved Data Relevance\n",
    "  * Enhanced Accuracy:\n",
    "    * By removing unrelated categories, the analysis becomes more precise\n",
    "  * Resource & Data Efficiency\n",
    "  * Better Audience Targeting (Yelp Users)\n",
    "* We looked at both the top categories and the subcategories. We then filtered several categories with our analysis above. After excluding several categories , we printed the remaining restaurant's record count. We now have 29,737 filtered restaurants, compared to 34,987 original restaurant records above."
   ]
  },
  {
   "cell_type": "code",
   "execution_count": 0,
   "metadata": {
    "application/vnd.databricks.v1+cell": {
     "cellMetadata": {
      "byteLimit": 2048000,
      "rowLimit": 10000
     },
     "inputWidgets": {},
     "nuid": "7806e025-315b-484b-b0ee-37a970c26fed",
     "showTitle": false,
     "tableResultSettingsMap": {},
     "title": ""
    }
   },
   "outputs": [
    {
     "output_type": "stream",
     "name": "stdout",
     "output_type": "stream",
     "text": [
      "Number of restaurants included: 29737\n-RECORD 0------------------------------------------------------------------------------------------------------------\n business_id  | CF33F8-E6oudUQ46HnavjQ                                                                               \n name         | Sonic Drive-In                                                                                       \n stars        | 2.0                                                                                                  \n review_count | 6                                                                                                    \n categories   | [Burgers, Fast Food, Sandwiches, Food, Ice Cream & Frozen Yogurt, Restaurants]                       \n-RECORD 1------------------------------------------------------------------------------------------------------------\n business_id  | bBDDEgkFA1Otx9Lfe7BZUQ                                                                               \n name         | Sonic Drive-In                                                                                       \n stars        | 1.5                                                                                                  \n review_count | 10                                                                                                   \n categories   | [Ice Cream & Frozen Yogurt, Fast Food, Burgers, Restaurants, Food]                                   \n-RECORD 2------------------------------------------------------------------------------------------------------------\n business_id  | il_Ro8jwPlHresjw9EGmBg                                                                               \n name         | Denny's                                                                                              \n stars        | 2.5                                                                                                  \n review_count | 28                                                                                                   \n categories   | [American (Traditional), Restaurants, Diners, Breakfast & Brunch]                                    \n-RECORD 3------------------------------------------------------------------------------------------------------------\n business_id  | MUTTqe8uqyMdBl186RmNeA                                                                               \n name         | Tuna Bar                                                                                             \n stars        | 4.0                                                                                                  \n review_count | 245                                                                                                  \n categories   | [Sushi Bars, Restaurants, Japanese]                                                                  \n-RECORD 4------------------------------------------------------------------------------------------------------------\n business_id  | ROeacJQwBeh05Rqg7F6TCg                                                                               \n name         | BAP                                                                                                  \n stars        | 4.5                                                                                                  \n review_count | 205                                                                                                  \n categories   | [Korean, Restaurants]                                                                                \n-RECORD 5------------------------------------------------------------------------------------------------------------\n business_id  | kfNv-JZpuN6TVNSO6hHdkw                                                                               \n name         | Hibachi Express                                                                                      \n stars        | 4.0                                                                                                  \n review_count | 20                                                                                                   \n categories   | [Steakhouses, Asian Fusion, Restaurants]                                                             \n-RECORD 6------------------------------------------------------------------------------------------------------------\n business_id  | 9OG5YkX1g2GReZM0AskizA                                                                               \n name         | Romano's Macaroni Grill                                                                              \n stars        | 2.5                                                                                                  \n review_count | 339                                                                                                  \n categories   | [Restaurants, Italian]                                                                               \n-RECORD 7------------------------------------------------------------------------------------------------------------\n business_id  | sqSqqLy0sN8n2IZrAbzidQ                                                                               \n name         | Domino's Pizza                                                                                       \n stars        | 3.5                                                                                                  \n review_count | 8                                                                                                    \n categories   | [Pizza, Chicken Wings, Sandwiches, Restaurants]                                                      \n-RECORD 8------------------------------------------------------------------------------------------------------------\n business_id  | kV_Q1oqis8Qli8dUoGpTyQ                                                                               \n name         | Ardmore Pizza                                                                                        \n stars        | 3.5                                                                                                  \n review_count | 109                                                                                                  \n categories   | [Pizza, Restaurants]                                                                                 \n-RECORD 9------------------------------------------------------------------------------------------------------------\n business_id  | ljxNT9p0y7YMPx0fcNBGig                                                                               \n name         | Tony's Restaurant & 3rd Street Cafe                                                                  \n stars        | 3.0                                                                                                  \n review_count | 94                                                                                                   \n categories   | [Restaurants, Specialty Food, Steakhouses, Food, Italian, Pizza, Pasta Shops]                        \n-RECORD 10-----------------------------------------------------------------------------------------------------------\n business_id  | ABxoFuzZy5mqQ8C5FJJajQ                                                                               \n name         | Core de Roma                                                                                         \n stars        | 5.0                                                                                                  \n review_count | 12                                                                                                   \n categories   | [Restaurants, Italian]                                                                               \n-RECORD 11-----------------------------------------------------------------------------------------------------------\n business_id  | seKihQKpGGnCeLuELRQPSQ                                                                               \n name         | Twin Peaks                                                                                           \n stars        | 3.5                                                                                                  \n review_count | 257                                                                                                  \n categories   | [Sports Bars, American (New), American (Traditional), Nightlife, Bars, Restaurants]                  \n-RECORD 12-----------------------------------------------------------------------------------------------------------\n business_id  | 8rb-3VYXE37IZix4yOdskw                                                                               \n name         | Sharky's Sports Bar & Grill                                                                          \n stars        | 2.5                                                                                                  \n review_count | 29                                                                                                   \n categories   | [American (Traditional), Bars, Nightlife, Sports Bars, Restaurants]                                  \n-RECORD 13-----------------------------------------------------------------------------------------------------------\n business_id  | aCDY7vXYMs54EbYuQScsnQ                                                                               \n name         | 39 North Taproom & Grill                                                                             \n stars        | 4.5                                                                                                  \n review_count | 25                                                                                                   \n categories   | [American (Traditional), Sports Bars, Restaurants, Bars, Nightlife, Steakhouses, Salad, Beer Bar]    \n-RECORD 14-----------------------------------------------------------------------------------------------------------\n business_id  | ppFCk9aQkM338Rgwpl2F5A                                                                               \n name         | Wawa                                                                                                 \n stars        | 3.0                                                                                                  \n review_count | 56                                                                                                   \n categories   | [Restaurants, Automotive, Delis, Gas Stations, Food, Coffee & Tea, Sandwiches, Convenience Stores]   \n-RECORD 15-----------------------------------------------------------------------------------------------------------\n business_id  | oaboaRBUgGjbo2kfUIKDLQ                                                                               \n name         | Mike's Ice Cream                                                                                     \n stars        | 4.5                                                                                                  \n review_count | 593                                                                                                  \n categories   | [Ice Cream & Frozen Yogurt, Coffee & Tea, Restaurants, Sandwiches, Food]                             \n-RECORD 16-----------------------------------------------------------------------------------------------------------\n business_id  | knQ4vIgx-r85kjlWVVjcpQ                                                                               \n name         | Silver and Blue Outfitters                                                                           \n stars        | 4.5                                                                                                  \n review_count | 5                                                                                                    \n categories   | [Sporting Goods, Sports Wear, Fashion, Restaurants, Fast Food, Sandwiches, Shopping]                 \n-RECORD 17-----------------------------------------------------------------------------------------------------------\n business_id  | EuRGgOwJ0g1vTj2R04j37Q                                                                               \n name         | Crafty Crab                                                                                          \n stars        | 2.5                                                                                                  \n review_count | 14                                                                                                   \n categories   | [Seafood, Restaurants]                                                                               \n-RECORD 18-----------------------------------------------------------------------------------------------------------\n business_id  | TLZ3-eDPLhUzfsWO4ad6Ug                                                                               \n name         | Mahony's Po-Boys & Seafood                                                                           \n stars        | 4.0                                                                                                  \n review_count | 382                                                                                                  \n categories   | [Restaurants, Seafood, Cajun/Creole]                                                                 \n-RECORD 19-----------------------------------------------------------------------------------------------------------\n business_id  | Dy91wdWkwtI_qgjAIZ0Niw                                                                               \n name         | Taqueria Los Primos                                                                                  \n stars        | 4.0                                                                                                  \n review_count | 23                                                                                                   \n categories   | [Mexican, Restaurants]                                                                               \n-RECORD 20-----------------------------------------------------------------------------------------------------------\n business_id  | vje0KIiE7vtpx7JzmBx5LQ                                                                               \n name         | The Pearl                                                                                            \n stars        | 4.0                                                                                                  \n review_count | 129                                                                                                  \n categories   | [Restaurants, French, Moroccan, Seafood, Mediterranean]                                              \n-RECORD 21-----------------------------------------------------------------------------------------------------------\n business_id  | VZzivJEbmHItOxNXJB3SpA                                                                               \n name         | Subway                                                                                               \n stars        | 2.5                                                                                                  \n review_count | 14                                                                                                   \n categories   | [Sandwiches, Fast Food, Restaurants]                                                                 \n-RECORD 22-----------------------------------------------------------------------------------------------------------\n business_id  | anLQj9AM8vjbcLSIE0iUgg                                                                               \n name         | Papa Murphy's                                                                                        \n stars        | 4.0                                                                                                  \n review_count | 22                                                                                                   \n categories   | [Pizza, Restaurants]                                                                                 \n-RECORD 23-----------------------------------------------------------------------------------------------------------\n business_id  | Cdytv_YhJO0W0Ab8t2xLtg                                                                               \n name         | Nipper's Pub                                                                                         \n stars        | 3.5                                                                                                  \n review_count | 29                                                                                                   \n categories   | [Nightlife, Chicken Wings, Pubs, Bars, American (Traditional), Restaurants]                          \n-RECORD 24-----------------------------------------------------------------------------------------------------------\n business_id  | 3BJxm-HnvzdwD1zjmSbmyQ                                                                               \n name         | Golden Chopstick Chinese Restaurant                                                                  \n stars        | 3.0                                                                                                  \n review_count | 137                                                                                                  \n categories   | [Restaurants, Chinese]                                                                               \n-RECORD 25-----------------------------------------------------------------------------------------------------------\n business_id  | 9C2rpb56aQvW0ViZHK9sPw                                                                               \n name         | Home Plate Sports Pub                                                                                \n stars        | 3.5                                                                                                  \n review_count | 56                                                                                                   \n categories   | [Bars, Restaurants, Sports Bars, Nightlife]                                                          \n-RECORD 26-----------------------------------------------------------------------------------------------------------\n business_id  | SZU9c8V2GuREDN5KgyHFJw                                                                               \n name         | Santa Barbara Shellfish Company                                                                      \n stars        | 4.0                                                                                                  \n review_count | 2404                                                                                                 \n categories   | [Live/Raw Food, Restaurants, Seafood, Beer Bar, Beer, Wine & Spirits, Bars, Food, Nightlife]         \n-RECORD 27-----------------------------------------------------------------------------------------------------------\n business_id  | aNtKyc2rr-uK5cqzY9TVQQ                                                                               \n name         | Chipotle Mexican Grill                                                                               \n stars        | 3.0                                                                                                  \n review_count | 19                                                                                                   \n categories   | [Mexican, Fast Food, Restaurants]                                                                    \n-RECORD 28-----------------------------------------------------------------------------------------------------------\n business_id  | X_E7U2lVNEwbH_gpOBmAHQ                                                                               \n name         | Cerveza Jack's                                                                                       \n stars        | 4.0                                                                                                  \n review_count | 182                                                                                                  \n categories   | [Nightlife, Restaurants, Bars, Mexican]                                                              \n-RECORD 29-----------------------------------------------------------------------------------------------------------\n business_id  | G4lRmwDHdvhZAhmtlsYYBw                                                                               \n name         | Wendy's                                                                                              \n stars        | 1.5                                                                                                  \n review_count | 37                                                                                                   \n categories   | [Burgers, Restaurants, Fast Food]                                                                    \n-RECORD 30-----------------------------------------------------------------------------------------------------------\n business_id  | BxhkoR6cscJwwex8gx31OA                                                                               \n name         | Bar-B-Cutie                                                                                          \n stars        | 3.5                                                                                                  \n review_count | 40                                                                                                   \n categories   | [Restaurants, Barbeque]                                                                              \n-RECORD 31-----------------------------------------------------------------------------------------------------------\n business_id  | Ms5xG8i4p80KSMcF3tt4ug                                                                               \n name         | Sal DeForte's Ristorante                                                                             \n stars        | 4.0                                                                                                  \n review_count | 52                                                                                                   \n categories   | [Italian, Restaurants]                                                                               \n-RECORD 32-----------------------------------------------------------------------------------------------------------\n business_id  | QjV4v7q_pt7tt3K1US7IHg                                                                               \n name         | PDQ Temple Terrace                                                                                   \n stars        | 3.0                                                                                                  \n review_count | 5                                                                                                    \n categories   | [Fast Food, Sandwiches, Chicken Shop, Restaurants]                                                   \n-RECORD 33-----------------------------------------------------------------------------------------------------------\n business_id  | 59jkCUm4yHciKL1KW_1HJA                                                                               \n name         | Roma Pizza & Italian Eatery                                                                          \n stars        | 2.5                                                                                                  \n review_count | 25                                                                                                   \n categories   | [Pizza, Restaurants]                                                                                 \n-RECORD 34-----------------------------------------------------------------------------------------------------------\n business_id  | yM8LlTInbQH4FwWC97lz6w                                                                               \n name         | McDonald's                                                                                           \n stars        | 1.5                                                                                                  \n review_count | 100                                                                                                  \n categories   | [Fast Food, Restaurants, Food, Burgers, Coffee & Tea]                                                \n-RECORD 35-----------------------------------------------------------------------------------------------------------\n business_id  | CtMEJxpVMlNzFpB4PtFjfA                          \n\n*** WARNING: max output size exceeded, skipping output. ***\n\n                                                                          \n categories   | [Pizza, Restaurants]                                                                                 \n-RECORD 65-----------------------------------------------------------------------------------------------------------\n business_id  | YE2TePip0TxcdquF5hGauQ                                                                               \n name         | JoJo's Hot Dogs and BBQ                                                                              \n stars        | 4.5                                                                                                  \n review_count | 14                                                                                                   \n categories   | [Barbeque, Restaurants, Hot Dogs]                                                                    \n-RECORD 66-----------------------------------------------------------------------------------------------------------\n business_id  | od6skmfXz9twktEAuJHEmw                                                                               \n name         | Ryan Christopher                                                                                     \n stars        | 4.0                                                                                                  \n review_count | 120                                                                                                  \n categories   | [American (New), Restaurants]                                                                        \n-RECORD 67-----------------------------------------------------------------------------------------------------------\n business_id  | j9Kaj_6tSeXmVMYCgZithg                                                                               \n name         | Noble Crust                                                                                          \n stars        | 4.5                                                                                                  \n review_count | 496                                                                                                  \n categories   | [Restaurants, Italian, Nightlife, Southern, Bars, Breakfast & Brunch, Pizza]                         \n-RECORD 68-----------------------------------------------------------------------------------------------------------\n business_id  | EIlFs8kybcG-l60GJjNUIA                                                                               \n name         | Domino's Pizza                                                                                       \n stars        | 2.5                                                                                                  \n review_count | 20                                                                                                   \n categories   | [Pizza, Chicken Wings, Restaurants, Sandwiches]                                                      \n-RECORD 69-----------------------------------------------------------------------------------------------------------\n business_id  | QWqKTWQ2OiDgo3dzNkpung                                                                               \n name         | Jong Ka Jib                                                                                          \n stars        | 4.5                                                                                                  \n review_count | 351                                                                                                  \n categories   | [Korean, Restaurants]                                                                                \n-RECORD 70-----------------------------------------------------------------------------------------------------------\n business_id  | Wt1W6qwCvna1KzIuJRJbwA                                                                               \n name         | Tokyo Mandarin                                                                                       \n stars        | 4.0                                                                                                  \n review_count | 88                                                                                                   \n categories   | [Japanese, Restaurants, Sushi Bars, Chinese]                                                         \n-RECORD 71-----------------------------------------------------------------------------------------------------------\n business_id  | ifjluUv4VASwmFqEp8cWlQ                                                                               \n name         | Marty's Pizza                                                                                        \n stars        | 4.0                                                                                                  \n review_count | 64                                                                                                   \n categories   | [Pizza, Restaurants]                                                                                 \n-RECORD 72-----------------------------------------------------------------------------------------------------------\n business_id  | 516L9-ZWyqVgzqjP5uW7Jg                                                                               \n name         | The Corner Cafe and Deli                                                                             \n stars        | 4.0                                                                                                  \n review_count | 6                                                                                                    \n categories   | [Sandwiches, Cafes, Burgers, Food, Restaurants]                                                      \n-RECORD 73-----------------------------------------------------------------------------------------------------------\n business_id  | iEC0VzHM2hQ13wM7c0QwgQ                                                                               \n name         | Metro Diner                                                                                          \n stars        | 3.5                                                                                                  \n review_count | 56                                                                                                   \n categories   | [American (Traditional), Restaurants, Diners, Breakfast & Brunch]                                    \n-RECORD 74-----------------------------------------------------------------------------------------------------------\n business_id  | OlD8UoHqrKnLoZUFxuas_w                                                                               \n name         | The Hip Hop Sandwich Shop                                                                            \n stars        | 2.5                                                                                                  \n review_count | 5                                                                                                    \n categories   | [Sandwiches, Restaurants]                                                                            \n-RECORD 75-----------------------------------------------------------------------------------------------------------\n business_id  | D7z_V6E8cxXghSRcHAmUPg                                                                               \n name         | La Bella China Restaurant                                                                            \n stars        | 4.0                                                                                                  \n review_count | 92                                                                                                   \n categories   | [Restaurants, Chinese]                                                                               \n-RECORD 76-----------------------------------------------------------------------------------------------------------\n business_id  | gb7JjRJtzWDsIWpJihZhBQ                                                                               \n name         | McDonald's                                                                                           \n stars        | 2.0                                                                                                  \n review_count | 20                                                                                                   \n categories   | [Food, Burgers, Restaurants, Coffee & Tea, Fast Food]                                                \n-RECORD 77-----------------------------------------------------------------------------------------------------------\n business_id  | JPm93BlP-UHYPqFgK66JUw                                                                               \n name         | Local Links                                                                                          \n stars        | 4.5                                                                                                  \n review_count | 70                                                                                                   \n categories   | [Coffee & Tea, Restaurants, American (New), Food, Cafes, Breakfast & Brunch]                         \n-RECORD 78-----------------------------------------------------------------------------------------------------------\n business_id  | VeFfrEZ4iWaecrQg6Eq4cg                                                                               \n name         | Cal Taco                                                                                             \n stars        | 4.0                                                                                                  \n review_count | 189                                                                                                  \n categories   | [Burgers, Cafes, Restaurants, Mexican, American (Traditional)]                                       \n-RECORD 79-----------------------------------------------------------------------------------------------------------\n business_id  | hsyIDX4x4ndYEvPoJF6_1g                                                                               \n name         | Merendero La Catrachitas                                                                             \n stars        | 4.5                                                                                                  \n review_count | 22                                                                                                   \n categories   | [Latin American, Honduran, Restaurants]                                                              \n-RECORD 80-----------------------------------------------------------------------------------------------------------\n business_id  | rR30b1XWbxZFFgLyGbfNAw                                                                               \n name         | BODHI : Craft Bar + Thai Bistro                                                                      \n stars        | 4.5                                                                                                  \n review_count | 132                                                                                                  \n categories   | [Gastropubs, Nightlife, Restaurants, Thai, Bars, Cocktail Bars]                                      \n-RECORD 81-----------------------------------------------------------------------------------------------------------\n business_id  | 4QFqi8w3rlZTcc5LXKyPJw                                                                               \n name         | Chris' Pizza Village Pleasant View                                                                   \n stars        | 4.0                                                                                                  \n review_count | 31                                                                                                   \n categories   | [Chicken Wings, Italian, Salad, Pizza, Restaurants]                                                  \n-RECORD 82-----------------------------------------------------------------------------------------------------------\n business_id  | GpFRwCHN0RI8yFbcfXjfUg                                                                               \n name         | V Sandwiches                                                                                         \n stars        | 3.5                                                                                                  \n review_count | 9                                                                                                    \n categories   | [Vietnamese, Sandwiches, Restaurants]                                                                \n-RECORD 83-----------------------------------------------------------------------------------------------------------\n business_id  | QZLOM3T6xl7y1Q6zqoqHWg                                                                               \n name         | Freddy's Frozen Custard & Steakburgers                                                               \n stars        | 3.5                                                                                                  \n review_count | 26                                                                                                   \n categories   | [Food, American (Traditional), Fast Food, Ice Cream & Frozen Yogurt, Burgers, Restaurants]           \n-RECORD 84-----------------------------------------------------------------------------------------------------------\n business_id  | 9qxMhGWjGsuPUoQB3Y74Wg                                                                               \n name         | McDonald's                                                                                           \n stars        | 1.5                                                                                                  \n review_count | 62                                                                                                   \n categories   | [Food, Restaurants, Coffee & Tea, Burgers, Fast Food]                                                \n-RECORD 85-----------------------------------------------------------------------------------------------------------\n business_id  | pJB63RaQpkTIKBhfTsLQQg                                                                               \n name         | Biryani Hut                                                                                          \n stars        | 4.0                                                                                                  \n review_count | 83                                                                                                   \n categories   | [Restaurants, Indian]                                                                                \n-RECORD 86-----------------------------------------------------------------------------------------------------------\n business_id  | TGfPJHImEq6AQL9a1laxlg                                                                               \n name         | Chick-fil-A                                                                                          \n stars        | 4.0                                                                                                  \n review_count | 80                                                                                                   \n categories   | [Event Planning & Services, American (Traditional), Restaurants, Food, Caterers, Fast Food, Chick... \n-RECORD 87-----------------------------------------------------------------------------------------------------------\n business_id  | CPgWuWGZ4v2sZr5_-1kluw                                                                               \n name         | Checkers                                                                                             \n stars        | 2.0                                                                                                  \n review_count | 21                                                                                                   \n categories   | [Restaurants, Fast Food, Burgers]                                                                    \n-RECORD 88-----------------------------------------------------------------------------------------------------------\n business_id  | VCkSUsdL5P0p16DAPxVROA                                                                               \n name         | NY Bagel & Deli Shop                                                                                 \n stars        | 4.0                                                                                                  \n review_count | 31                                                                                                   \n categories   | [Bagels, Food, Breakfast & Brunch, Coffee & Tea, Restaurants, Burgers, Delis]                        \n-RECORD 89-----------------------------------------------------------------------------------------------------------\n business_id  | dIpTuL2T1L98GQGU17IeSw                                                                               \n name         | The Bricks                                                                                           \n stars        | 4.0                                                                                                  \n review_count | 548                                                                                                  \n categories   | [Bars, Breakfast & Brunch, Restaurants, American (New), Coffee & Tea, Food, Nightlife, Vegetarian]   \n-RECORD 90-----------------------------------------------------------------------------------------------------------\n business_id  | XRkzSBTroG7kIdI7Z8ic6g                                                                               \n name         | Piccadilly                                                                                           \n stars        | 3.0                                                                                                  \n review_count | 51                                                                                                   \n categories   | [Restaurants, Seafood, Breakfast & Brunch, American (Traditional)]                                   \n-RECORD 91-----------------------------------------------------------------------------------------------------------\n business_id  | SlLfWzeYOrVBxCd-0QILZQ                                                                               \n name         | The Boiling House                                                                                    \n stars        | 4.0                                                                                                  \n review_count | 238                                                                                                  \n categories   | [Cajun/Creole, Seafood, Noodles, Restaurants]                                                        \n-RECORD 92-----------------------------------------------------------------------------------------------------------\n business_id  | bdfZdB2MTXlT6-RBjSIpQg                                                                               \n name         | Pho Bistro                                                                                           \n stars        | 3.0                                                                                                  \n review_count | 184                                                                                                  \n categories   | [Food, Restaurants, Chinese, Bubble Tea, Vietnamese]                                                 \n-RECORD 93-----------------------------------------------------------------------------------------------------------\n business_id  | ZpmSEd9N042IJanBiKlKiQ                                                                               \n name         | Smoke & Thyme                                                                                        \n stars        | 4.0                                                                                                  \n review_count | 19                                                                                                   \n categories   | [American (New), Barbeque, Restaurants, Burgers, Sandwiches, Salad]                                  \n-RECORD 94-----------------------------------------------------------------------------------------------------------\n business_id  | SwWfW3vBn5QkDE7T3urGAg                                                                               \n name         | Persis Biryani Indian Grill                                                                          \n stars        | 4.5                                                                                                  \n review_count | 246                                                                                                  \n categories   | [Indian, Restaurants]                                                                                \n-RECORD 95-----------------------------------------------------------------------------------------------------------\n business_id  | W4rgF_1eKzFZiGUOsgbGMA                                                                               \n name         | Amber Indian Restaurant                                                                              \n stars        | 4.0                                                                                                  \n review_count | 243                                                                                                  \n categories   | [Pakistani, Indian, Restaurants]                                                                     \n-RECORD 96-----------------------------------------------------------------------------------------------------------\n business_id  | yN6jZyG1G1FG_HCZQlJZ1g                                                                               \n name         | City Barbeque                                                                                        \n stars        | 4.0                                                                                                  \n review_count | 188                                                                                                  \n categories   | [Restaurants, Caterers, Barbeque, American (Traditional), Event Planning & Services]                 \n-RECORD 97-----------------------------------------------------------------------------------------------------------\n business_id  | -lVTNjVoTMOkD-eT--u0oA                                                                               \n name         | El Rancho Nuevo                                                                                      \n stars        | 3.5                                                                                                  \n review_count | 66                                                                                                   \n categories   | [Mexican, Restaurants]                                                                               \n-RECORD 98-----------------------------------------------------------------------------------------------------------\n business_id  | TCxvQgfBD6_JjOM3N1VPRA                                                                               \n name         | High Ridge Family Diner                                                                              \n stars        | 4.5                                                                                                  \n review_count | 8                                                                                                    \n categories   | [Diners, Restaurants]                                                                                \n-RECORD 99-----------------------------------------------------------------------------------------------------------\n business_id  | lPPYZr1_jx0XeW-xR9WJtw                                                                               \n name         | DOSC                                                                                                 \n stars        | 4.0                                                                                                  \n review_count | 87                                                                                                   \n categories   | [Bars, Cocktail Bars, Coffee & Tea, Food, Restaurants, Cafes, Steakhouses, Nightlife, Tapas/Small... \nonly showing top 100 rows\n\n"
     ]
    }
   ],
   "source": [
    "df_filtered_restaurants = spark.sql(\"\"\"\n",
    "SELECT * \n",
    "FROM restaurants\n",
    "WHERE (\n",
    "    -- Include top categories\n",
    "    ARRAY_CONTAINS(categories, 'Restaurants')\n",
    "    OR ARRAY_CONTAINS(categories, 'Arts & Entertainment')\n",
    "    OR ARRAY_CONTAINS(categories, 'Food')\n",
    "    OR ARRAY_CONTAINS(categories, 'Nightlife')\n",
    "    OR ARRAY_CONTAINS(categories, 'Financial Services')\n",
    "    OR ARRAY_CONTAINS(categories, 'Religious Organizations')\n",
    "    OR ARRAY_CONTAINS(categories, 'Local Flavor')\n",
    "    OR ARRAY_CONTAINS(categories, 'Hotels & Travel')\n",
    ")\n",
    "AND NOT (\n",
    "    -- Exclude Arts & Entertainment subcategories\n",
    "    ARRAY_CONTAINS(categories, 'Venues & Event Spaces')\n",
    "    OR ARRAY_CONTAINS(categories, 'Arcades')\n",
    "    OR ARRAY_CONTAINS(categories, 'Race Tracks')\n",
    "    OR ARRAY_CONTAINS(categories, 'Museums')\n",
    "    OR ARRAY_CONTAINS(categories, 'Haunted Houses')\n",
    "    OR ARRAY_CONTAINS(categories, 'Makerspaces')\n",
    "    OR ARRAY_CONTAINS(categories, 'Festivals')\n",
    "    OR ARRAY_CONTAINS(categories, 'Music Venues')\n",
    "    OR ARRAY_CONTAINS(categories, 'Art Galleries')\n",
    "    OR ARRAY_CONTAINS(categories, 'Farms')\n",
    "    OR ARRAY_CONTAINS(categories, 'Wineries')\n",
    "    \n",
    "    -- Exclude Food subcategories\n",
    "    OR ARRAY_CONTAINS(categories, 'Bakeries')\n",
    "    OR ARRAY_CONTAINS(categories, 'Food Trucks')\n",
    "    OR ARRAY_CONTAINS(categories, 'Breweries')\n",
    "    OR ARRAY_CONTAINS(categories, 'Juice Bars & Smoothies')\n",
    "    OR ARRAY_CONTAINS(categories, 'Acai Bowls')\n",
    "    OR ARRAY_CONTAINS(categories, 'Grocery')\n",
    "    OR ARRAY_CONTAINS(categories, 'International Grocery')\n",
    "    \n",
    "    -- Exclude Nightlife subcategories\n",
    "    OR ARRAY_CONTAINS(categories, 'Adult Entertainment')\n",
    "    OR ARRAY_CONTAINS(categories, 'Hookah Bars')\n",
    "    OR ARRAY_CONTAINS(categories, 'Lounges')\n",
    "    OR ARRAY_CONTAINS(categories, 'Dive Bars')\n",
    "    \n",
    "    -- Exclude Religious Organizations subcategories\n",
    "    OR ARRAY_CONTAINS(categories, 'Churches')\n",
    "    OR ARRAY_CONTAINS(categories, 'Buddhist Temples')\n",
    "\n",
    "    -- Exclude Hotels & Travel subcategories\n",
    "    OR ARRAY_CONTAINS(categories, 'Hotels')\n",
    "    OR ARRAY_CONTAINS(categories, 'Resorts')\n",
    "    OR ARRAY_CONTAINS(categories, 'Tours')\n",
    ")\n",
    "\"\"\")\n",
    "\n",
    "print(f\"Number of restaurants included: {df_filtered_restaurants.count()}\")\n",
    "df_filtered_restaurants.show(100, truncate=100, vertical=True)"
   ]
  },
  {
   "cell_type": "markdown",
   "metadata": {
    "application/vnd.databricks.v1+cell": {
     "cellMetadata": {
      "byteLimit": 2048000,
      "rowLimit": 10000
     },
     "inputWidgets": {},
     "nuid": "9707cb31-6de2-4c2e-a659-98cb1cf80c33",
     "showTitle": false,
     "tableResultSettingsMap": {},
     "title": ""
    }
   },
   "source": [
    "###2B.21 Creating a Dataset for Filtered Restaurant Insights\n",
    "* This better organizes our data and its structure, with updated and verified insights that can enhance the analysis. This makes it easier to further analyze and report the data.\n",
    "* This removes outdated files and recreates the table, optimizes storage, and improves data management.\n"
   ]
  },
  {
   "cell_type": "code",
   "execution_count": 0,
   "metadata": {
    "application/vnd.databricks.v1+cell": {
     "cellMetadata": {
      "byteLimit": 2048000,
      "rowLimit": 10000
     },
     "inputWidgets": {},
     "nuid": "a427f5b7-80df-4d57-83bc-63be14448efc",
     "showTitle": false,
     "tableResultSettingsMap": {},
     "title": ""
    }
   },
   "outputs": [
    {
     "output_type": "stream",
     "name": "stdout",
     "output_type": "stream",
     "text": [
      "building filtered_restaurants_table from DataFrame\n"
     ]
    }
   ],
   "source": [
    "#10\n",
    "TABLE_NAME = \"filtered_restaurants_table\"\n",
    "TABLE_PATH = '/user/hive/warehouse/filtered_restaurants_table'\n",
    "\n",
    "# Clear existing table files (if any) \n",
    "try:\n",
    "  spark.sql(f\"DROP TABLE {TABLE_NAME}\")\n",
    "except:\n",
    "  pass\n",
    "try:\n",
    "  dbutils.fs.rm(TABLE_PATH, recurse=True)\n",
    "except Exception:\n",
    "  pass\n",
    "\n",
    "print(f\"building {TABLE_NAME} from DataFrame\")\n",
    "df_filtered_restaurants.write.mode(\"overwrite\").format('parquet').saveAsTable(TABLE_NAME)"
   ]
  },
  {
   "cell_type": "code",
   "execution_count": 0,
   "metadata": {
    "application/vnd.databricks.v1+cell": {
     "cellMetadata": {
      "byteLimit": 2048000,
      "rowLimit": 10000
     },
     "inputWidgets": {},
     "nuid": "8e255b07-862c-47c1-b5e5-0f208c7e888a",
     "showTitle": false,
     "tableResultSettingsMap": {},
     "title": ""
    }
   },
   "outputs": [
    {
     "output_type": "stream",
     "name": "stdout",
     "output_type": "stream",
     "text": [
      "+----------------------+-----------------------------------+-----+------------+--------------------------------------------------------------------------------------------------+\n|business_id           |name                               |stars|review_count|categories                                                                                        |\n+----------------------+-----------------------------------+-----+------------+--------------------------------------------------------------------------------------------------+\n|CF33F8-E6oudUQ46HnavjQ|Sonic Drive-In                     |2.0  |6           |[Burgers, Fast Food, Sandwiches, Food, Ice Cream & Frozen Yogurt, Restaurants]                    |\n|bBDDEgkFA1Otx9Lfe7BZUQ|Sonic Drive-In                     |1.5  |10          |[Ice Cream & Frozen Yogurt, Fast Food, Burgers, Restaurants, Food]                                |\n|il_Ro8jwPlHresjw9EGmBg|Denny's                            |2.5  |28          |[American (Traditional), Restaurants, Diners, Breakfast & Brunch]                                 |\n|MUTTqe8uqyMdBl186RmNeA|Tuna Bar                           |4.0  |245         |[Sushi Bars, Restaurants, Japanese]                                                               |\n|ROeacJQwBeh05Rqg7F6TCg|BAP                                |4.5  |205         |[Korean, Restaurants]                                                                             |\n|kfNv-JZpuN6TVNSO6hHdkw|Hibachi Express                    |4.0  |20          |[Steakhouses, Asian Fusion, Restaurants]                                                          |\n|9OG5YkX1g2GReZM0AskizA|Romano's Macaroni Grill            |2.5  |339         |[Restaurants, Italian]                                                                            |\n|sqSqqLy0sN8n2IZrAbzidQ|Domino's Pizza                     |3.5  |8           |[Pizza, Chicken Wings, Sandwiches, Restaurants]                                                   |\n|kV_Q1oqis8Qli8dUoGpTyQ|Ardmore Pizza                      |3.5  |109         |[Pizza, Restaurants]                                                                              |\n|ljxNT9p0y7YMPx0fcNBGig|Tony's Restaurant & 3rd Street Cafe|3.0  |94          |[Restaurants, Specialty Food, Steakhouses, Food, Italian, Pizza, Pasta Shops]                     |\n|ABxoFuzZy5mqQ8C5FJJajQ|Core de Roma                       |5.0  |12          |[Restaurants, Italian]                                                                            |\n|seKihQKpGGnCeLuELRQPSQ|Twin Peaks                         |3.5  |257         |[Sports Bars, American (New), American (Traditional), Nightlife, Bars, Restaurants]               |\n|8rb-3VYXE37IZix4yOdskw|Sharky's Sports Bar & Grill        |2.5  |29          |[American (Traditional), Bars, Nightlife, Sports Bars, Restaurants]                               |\n|aCDY7vXYMs54EbYuQScsnQ|39 North Taproom & Grill           |4.5  |25          |[American (Traditional), Sports Bars, Restaurants, Bars, Nightlife, Steakhouses, Salad, Beer Bar] |\n|ppFCk9aQkM338Rgwpl2F5A|Wawa                               |3.0  |56          |[Restaurants, Automotive, Delis, Gas Stations, Food, Coffee & Tea, Sandwiches, Convenience Stores]|\n|oaboaRBUgGjbo2kfUIKDLQ|Mike's Ice Cream                   |4.5  |593         |[Ice Cream & Frozen Yogurt, Coffee & Tea, Restaurants, Sandwiches, Food]                          |\n|knQ4vIgx-r85kjlWVVjcpQ|Silver and Blue Outfitters         |4.5  |5           |[Sporting Goods, Sports Wear, Fashion, Restaurants, Fast Food, Sandwiches, Shopping]              |\n|EuRGgOwJ0g1vTj2R04j37Q|Crafty Crab                        |2.5  |14          |[Seafood, Restaurants]                                                                            |\n|TLZ3-eDPLhUzfsWO4ad6Ug|Mahony's Po-Boys & Seafood         |4.0  |382         |[Restaurants, Seafood, Cajun/Creole]                                                              |\n|Dy91wdWkwtI_qgjAIZ0Niw|Taqueria Los Primos                |4.0  |23          |[Mexican, Restaurants]                                                                            |\n+----------------------+-----------------------------------+-----+------------+--------------------------------------------------------------------------------------------------+\nonly showing top 20 rows\n\n"
     ]
    }
   ],
   "source": [
    "spark.sql(\"\"\"\n",
    "SELECT * FROM filtered_restaurants_table\n",
    "\"\"\").show(truncate=False)"
   ]
  },
  {
   "cell_type": "markdown",
   "metadata": {
    "application/vnd.databricks.v1+cell": {
     "cellMetadata": {
      "byteLimit": 2048000,
      "rowLimit": 10000
     },
     "inputWidgets": {},
     "nuid": "f8d43746-4259-4935-a529-798721fc6dc0",
     "showTitle": false,
     "tableResultSettingsMap": {},
     "title": ""
    }
   },
   "source": [
    "## 2C. Understanding the Relationship Between Restaurants & Their Metro Area (metro_restaurant_table) \n",
    "###Metro Area Data\n",
    "* The metro area data was joined with the business data by utilizing Tableau. We visualized the business data by importing the business file from Data Explorer from the Yelp Dataset on Kaggle onto Tableau.\n",
    "* From there, we were able to visualize the data on a map, where the businesses in the dataset were mapped between the United States and Canada. \n",
    "* We categorized all the businesses in each metro area according to the major city in those areas. \n",
    "* The number of restaurants that correlate to their metro area was also visualized in a bar chart. \n",
    "* The organized businesses and metro areas were then imported into a csv file, named metro_areas.csv, that is the basis of much of our deepdive into the restaurants and metro areas. \n",
    "\n"
   ]
  },
  {
   "cell_type": "markdown",
   "metadata": {
    "application/vnd.databricks.v1+cell": {
     "cellMetadata": {
      "byteLimit": 2048000,
      "rowLimit": 10000
     },
     "inputWidgets": {},
     "nuid": "1aae1384-4390-4312-b6b3-528e033939bf",
     "showTitle": false,
     "tableResultSettingsMap": {},
     "title": ""
    }
   },
   "source": [
    "###2C.1 Loading Filtered Restaurant Table"
   ]
  },
  {
   "cell_type": "code",
   "execution_count": 0,
   "metadata": {
    "application/vnd.databricks.v1+cell": {
     "cellMetadata": {
      "byteLimit": 2048000,
      "rowLimit": 10000
     },
     "inputWidgets": {},
     "nuid": "c3bbd871-f3e5-45ed-8756-3d6f423e57e8",
     "showTitle": false,
     "tableResultSettingsMap": {},
     "title": ""
    }
   },
   "outputs": [
    {
     "output_type": "stream",
     "name": "stdout",
     "output_type": "stream",
     "text": [
      "filtered_restaurants_table table exists\n+------------+-------------+-------+\n|    col_name|    data_type|comment|\n+------------+-------------+-------+\n| business_id|       string|   null|\n|        name|       string|   null|\n|       stars|       double|   null|\n|review_count|       bigint|   null|\n|  categories|array<string>|   null|\n+------------+-------------+-------+\n\n"
     ]
    }
   ],
   "source": [
    "TABLE_NAME = \"filtered_restaurants_table\"\n",
    "TABLE_PATH = \"/user/hive/warehouse/filtered_restaurants_table\"\n",
    "\n",
    "if (spark.catalog._jcatalog.tableExists(TABLE_NAME)): #check if the table exist\n",
    "    print(f\"{TABLE_NAME} table exists\")\n",
    "else: #Determine if files exist to build the table\n",
    "  try:\n",
    "    spark.sql(f\"\"\"\n",
    "    CREATE TABLE {TABLE_NAME} \n",
    "    USING PARQUET \n",
    "    LOCATION '{TABLE_PATH}' \n",
    "    \"\"\")\n",
    "    spark.sql(\"SHOW TABLES\").show()\n",
    "  except Exception as ex: #In case of an exception (if creating the table fails), the except block catches the error and raises a new exception with a message indicating that the table could not be rebuilt. \n",
    "    raise Exception(f\"The {TABLE_NAME} table could not be rebuilt. Error: {ex}\")\n",
    "spark.sql(F\"DESCRIBE TABLE {TABLE_NAME}\").show()"
   ]
  },
  {
   "cell_type": "markdown",
   "metadata": {
    "application/vnd.databricks.v1+cell": {
     "cellMetadata": {
      "byteLimit": 2048000,
      "rowLimit": 10000
     },
     "inputWidgets": {},
     "nuid": "d896b3c5-99ba-4c60-8be0-d8ff6a3cd387",
     "showTitle": false,
     "tableResultSettingsMap": {},
     "title": ""
    }
   },
   "source": [
    "###2C.2 Reorganizing the Metro Areas Table\n",
    "* After importing the metro_areas.csv file, we moved it from the main file storage to the Yelp folder.\n",
    "* This allows us to work on the metro csv file for this project. This results in better file management, especially when using this table in relation to Yelp data."
   ]
  },
  {
   "cell_type": "code",
   "execution_count": 0,
   "metadata": {
    "application/vnd.databricks.v1+cell": {
     "cellMetadata": {
      "byteLimit": 2048000,
      "rowLimit": 10000
     },
     "inputWidgets": {},
     "nuid": "c4d37bed-125e-44a4-8523-c1d57eb03431",
     "showTitle": false,
     "tableResultSettingsMap": {},
     "title": ""
    }
   },
   "outputs": [
    {
     "output_type": "stream",
     "name": "stdout",
     "output_type": "stream",
     "text": [
      "The file does not exist or has already been moved!\n"
     ]
    }
   ],
   "source": [
    "# Add code to move the metro area data to /yelp\n",
    "try:  \n",
    "  dbutils.fs.mv(\"/FileStore/tables/metro_areas.csv\", \"/yelp/metro_areas.csv\")\n",
    "except:\n",
    "  print(f\"The file does not exist or has already been moved!\")"
   ]
  },
  {
   "cell_type": "markdown",
   "metadata": {
    "application/vnd.databricks.v1+cell": {
     "cellMetadata": {
      "byteLimit": 2048000,
      "rowLimit": 10000
     },
     "inputWidgets": {},
     "nuid": "93006591-575d-406f-a907-75d909f0de98",
     "showTitle": false,
     "tableResultSettingsMap": {},
     "title": ""
    }
   },
   "source": [
    "###2C.3 Importing & Previewing Metro Area Data for Dataframe\n",
    "* This code imports metro area data from a CSV file (metro_areas.csv) into a Spark DataFrame and displays a preview of the data along with its structure. It helps understand the contents and format of the dataset before further analysis.\n",
    "* This results in:\n",
    "  * Data validation\n",
    "  * Efficient data import\n",
    "  * Data structure understanding\n",
    "  * Data quality control\n",
    "\n"
   ]
  },
  {
   "cell_type": "code",
   "execution_count": 0,
   "metadata": {
    "application/vnd.databricks.v1+cell": {
     "cellMetadata": {
      "byteLimit": 2048000,
      "rowLimit": 10000
     },
     "inputWidgets": {},
     "nuid": "7a5a785a-f6b8-4756-b897-ec7a0bfad3f1",
     "showTitle": false,
     "tableResultSettingsMap": {},
     "title": ""
    }
   },
   "outputs": [
    {
     "output_type": "stream",
     "name": "stdout",
     "output_type": "stream",
     "text": [
      "+--------------------+--------------------+--------------------+------------+--------------------------+------------+--------------------+-----------+-----+-------+------------+-------------+------------+-----+\n|             Address|         Business_Id|          Categories|        City|Document Index (generated)|  Metro_Area|                Name|Postal Code|State|Is Open|    Latitude|    Longitude|Review Count|Stars|\n+--------------------+--------------------+--------------------+------------+--------------------------+------------+--------------------+-----------+-----+-------+------------+-------------+------------+-----+\n|  3150 S Madison Ave|meTyTAo18ulbEu5ap...|Oil Change Statio...|Indianapolis|                    126841|Indianapolis|Meineke Car Care ...|      46227|   IN|      1|39.718822274|-86.148645835|           8|  3.5|\n|11915 E Washingto...|9Mym57cM01EBl2x3h...|Food, Beer, Wine ...|Indianapolis|                     24592|Indianapolis|Elite Beverages No 2|      46229|   IN|      1|  39.7762661|  -85.9553221|           8|  3.5|\n|8028 S Emerson Av...|OsacYNC8NUZfGyuYV...|Restaurants, Sand...|Indianapolis|                     88896|Indianapolis|Salamone Bros Gou...|      46237|   IN|      1|39.649580085|-86.084335197|           8|  3.5|\n+--------------------+--------------------+--------------------+------------+--------------------------+------------+--------------------+-----------+-----+-------+------------+-------------+------------+-----+\nonly showing top 3 rows\n\nroot\n |-- Address: string (nullable = true)\n |-- Business_Id: string (nullable = true)\n |-- Categories: string (nullable = true)\n |-- City: string (nullable = true)\n |-- Document Index (generated): string (nullable = true)\n |-- Metro_Area: string (nullable = true)\n |-- Name: string (nullable = true)\n |-- Postal Code: string (nullable = true)\n |-- State: string (nullable = true)\n |-- Is Open: string (nullable = true)\n |-- Latitude: string (nullable = true)\n |-- Longitude: string (nullable = true)\n |-- Review Count: string (nullable = true)\n |-- Stars: string (nullable = true)\n\n"
     ]
    }
   ],
   "source": [
    "df_metro_raw = spark.read.option('header', True).csv('/yelp/metro_areas.csv')\n",
    "\n",
    "df_metro_raw.show(3)\n",
    "df_metro_raw.printSchema()"
   ]
  },
  {
   "cell_type": "markdown",
   "metadata": {
    "application/vnd.databricks.v1+cell": {
     "cellMetadata": {
      "byteLimit": 2048000,
      "rowLimit": 10000
     },
     "inputWidgets": {},
     "nuid": "4547b5bb-cd57-4594-96d5-0a3082a466df",
     "showTitle": false,
     "tableResultSettingsMap": {},
     "title": ""
    }
   },
   "source": [
    "###2C.4 Simplifying & Renaming Metro Area Columns for Organization\n",
    "* This code creates a temporary view of metro area data and extracts the Business_Id and Metro_Area columns into a new DataFrame. It then displays the resulting data, organized by business ID and metro area, for further analysis.\n",
    "* This results in:\n",
    "\t* Prevention of errors when analyzing further\n",
    "\t* Structures data for analysis\n",
    "\t* Improvement of data accessibility\n",
    " "
   ]
  },
  {
   "cell_type": "code",
   "execution_count": 0,
   "metadata": {
    "application/vnd.databricks.v1+cell": {
     "cellMetadata": {
      "byteLimit": 2048000,
      "rowLimit": 10000
     },
     "inputWidgets": {},
     "nuid": "dd858e99-cb67-4725-9203-d0fa5eb50dff",
     "showTitle": false,
     "tableResultSettingsMap": {},
     "title": ""
    }
   },
   "outputs": [
    {
     "output_type": "stream",
     "name": "stdout",
     "output_type": "stream",
     "text": [
      "-RECORD 0-----------------------------\n business_id | meTyTAo18ulbEu5appPu3w \n metro_area  | Indianapolis           \n-RECORD 1-----------------------------\n business_id | 9Mym57cM01EBl2x3h-Ei5Q \n metro_area  | Indianapolis           \n-RECORD 2-----------------------------\n business_id | OsacYNC8NUZfGyuYVgyKng \n metro_area  | Indianapolis           \n-RECORD 3-----------------------------\n business_id | w7ZyGU1CIIlsb9_xJwbmXg \n metro_area  | Indianapolis           \n-RECORD 4-----------------------------\n business_id | MRHTYIU6-jiziTPm1jFP5w \n metro_area  | Indianapolis           \n-RECORD 5-----------------------------\n business_id | Lpzofxs_5GdRKIfvFcjTjg \n metro_area  | Indianapolis           \n-RECORD 6-----------------------------\n business_id | bBPrDU0lA1vgiQOlDhzuWw \n metro_area  | Indianapolis           \n-RECORD 7-----------------------------\n business_id | Jtd9i4DlCO6JNcYzNiBL9g \n metro_area  | Indianapolis           \n-RECORD 8-----------------------------\n business_id | z2dibYvPufc8UAGWuVZxJQ \n metro_area  | Indianapolis           \n-RECORD 9-----------------------------\n business_id | h0vWIv3xMQQ4L_fYbWAK7Q \n metro_area  | Indianapolis           \n-RECORD 10----------------------------\n business_id | j4S77MajsNN7HV-Ei0YGMg \n metro_area  | Indianapolis           \n-RECORD 11----------------------------\n business_id | cIQv2GqyFLjmGqd6eyvxRQ \n metro_area  | Indianapolis           \n-RECORD 12----------------------------\n business_id | _QAMST-NrQobXduilWEqSw \n metro_area  | Indianapolis           \n-RECORD 13----------------------------\n business_id | 3KF-DmXMqnttG5jwe7gXqg \n metro_area  | Indianapolis           \n-RECORD 14----------------------------\n business_id | lCUQ9mpHAHXms53OsgSb0A \n metro_area  | Indianapolis           \n-RECORD 15----------------------------\n business_id | ulWjI6RDPgSusXZEQlZrGA \n metro_area  | Indianapolis           \n-RECORD 16----------------------------\n business_id | jDL99IpiZWPS8ubQQBjtgg \n metro_area  | Indianapolis           \n-RECORD 17----------------------------\n business_id | iAEEhbfvqlPaITFn1jJy1w \n metro_area  | Indianapolis           \n-RECORD 18----------------------------\n business_id | F79qEV3ulKtZrBeENRi0PA \n metro_area  | Indianapolis           \n-RECORD 19----------------------------\n business_id | asG2hPqUb0lXLksCE6iaBA \n metro_area  | Indianapolis           \nonly showing top 20 rows\n\n"
     ]
    }
   ],
   "source": [
    "df_metro_raw.createOrReplaceTempView(\"metro_raw\")\n",
    "\n",
    "df_metro = spark.sql(\"\"\"\n",
    "    SELECT `Business_Id` AS business_id,\n",
    "            `Metro_Area` AS metro_area\n",
    "    FROM metro_raw\n",
    "\"\"\")\n",
    "\n",
    "df_metro.createOrReplaceTempView(\"metro\")\n",
    "df_metro.show(truncate = False, vertical = True)"
   ]
  },
  {
   "cell_type": "markdown",
   "metadata": {
    "application/vnd.databricks.v1+cell": {
     "cellMetadata": {
      "byteLimit": 2048000,
      "rowLimit": 10000
     },
     "inputWidgets": {},
     "nuid": "062cf4c1-5abc-494a-bf53-e568af486cf3",
     "showTitle": false,
     "tableResultSettingsMap": {},
     "title": ""
    }
   },
   "source": [
    "###2C.5 Creating the Dataframe for Filtered Restaurants"
   ]
  },
  {
   "cell_type": "code",
   "execution_count": 0,
   "metadata": {
    "application/vnd.databricks.v1+cell": {
     "cellMetadata": {
      "byteLimit": 2048000,
      "rowLimit": 10000
     },
     "inputWidgets": {},
     "nuid": "d2fe2ccd-15c5-41fb-a0c1-24442e089b76",
     "showTitle": false,
     "tableResultSettingsMap": {},
     "title": ""
    }
   },
   "outputs": [
    {
     "output_type": "stream",
     "name": "stdout",
     "output_type": "stream",
     "text": [
      "+----------------------+-----------------------------------+-----+------------+--------------------------------------------------------------------------------------------------+\n|business_id           |name                               |stars|review_count|categories                                                                                        |\n+----------------------+-----------------------------------+-----+------------+--------------------------------------------------------------------------------------------------+\n|CF33F8-E6oudUQ46HnavjQ|Sonic Drive-In                     |2.0  |6           |[Burgers, Fast Food, Sandwiches, Food, Ice Cream & Frozen Yogurt, Restaurants]                    |\n|bBDDEgkFA1Otx9Lfe7BZUQ|Sonic Drive-In                     |1.5  |10          |[Ice Cream & Frozen Yogurt, Fast Food, Burgers, Restaurants, Food]                                |\n|il_Ro8jwPlHresjw9EGmBg|Denny's                            |2.5  |28          |[American (Traditional), Restaurants, Diners, Breakfast & Brunch]                                 |\n|MUTTqe8uqyMdBl186RmNeA|Tuna Bar                           |4.0  |245         |[Sushi Bars, Restaurants, Japanese]                                                               |\n|ROeacJQwBeh05Rqg7F6TCg|BAP                                |4.5  |205         |[Korean, Restaurants]                                                                             |\n|kfNv-JZpuN6TVNSO6hHdkw|Hibachi Express                    |4.0  |20          |[Steakhouses, Asian Fusion, Restaurants]                                                          |\n|9OG5YkX1g2GReZM0AskizA|Romano's Macaroni Grill            |2.5  |339         |[Restaurants, Italian]                                                                            |\n|sqSqqLy0sN8n2IZrAbzidQ|Domino's Pizza                     |3.5  |8           |[Pizza, Chicken Wings, Sandwiches, Restaurants]                                                   |\n|kV_Q1oqis8Qli8dUoGpTyQ|Ardmore Pizza                      |3.5  |109         |[Pizza, Restaurants]                                                                              |\n|ljxNT9p0y7YMPx0fcNBGig|Tony's Restaurant & 3rd Street Cafe|3.0  |94          |[Restaurants, Specialty Food, Steakhouses, Food, Italian, Pizza, Pasta Shops]                     |\n|ABxoFuzZy5mqQ8C5FJJajQ|Core de Roma                       |5.0  |12          |[Restaurants, Italian]                                                                            |\n|seKihQKpGGnCeLuELRQPSQ|Twin Peaks                         |3.5  |257         |[Sports Bars, American (New), American (Traditional), Nightlife, Bars, Restaurants]               |\n|8rb-3VYXE37IZix4yOdskw|Sharky's Sports Bar & Grill        |2.5  |29          |[American (Traditional), Bars, Nightlife, Sports Bars, Restaurants]                               |\n|aCDY7vXYMs54EbYuQScsnQ|39 North Taproom & Grill           |4.5  |25          |[American (Traditional), Sports Bars, Restaurants, Bars, Nightlife, Steakhouses, Salad, Beer Bar] |\n|ppFCk9aQkM338Rgwpl2F5A|Wawa                               |3.0  |56          |[Restaurants, Automotive, Delis, Gas Stations, Food, Coffee & Tea, Sandwiches, Convenience Stores]|\n|oaboaRBUgGjbo2kfUIKDLQ|Mike's Ice Cream                   |4.5  |593         |[Ice Cream & Frozen Yogurt, Coffee & Tea, Restaurants, Sandwiches, Food]                          |\n|knQ4vIgx-r85kjlWVVjcpQ|Silver and Blue Outfitters         |4.5  |5           |[Sporting Goods, Sports Wear, Fashion, Restaurants, Fast Food, Sandwiches, Shopping]              |\n|EuRGgOwJ0g1vTj2R04j37Q|Crafty Crab                        |2.5  |14          |[Seafood, Restaurants]                                                                            |\n|TLZ3-eDPLhUzfsWO4ad6Ug|Mahony's Po-Boys & Seafood         |4.0  |382         |[Restaurants, Seafood, Cajun/Creole]                                                              |\n|Dy91wdWkwtI_qgjAIZ0Niw|Taqueria Los Primos                |4.0  |23          |[Mexican, Restaurants]                                                                            |\n+----------------------+-----------------------------------+-----+------------+--------------------------------------------------------------------------------------------------+\nonly showing top 20 rows\n\n"
     ]
    }
   ],
   "source": [
    "df_restaruant = spark.read.table('filtered_restaurants_table')\n",
    "df_restaruant.createOrReplaceTempView(\"df_restaruant\")\n",
    "df_restaruant.show(truncate = False)"
   ]
  },
  {
   "cell_type": "markdown",
   "metadata": {
    "application/vnd.databricks.v1+cell": {
     "cellMetadata": {
      "byteLimit": 2048000,
      "rowLimit": 10000
     },
     "inputWidgets": {},
     "nuid": "6cc80ce7-1bca-4891-bce5-800f497e0585",
     "showTitle": false,
     "tableResultSettingsMap": {},
     "title": ""
    }
   },
   "source": [
    "###2C.6 Analyzing the Relationship Between the Restaurants & Their Location by Metro Area\n",
    "* We've joined metro_raw and df_restaurant tables using Inner Join. This allows us to join records that have that exist in both tables. It also helps us exclude any null values.\n",
    "* By combining the restaurant and metro area data, we are able to analyze the relationship between the restaurants and their location by metro area. \n",
    "* This better organizes the restaurants by their location and can show essential attributes that are relevant for summarization."
   ]
  },
  {
   "cell_type": "code",
   "execution_count": 0,
   "metadata": {
    "application/vnd.databricks.v1+cell": {
     "cellMetadata": {
      "byteLimit": 2048000,
      "rowLimit": 10000
     },
     "inputWidgets": {},
     "nuid": "d53fade5-e56e-44e8-ae2a-2405a4524ed6",
     "showTitle": false,
     "tableResultSettingsMap": {},
     "title": ""
    }
   },
   "outputs": [
    {
     "output_type": "stream",
     "name": "stdout",
     "output_type": "stream",
     "text": [
      "29737\n+--------------------+--------------------+-----+------------+--------------------+------------+\n|         business_id|                name|stars|review_count|          categories|  metro_area|\n+--------------------+--------------------+-----+------------+--------------------+------------+\n|OsacYNC8NUZfGyuYV...|Salamone Bros Gou...|  3.5|           8|[Restaurants, San...|Indianapolis|\n|Lpzofxs_5GdRKIfvF...|           Hangar 58|  3.5|           8|[Chicken Wings, A...|Indianapolis|\n|bBPrDU0lA1vgiQOlD...|          McDonald's|  3.5|           8|[Fast Food, Coffe...|Indianapolis|\n|j4S77MajsNN7HV-Ei...|              Arby's|  3.5|           8|[Sandwiches, Burg...|Indianapolis|\n|ulWjI6RDPgSusXZEQ...|              Arby's|  3.5|           8|[Fast Food, Sandw...|Indianapolis|\n|BbxGGDilVa9QPY82A...|        HotBox Pizza|  3.5|           8|[Restaurants, Pizza]|Indianapolis|\n|fzdl0UsQh90NPw5_M...|            Culver's|  3.5|           9|[Fast Food, Burge...|Indianapolis|\n|h_n1ud_xJSpskAyBw...|               ZESCO|  3.5|           9|[Professional Ser...|Indianapolis|\n|QqfVuZWNQtfwymrj5...|         D & C Pizza|  3.5|           9|[Restaurants, Din...|Indianapolis|\n|7M_VThWEosUVN-3iy...|     Shrimp Hut East|  3.5|           9|[Seafood, Restaur...|Indianapolis|\n+--------------------+--------------------+-----+------------+--------------------+------------+\nonly showing top 10 rows\n\n"
     ]
    }
   ],
   "source": [
    "df_metro_restaurants = spark.sql(\"\"\"\n",
    "SELECT r.business_id, r.name, r.stars, r.review_count, r.categories, m.metro_area\n",
    "FROM df_restaruant AS r\n",
    "INNER JOIN metro_raw AS m\n",
    "  ON r.business_id = m.business_id\n",
    "\"\"\")\n",
    "\n",
    "print(df_metro_restaurants.count())\n",
    "df_metro_restaurants.show(10)"
   ]
  },
  {
   "cell_type": "markdown",
   "metadata": {
    "application/vnd.databricks.v1+cell": {
     "cellMetadata": {
      "byteLimit": 2048000,
      "rowLimit": 10000
     },
     "inputWidgets": {},
     "nuid": "f413a472-e77b-4a3e-a8c6-c4e247ec97e9",
     "showTitle": false,
     "tableResultSettingsMap": {},
     "title": ""
    }
   },
   "source": [
    "###2C.7 Simplifying Restaurants by Metro Area Data\n",
    "* This table view will show the total number of restaurants in top metro areas. This allows us to identify the various metro areas by and their varying number of restaurants concentration.\n",
    "* This simplifies the data by grouping the data by metro_area and the number of businesses in each area.\n",
    "* This supports decision making and expectations for the summarization results. \n",
    "* The displayed result also makes the data more organized and easier to understand."
   ]
  },
  {
   "cell_type": "code",
   "execution_count": 0,
   "metadata": {
    "application/vnd.databricks.v1+cell": {
     "cellMetadata": {
      "byteLimit": 2048000,
      "rowLimit": 10000
     },
     "inputWidgets": {},
     "nuid": "2b0ad841-ab63-41eb-94fc-b6babb8337e8",
     "showTitle": false,
     "tableResultSettingsMap": {},
     "title": ""
    }
   },
   "outputs": [
    {
     "output_type": "display_data",
     "data": {
      "text/html": [
       "<style scoped>\n",
       "  .table-result-container {\n",
       "    max-height: 300px;\n",
       "    overflow: auto;\n",
       "  }\n",
       "  table, th, td {\n",
       "    border: 1px solid black;\n",
       "    border-collapse: collapse;\n",
       "  }\n",
       "  th, td {\n",
       "    padding: 5px;\n",
       "  }\n",
       "  th {\n",
       "    text-align: left;\n",
       "  }\n",
       "</style><div class='table-result-container'><table class='table-result'><thead style='background-color: white'><tr><th>metro_area</th><th>business_id</th></tr></thead><tbody><tr><td>Philadelphia</td><td>9539</td></tr><tr><td>Indianapolis</td><td>2494</td></tr><tr><td>Nashville</td><td>2558</td></tr><tr><td>Boise</td><td>788</td></tr><tr><td>Tampa</td><td>4955</td></tr><tr><td>Edmonton</td><td>1549</td></tr><tr><td>Reno</td><td>903</td></tr><tr><td>New Orleans</td><td>1951</td></tr><tr><td>St Louis</td><td>2975</td></tr><tr><td>Tucson</td><td>1509</td></tr><tr><td>Santa Barbara</td><td>516</td></tr></tbody></table></div>"
      ]
     },
     "metadata": {
      "application/vnd.databricks.v1+output": {
       "addedWidgets": {},
       "aggData": [],
       "aggError": "",
       "aggOverflow": false,
       "aggSchema": [],
       "aggSeriesLimitReached": false,
       "aggType": "",
       "arguments": {},
       "columnCustomDisplayInfos": {},
       "data": [
        [
         "Philadelphia",
         9539
        ],
        [
         "Indianapolis",
         2494
        ],
        [
         "Nashville",
         2558
        ],
        [
         "Boise",
         788
        ],
        [
         "Tampa",
         4955
        ],
        [
         "Edmonton",
         1549
        ],
        [
         "Reno",
         903
        ],
        [
         "New Orleans",
         1951
        ],
        [
         "St Louis",
         2975
        ],
        [
         "Tucson",
         1509
        ],
        [
         "Santa Barbara",
         516
        ]
       ],
       "datasetInfos": [],
       "dbfsResultPath": null,
       "isJsonSchema": true,
       "metadata": {},
       "overflow": false,
       "plotOptions": {
        "customPlotOptions": {},
        "displayType": "table",
        "pivotAggregation": null,
        "pivotColumns": null,
        "xColumns": null,
        "yColumns": null
       },
       "removedWidgets": [],
       "schema": [
        {
         "metadata": "{}",
         "name": "metro_area",
         "type": "\"string\""
        },
        {
         "metadata": "{}",
         "name": "business_id",
         "type": "\"long\""
        }
       ],
       "type": "table"
      }
     },
     "output_type": "display_data"
    },
    {
     "output_type": "display_data",
     "data": {
      "text/plain": [
       "Databricks visualization. Run in Databricks to view."
      ]
     },
     "metadata": {
      "application/vnd.databricks.v1.subcommand+json": {
       "baseErrorDetails": null,
       "bindings": {},
       "collapsed": false,
       "command": "%python\n__backend_agg_display_orig = display\n__backend_agg_dfs = []\ndef __backend_agg_display_new(df):\n    __backend_agg_df_modules = [\"pandas.core.frame\", \"databricks.koalas.frame\", \"pyspark.sql.dataframe\", \"pyspark.pandas.frame\", \"pyspark.sql.connect.dataframe\"]\n    if (type(df).__module__ in __backend_agg_df_modules and type(df).__name__ == 'DataFrame') or isinstance(df, list):\n        __backend_agg_dfs.append(df)\n\ndisplay = __backend_agg_display_new\n\ndef __backend_agg_user_code_fn():\n    import base64\n    exec(base64.standard_b64decode(\"ZnJvbSBweXNwYXJrLnNxbCBpbXBvcnQgZnVuY3Rpb25zIGFzIEYKCmRmX21ldHJvX3Jlc3RhdXJhbnRzX2dyb3VwZWQgPSBkZl9tZXRyb19yZXN0YXVyYW50cy5ncm91cEJ5KCJtZXRyb19hcmVhIikuYWdnKAogICAgRi5jb3VudCgiYnVzaW5lc3NfaWQiKS5hbGlhcygiYnVzaW5lc3NfaWQiKQopCmRpc3BsYXkoZGZfbWV0cm9fcmVzdGF1cmFudHNfZ3JvdXBlZCk=\").decode())\n\ntry:\n    # run user code\n    __backend_agg_user_code_fn()\n\n    #reset display function\n    display = __backend_agg_display_orig\n\n    if len(__backend_agg_dfs) > 0:\n        # create a temp view\n        if type(__backend_agg_dfs[0]).__module__ == \"databricks.koalas.frame\":\n            # koalas dataframe\n            __backend_agg_dfs[0].to_spark().createOrReplaceTempView(\"DatabricksView7b669f1\")\n        elif type(__backend_agg_dfs[0]).__module__ == \"pandas.core.frame\" or isinstance(__backend_agg_dfs[0], list):\n            # pandas dataframe\n            spark.createDataFrame(__backend_agg_dfs[0]).createOrReplaceTempView(\"DatabricksView7b669f1\")\n        else:\n            __backend_agg_dfs[0].createOrReplaceTempView(\"DatabricksView7b669f1\")\n        #run backend agg\n        display(spark.sql(\"\"\"WITH q AS (select * from DatabricksView7b669f1) SELECT `metro_area`,SUM(`business_id`) `column_5207532f2` FROM q GROUP BY `metro_area`\"\"\"))\n    else:\n        displayHTML(\"dataframe no longer exists. If you're using dataframe.display(), use display(dataframe) instead.\")\n\n\nfinally:\n    spark.sql(\"drop view if exists DatabricksView7b669f1\")\n    display = __backend_agg_display_orig\n    del __backend_agg_display_new\n    del __backend_agg_display_orig\n    del __backend_agg_dfs\n    del __backend_agg_user_code_fn\n\n",
       "commandTitle": "Restaurants by Metro Area",
       "commandType": "auto",
       "commandVersion": 0,
       "commentThread": [],
       "commentsVisible": false,
       "contentSha256Hex": null,
       "customPlotOptions": {
        "redashChart": [
         {
          "key": "type",
          "value": "CHART"
         },
         {
          "key": "options",
          "value": {
           "alignYAxesAtZero": true,
           "coefficient": 1,
           "columnConfigurationMap": {
            "x": {
             "column": "metro_area",
             "id": "column_5207532f7"
            },
            "y": [
             {
              "column": "business_id",
              "id": "column_5207532f2",
              "transform": "SUM"
             }
            ]
           },
           "dateTimeFormat": "DD/MM/YYYY HH:mm",
           "direction": {
            "type": "counterclockwise"
           },
           "error_y": {
            "type": "data",
            "visible": true
           },
           "globalSeriesType": "column",
           "isAggregationOn": true,
           "legend": {
            "traceorder": "normal"
           },
           "missingValuesAsZero": true,
           "numberFormat": "0,0.[00000]",
           "percentFormat": "0[.]00%",
           "series": {
            "error_y": {
             "type": "data",
             "visible": true
            },
            "stacking": null
           },
           "seriesOptions": {
            "column_5207532f2": {
             "name": "business_id",
             "type": "column",
             "yAxis": 0
            }
           },
           "showDataLabels": false,
           "sizemode": "diameter",
           "sortX": true,
           "sortY": true,
           "swappedAxes": true,
           "textFormat": "",
           "useAggregationsUi": true,
           "valuesOptions": {},
           "version": 2,
           "xAxis": {
            "labels": {
             "enabled": true
            },
            "type": "-"
           },
           "yAxis": [
            {
             "type": "-"
            },
            {
             "opposite": true,
             "type": "-"
            }
           ]
          }
         }
        ]
       },
       "datasetPreviewNameToCmdIdMap": {},
       "diffDeletes": [],
       "diffInserts": [],
       "displayType": "redashChart",
       "error": null,
       "errorDetails": null,
       "errorSummary": null,
       "errorTraceType": null,
       "finishTime": 0,
       "globalVars": {},
       "guid": "",
       "height": "auto",
       "hideCommandCode": false,
       "hideCommandResult": false,
       "iPythonMetadata": null,
       "inputWidgets": {},
       "isLockedInExamMode": false,
       "latestUser": "a user",
       "latestUserId": null,
       "listResultMetadata": null,
       "metadata": {
        "byteLimit": 2048000,
        "rowLimit": 10000
       },
       "nuid": "8096b505-dc3b-48c6-8932-64fa55f39e5f",
       "origId": 0,
       "parentHierarchy": [],
       "pivotAggregation": null,
       "pivotColumns": null,
       "position": 1.4374985667600413,
       "resultDbfsErrorMessage": null,
       "resultDbfsStatus": "INLINED_IN_TREE",
       "results": null,
       "showCommandTitle": false,
       "startTime": 0,
       "state": "finished",
       "streamStates": {},
       "subcommandOptions": {
        "queryPlan": {
         "groups": [
          {
           "column": "metro_area",
           "type": "column"
          }
         ],
         "selects": [
          {
           "column": "metro_area",
           "type": "column"
          },
          {
           "alias": "column_5207532f2",
           "args": [
            {
             "column": "business_id",
             "type": "column"
            }
           ],
           "function": "SUM",
           "type": "function"
          }
         ]
        }
       },
       "submitTime": 0,
       "subtype": "tableResultSubCmd.visualization",
       "tableResultIndex": 0,
       "tableResultSettingsMap": {},
       "useConsistentColors": false,
       "version": "CommandV1",
       "width": "auto",
       "workflows": [],
       "xColumns": null,
       "yColumns": null
      }
     },
     "output_type": "display_data"
    }
   ],
   "source": [
    "from pyspark.sql import functions as F\n",
    "\n",
    "df_metro_restaurants_grouped = df_metro_restaurants.groupBy(\"metro_area\").agg(\n",
    "    F.count(\"business_id\").alias(\"business_id\")\n",
    ")\n",
    "display(df_metro_restaurants_grouped)"
   ]
  },
  {
   "cell_type": "markdown",
   "metadata": {
    "application/vnd.databricks.v1+cell": {
     "cellMetadata": {
      "byteLimit": 2048000,
      "rowLimit": 10000
     },
     "inputWidgets": {},
     "nuid": "e8ed11ca-d90b-4313-989f-9a7b02e82927",
     "showTitle": false,
     "tableResultSettingsMap": {},
     "title": ""
    }
   },
   "source": [
    "###2C.8 Organizing the Updated Metro Restaurant Data into a Table\n",
    "* After joining the tables together, we've created the table and stored it under the user/hive/warehouse folder. We've also displayed the top 5 rows to show what that table looks like.\n",
    "* This allows us to see more updated data that are more relevant to our needs, and properly organized the table. This table is more reliable for data analyses for restaurant reviews.\n",
    "* We tested our table by showing the first 5 records."
   ]
  },
  {
   "cell_type": "code",
   "execution_count": 0,
   "metadata": {
    "application/vnd.databricks.v1+cell": {
     "cellMetadata": {
      "byteLimit": 2048000,
      "rowLimit": 10000
     },
     "inputWidgets": {},
     "nuid": "eaf2d28c-3260-4e84-9e2d-eb4322b9471d",
     "showTitle": false,
     "tableResultSettingsMap": {},
     "title": ""
    }
   },
   "outputs": [
    {
     "output_type": "stream",
     "name": "stdout",
     "output_type": "stream",
     "text": [
      "building metro_restaurants_table from DataFrame\n"
     ]
    }
   ],
   "source": [
    "FORCE_REBUILD = False\n",
    "TABLE_NAME = \"metro_restaurants_table\"\n",
    "TABLE_PATH = \"/user/hive/warehouse/metro_restaurants_table\"\n",
    "\n",
    "try:\n",
    "  spark.sql(f\"DROP TABLE {TABLE_NAME}\")\n",
    "except:\n",
    "  pass\n",
    "try:\n",
    "  dbutils.fs.rm(TABLE_PATH, recurse=True)\n",
    "except Exception:\n",
    "  pass\n",
    "\n",
    "print(f\"building {TABLE_NAME} from DataFrame\")\n",
    "df_metro_restaurants.write.mode(\"overwrite\").format('parquet').saveAsTable(TABLE_NAME)"
   ]
  },
  {
   "cell_type": "code",
   "execution_count": 0,
   "metadata": {
    "application/vnd.databricks.v1+cell": {
     "cellMetadata": {
      "byteLimit": 2048000,
      "rowLimit": 10000
     },
     "inputWidgets": {},
     "nuid": "866f133c-faae-469d-bd26-601c5f39c055",
     "showTitle": false,
     "tableResultSettingsMap": {},
     "title": ""
    }
   },
   "outputs": [
    {
     "output_type": "stream",
     "name": "stdout",
     "output_type": "stream",
     "text": [
      "+--------------------+--------------------+-----+------------+--------------------+------------+\n|         business_id|                name|stars|review_count|          categories|  metro_area|\n+--------------------+--------------------+-----+------------+--------------------+------------+\n|OsacYNC8NUZfGyuYV...|Salamone Bros Gou...|  3.5|           8|[Restaurants, San...|Indianapolis|\n|Lpzofxs_5GdRKIfvF...|           Hangar 58|  3.5|           8|[Chicken Wings, A...|Indianapolis|\n|bBPrDU0lA1vgiQOlD...|          McDonald's|  3.5|           8|[Fast Food, Coffe...|Indianapolis|\n|j4S77MajsNN7HV-Ei...|              Arby's|  3.5|           8|[Sandwiches, Burg...|Indianapolis|\n|ulWjI6RDPgSusXZEQ...|              Arby's|  3.5|           8|[Fast Food, Sandw...|Indianapolis|\n+--------------------+--------------------+-----+------------+--------------------+------------+\nonly showing top 5 rows\n\n"
     ]
    }
   ],
   "source": [
    "spark.sql(\"\"\"\n",
    "SELECT * FROM metro_restaurants_table\n",
    "\"\"\").show(5)"
   ]
  },
  {
   "cell_type": "markdown",
   "metadata": {
    "application/vnd.databricks.v1+cell": {
     "cellMetadata": {
      "byteLimit": 2048000,
      "rowLimit": 10000
     },
     "inputWidgets": {},
     "nuid": "c3a863a9-d7e8-4e5a-97be-a4e083139de2",
     "showTitle": false,
     "tableResultSettingsMap": {},
     "title": ""
    }
   },
   "source": [
    "## 2E. Identifying the Reviews for Restaurants (restaurant_review)\n",
    "Analyzing the relationship between restaurants, their metro areas, and their reviews"
   ]
  },
  {
   "cell_type": "markdown",
   "metadata": {
    "application/vnd.databricks.v1+cell": {
     "cellMetadata": {
      "byteLimit": 2048000,
      "rowLimit": 10000
     },
     "inputWidgets": {},
     "nuid": "7416abd1-0558-43b3-8549-fe8b57d6ae25",
     "showTitle": false,
     "tableResultSettingsMap": {},
     "title": ""
    }
   },
   "source": [
    "### 2E.1 Loading Review Table"
   ]
  },
  {
   "cell_type": "code",
   "execution_count": 0,
   "metadata": {
    "application/vnd.databricks.v1+cell": {
     "cellMetadata": {
      "byteLimit": 2048000,
      "rowLimit": 10000
     },
     "inputWidgets": {},
     "nuid": "ca07b91f-e810-40fc-add4-db936618ae86",
     "showTitle": false,
     "tableResultSettingsMap": {},
     "title": ""
    }
   },
   "outputs": [
    {
     "output_type": "stream",
     "name": "stdout",
     "output_type": "stream",
     "text": [
      "review table rebuilt from parquet files.\n+------------+\n|review_count|\n+------------+\n|     6990280|\n+------------+\n\n-RECORD 0-------------------------------------\n business_id | XQfwVwDr-v0ZS3_CbbE5Xw         \n cool        | 0                              \n date        | 2018-07-07 22:09:11            \n funny       | 0                              \n review_id   | KU_O5udG6zpxOg-VcAEodg         \n stars       | 3.0                            \n text        | If you decide to eat here, ... \n useful      | 0                              \n user_id     | mh_-eMZ6K5RLWhZyISBhwA         \n-RECORD 1-------------------------------------\n business_id | 7ATYjTIgM3jUlt4UM3IypQ         \n cool        | 1                              \n date        | 2012-01-03 15:28:18            \n funny       | 0                              \n review_id   | BiTunyQ73aT9WBnpR9DZGw         \n stars       | 5.0                            \n text        | I've taken a lot of spin cl... \n useful      | 1                              \n user_id     | OyoGAe7OKpv6SyGZT5g77Q         \n-RECORD 2-------------------------------------\n business_id | YjUWPpI6HXG530lwP-fb2A         \n cool        | 0                              \n date        | 2014-02-05 20:30:30            \n funny       | 0                              \n review_id   | saUsX_uimxRlCVr67Z4Jig         \n stars       | 3.0                            \n text        | Family diner. Had the buffe... \n useful      | 0                              \n user_id     | 8g_iMtfSiwikVnbP2etR0A         \nonly showing top 3 rows\n\n"
     ]
    }
   ],
   "source": [
    "if spark.catalog._jcatalog.tableExists('review_table'):\n",
    "  print('review_table already loaded in memory')\n",
    "else:\n",
    "  spark.sql(f\"\"\"\n",
    "    CREATE TABLE review_table \n",
    "    USING PARQUET \n",
    "    LOCATION '/user/hive/warehouse/review_table' \n",
    "  \"\"\")\n",
    "  print('review table rebuilt from parquet files.')\n",
    "\n",
    "spark.sql(\"\"\"\n",
    "SELECT COUNT(*) AS review_count\n",
    "FROM review_table\n",
    "\"\"\").show()\n",
    "\n",
    "spark.sql(\"\"\"\n",
    "SELECT *\n",
    "FROM review_table\n",
    "\"\"\").show(3, vertical = True, truncate = 30)"
   ]
  },
  {
   "cell_type": "markdown",
   "metadata": {
    "application/vnd.databricks.v1+cell": {
     "cellMetadata": {
      "byteLimit": 2048000,
      "rowLimit": 10000
     },
     "inputWidgets": {},
     "nuid": "959af25f-2c6f-4d1b-a907-ad4f4fa0c217",
     "showTitle": false,
     "tableResultSettingsMap": {},
     "title": ""
    }
   },
   "source": [
    "###2E.2 Proportional Analysis of the Review Distribution by Star Ratings\n",
    "* Almost half of the review consists of 5 stars (46.23%). Followed by 4 and 1 stars with relatively similar percentage (20.78% and 15.20%). Lastly, user 3 and 2 stars have the lowest number of stars with only 9.9% and 7.79% of the reviews.\n",
    "* This gives us a detailed and proportional analysis of the review distribution by star ratings. \n",
    "* From the visualization and analysis, we can see that most of the reviews are either really positive, or really negative. \n",
    "* We can assume that most users only publish reviews when they have strong opinions. \n",
    "* This is important when considering the reviews credibility and the experiences a potential customer can encounter with that restaurant."
   ]
  },
  {
   "cell_type": "code",
   "execution_count": 0,
   "metadata": {
    "application/vnd.databricks.v1+cell": {
     "cellMetadata": {
      "byteLimit": 2048000,
      "rowLimit": 10000
     },
     "inputWidgets": {},
     "nuid": "a000682c-6d6b-4ed1-8a13-7ea442056e5d",
     "showTitle": false,
     "tableResultSettingsMap": {},
     "title": ""
    }
   },
   "outputs": [
    {
     "output_type": "stream",
     "name": "stdout",
     "output_type": "stream",
     "text": [
      "+-----+------------+----------+\n|stars|review_count|percentage|\n+-----+------------+----------+\n|  5.0|     3231627|     46.23|\n|  4.0|     1452918|     20.78|\n|  1.0|     1069561|     15.30|\n|  3.0|      691934|      9.90|\n|  2.0|      544240|      7.79|\n+-----+------------+----------+\n\n"
     ]
    }
   ],
   "source": [
    "#Show distribution of reviews based on stars\n",
    "spark.sql(\"\"\"\n",
    "SELECT \n",
    "    stars, \n",
    "    COUNT(*) AS review_count, \n",
    "    ROUND((COUNT(*) * 100.0 / total_reviews), 2) AS percentage\n",
    "FROM \n",
    "    review_table,\n",
    "    (SELECT COUNT(*) AS total_reviews FROM review_table) AS total\n",
    "GROUP BY \n",
    "    stars, total_reviews\n",
    "ORDER BY \n",
    "    percentage DESC\n",
    "\"\"\").show()"
   ]
  },
  {
   "cell_type": "markdown",
   "metadata": {
    "application/vnd.databricks.v1+cell": {
     "cellMetadata": {
      "byteLimit": 2048000,
      "rowLimit": 10000
     },
     "inputWidgets": {},
     "nuid": "5a3c8dfa-065f-4a66-bee5-78ff5154f8c1",
     "showTitle": false,
     "tableResultSettingsMap": {},
     "title": ""
    }
   },
   "source": [
    "###2E.3 Analyzing of User Engagement Metrics\n",
    "* As we have expected, reviews voted as Useful more than the ones with funny or cool compliments. Therefore, we're gonna use this as the basis of filtering out good reviews, since it has the highest count of about 1.6 million compared to other ones.\n",
    "* This allows us to look deeper into the user engagement metrics and the relationship between them. \n",
    "* With data-driven insights, we concluded that “useful” would be the most relevant for a summarization of reviews. \n",
    "* Since “useful” was one of the more prevalent tags, it can be inferred that this type of feedback resonates with the audience and Yelp community."
   ]
  },
  {
   "cell_type": "code",
   "execution_count": 0,
   "metadata": {
    "application/vnd.databricks.v1+cell": {
     "cellMetadata": {
      "byteLimit": 2048000,
      "rowLimit": 10000
     },
     "inputWidgets": {},
     "nuid": "7d7f4034-f247-4b3f-af0a-57a01c05336f",
     "showTitle": false,
     "tableResultSettingsMap": {},
     "title": ""
    }
   },
   "outputs": [
    {
     "output_type": "stream",
     "name": "stdout",
     "output_type": "stream",
     "text": [
      "+------------+-----------------+-----------+---------------+----------+----------------+\n|useful_count|useful_funny_corr|funny_count|funny_cool_corr|cool_count|cool_useful_corr|\n+------------+-----------------+-----------+---------------+----------+----------------+\n|     1609831|             0.51|     404167|           0.61|    595579|            0.72|\n+------------+-----------------+-----------+---------------+----------+----------------+\n\n"
     ]
    }
   ],
   "source": [
    "spark.sql(\"\"\"\n",
    "SELECT\n",
    "    SUM(CASE WHEN useful > 1 THEN 1 ELSE 0 END) AS useful_count,\n",
    "    ROUND(CORR(useful, funny),2) AS useful_funny_corr,\n",
    "    SUM(CASE WHEN funny > 1 THEN 1 ELSE 0 END) AS funny_count,\n",
    "    ROUND(CORR(funny, cool),2) AS funny_cool_corr,\n",
    "    SUM(CASE WHEN cool > 1 THEN 1 ELSE 0 END) AS cool_count,\n",
    "    ROUND(CORR(cool, useful),2) AS cool_useful_corr\n",
    "FROM \n",
    "    review_table\n",
    "\"\"\").show()"
   ]
  },
  {
   "cell_type": "markdown",
   "metadata": {
    "application/vnd.databricks.v1+cell": {
     "cellMetadata": {
      "byteLimit": 2048000,
      "rowLimit": 10000
     },
     "inputWidgets": {},
     "nuid": "3bb757b7-803e-4af2-bb2f-c37433d40bdb",
     "showTitle": false,
     "tableResultSettingsMap": {},
     "title": ""
    }
   },
   "source": [
    "###2E.4 Understanding Trends & What is Relevant to Yelp Users\n",
    "* Since the number of useful counts with greater than 1 useful vote to greater than 5 useful votes decreased massively (by 82%), we're going to just use reviews with useful count > 1.\n",
    "* Analyzing the distribution of “useful” reviews emphasizes the value of certain reviews and user engagement. \n",
    "* This display of raw user activity is insightful in understanding trends and what is deemed relevant by the Yelp community. "
   ]
  },
  {
   "cell_type": "code",
   "execution_count": 0,
   "metadata": {
    "application/vnd.databricks.v1+cell": {
     "cellMetadata": {
      "byteLimit": 2048000,
      "rowLimit": 10000
     },
     "inputWidgets": {},
     "nuid": "dee50624-a881-4d1c-beff-b9ee8a508ec5",
     "showTitle": false,
     "tableResultSettingsMap": {},
     "title": ""
    }
   },
   "outputs": [
    {
     "output_type": "stream",
     "name": "stdout",
     "output_type": "stream",
     "text": [
      "+------------------------+------------------------+----------------------------+----------------------------+\n|useful_count_with_1_more|useful_count_with_5_more|useful_count_with_10_or_more|useful_count_with_20_or_more|\n+------------------------+------------------------+----------------------------+----------------------------+\n|                 1609831|                  279476|                       83325|                       19357|\n+------------------------+------------------------+----------------------------+----------------------------+\n\n+-------------------------+-------------------------+--------------------------+--------------------------+\n|useful_pct_with_1_or_more|useful_pct_with_5_or_more|useful_pct_with_10_or_more|useful_pct_with_20_or_more|\n+-------------------------+-------------------------+--------------------------+--------------------------+\n|                     23.0|                      4.0|                       1.2|                       0.3|\n+-------------------------+-------------------------+--------------------------+--------------------------+\n\n"
     ]
    }
   ],
   "source": [
    "spark.sql(\"\"\"\n",
    "SELECT\n",
    "    SUM(CASE WHEN useful > 1 THEN 1 ELSE 0 END) AS useful_count_with_1_more,\n",
    "    SUM(CASE WHEN useful > 5 THEN 1 ELSE 0 END) AS useful_count_with_5_more,\n",
    "    SUM(CASE WHEN useful > 10 THEN 1 ELSE 0 END) AS useful_count_with_10_or_more,\n",
    "    SUM(CASE WHEN useful > 20 THEN 1 ELSE 0 END) AS useful_count_with_20_or_more\n",
    "FROM \n",
    "    review_table\n",
    "\"\"\").show()\n",
    "\n",
    "spark.sql(\"\"\"\n",
    "SELECT\n",
    "    ROUND(SUM(CASE WHEN useful > 1 THEN 1 ELSE 0 END) * 100.0 / 6990280, 1) AS useful_pct_with_1_or_more,\n",
    "    ROUND(SUM(CASE WHEN useful > 5 THEN 1 ELSE 0 END) * 100.0 / 6990280, 1) AS useful_pct_with_5_or_more,\n",
    "    ROUND(SUM(CASE WHEN useful > 10 THEN 1 ELSE 0 END) * 100.0 / 6990280, 1) AS useful_pct_with_10_or_more,\n",
    "    ROUND(SUM(CASE WHEN useful > 20 THEN 1 ELSE 0 END) * 100.0 / 6990280, 1) AS useful_pct_with_20_or_more\n",
    "FROM \n",
    "    review_table\n",
    "\"\"\").show()"
   ]
  },
  {
   "cell_type": "markdown",
   "metadata": {
    "application/vnd.databricks.v1+cell": {
     "cellMetadata": {
      "byteLimit": 2048000,
      "rowLimit": 10000
     },
     "inputWidgets": {},
     "nuid": "6b6bed65-6042-4090-975c-1ffb66d831e2",
     "showTitle": false,
     "tableResultSettingsMap": {},
     "title": ""
    }
   },
   "source": [
    "###2E.5 Insights to the Distribution & Growth of Reviews Over Time\n",
    "* We will only focus on reviews that are most-up-to date, which is 2015 or later. This is reasonable since we will still have 75% of reviews left after filtering the data (minus however many reviews we're filtering from other attributes).\n",
    "* This provides valuable insights to the distribution and growth of reviews over time. \n",
    "* This allows us to analyze the review volume trends and their impact on overall user activity. \n",
    "* We can infer that reviews that are more recent are more relevant to a potential customer that has never been to the restaurant before. \n",
    "* More recent reviews could be more accurate representations and testimonials of the restaurants than ones from longer ago. \n",
    "* We can also infer from this data if a restaurant has a sudden influx of reviews, which indicates more attention and engagement with this business."
   ]
  },
  {
   "cell_type": "code",
   "execution_count": 0,
   "metadata": {
    "application/vnd.databricks.v1+cell": {
     "cellMetadata": {
      "byteLimit": 2048000,
      "rowLimit": 10000
     },
     "inputWidgets": {},
     "nuid": "5819972d-c801-46c1-a222-a5e1be505579",
     "showTitle": false,
     "tableResultSettingsMap": {},
     "title": ""
    }
   },
   "outputs": [
    {
     "output_type": "stream",
     "name": "stdout",
     "output_type": "stream",
     "text": [
      "+-----------+------------+---------------------+\n|review_year|review_count|cumulative_percentage|\n+-----------+------------+---------------------+\n|       2005|         854|               100.00|\n|       2006|        3853|                99.99|\n|       2007|       15363|                99.93|\n|       2008|       48226|                99.71|\n|       2009|       74387|                99.02|\n|       2010|      138587|                97.96|\n|       2011|      230813|                95.98|\n|       2012|      286570|                92.67|\n|       2013|      383950|                88.57|\n|       2014|      522275|                83.08|\n|       2015|      688415|                75.61|\n|       2016|      758882|                65.76|\n|       2017|      820048|                54.91|\n|       2018|      906362|                43.18|\n|       2019|      907284|                30.21|\n|       2020|      554557|                17.23|\n|       2021|      618189|                 9.30|\n|       2022|       31665|                 0.45|\n+-----------+------------+---------------------+\n\n"
     ]
    }
   ],
   "source": [
    "spark.sql(\"\"\"\n",
    "WITH yearly_counts AS (\n",
    "    SELECT \n",
    "        YEAR(CAST(date AS DATE)) AS review_year,\n",
    "        COUNT(*) AS review_count\n",
    "    FROM \n",
    "        review_table\n",
    "    GROUP BY \n",
    "        review_year\n",
    "),\n",
    "total_reviews AS (\n",
    "    SELECT SUM(review_count) AS total_count FROM yearly_counts\n",
    "),\n",
    "cumulative_data AS (\n",
    "    SELECT\n",
    "        yc.review_year,\n",
    "        yc.review_count,\n",
    "        SUM(yc.review_count) OVER (ORDER BY yc.review_year DESC) AS cumulative_count,\n",
    "        ROUND(SUM(yc.review_count) OVER (ORDER BY yc.review_year DESC) * 100.0 / tr.total_count, 2) AS cumulative_percentage\n",
    "    FROM\n",
    "        yearly_counts yc\n",
    "        CROSS JOIN total_reviews tr\n",
    ")\n",
    "SELECT\n",
    "    review_year,\n",
    "    review_count,\n",
    "    cumulative_percentage\n",
    "FROM\n",
    "    cumulative_data\n",
    "ORDER BY\n",
    "    review_year\n",
    "\"\"\").show()\n"
   ]
  },
  {
   "cell_type": "markdown",
   "metadata": {
    "application/vnd.databricks.v1+cell": {
     "cellMetadata": {
      "byteLimit": 2048000,
      "rowLimit": 10000
     },
     "inputWidgets": {},
     "nuid": "ecc64c31-1a11-4d3c-9f61-a4fc535c1bfa",
     "showTitle": false,
     "tableResultSettingsMap": {},
     "title": ""
    }
   },
   "source": [
    "###2E.6 Understanding Restaurants Based on Review Activity & Metro Area\n",
    "* We are trying to be more insightful with the data, with more inspection of the data to understand the variables and dataset, as well as the size of the dataset and scale of information. This gives us an idea of how detailed the data is, and in turn, how detailed the summarization may be.  \n",
    "* The second query allows more understanding of restaurants based on review activity, which can indicate different levels of user and review engagement. \n",
    "* The third query allows us to analyze the restaurant distribution by metro area, and the average rating per metro area. With this data, we can assume that areas with more restaurants may have more competition, therefore higher standards to meet for higher ratings, and a higher risk of failing to meet this standard leading to lower ratings. This can also be applied to areas with a lower amount of restaurants, where perhaps competition and standards are not as high, so there could be a chance customers are more easily satisfied.\n",
    "* The geographic data related to restaurants and their reviews is incredibly insightful to the credibility and judgement of the reviews and ratings.\n"
   ]
  },
  {
   "cell_type": "code",
   "execution_count": 0,
   "metadata": {
    "application/vnd.databricks.v1+cell": {
     "cellMetadata": {
      "byteLimit": 2048000,
      "rowLimit": 10000
     },
     "inputWidgets": {},
     "nuid": "44119207-21ad-4736-b149-a20a812924a1",
     "showTitle": false,
     "tableResultSettingsMap": {},
     "title": ""
    }
   },
   "outputs": [
    {
     "output_type": "stream",
     "name": "stdout",
     "output_type": "stream",
     "text": [
      "+--------------------+--------------------+-----+------------+--------------------+------------+\n|         business_id|                name|stars|review_count|          categories|  metro_area|\n+--------------------+--------------------+-----+------------+--------------------+------------+\n|OsacYNC8NUZfGyuYV...|Salamone Bros Gou...|  3.5|           8|[Restaurants, San...|Indianapolis|\n|Lpzofxs_5GdRKIfvF...|           Hangar 58|  3.5|           8|[Chicken Wings, A...|Indianapolis|\n|bBPrDU0lA1vgiQOlD...|          McDonald's|  3.5|           8|[Fast Food, Coffe...|Indianapolis|\n|j4S77MajsNN7HV-Ei...|              Arby's|  3.5|           8|[Sandwiches, Burg...|Indianapolis|\n|ulWjI6RDPgSusXZEQ...|              Arby's|  3.5|           8|[Fast Food, Sandw...|Indianapolis|\n|BbxGGDilVa9QPY82A...|        HotBox Pizza|  3.5|           8|[Restaurants, Pizza]|Indianapolis|\n|fzdl0UsQh90NPw5_M...|            Culver's|  3.5|           9|[Fast Food, Burge...|Indianapolis|\n|h_n1ud_xJSpskAyBw...|               ZESCO|  3.5|           9|[Professional Ser...|Indianapolis|\n|QqfVuZWNQtfwymrj5...|         D & C Pizza|  3.5|           9|[Restaurants, Din...|Indianapolis|\n|7M_VThWEosUVN-3iy...|     Shrimp Hut East|  3.5|           9|[Seafood, Restaur...|Indianapolis|\n|-s8cHUa89WF4A5JWZ...|        La Costenita|  3.5|           9|[Restaurants, Mex...|Indianapolis|\n|vhmZBWquMOzQ7H-LC...|   Exotic on the Run|  3.5|           9|[Seafood, Restaur...|Indianapolis|\n|Fq3JrI6Mc4Nk1Zl9H...|Gallagher's Pub &...|  3.5|           9|[Nightlife, Bars,...|Indianapolis|\n|AoRG3YSb2-TD79A74...|   Yangon Restaurant|  3.5|           9|[Pan Asian, Burme...|Indianapolis|\n|hAVlN3CV9x4fKGiRr...|   Papa John's Pizza|  3.5|           9|[Restaurants, Pizza]|Indianapolis|\n|8NQR5YtvNhe1l4fgW...|Chicago Fish and ...|  3.5|           9|[Fish & Chips, Ch...|Indianapolis|\n|xTgXmtYAoH2YqHqkq...|       Marco's Pizza|  3.5|           9|[Pizza, Restaurants]|Indianapolis|\n|Xrvmepg4hVZu3TTT9...|             Wendy's|  3.5|          10|[Restaurants, Fas...|Indianapolis|\n|oqzWWmEDG4bT8qWUg...|           The Shark|  3.5|          10|[Food, Specialty ...|Indianapolis|\n|4_CMbZf-GYd8CIPsf...|       Marco's Pizza|  3.5|          10|[Pizza, Restaurants]|Indianapolis|\n+--------------------+--------------------+-----+------------+--------------------+------------+\nonly showing top 20 rows\n\n+--------+\n|count(1)|\n+--------+\n|   29737|\n+--------+\n\n"
     ]
    }
   ],
   "source": [
    "spark.sql(\"\"\"\n",
    "SELECT * FROM metro_restaurants_table\n",
    "\"\"\").show()\n",
    "\n",
    "spark.sql(\"\"\"\n",
    "SELECT COUNT(*) FROM metro_restaurants_table AS total_restaurant\n",
    "\"\"\").show()"
   ]
  },
  {
   "cell_type": "code",
   "execution_count": 0,
   "metadata": {
    "application/vnd.databricks.v1+cell": {
     "cellMetadata": {
      "byteLimit": 2048000,
      "rowLimit": 10000
     },
     "inputWidgets": {},
     "nuid": "d1aa2d64-5b3d-412c-b861-d24b0fc2b940",
     "showTitle": false,
     "tableResultSettingsMap": {},
     "title": ""
    }
   },
   "outputs": [
    {
     "output_type": "stream",
     "name": "stdout",
     "output_type": "stream",
     "text": [
      "+-------+-----------+------------+------------+------------+------------+------------+------------+------------+----------------+\n|review0|review0to10|review10to20|review20to30|review30to40|review40to50|review50to60|review60to70|review70to80|review100_ormore|\n+-------+-----------+------------+------------+------------+------------+------------+------------+------------+----------------+\n|      0|       4501|        4981|        3262|        2331|        1758|        1387|        1142|         984|            7804|\n+-------+-----------+------------+------------+------------+------------+------------+------------+------------+----------------+\n\n"
     ]
    }
   ],
   "source": [
    "#Total = 29,737 restaurants\n",
    "spark.sql(\"\"\"\n",
    "SELECT     \n",
    "    SUM(CASE WHEN review_count = 0 THEN 1 ELSE 0 END) AS review0,\n",
    "    SUM(CASE WHEN review_count > 0 AND review_count <= 10 THEN 1 ELSE 0 END) AS review0to10,\n",
    "    SUM(CASE WHEN review_count > 10 AND review_count <= 20 THEN 1 ELSE 0 END) AS review10to20,\n",
    "    SUM(CASE WHEN review_count > 20 AND review_count <= 30 THEN 1 ELSE 0 END) AS review20to30,\n",
    "    SUM(CASE WHEN review_count > 30 AND review_count <= 40 THEN 1 ELSE 0 END) AS review30to40,\n",
    "    SUM(CASE WHEN review_count > 40 AND review_count <= 50 THEN 1 ELSE 0 END) AS review40to50,\n",
    "    SUM(CASE WHEN review_count > 50 AND review_count <= 60 THEN 1 ELSE 0 END) AS review50to60,\n",
    "    SUM(CASE WHEN review_count > 60 AND review_count <= 70 THEN 1 ELSE 0 END) AS review60to70,\n",
    "    SUM(CASE WHEN review_count > 70 AND review_count <= 80 THEN 1 ELSE 0 END) AS review70to80,\n",
    "    SUM(CASE WHEN review_count > 100 THEN 1 ELSE 0 END) AS review100_ormore\n",
    "FROM metro_restaurants_table\n",
    "\"\"\").show()"
   ]
  },
  {
   "cell_type": "code",
   "execution_count": 0,
   "metadata": {
    "application/vnd.databricks.v1+cell": {
     "cellMetadata": {
      "byteLimit": 2048000,
      "rowLimit": 10000
     },
     "inputWidgets": {},
     "nuid": "60f32d87-ec76-4fea-9a31-85aba3857d20",
     "showTitle": false,
     "tableResultSettingsMap": {},
     "title": ""
    }
   },
   "outputs": [
    {
     "output_type": "display_data",
     "data": {
      "image/png": "[encoded data removed]"
     },
     "metadata": {
      "application/vnd.databricks.v1+output": {
       "addedWidgets": {},
       "arguments": {},
       "data": "data:image/png;base64,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\n",
       "datasetInfos": [],
       "metadata": {},
       "removedWidgets": [],
       "type": "image"
      }
     },
     "output_type": "display_data"
    }
   ],
   "source": [
    "from pyspark.sql import SparkSession\n",
    "import matplotlib.pyplot as plt\n",
    "\n",
    "# Step 1: Extract review counts\n",
    "review_counts_df = spark.sql(\"\"\"\n",
    "    SELECT review_count\n",
    "    FROM metro_restaurants_table\n",
    "\"\"\").toPandas()  # Convert Spark DataFrame to pandas\n",
    "\n",
    "# Step 2: Plot the histogram\n",
    "plt.figure(figsize=(10, 6))\n",
    "plt.hist(review_counts_df['review_count'], bins=20, edgecolor='black', color='skyblue')\n",
    "plt.title('Histogram of Restaurant Review Counts')\n",
    "plt.xlabel('Review Count')\n",
    "plt.ylabel('Number of Restaurants')\n",
    "plt.grid(axis='y', linestyle='--', linewidth=0.7, alpha=0.7)\n",
    "plt.show()"
   ]
  },
  {
   "cell_type": "code",
   "execution_count": 0,
   "metadata": {
    "application/vnd.databricks.v1+cell": {
     "cellMetadata": {
      "byteLimit": 2048000,
      "rowLimit": 10000
     },
     "inputWidgets": {},
     "nuid": "d52eb4f9-36ce-47a8-af1b-cd796090fea8",
     "showTitle": false,
     "tableResultSettingsMap": {},
     "title": ""
    }
   },
   "outputs": [
    {
     "output_type": "stream",
     "name": "stdout",
     "output_type": "stream",
     "text": [
      "+-------------+----------------+----------+----------------------------+\n|   metro_area|restaurant_count|avg_rating|avg_restaurant_review_counts|\n+-------------+----------------+----------+----------------------------+\n| Philadelphia|            9539|       3.5|                       85.41|\n|        Tampa|            4955|      3.51|                      105.75|\n|     St Louis|            2975|      3.33|                       80.03|\n|    Nashville|            2558|      3.37|                      107.73|\n| Indianapolis|            2494|      3.39|                       86.85|\n|  New Orleans|            1951|      3.52|                      195.23|\n|     Edmonton|            1549|      3.49|                       28.96|\n|       Tucson|            1509|      3.37|                      114.54|\n|         Reno|             903|      3.45|                      176.45|\n|        Boise|             788|      3.44|                       90.76|\n|Santa Barbara|             516|       3.8|                      247.14|\n+-------------+----------------+----------+----------------------------+\n\n"
     ]
    }
   ],
   "source": [
    "spark.sql('''\n",
    "SELECT DISTINCT(metro_area), COUNT(*) AS restaurant_count, ROUND(AVG(stars),2) AS avg_rating, ROUND(AVG(review_count),2)AS avg_restaurant_review_counts\n",
    "FROM metro_restaurants_table\n",
    "GROUP BY metro_area\n",
    "ORDER BY restaurant_count DESC\n",
    "''').show()"
   ]
  },
  {
   "cell_type": "markdown",
   "metadata": {
    "application/vnd.databricks.v1+cell": {
     "cellMetadata": {
      "byteLimit": 2048000,
      "rowLimit": 10000
     },
     "inputWidgets": {},
     "nuid": "4883b704-25cb-4bb6-b3e6-c4cb57bc3568",
     "showTitle": false,
     "tableResultSettingsMap": {},
     "title": ""
    }
   },
   "source": [
    "### 2E.7 Selecting Relevant Fields from Reviews & Metro_Restaurants Table\n",
    "\n",
    "* The df_reviews contain business_id (the identification of a certain restaurant), and information related to reviews of that business_id.\n",
    "* The metro_restaurants_table contains business_id, and information related to the restaurants.\n",
    "\n",
    "JOIN Selection:\n",
    "  - As the purpose of the project is to summarize reviews for each restaurant, we will use *INNER JOIN* to filter out restaurants without reviews, or reviews without specified restaurants.\n",
    "\n",
    "Field Selection:\n",
    "\n",
    "- Field: review_table.business_id\n",
    "  -  Decision: Include\n",
    "  - Reason: We would need this to use as a parameter when running the restaurant to summarize.\n",
    "\n",
    "- Field: review_table.cool\n",
    "  - Decision: Exclude\n",
    "  - Reason: Based on our analysis above, reviews with at least 1 cool votes only consist of 595579 reviews. We won't filter reviews based on this, therefore we don't need to include it.\n",
    "\n",
    "- Field: review_table.date\n",
    "  - Decision: Include\n",
    "  - Reason: A restaurant might have improved over time. Therefore, it’s important to consider the date of review\n",
    "\n",
    "- Field: review_table.funny\n",
    "  - Decision: Exclude\n",
    "  - Reason: Not very useful and does not add value to the overall review\n",
    "\n",
    "- Field: review_table.review_id\n",
    "  - Decision: Exclude\n",
    "  - Reason: Since we’re summarizing the reviews, we don’t care about particular reviews, only the general sentiment of all the reviews\n",
    "\n",
    "- Field: review_table.stars\n",
    "  - Decision: Include\n",
    "  - Reason: Gives us an easy way to indicate if the review is in favor (high # of stars) or not in favor (low # of stars) of the restaurant\n",
    "\n",
    "- Field: review_table.text\n",
    "  - Decision: Include\n",
    "  - Reason: This is the actual description of the review we’re summarizing\n",
    "\n",
    "- Field: review_table.useful\n",
    "  - Decision: Include\n",
    "  - Reason: Allows to give identify and give more weights to reviews users consider ‘useful’\n",
    "\n",
    "- Field: review_table.user_id\n",
    "  - Decision: Include\n",
    "  - Reason: Foreign key of user table, which allows us to join to that table\n",
    "\n",
    "- Field: metro_restaurant_table.business_id\n",
    "  - Decision: Exclude\n",
    "  - Reason: primary key allowing us to connect to other table, but we don’t need to show it as we already have the name of restaurant\n",
    "\n",
    "- Field: metro_restaurant_table.name\n",
    "  - Decision: Include\n",
    "  - Reason: Allows us to identify the name of the business we’re summarizing\n",
    "\n",
    "- Field: metro_restaurant_table.stars\n",
    "  - Decision: Include\n",
    "  - Reason: allows us to easily assess if people overall are generally in favor or not in favor of the restaurant\n",
    "\n",
    "- Field: metro_restaurant_table.review_count\n",
    "  - Decision: Exclude\n",
    "  - Reason: Whether a restaurant has low review_count or high review_count, we’re going to summarize its review regardless\n",
    "\n",
    "- Field: metro_restaurant_table.categories\n",
    "  - Decision: Include\n",
    "  - Reason: Shows more info about the restaurant. We need to show this when we're presenting.\n",
    "\n",
    "- Field: metro_restaurant_table.metro_area\n",
    "  - Decision: Include\n",
    "  - Reason: As part of the team project notebook, we need to process data by metro area.\n",
    "\n"
   ]
  },
  {
   "cell_type": "code",
   "execution_count": 0,
   "metadata": {
    "application/vnd.databricks.v1+cell": {
     "cellMetadata": {
      "byteLimit": 2048000,
      "rowLimit": 10000
     },
     "inputWidgets": {},
     "nuid": "1aebdc30-441b-4bdb-8886-fc10756af7ec",
     "showTitle": false,
     "tableResultSettingsMap": {},
     "title": ""
    }
   },
   "outputs": [
    {
     "output_type": "stream",
     "name": "stdout",
     "output_type": "stream",
     "text": [
      "Record count: 3134929\n-RECORD 0----------------------------------------------------------------------------------------------------------------\n business_id      | YjUWPpI6HXG530lwP-fb2A                                                                               \n date             | 2014-02-05 20:30:30                                                                                  \n review_stars     | 3.0                                                                                                  \n text             | Family diner. Had the buffet. Eclectic assortment: a large chicken leg, fried jalapeño, tamale, t... \n review_useful    | 0                                                                                                    \n review_count     | 47                                                                                                   \n user_id          | 8g_iMtfSiwikVnbP2etR0A                                                                               \n name             | Kettle Restaurant                                                                                    \n restaurant_stars | 3.5                                                                                                  \n categories       | [Restaurants, Breakfast & Brunch]                                                                    \n metro_area       | Tucson                                                                                               \n-RECORD 1----------------------------------------------------------------------------------------------------------------\n business_id      | kxX2SOes4o-D3ZQBkiMRfA                                                                               \n date             | 2015-01-04 00:01:03                                                                                  \n review_stars     | 5.0                                                                                                  \n text             | Wow!  Yummy, different,  delicious.   Our favorite is the lamb curry and korma.  With 10 differen... \n review_useful    | 1                                                                                                    \n review_count     | 181                                                                                                  \n user_id          | _7bHUi9Uuf5__HHc_Q8guQ                                                                               \n name             | Zaika                                                                                                \n restaurant_stars | 4.0                                                                                                  \n categories       | [Halal, Pakistani, Restaurants, Indian]                                                              \n metro_area       | Philadelphia                                                                                         \n-RECORD 2----------------------------------------------------------------------------------------------------------------\n business_id      | gebiRewfieSdtt17PTW6Zg                                                                               \n date             | 2016-07-25 07:31:06                                                                                  \n review_stars     | 3.0                                                                                                  \n text             | Had a party of 6 here for hibachi. Our waitress brought our separate sushi orders on one plate so... \n review_useful    | 0                                                                                                    \n review_count     | 488                                                                                                  \n user_id          | 59MxRhNVhU9MYndMkz0wtw                                                                               \n name             | Hibachi Steak House & Sushi Bar                                                                      \n restaurant_stars | 3.5                                                                                                  \n categories       | [Steakhouses, Sushi Bars, Restaurants, Japanese]                                                     \n metro_area       | Santa Barbara                                                                                        \n-RECORD 3----------------------------------------------------------------------------------------------------------------\n business_id      | EQ-TZ2eeD_E0BHuvoaeG5Q                                                                               \n date             | 2015-08-19 14:31:45                                                                                  \n review_stars     | 4.0                                                                                                  \n text             | Locals recommended Milktooth, and it's an amazing jewel of Indianapolis. I'm glade I had the chan... \n review_useful    | 0                                                                                                    \n review_count     | 1379                                                                                                 \n user_id          | ZbqSHbgCjzVAqaa7NKWn5A                                                                               \n name             | Milktooth                                                                                            \n restaurant_stars | 4.0                                                                                                  \n categories       | [Beer, Wine & Spirits, Cafes, Coffee & Tea, Restaurants, Food, Breakfast & Brunch, American (New)]   \n metro_area       | Indianapolis                                                                                         \n-RECORD 4----------------------------------------------------------------------------------------------------------------\n business_id      | lj-E32x9_FA7GmUrBGBEWg                                                                               \n date             | 2014-06-27 22:44:01                                                                                  \n review_stars     | 4.0                                                                                                  \n text             | Love going here for happy hour or dinner!  Great patio with fans to beat the StL heat!   Also...v... \n review_useful    | 0                                                                                                    \n review_count     | 366                                                                                                  \n user_id          | 9OAtfnWag-ajVxRbUTGIyg                                                                               \n name             | Brio Italian Grille                                                                                  \n restaurant_stars | 3.5                                                                                                  \n categories       | [Bars, Pizza, Nightlife, Cocktail Bars, Italian, Restaurants]                                        \n metro_area       | St Louis                                                                                             \n-RECORD 5----------------------------------------------------------------------------------------------------------------\n business_id      | otQS34_MymijPTdNBoBdCw                                                                               \n date             | 2011-10-27 17:12:05                                                                                  \n review_stars     | 4.0                                                                                                  \n text             | The bun makes the Sonoran Dog. It's like a snuggie for the pup. A first, it seems ridiculous and ... \n review_useful    | 0                                                                                                    \n review_count     | 492                                                                                                  \n user_id          | 4Uh27DgGzsp6PqrH913giQ                                                                               \n name             | BK Tacos                                                                                             \n restaurant_stars | 4.0                                                                                                  \n categories       | [Restaurants, Tacos, Mexican, Hot Dogs, Breakfast & Brunch, Steakhouses]                             \n metro_area       | Tucson                                                                                               \n-RECORD 6----------------------------------------------------------------------------------------------------------------\n business_id      | BVndHaLihEYbr76Z0CMEGw                                                                               \n date             | 2014-10-11 16:22:06                                                                                  \n review_stars     | 5.0                                                                                                  \n text             | Great place for breakfast! I had the waffle, which was fluffy and perfect, and home fries which w... \n review_useful    | 0                                                                                                    \n review_count     | 162                                                                                                  \n user_id          | 1C2lxzUo1Hyye4RFIXly3g                                                                               \n name             | Mamas Kitchen                                                                                        \n restaurant_stars | 4.5                                                                                                  \n categories       | [Sandwiches, Restaurants, American (New), American (Traditional), Breakfast & Brunch]                \n metro_area       | Tampa                                                                                                \n-RECORD 7----------------------------------------------------------------------------------------------------------------\n business_id      | YtSqYv1Q_pOltsVPSx54SA                                                                               \n date             | 2013-06-24 11:21:25                                                                                  \n review_stars     | 5.0                                                                                                  \n text             | Tremendous service (Big shout out to Douglas) that complemented the delicious food. Pretty expens... \n review_useful    | 0                                                                                                    \n review_count     | 290                                                                                                  \n user_id          | Dd1jQj7S-BFGqRbApFzCFw                                                                               \n name             | Rittenhouse Grill                                                                                    \n restaurant_stars | 3.5                                                                                                  \n categories       | [Wine Bars, Restaurants, Nightlife, Steakhouses, Seafood, Bars]                                      \n metro_area       | Philadelphia                                                                                         \n-RECORD 8----------------------------------------------------------------------------------------------------------------\n business_id      | rBdG_23USc7DletfZ11xGA                                                                               \n date             | 2014-08-10 19:41:43                                                                                  \n review_stars     | 4.0                                                                                                  \n text             | The hubby and I have been here on multiple occasions and we have loved every part of the meal, ev... \n review_useful    | 1                                                                                                    \n review_count     | 398                                                                                                  \n user_id          | j2wlzrntrbKwyOcOiB3l3w                                                                               \n name             | Olio                                                                                                 \n restaurant_stars | 4.0                                                                                                  \n categories       | [Wine Bars, Bars, Nightlife, American (New), Mediterranean, Restaurants]                             \n metro_area       | St Louis                                                                                             \n-RECORD 9----------------------------------------------------------------------------------------------------------------\n business_id      | eFvzHawVJofxSnD7TgbZtg                                                                               \n date             | 2014-11-12 15:30:27                                                                                  \n review_stars     | 5.0                                                                                                  \n text             | My absolute favorite cafe in the city. Their black and white latte is probably the best I've ever... \n review_useful    | 0                                                                                                    \n review_count     | 249                                                                                                  \n user_id          | IQsF3Rc6IgCzjVV9DE8KXg                                                                               \n name             | Good Karma Cafe                                                                                      \n restaurant_stars | 4.0                                                                                                  \n categories       | [Food, Cafes, Coffee & Tea, Restaurants]                                                             \n metro_area       | Philadelphia                                                                                         \n-RECORD 10---------------------------------------------------------------------------------------------------------------\n business_id      | vC2qm1y3Au5czBtbhc-DNw                                                                               \n date             | 2013-09-04 03:48:20                                                                                  \n review_stars     | 4.0                                                                                                  \n text             | Yes, this is the only sushi place in town. However, it is great when you're craving sushi and don... \n review_useful    | 0                                                                                                    \n review_count     | 167                                                                                                  \n user_id          | OhECKhQEexFypOMY6kypRw                                                                               \n name             | Sushi Teri                                                                                           \n restaurant_stars | 3.0                                                                                                  \n categories       | [Restaurants, Sushi Bars]                                                                            \n metro_area       | Santa Barbara                                                                                        \n-RECORD 11---------------------------------------------------------------------------------------------------------------\n business_id      | c-IgS6Pk6vMyax7Rbr38eA                                                                               \n date             | 2015-06-08 19:45:48                                                                                  \n review_stars     | 4.0                                                                                                  \n text             | Went for lunch. Beef brisket sandwich was awesome.   So juicy and tender.    Pulled pork was was ... \n review_useful    | 0                                                                                                    \n review_count     | 284                                                                                                  \n user_id          | zoBajEyVA0z4IjbFsMJksg                                                                               \n name             | Barbecue and Bourbon                                                                                 \n restaurant_stars | 4.0                                                                                                  \n categories       | [American (New), Restaurants, Cocktail Bars, Barbeque, Bars, Nightlife]                              \n metro_area       | Indianapolis                                                                                         \n-RECORD 12---------------------------------------------------------------------------------------------------------------\n business_id      | x4XdNhp0Xn8lOivzc77J-g                                                                               \n date             | 2013-08-15 15:27:51                                                                                  \n review_stars     | 5.0                                                                                                  \n text             | Best thai food in the area.  Everything was authentic and delicious.  Will definitely be back aga... \n review_useful    | 0                                                                                                    \n review_count     | 222                                                                                                  \n user_id          | clWLI5OZP2ad25ugMVI8gg                                                                               \n name             | Thai Place Restaurant                                                                                \n restaurant_stars | 4.5                                                                                                  \n categories       | [Thai, Restaurants]                                                                                  \n metro_area       | Philadelphia                                                                                         \n-RECORD 13---------------------------------------------------------------------------------------------------------------\n business_id      | S2Ho8yLxhKAa26pBAm6rxA                                                                               \n date             | 2016-11-22 00:22:53                                                                                  \n review_stars     | 3.0                                                                                                  \n text             | Service was crappy, and food was mediocre.  I wish I would have picked some other place for my la... \n review_useful    | 0                                                                                                    \n review_count     | 1594                                                                                                 \n user_id          | xVKE_HJ2pwUtTdLbL3pnCg                                                                               \n name             | Creole House Restaurant & Oyster Bar                                                                 \n restaurant_stars | 4.0                                                                                                  \n categories       | [Cajun/Creole, Seafood, Restaurants, Breakfast & Brunch]                                             \n metro_area       | New Orleans                                                                                          \n-RECORD 14---------------------------------------------------------------------------------------------------------------\n business_id      | bMratNjTG5ZFEA6hVyr-xQ                                                                               \n date             | 2017-02-19 13:32:05                                                                                  \n review_stars     | 5.0                                                                                                  \n text             | First time there and it was excellent!!! It feels like your are entering someone's home. The wait... \n review_useful    | 0                                                                                                    \n review_count     | 137                                                                                                  \n user_id          | Jha0USGDMefGFRLik_xFQg                                                                               \n name             | Portobello Cafe                                                                                      \n restaurant_stars | 4.0                                                                                                  \n categories       | [Restaurants, Seafood, Cafes, Italian]                                                               \n metro_area       | Philadelphia                                                                                         \n-RECORD 15---------------------------------------------------------------------------------------------------------------\n business_id      | bbEXAEFr4RYHLlZ-HFssTA                                                                               \n date             | 2017-01-02 03:17:34                                                                                  \n review_stars     | 5.0                                                                                                  \n text             | Great burgers,fries and salad!  Burgers have a hint of salt and pepper flavor.\\n\\nThis location i... \n review_useful    | 0                                                                                                    \n review_count     | 329                                                                                                  \n user_id          | 4hBhtCSgoxkrFgHa4YAD-w                                                                               \n name             | The Original Habit Burger Grill                                                                      \n restaurant_stars | 4.0                                                                                                  \n categories       | [Fast Food, Burgers, Restaurants]                                                                    \n metro_area       | Santa Barbara                                                                                        \n-RECORD 16---------------------------------------------------------------------------------------------------------------\n business_id      | 0pMj5xUAecW9o1P35B0AMw                                                                               \n date             | 2017-05-26 13:10:24                                                                                  \n review_stars     | 5.0                                                                                                  \n text             | Great staff always helps and always nice. Always clean and huge store size. Stays stocked with ev... \n review_useful    | 1                                                                                                    \n review_count     | 8                                                                                                    \n user_id          | QzCEzH3R7Z6erOGLr3t55Q                                                                               \n name             | Wawa                                                                                                 \n restaurant_stars | 3.5                                                                                                  \n categories       | [Food, Coffee & Tea, Gas Stations, Restaurants, Automotive, Sandwiches, Convenience Stores]          \n metro_area       | Philadelphia                                                                                         \n-RECORD 17---------------------------------------------------------------------------------------------------------------\n business_id      | kq5Ghhh14r-eCxlVmlyd8w                                                                               \n date             | 2018-08-23 21:39:38                                                                                  \n review_stars     | 5.0                                                                                                  \n text             | My boyfriend and I tried this deli for the first time today. I had a turkey, avocado & bacon pani... \n review_useful    | 0                                                                                                    \n review_count     | 65                                                                                                   \n user_id          | aFa96pz67TwOFu4Weq5Agg                                                                               \n name             | The Coventry Deli                                                                                    \n restaurant_stars | 4.0                                                                                                  \n categories       | [Restaurants, Delis, Salad, Sandwiches]                                                              \n metro_area       | Philadelphia                                                                                         \n-RECORD 18---------------------------------------------------------------------------------------------------------------\n business_id      | Zx7n8mdt8OzLRXVzolXNhQ                                                                               \n date             | 2018-04-27 23:03:21                                                                                  \n review_stars     | 5.0                                                                                                  \n text             | Amazing biscuits and (fill in the blank). Great cocktails too. Highly recommended. A bit busy tho... \n review_useful    | 0                                                                                                    \n review_count     | 1725                                                                                                 \n user_id          | iYY5Ii1LGpZCpXFkHlMefw                                                                               \n name             | Milk and Honey Nashville                                                                             \n restaurant_stars | 4.0                                                                                                  \n categories       | [American (New), Restaurants, American (Traditional), Food, Breakfast & Brunch, Coffee & Tea, Pizza] \n metro_area       | Nashville                                                                                            \n-RECORD 19---------------------------------------------------------------------------------------------------------------\n business_id      | oBhJuukGRqPVvYBfTkhuZA                                                                               \n date             | 2015-03-05 03:37:54                                                                                  \n review_stars     | 4.0                                                                                                  \n text             | The only reason I didn't give this restaurant a 5 star rating, is because of one single pretentio... \n review_useful    | 0                                                                                                    \n review_count     | 385                                                                                                  \n user_id          | G0DHgkSsDozqUPWtlxVEMw                                                                               \n name             | Square 1682                                                                                          \n restaurant_stars | 3.5                                                                                                  \n categories       | [American (New), Breakfast & Brunch, Bars, Nightlife, Restaurants]                                   \n metro_area       | Philadelphia                                                                                         \nonly showing top 20 rows\n\n"
     ]
    }
   ],
   "source": [
    "df_restaurant_reviews = spark.sql(\"\"\"\n",
    "SELECT r.business_id as business_id, r.date, r.stars AS review_stars, r.text, r.useful AS review_useful, m.review_count, r.user_id, m.name, m.stars AS restaurant_stars, m.categories , m.metro_area\n",
    "FROM review_table as r\n",
    "INNER JOIN metro_restaurants_table as m\n",
    "ON m.business_id = r.business_id\n",
    "\"\"\")\n",
    "\n",
    "\n",
    "print(\"Record count:\", df_restaurant_reviews.count())\n",
    "\n",
    "df_restaurant_reviews.createOrReplaceTempView('filtered_review_table')\n",
    "df_restaurant_reviews.show(vertical = True, truncate = 100)\n"
   ]
  },
  {
   "cell_type": "markdown",
   "metadata": {
    "application/vnd.databricks.v1+cell": {
     "cellMetadata": {
      "byteLimit": 2048000,
      "rowLimit": 10000
     },
     "inputWidgets": {},
     "nuid": "b2fab26f-ae18-4cc7-acd4-cd2a80b07fba",
     "showTitle": false,
     "tableResultSettingsMap": {},
     "title": ""
    }
   },
   "source": [
    "###2E.8 Focusing on Reviews With More Engagement\n",
    " * By focusing on the reviews that have more engagement and are considered higher quality, with more tags, the data becomes more relevant and relatable for a review summarizer. \n",
    " * This process also allows further analysis of the data and makes it easier to identify trends and customer sentiments.\n"
   ]
  },
  {
   "cell_type": "code",
   "execution_count": 0,
   "metadata": {
    "application/vnd.databricks.v1+cell": {
     "cellMetadata": {
      "byteLimit": 2048000,
      "rowLimit": 10000
     },
     "inputWidgets": {},
     "nuid": "1aa47719-7b6f-47fd-b6b2-c8e867153050",
     "showTitle": false,
     "tableResultSettingsMap": {},
     "title": ""
    }
   },
   "outputs": [
    {
     "output_type": "stream",
     "name": "stdout",
     "output_type": "stream",
     "text": [
      "+-----------+---------+-------+\n|   col_name|data_type|comment|\n+-----------+---------+-------+\n|business_id|   string|   null|\n|       cool|   bigint|   null|\n|       date|   string|   null|\n|      funny|   bigint|   null|\n|  review_id|   string|   null|\n|      stars|   double|   null|\n|       text|   string|   null|\n|     useful|   bigint|   null|\n|    user_id|   string|   null|\n+-----------+---------+-------+\n\nRecord count: 1046388\n-RECORD 0---------------------------------------------------------------------------------------\n business_id | LHSTtnW3YHCeUkRDGyJOyw                                                           \n text        | Amazingly amazing wings and homemade bleu cheese. Had the ribeye: tender, per... \n stars       | 5.0                                                                              \n useful      | 2                                                                                \n date        | 2015-08-07 02:29:16                                                              \n user_id     | yfFzsLmaWF2d4Sr0UNbBgg                                                           \n-RECORD 1---------------------------------------------------------------------------------------\n business_id | uMvVYRgGNXf5boolA9HXTw                                                           \n text        | My experience with Shalimar was nothing but wonderful. \\nI wanted to get my e... \n stars       | 5.0                                                                              \n useful      | 2                                                                                \n date        | 2015-06-21 14:48:06                                                              \n user_id     | 1WHRWwQmZOZDAhp2Qyny4g                                                           \n-RECORD 2---------------------------------------------------------------------------------------\n business_id | CLEWowfkj-wKYJlQDqT1aw                                                           \n text        | I go to blow bar to get my brows done by natalie (brow specialist) which i hi... \n stars       | 5.0                                                                              \n useful      | 2                                                                                \n date        | 2016-03-07 00:02:18                                                              \n user_id     | NDZvyYHTUWWu-kqgQzzDGQ                                                           \n-RECORD 3---------------------------------------------------------------------------------------\n business_id | SSZDGl2J-CEyIzuIbEiYNQ                                                           \n text        | We started with the artichoke dip, big mistake. It was cold and the chips wer... \n stars       | 2.0                                                                              \n useful      | 2                                                                                \n date        | 2017-09-08 23:20:19                                                              \n user_id     | bHSoye7R5cL-LVWLxtaxMg                                                           \n-RECORD 4---------------------------------------------------------------------------------------\n business_id | b7V_5q22_eTeHlYzq1bpFw                                                           \n text        | I visited this restaurant 4 times during my 5 days stay. Crazy, right? Here a... \n stars       | 3.0                                                                              \n useful      | 2                                                                                \n date        | 2017-01-02 04:12:17                                                              \n user_id     | Pbry-b9xBgHlWlbGlYbTZg                                                           \n-RECORD 5---------------------------------------------------------------------------------------\n business_id | f4PA-f1tcN1bIpZJLdFsQQ                                                           \n text        | I must admit, I wasn't expecting much. This place totally blew us away. This ... \n stars       | 5.0                                                                              \n useful      | 3                                                                                \n date        | 2017-05-26 02:32:01                                                              \n user_id     | 4ubLHlnMFFw4JikcXr-F4w                                                           \n-RECORD 6---------------------------------------------------------------------------------------\n business_id | pUVRCYL8rT4I5Ry5FYkRsA                                                           \n text        | Sweet spot in the Waterline. Came for some live music with friends on Saturda... \n stars       | 5.0                                                                              \n useful      | 2                                                                                \n date        | 2016-12-19 22:58:19                                                              \n user_id     | RiQWbgwR-asiU_mA7s8gpg                                                           \n-RECORD 7---------------------------------------------------------------------------------------\n business_id | IfcJZKQiBKf_9yq784qbww                                                           \n text        | Westfall replaced our roof in April. We could not be more pleased with the en... \n stars       | 5.0                                                                              \n useful      | 4                                                                                \n date        | 2017-08-29 00:22:41                                                              \n user_id     | kzxwFrLA0fyhP7qKzkRopw                                                           \n-RECORD 8---------------------------------------------------------------------------------------\n business_id | EQ-TZ2eeD_E0BHuvoaeG5Q                                                           \n text        | Milktooth is the place to go if you want a good breakfast cocktail and a twis... \n stars       | 5.0                                                                              \n useful      | 2                                                                                \n date        | 2018-01-10 01:48:58                                                              \n user_id     | O6wkgoJqU7KMjleSlCDGaA                                                           \n-RECORD 9---------------------------------------------------------------------------------------\n business_id | HrIbP2-jdRJAU92yqyDmyw                                                           \n text        | I finally got to try them. Wow..they did a great job with the remodle. I love... \n stars       | 5.0                                                                              \n useful      | 2                                                                                \n date        | 2016-03-07 03:19:29                                                              \n user_id     | PCBxQaoILfrsmEg9kpd64A                                                           \n-RECORD 10--------------------------------------------------------------------------------------\n business_id | QvjY9esYNRMe_5kvT6TC5g                                                           \n text        | This place is a gem.Attractive space, great location near Broad Street line, ... \n stars       | 5.0                                                                              \n useful      | 3                                                                                \n date        | 2015-12-20 19:40:06                                                              \n user_id     | ZPYPQvM1DMZB39oQ9WlDgw                                                           \n-RECORD 11--------------------------------------------------------------------------------------\n business_id | roc-xyyzN5b_nImb0NdRLQ                                                           \n text        | As airport grab-and-go restaurants are, Earl does a decent job with a variety... \n stars       | 4.0                                                                              \n useful      | 6                                                                                \n date        | 2015-01-03 23:16:09                                                              \n user_id     | hWDybu_KvYLSdEFzGrniTw                                                           \n-RECORD 12--------------------------------------------------------------------------------------\n business_id | p3XlbP2aZa-NBRqJ4p3KLw                                                           \n text        | Went here when they first opened. They only had one flavor... it wasn't that ... \n stars       | 3.0                                                                              \n useful      | 2                                                                                \n date        | 2017-06-06 23:43:20                                                              \n user_id     | h7GOqt1KOIoZhhaaIh6zbw                                                           \n-RECORD 13--------------------------------------------------------------------------------------\n business_id | h8iDZcXLDicI_Wg8fwl-ig                                                           \n text        | My mother, aunt and myself went on this walking tour of Ybor with stops for g... \n stars       | 5.0                                                                              \n useful      | 3                                                                                \n date        | 2015-04-28 20:48:41                                                              \n user_id     | QWaO0rnhQ73oDaxiE4YnAw                                                           \n-RECORD 14--------------------------------------------------------------------------------------\n business_id | fgTOJRkc703E4XRdcr5zRA                                                           \n text        | I've come from Cali where boba is very common there. However I was thinking t... \n stars       | 3.0                                                                              \n useful      | 3                                                                                \n date        | 2016-01-30 01:59:11                                                              \n user_id     | FuTJWFYm4UKqewaosss1KA                                                           \n-RECORD 15--------------------------------------------------------------------------------------\n business_id | cBp1fn2LXpSHe4VbTXLYEw                                                           \n text        | Finally had the chance to stop by Bab Cafe...what took us so long!  Both of u... \n stars       | 5.0                                                                              \n useful      | 2                                                                                \n date        | 2018-08-23 21:52:18                                                              \n user_id     | 2khAy7DTp3dUmeDJ4ZYw6Q                                                           \n-RECORD 16--------------------------------------------------------------------------------------\n business_id | nFjk0xVI9fNiVN__5g-m8Q                                                           \n text        | Ichicoro Ane gets lots of things right and the best part about it is the comb... \n stars       | 5.0                                                                              \n useful      | 4                                                                                \n date        | 2018-02-23 22:49:01                                                              \n user_id     | nnImk681KaRqUVHlSfZjGQ                                                           \n-RECORD 17--------------------------------------------------------------------------------------\n business_id | _ReMedGR8eDM5AgdRK0jCw                                                           \n text        | This is a convenience store deli, so don't expect a neat restaurant setting o... \n stars       | 4.0                                                                              \n useful      | 3                                                                                \n date        | 2015-05-26 14:45:13                                                              \n user_id     | g9fWvUzGBsKtovXrHM02uA                                                           \n-RECORD 18--------------------------------------------------------------------------------------\n business_id | SlLfWzeYOrVBxCd-0QILZQ                                                           \n text        | My 2nd experience here was even better than the first.  I do believe there we... \n stars       | 5.0                                                                              \n useful      | 2                                                                                \n date        | 2017-02-19 21:43:00                                                              \n user_id     | FLGFtGbXaUo0obR6lnZA1Q                                                           \n-RECORD 19--------------------------------------------------------------------------------------\n business_id | VCbUVUzENG46pFUOg4g3iw                                                           \n text        | Thanks yelp reviewers...you didn't let me down!  And neither did Todd and Rob... \n stars       | 5.0                                                                              \n useful      | 2                                                                                \n date        | 2015-07-03 19:36:25                                                              \n user_id     | QaUCU7y3lk0UEpa1I_x8-A                                                           \nonly showing top 20 rows\n\n"
     ]
    }
   ],
   "source": [
    "spark.sql(\"DESCRIBE TABLE review_table\").show()\n",
    "df_reviews = spark.sql(\"\"\"\n",
    "SELECT business_id, text, stars, useful, date, user_id\n",
    "FROM review_table\n",
    "WHERE useful > 1\n",
    "AND YEAR(CAST(date AS DATE)) >= 2015\n",
    "\"\"\")\n",
    "print(\"Record count:\", df_reviews.count())\n",
    "df_reviews.show(vertical=True, truncate=80)"
   ]
  },
  {
   "cell_type": "markdown",
   "metadata": {
    "application/vnd.databricks.v1+cell": {
     "cellMetadata": {
      "byteLimit": 2048000,
      "rowLimit": 10000
     },
     "inputWidgets": {},
     "nuid": "3403e393-6185-4a3b-bc47-84750acd7f62",
     "showTitle": false,
     "tableResultSettingsMap": {},
     "title": ""
    }
   },
   "source": [
    "##2F. Understanding the Relationship between Users and Restaurant Reviews (restaurant_reviews_for_summarization)\n"
   ]
  },
  {
   "cell_type": "markdown",
   "metadata": {
    "application/vnd.databricks.v1+cell": {
     "cellMetadata": {
      "byteLimit": 2048000,
      "rowLimit": 10000
     },
     "inputWidgets": {},
     "nuid": "5cf805c0-66f3-44c6-920c-314fe029bdf2",
     "showTitle": false,
     "tableResultSettingsMap": {},
     "title": ""
    }
   },
   "source": [
    "###2F.1 Loading User Table"
   ]
  },
  {
   "cell_type": "code",
   "execution_count": 0,
   "metadata": {
    "application/vnd.databricks.v1+cell": {
     "cellMetadata": {
      "byteLimit": 2048000,
      "rowLimit": 10000
     },
     "inputWidgets": {},
     "nuid": "777206da-2801-42fc-8abf-d4a06fb93415",
     "showTitle": false,
     "tableResultSettingsMap": {},
     "title": ""
    }
   },
   "outputs": [
    {
     "output_type": "stream",
     "name": "stdout",
     "output_type": "stream",
     "text": [
      "user table rebuilt from parquet files.\n+------------+\n|review_count|\n+------------+\n|     1987897|\n+------------+\n\n-RECORD 0--------------------------------------------\n average_stars      | 3.91                           \n compliment_cool    | 467                            \n compliment_cute    | 56                             \n compliment_funny   | 467                            \n compliment_hot     | 250                            \n compliment_list    | 18                             \n compliment_more    | 65                             \n compliment_note    | 232                            \n compliment_photos  | 180                            \n compliment_plain   | 844                            \n compliment_profile | 55                             \n compliment_writer  | 239                            \n cool               | 5994                           \n fans               | 267                            \n friends            | NSCy54eWehBJyZdG2iE84w, pe4... \n funny              | 1259                           \n name               | Walker                         \n review_count       | 585                            \n useful             | 7217                           \n user_id            | qVc8ODYU5SZjKXVBgXdI7w         \n yelping_since      | 2007-01-25 16:47:26            \n elite              | 2007                           \n-RECORD 1--------------------------------------------\n average_stars      | 3.74                           \n compliment_cool    | 3131                           \n compliment_cute    | 157                            \n compliment_funny   | 3131                           \n compliment_hot     | 1145                           \n compliment_list    | 251                            \n compliment_more    | 264                            \n compliment_note    | 1847                           \n compliment_photos  | 1946                           \n compliment_plain   | 7054                           \n compliment_profile | 184                            \n compliment_writer  | 1521                           \n cool               | 27281                          \n fans               | 3138                           \n friends            | ueRPE0CX75ePGMqOFVj6IQ, 52o... \n funny              | 13066                          \n name               | Daniel                         \n review_count       | 4333                           \n useful             | 43091                          \n user_id            | j14WgRoU_-2ZE1aw1dXrJg         \n yelping_since      | 2009-01-25 04:35:42            \n elite              | 2009,2010,2011,2012,2013,20... \n-RECORD 2--------------------------------------------\n average_stars      | 3.32                           \n compliment_cool    | 119                            \n compliment_cute    | 17                             \n compliment_funny   | 119                            \n compliment_hot     | 89                             \n compliment_list    | 3                              \n compliment_more    | 13                             \n compliment_note    | 66                             \n compliment_photos  | 18                             \n compliment_plain   | 96                             \n compliment_profile | 10                             \n compliment_writer  | 35                             \n cool               | 1003                           \n fans               | 52                             \n friends            | LuO3Bn4f3rlhyHIaNfTlnA, j9B... \n funny              | 1010                           \n name               | Steph                          \n review_count       | 665                            \n useful             | 2086                           \n user_id            | 2WnXYQFK0hXEoTxPtV2zvg         \n yelping_since      | 2008-07-25 10:41:00            \n elite              | 2009,2010,2011,2012,2013       \nonly showing top 3 rows\n\n"
     ]
    }
   ],
   "source": [
    "# rebuild user_table & print counts of the record\n",
    "if spark.catalog._jcatalog.tableExists('user_table'):\n",
    "  print('user_table already loaded in memory')\n",
    "else:\n",
    "  spark.sql(f\"\"\"\n",
    "    CREATE TABLE user_table\n",
    "    USING PARQUET\n",
    "    LOCATION '/user/hive/warehouse/user_table'\n",
    "  \"\"\")\n",
    "  print('user table rebuilt from parquet files.')\n",
    "\n",
    "\n",
    "spark.sql(\"\"\"\n",
    "SELECT COUNT(*) AS review_count\n",
    "FROM user_table\n",
    "\"\"\").show()\n",
    "\n",
    "spark.sql(\"\"\"\n",
    "SELECT *\n",
    "FROM user_table\n",
    "\"\"\").show(3, vertical = True, truncate = 30)"
   ]
  },
  {
   "cell_type": "markdown",
   "metadata": {
    "application/vnd.databricks.v1+cell": {
     "cellMetadata": {
      "byteLimit": 2048000,
      "rowLimit": 10000
     },
     "inputWidgets": {},
     "nuid": "c9c81257-07af-47fd-97ae-15f3e64c0989",
     "showTitle": false,
     "tableResultSettingsMap": {},
     "title": ""
    }
   },
   "source": [
    "###2F.2 Identifying Review Trends of Users\n",
    "* This allows us to identify active and inactive users, where we can prioritize relevant reviews, as users who are more active may be more experienced reviewers with more detailed and consistent feedback.\n",
    "* The users who are not as active may only review a restaurant after an experience that stands out and are outliers, positively or negatively. \n",
    "* This allows us to weigh the credibility of the reviews and the users. An honest summarization of the average reviews would be ideal. This allows the summaries to be more accurate, relevant, and insightful."
   ]
  },
  {
   "cell_type": "code",
   "execution_count": 0,
   "metadata": {
    "application/vnd.databricks.v1+cell": {
     "cellMetadata": {
      "byteLimit": 2048000,
      "rowLimit": 10000
     },
     "inputWidgets": {},
     "nuid": "81e3db2e-6284-415b-af93-a4013b20a0d8",
     "showTitle": false,
     "tableResultSettingsMap": {},
     "title": ""
    }
   },
   "outputs": [
    {
     "output_type": "stream",
     "name": "stdout",
     "output_type": "stream",
     "text": [
      "+-----------------------------+------------------------------+------------------------+-----------------------+\n|lowest_num_of_reviews_by_user|highest_num_of_reviews_by_user|users_avg_num_of_reviews|stdev_of_num_of_reviews|\n+-----------------------------+------------------------------+------------------------+-----------------------+\n|                            0|                         17473|                   23.39|                  82.57|\n+-----------------------------+------------------------------+------------------------+-----------------------+\n\n"
     ]
    }
   ],
   "source": [
    "spark.sql('''\n",
    "SELECT MIN(review_count) AS lowest_num_of_reviews_by_user,\n",
    "    MAX(review_count) AS highest_num_of_reviews_by_user,\n",
    "    ROUND(AVG(review_count),2) AS users_avg_num_of_reviews,\n",
    "    ROUND(STDDEV(review_count),2) AS stdev_of_num_of_reviews\n",
    "FROM user_table\n",
    "''').show()"
   ]
  },
  {
   "cell_type": "markdown",
   "metadata": {
    "application/vnd.databricks.v1+cell": {
     "cellMetadata": {
      "byteLimit": 2048000,
      "rowLimit": 10000
     },
     "inputWidgets": {},
     "nuid": "762aae63-fe2c-4fa5-a674-74c1fcc909b1",
     "showTitle": false,
     "tableResultSettingsMap": {},
     "title": ""
    }
   },
   "source": [
    "###2F.3 Understanding Distribution of User Review Activity\n",
    "* Knowing the distribution of user review activity can help prioritize reviews from more active users and handle reviews from users with few contributions in a more nuanced way.\n",
    "* This can improve the quality and relevance of the summary of reviews."
   ]
  },
  {
   "cell_type": "code",
   "execution_count": 0,
   "metadata": {
    "application/vnd.databricks.v1+cell": {
     "cellMetadata": {
      "byteLimit": 2048000,
      "rowLimit": 10000
     },
     "inputWidgets": {},
     "nuid": "16e4c6b6-1202-416f-bcfc-e02a186ee33f",
     "showTitle": false,
     "tableResultSettingsMap": {},
     "title": ""
    }
   },
   "outputs": [
    {
     "output_type": "stream",
     "name": "stdout",
     "output_type": "stream",
     "text": [
      "+------------------+------------------------------+\n|review_count_range|percentage_of_reviews_by_users|\n+------------------+------------------------------+\n|              0-10|                         65.69|\n|             10-25|                         16.73|\n|              100+|                          4.57|\n|             25-50|                          8.23|\n|            50-100|                          4.78|\n+------------------+------------------------------+\n\n"
     ]
    }
   ],
   "source": [
    "spark.sql('''\n",
    "          SELECT \n",
    "            CASE\n",
    "              WHEN review_count BETWEEN 0 AND 10 THEN '0-10'\n",
    "              WHEN review_count BETWEEN 10 AND 25 THEN '10-25'\n",
    "              WHEN review_count BETWEEN 25 AND 50 THEN '25-50'\n",
    "              WHEN review_count BETWEEN 50 AND 100 THEN '50-100'\n",
    "              WHEN review_count >= 100 THEN '100+'\n",
    "            END AS review_count_range,\n",
    "            ROUND((COUNT(user_id) * 100.0 / (SELECT COUNT(*) FROM user_table)), 2) AS percentage_of_reviews_by_users\n",
    "          FROM user_table \n",
    "          GROUP BY review_count_range\n",
    "          ORDER BY review_count_range\n",
    "          ''').show()"
   ]
  },
  {
   "cell_type": "markdown",
   "metadata": {
    "application/vnd.databricks.v1+cell": {
     "cellMetadata": {
      "byteLimit": 2048000,
      "rowLimit": 10000
     },
     "inputWidgets": {},
     "nuid": "add8893d-777a-4bdc-bebc-1298936e5e75",
     "showTitle": false,
     "tableResultSettingsMap": {},
     "title": ""
    }
   },
   "source": [
    "###2F.4 Identifying Patterns in User Behavior & Interactions with Reviews\n",
    "* Since all variables (useful, funny, cool) are correlated with each other using the benchmark of 0.9, we are going to keep only useful for having the most count.\n",
    "* This query provides detailed metrics that can be used to refine the business’s understanding of how users interact with reviews. \n",
    "* It can help the summarizer prioritize reviews, identify patterns in user behavior, and improve the effectiveness of review management strategies. \n",
    "* The data is useful for improving the quality of feedback systems."
   ]
  },
  {
   "cell_type": "code",
   "execution_count": 0,
   "metadata": {
    "application/vnd.databricks.v1+cell": {
     "cellMetadata": {
      "byteLimit": 2048000,
      "rowLimit": 10000
     },
     "inputWidgets": {},
     "nuid": "02b49e2e-e969-4f8c-945e-d1a0d57aa3bd",
     "showTitle": false,
     "tableResultSettingsMap": {},
     "title": ""
    }
   },
   "outputs": [
    {
     "output_type": "stream",
     "name": "stdout",
     "output_type": "stream",
     "text": [
      "+------------+-----------------+-----------+---------------+----------+----------------+\n|useful_count|useful_funny_corr|funny_count|funny_cool_corr|cool_count|cool_useful_corr|\n+------------+-----------------+-----------+---------------+----------+----------------+\n|     1201071|             0.95|     623145|           0.96|    664284|            0.99|\n+------------+-----------------+-----------+---------------+----------+----------------+\n\n"
     ]
    }
   ],
   "source": [
    "spark.sql(\"\"\"\n",
    "SELECT\n",
    "    SUM(CASE WHEN useful > 1 THEN 1 ELSE 0 END) AS useful_count,\n",
    "    ROUND(CORR(useful, funny),2) AS useful_funny_corr,\n",
    "    SUM(CASE WHEN funny > 1 THEN 1 ELSE 0 END) AS funny_count,\n",
    "    ROUND(CORR(funny, cool),2) AS funny_cool_corr,\n",
    "    SUM(CASE WHEN cool > 1 THEN 1 ELSE 0 END) AS cool_count,\n",
    "    ROUND(CORR(cool, useful),2) AS cool_useful_corr\n",
    "FROM \n",
    "    user_table\n",
    "\"\"\").show()"
   ]
  },
  {
   "cell_type": "markdown",
   "metadata": {
    "application/vnd.databricks.v1+cell": {
     "cellMetadata": {
      "byteLimit": 2048000,
      "rowLimit": 10000
     },
     "inputWidgets": {},
     "nuid": "bc7bf0ac-b14e-4d33-aed0-cd98bc5f03e2",
     "showTitle": false,
     "tableResultSettingsMap": {},
     "title": ""
    }
   },
   "source": [
    "###2F.5 Comparing the Number of Elite Users to the Total User Base\n",
    "* Out of 1.99 million users, only 76k or 3.85% have elite badge.\n",
    "* The count of elite users can help the summarizer identify and target highly engaged and loyal users. These users may be influential in providing valuable feedback or reviews, making them important for marketing or community-building efforts.\n",
    "* The total user count provides a baseline for understanding the overall scale of the user base.\n",
    "* By comparing the number of elite users to the total user base, the business can understand the proportion of users who are considered highly engaged or influential."
   ]
  },
  {
   "cell_type": "code",
   "execution_count": 0,
   "metadata": {
    "application/vnd.databricks.v1+cell": {
     "cellMetadata": {
      "byteLimit": 2048000,
      "rowLimit": 10000
     },
     "inputWidgets": {},
     "nuid": "421646be-103f-4f4e-af1a-74859c39ffe7",
     "showTitle": false,
     "tableResultSettingsMap": {},
     "title": ""
    }
   },
   "outputs": [
    {
     "output_type": "stream",
     "name": "stdout",
     "output_type": "stream",
     "text": [
      "+-----------+\n|elite_users|\n+-----------+\n|      76615|\n+-----------+\n\n+---------+\n|all_users|\n+---------+\n|  1987897|\n+---------+\n\n"
     ]
    }
   ],
   "source": [
    "spark.sql('''\n",
    "SELECT COUNT(*) AS elite_users\n",
    "FROM user_table\n",
    "WHERE  SIZE(SPLIT(elite, ',')) > 1\n",
    "''').show()\n",
    "\n",
    "spark.sql('''\n",
    "SELECT COUNT(*) AS all_users\n",
    "FROM user_table\n",
    "''').show()"
   ]
  },
  {
   "cell_type": "markdown",
   "metadata": {
    "application/vnd.databricks.v1+cell": {
     "cellMetadata": {
      "byteLimit": 2048000,
      "rowLimit": 10000
     },
     "inputWidgets": {},
     "nuid": "1e628077-bbd3-41cc-b5fb-353ee7aec08a",
     "showTitle": false,
     "tableResultSettingsMap": {},
     "title": ""
    }
   },
   "source": [
    "###2F.6 Assessing the General Sentiment of the User Base\n",
    "* In this analysis, there are some users who only give one star on average as well as users who mostly give five stars. The average number of average stars is 3.63 with a standard deviation of 1.18.\n",
    "* By examining these metrics, the summarizer can assess the general sentiment of the user base and take into account user satisfaction, identify loyal users, and address any areas of concern where users may be giving poor ratings."
   ]
  },
  {
   "cell_type": "code",
   "execution_count": 0,
   "metadata": {
    "application/vnd.databricks.v1+cell": {
     "cellMetadata": {
      "byteLimit": 2048000,
      "rowLimit": 10000
     },
     "inputWidgets": {},
     "nuid": "58c11fb9-908d-47cd-be8c-a1dd3900ccc8",
     "showTitle": false,
     "tableResultSettingsMap": {},
     "title": ""
    }
   },
   "outputs": [
    {
     "output_type": "stream",
     "name": "stdout",
     "output_type": "stream",
     "text": [
      "+-------------+---------------------+----------------+-----------------+\n|mean_avg_star|stan_dev_of_avg_stars|lowest_avg_stars|highest_avg_stars|\n+-------------+---------------------+----------------+-----------------+\n|         3.63|                 1.18|             1.0|              5.0|\n+-------------+---------------------+----------------+-----------------+\n\n"
     ]
    }
   ],
   "source": [
    "spark.sql('''\n",
    "SELECT\n",
    "    ROUND(MEAN(average_stars),2) AS mean_avg_star, \n",
    "    ROUND(stddev(average_stars),2) AS stan_dev_of_avg_stars,\n",
    "    min(average_stars) AS lowest_avg_stars, \n",
    "    max(average_stars) AS highest_avg_stars\n",
    "FROM user_table\n",
    "''').show()"
   ]
  },
  {
   "cell_type": "code",
   "execution_count": 0,
   "metadata": {
    "application/vnd.databricks.v1+cell": {
     "cellMetadata": {
      "byteLimit": 2048000,
      "rowLimit": 10000
     },
     "inputWidgets": {},
     "nuid": "d14aa334-4d10-4b3b-ba76-5cbb34a1c9b8",
     "showTitle": false,
     "tableResultSettingsMap": {},
     "title": ""
    }
   },
   "outputs": [
    {
     "output_type": "stream",
     "name": "stdout",
     "output_type": "stream",
     "text": [
      "+-------------+-------------+\n|yelping_since|perc_of_users|\n+-------------+-------------+\n|         2004|          0.0|\n|         2005|         0.05|\n|         2006|         0.27|\n|         2007|         0.77|\n|         2008|         1.56|\n|         2009|         3.27|\n|         2010|         5.49|\n|         2011|         8.88|\n|         2012|         9.86|\n|         2013|        10.55|\n|         2014|        11.74|\n|         2015|        12.47|\n|         2016|        10.95|\n|         2017|          7.6|\n|         2018|         6.72|\n|         2019|         5.26|\n|         2020|         2.39|\n|         2021|         2.04|\n|         2022|         0.14|\n+-------------+-------------+\n\n"
     ]
    }
   ],
   "source": [
    "spark.sql('''\n",
    "          SELECT YEAR(yelping_since) AS yelping_since,\n",
    "          ROUND(COUNT(user_id)*100/(SELECT COUNT(*) FROM user_table),2) AS perc_of_users\n",
    "          FROM user_table\n",
    "          GROUP BY YEAR(yelping_since)\n",
    "          ORDER BY yelping_since\n",
    "          ''').show()"
   ]
  },
  {
   "cell_type": "code",
   "execution_count": 0,
   "metadata": {
    "application/vnd.databricks.v1+cell": {
     "cellMetadata": {
      "byteLimit": 2048000,
      "rowLimit": 10000
     },
     "inputWidgets": {},
     "nuid": "33c1a0aa-5af6-4b41-b4be-38d76270fadb",
     "showTitle": false,
     "tableResultSettingsMap": {},
     "title": ""
    }
   },
   "outputs": [
    {
     "output_type": "stream",
     "name": "stdout",
     "output_type": "stream",
     "text": [
      "+-----------+-------------------+\n|year_bucket|percentage_of_users|\n+-----------+-------------------+\n|  2004-2008|               2.66|\n|  2008-2012|              27.48|\n|  2012-2016|              45.71|\n|  2016-2020|              21.97|\n|  2020-2022|               2.18|\n+-----------+-------------------+\n\n"
     ]
    }
   ],
   "source": [
    "spark.sql('''\n",
    "          SELECT \n",
    "          CASE\n",
    "            WHEN YEAR(yelping_since) BETWEEN 2004 AND 2008 THEN '2004-2008'\n",
    "            WHEN YEAR(yelping_since) BETWEEN 2008 AND 2012 THEN '2008-2012'\n",
    "            WHEN YEAR(yelping_since) BETWEEN 2012 AND 2016 THEN '2012-2016'\n",
    "            WHEN YEAR(yelping_since) BETWEEN 2016 AND 2020 THEN '2016-2020'\n",
    "            WHEN YEAR(yelping_since) BETWEEN 2020 AND 2022 THEN '2020-2022'\n",
    "          END AS year_bucket,\n",
    "          ROUND((COUNT(user_id) * 100.0 / (SELECT COUNT(*) FROM user_table)), 2) AS percentage_of_users\n",
    "          FROM user_table \n",
    "          GROUP BY year_bucket\n",
    "          ORDER BY year_bucket\n",
    "          ''').show()\n"
   ]
  },
  {
   "cell_type": "markdown",
   "metadata": {
    "application/vnd.databricks.v1+cell": {
     "cellMetadata": {
      "byteLimit": 2048000,
      "rowLimit": 10000
     },
     "inputWidgets": {},
     "nuid": "90316957-1693-4910-8f94-48c163061dac",
     "showTitle": false,
     "tableResultSettingsMap": {},
     "title": ""
    }
   },
   "source": [
    "###2F.7 Joining the Tables: user_table and restaurant reviews\n",
    "##Field Selection\n",
    "* **Field:** user_table.user_id\n",
    "  * **Reason:** Necessary primary key to connect with review table\n",
    "\n",
    "* **Field:** user_table.review_count\n",
    "  * **Reason:** Users with a higher number of reviews have more experience with reviewing restaurants, making their opinions more informed and valuable.\n",
    "\n",
    "\n",
    "* **Field:** user_table.yelping_since\n",
    "  * **Reason:** Longer membership on Yelp may indicate credibility and more experienced reviews, providing more reliable insights.\n",
    "\n",
    "\n",
    "* **Field:** user_table.useful\n",
    "  * **Reason:** A higher number of useful votes suggests that other users find this person's reviews helpful, adding credibility to their opinions.\n",
    "  \n",
    "\n",
    "* **Field:** user_table.elite\n",
    "  * **Reason:** The user being an elite member adds weight to their reviews, as elite members are typically more active and recognized for their quality contributions.\n",
    "\n",
    "\n",
    "* **Field:** user_table.average_stars\n",
    "  * **Reason:** Average rating indicates the user's general sentiment towards restaurants and can provide context about their reviewing style or expectations."
   ]
  },
  {
   "cell_type": "markdown",
   "metadata": {
    "application/vnd.databricks.v1+cell": {
     "cellMetadata": {
      "byteLimit": 2048000,
      "rowLimit": 10000
     },
     "inputWidgets": {},
     "nuid": "0b54992b-4164-499c-98a0-c05f4b86698b",
     "showTitle": false,
     "tableResultSettingsMap": {},
     "title": ""
    }
   },
   "source": [
    "\n",
    "* **Field:** user_table.fans\n",
    "\n",
    "* **Decision:** Exclude\n",
    "\n",
    "* **Reason:** Although we have the assumption that users who have more followers tend to receive more useful for their reviews, as the followers will receive notifications and the reveiws will be more exposed and thus likely to get more response.\n",
    "\n",
    "   However, actually there's no real-time notificaions push to followers. Instead, thier public contributions (reviews, photos, check-ins, etc.) will be visible in a follower's feed. [Yelp Support Center](https://www.yelp-support.com/article/What-does-it-mean-to-follow-another-user?l=en_US)\n",
    "\n",
    "  We make the conclusion that we will consider the field \"useful\" as it only represent how useful the review is regardless of the reviewer's followers. \n",
    "\n"
   ]
  },
  {
   "cell_type": "code",
   "execution_count": 0,
   "metadata": {
    "application/vnd.databricks.v1+cell": {
     "cellMetadata": {
      "byteLimit": 2048000,
      "rowLimit": 10000
     },
     "inputWidgets": {},
     "nuid": "da4c97dc-36be-4de0-9405-05491ae02c89",
     "showTitle": false,
     "tableResultSettingsMap": {},
     "title": ""
    }
   },
   "outputs": [
    {
     "output_type": "stream",
     "name": "stdout",
     "output_type": "stream",
     "text": [
      "Record count: 3134922\n-RECORD 0------------------------------------------------------------------------------------------------------------------\n business_id        | tIvfmgT1qMeAEQf8CI5fPQ                                                                               \n date               | 2014-09-06 01:09:35                                                                                  \n review_stars       | 4.0                                                                                                  \n text               | Ate dinner there tonight. Service was pretty fast and very nice. In fact, she might have tried a ... \n review_useful      | 1                                                                                                    \n review_count       | 574                                                                                                  \n user_id            | --Kwhcbkh7jxkhVVQZo2uQ                                                                               \n name               | Caney Fork River Valley Grille                                                                       \n restaurant_stars   | 3.5                                                                                                  \n categories         | [Bars, Nightlife, American (Traditional), Barbeque, Seafood, Beer Bar, Sports Bars, Restaurants, ... \n metro_area         | Nashville                                                                                            \n user_review_count  | 58                                                                                                   \n yelping_since      | 2014-05-30 16:58:11                                                                                  \n user_useful        | 57                                                                                                   \n elite              |                                                                                                      \n user_average_stars | 3.62                                                                                                 \n-RECORD 1------------------------------------------------------------------------------------------------------------------\n business_id        | aIoUwpy5ZFQXUDxWMnMZ4Q                                                                               \n date               | 2019-08-25 23:17:52                                                                                  \n review_stars       | 1.0                                                                                                  \n text               | There are new owners here. Way over priced and food is way below what it was. Sloppy cooking. Fre... \n review_useful      | 0                                                                                                    \n review_count       | 146                                                                                                  \n user_id            | --RJK834fiQXm21VpJp_nw                                                                               \n name               | Pete & Shorty's                                                                                      \n restaurant_stars   | 3.5                                                                                                  \n categories         | [Seafood, Diners, Beer, Wine & Spirits, Comfort Food, Food, American (Traditional), Chicken Wings... \n metro_area         | Tampa                                                                                                \n user_review_count  | 1                                                                                                    \n yelping_since      | 2018-02-04 20:34:16                                                                                  \n user_useful        | 0                                                                                                    \n elite              |                                                                                                      \n user_average_stars | 2.5                                                                                                  \n-RECORD 2------------------------------------------------------------------------------------------------------------------\n business_id        | K_s-9Wd6vXSfnxYFzhE0Kw                                                                               \n date               | 2017-08-06 02:42:02                                                                                  \n review_stars       | 5.0                                                                                                  \n text               | When im first arrived in Phila, a friend of mine took me to here because he seen a lot of good co... \n review_useful      | 0                                                                                                    \n review_count       | 157                                                                                                  \n user_id            | --UhENQdbuWEh0mU5weIEg                                                                               \n name               | Kei Sushi Restaurant                                                                                 \n restaurant_stars   | 4.5                                                                                                  \n categories         | [Sushi Bars, Restaurants]                                                                            \n metro_area         | Philadelphia                                                                                         \n user_review_count  | 1                                                                                                    \n yelping_since      | 2017-06-19 18:37:56                                                                                  \n user_useful        | 0                                                                                                    \n elite              |                                                                                                      \n user_average_stars | 5.0                                                                                                  \nonly showing top 3 rows\n\n"
     ]
    }
   ],
   "source": [
    "df_restaurant_reviews_with_users = spark.sql(\"\"\"\n",
    "SELECT r.*, u.review_count as user_review_count, u.yelping_since, u.useful AS user_useful, u.elite, u.average_stars AS user_average_stars\n",
    "FROM filtered_review_table AS r\n",
    "INNER JOIN user_table AS u\n",
    "ON r.user_id = u.user_id\n",
    "\"\"\")\n",
    "\n",
    "\n",
    "# Show the result\n",
    "#df_restaurant_reviews_with_users.show(vertical = True, truncate = 100)\n",
    "\n",
    "print(\"Record count:\", df_restaurant_reviews_with_users.count())\n",
    "df_restaurant_reviews_with_users.show(3, truncate = 100, vertical = True )\n"
   ]
  },
  {
   "cell_type": "markdown",
   "metadata": {
    "application/vnd.databricks.v1+cell": {
     "cellMetadata": {
      "byteLimit": 2048000,
      "rowLimit": 10000
     },
     "inputWidgets": {},
     "nuid": "0a5b8c77-926b-4c87-bac0-db7900b5b53a",
     "showTitle": false,
     "tableResultSettingsMap": {},
     "title": ""
    }
   },
   "source": [
    "###2F.8 Segmenting the Elite Users Based on Their average_stars\n",
    "* By identifying users with more than one elite designation, the summarizer can easily identify those who are highly engaged and influential.\n",
    "* The average_stars column provides insight into the typical ratings given by users, which can be useful for understanding the general sentiment of the user base.\n",
    "* By segmenting the elite users based on their average_stars, the summarizer can identify if elite users tend to rate businesses higher or lower, providing insights into their preferences and behavior. \n",
    "* With all the additional user information, the summarizer can enhance the review summarization process. For example, it can prioritize reviews from more experienced or influential users (like elite users or users with high fan counts).\n",
    "* It can also create more meaningful summaries or analyses by grouping reviews based on user characteristics (e.g., reviews from users with higher average_stars might be weighted differently in summaries).\n",
    "* Combining user information with review content makes it easier to perform sentiment analysis on reviews from highly engaged users"
   ]
  },
  {
   "cell_type": "markdown",
   "metadata": {
    "application/vnd.databricks.v1+cell": {
     "cellMetadata": {
      "byteLimit": 2048000,
      "rowLimit": 10000
     },
     "inputWidgets": {},
     "nuid": "5f2fa015-f177-4b34-9725-70375f4ea06b",
     "showTitle": false,
     "tableResultSettingsMap": {},
     "title": ""
    }
   },
   "source": [
    "##2G. Preparing and Analyzing Tip Table for Summarization\n",
    "*Tips are shorter than reviews and tend to convey quick suggestions.*\n",
    "\n",
    "We select\n",
    "- business_id: to match the business with restaruant dataframe \n",
    "- text: content of the tip"
   ]
  },
  {
   "cell_type": "markdown",
   "metadata": {
    "application/vnd.databricks.v1+cell": {
     "cellMetadata": {
      "byteLimit": 2048000,
      "rowLimit": 10000
     },
     "inputWidgets": {},
     "nuid": "36fc74f5-cec8-4c19-a5a9-a43ebb779a58",
     "showTitle": false,
     "tableResultSettingsMap": {},
     "title": ""
    }
   },
   "source": [
    "### 2G.1 Visualizing Customer Engagement Trends (compliment counts)\n",
    "\n",
    "* This code visualizes customer engagement trends by creating a histogram of compliment counts from the dataset. \n",
    "* It extracts data on compliments, converts it into a suitable format, and generates an informative plot to showcase the distribution of compliments received by businesses.\n",
    "* This can help us understand the patterns of compliments and customer satisfaction."
   ]
  },
  {
   "cell_type": "code",
   "execution_count": 0,
   "metadata": {
    "application/vnd.databricks.v1+cell": {
     "cellMetadata": {
      "byteLimit": 2048000,
      "rowLimit": 10000
     },
     "inputWidgets": {},
     "nuid": "9f448144-a1fe-4fdd-81dd-e20fe291fbd6",
     "showTitle": false,
     "tableResultSettingsMap": {},
     "title": ""
    }
   },
   "outputs": [
    {
     "output_type": "display_data",
     "data": {
      "image/png": "[encoded data removed]"
     },
     "metadata": {
      "application/vnd.databricks.v1+output": {
       "addedWidgets": {},
       "arguments": {},
       "data": "data:image/png;base64,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\n",
       "datasetInfos": [],
       "metadata": {},
       "removedWidgets": [],
       "type": "image"
      }
     },
     "output_type": "display_data"
    }
   ],
   "source": [
    "import matplotlib.pyplot as plt\n",
    "\n",
    "df_raw_tips.createOrReplaceTempView(\"raw_tips\")\n",
    "\n",
    "# Query to extract compliment_count from the dataset\n",
    "compliment_count_data = spark.sql(\"\"\"\n",
    "SELECT compliment_count\n",
    "FROM raw_tips\n",
    "\"\"\")\n",
    "\n",
    "# Convert the compliment_count data to Pandas for plotting\n",
    "compliment_count_pd = compliment_count_data.toPandas()\n",
    "\n",
    "# Plotting the histogram\n",
    "plt.figure(figsize=(10, 6))\n",
    "plt.hist(compliment_count_pd['compliment_count'], bins=30, edgecolor='black', alpha=0.7)  # Adjust bins for resolution\n",
    "\n",
    "# Add labels and title\n",
    "plt.title(\"Histogram of Compliment Counts\")\n",
    "plt.xlabel(\"Compliment Count\")\n",
    "plt.ylabel(\"Frequency\")\n",
    "plt.grid(axis='y', linestyle='--', alpha=0.7)\n",
    "\n",
    "# Show the plot\n",
    "plt.show()\n"
   ]
  },
  {
   "cell_type": "markdown",
   "metadata": {
    "application/vnd.databricks.v1+cell": {
     "cellMetadata": {
      "byteLimit": 2048000,
      "rowLimit": 10000
     },
     "inputWidgets": {},
     "nuid": "61faff0d-cf15-4e17-8406-3fd82f5fa431",
     "showTitle": false,
     "tableResultSettingsMap": {},
     "title": ""
    }
   },
   "source": [
    "###2G.2 Extracting & Organizing Customer Tip Data for Analysis\n",
    "* This code extracts business IDs and customer tip text from the dataset, organizes it into a new table (tips), and provides a quick overview of the data while counting the total number of tips available.\n",
    "* This helps us prepare the data for further insights. This efficiently organizes the relevant data for analysis.\n"
   ]
  },
  {
   "cell_type": "code",
   "execution_count": 0,
   "metadata": {
    "application/vnd.databricks.v1+cell": {
     "cellMetadata": {
      "byteLimit": 2048000,
      "rowLimit": 10000
     },
     "inputWidgets": {},
     "nuid": "7f14bc27-d7bc-4f83-a259-d3cc2bd08469",
     "showTitle": false,
     "tableResultSettingsMap": {},
     "title": ""
    }
   },
   "outputs": [
    {
     "output_type": "stream",
     "name": "stdout",
     "output_type": "stream",
     "text": [
      "-RECORD 0-------------------------------------------------------------------------------------------------------------------------------------------------------------------------------------------------------------------\n business_id | 3uLgwr0qeCNMjKenHJwPGQ                                                                                                                                                                                       \n text        | Avengers time with the ladies.                                                                                                                                                                               \n-RECORD 1-------------------------------------------------------------------------------------------------------------------------------------------------------------------------------------------------------------------\n business_id | QoezRbYQncpRqyrLH6Iqjg                                                                                                                                                                                       \n text        | They have lots of good deserts and tasty cuban sandwiches                                                                                                                                                    \n-RECORD 2-------------------------------------------------------------------------------------------------------------------------------------------------------------------------------------------------------------------\n business_id | MYoRNLb5chwjQe3c_k37Gg                                                                                                                                                                                       \n text        | It's open even when you think it isn't                                                                                                                                                                       \n-RECORD 3-------------------------------------------------------------------------------------------------------------------------------------------------------------------------------------------------------------------\n business_id | hV-bABTK-glh5wj31ps_Jw                                                                                                                                                                                       \n text        | Very decent fried chicken                                                                                                                                                                                    \n-RECORD 4-------------------------------------------------------------------------------------------------------------------------------------------------------------------------------------------------------------------\n business_id | _uN0OudeJ3Zl_tf6nxg5ww                                                                                                                                                                                       \n text        | Appetizers.. platter special for lunch                                                                                                                                                                       \n-RECORD 5-------------------------------------------------------------------------------------------------------------------------------------------------------------------------------------------------------------------\n business_id | 7Rm9Ba50bw23KTA8RedZYg                                                                                                                                                                                       \n text        | Chili Cup + Single Cheeseburger with onion, pickle, and relish + Vanilla Coca-Cola...so far.                                                                                                                 \n-RECORD 6-------------------------------------------------------------------------------------------------------------------------------------------------------------------------------------------------------------------\n business_id | kH-0iXqkL7b8UXNpguBMKg                                                                                                                                                                                       \n text        | Saturday, Dec 7th 2013, ride Patco's Silver Sleigh w/ Santa & his elves on a decorated train into Center City. Trains leave from Lindenwold at 10am, 11:15am, & 12:30pm, and make all stops. Great for kids! \n-RECORD 7-------------------------------------------------------------------------------------------------------------------------------------------------------------------------------------------------------------------\n business_id | jtri188kuhe_AuEOJ51U_A                                                                                                                                                                                       \n text        | This is probably the best place in the cool Springs area to watch a game and eat                                                                                                                             \n-RECORD 8-------------------------------------------------------------------------------------------------------------------------------------------------------------------------------------------------------------------\n business_id | xODBZmX4EmlVvbqtKN7YKg                                                                                                                                                                                       \n text        | Tacos                                                                                                                                                                                                        \n-RECORD 9-------------------------------------------------------------------------------------------------------------------------------------------------------------------------------------------------------------------\n business_id | pICJRcyqW1cF96Q3XhLSbw                                                                                                                                                                                       \n text        | Starbucks substitute in boring downtown Tampa. Ugh. Never again!                                                                                                                                             \n-RECORD 10------------------------------------------------------------------------------------------------------------------------------------------------------------------------------------------------------------------\n business_id | clwjLY7PdYJpe7IP9lrqEw                                                                                                                                                                                       \n text        | Order the Tortilla Soup                                                                                                                                                                                      \n-RECORD 11------------------------------------------------------------------------------------------------------------------------------------------------------------------------------------------------------------------\n business_id | wLHodvVFLTgK3nl2XG8OCw                                                                                                                                                                                       \n text        | Very good will definitely be coming back!!                                                                                                                                                                   \n-RECORD 12------------------------------------------------------------------------------------------------------------------------------------------------------------------------------------------------------------------\n business_id | wUMuvdUeVZODZk7TjaD2jg                                                                                                                                                                                       \n text        | If the Hotlight is on you must stop in.                                                                                                                                                                      \n-RECORD 13------------------------------------------------------------------------------------------------------------------------------------------------------------------------------------------------------------------\n business_id | MDr7KLYSPkEonvGojNEMBw                                                                                                                                                                                       \n text        | Let's go Yankees!                                                                                                                                                                                            \n-RECORD 14------------------------------------------------------------------------------------------------------------------------------------------------------------------------------------------------------------------\n business_id | aK6R2akvIK9ijw3FvDy8vw                                                                                                                                                                                       \n text        | Basically same food as rally's for $5 more                                                                                                                                                                   \n-RECORD 15------------------------------------------------------------------------------------------------------------------------------------------------------------------------------------------------------------------\n business_id | EXYbKA1tocvOK_1tXxZXLA                                                                                                                                                                                       \n text        | Don't go for dinner. They close at 6. Really Yvonne L? Negative stars for a restaurant where you you didn't and never intended to eat?                                                                       \n-RECORD 16------------------------------------------------------------------------------------------------------------------------------------------------------------------------------------------------------------------\n business_id | H9fkf4Xkj_j7Zxs1FmY58Q                                                                                                                                                                                       \n text        | 30 mins for take out. Right right tight                                                                                                                                                                      \n-RECORD 17------------------------------------------------------------------------------------------------------------------------------------------------------------------------------------------------------------------\n business_id | ReX09lhufLTAx19krkltDA                                                                                                                                                                                       \n text        | Got the grilled chicken entree. It was delicious but was a small portion. I like the environment here, for sure, though.                                                                                     \n-RECORD 18------------------------------------------------------------------------------------------------------------------------------------------------------------------------------------------------------------------\n business_id | c5nLy7YgXG-IIrOmqJv1nA                                                                                                                                                                                       \n text        | This is the bomb ! I love this dish. Try it you'll like it !lol                                                                                                                                              \n-RECORD 19------------------------------------------------------------------------------------------------------------------------------------------------------------------------------------------------------------------\n business_id | LJaR65ALpz261_dlVWqV2g                                                                                                                                                                                       \n text        | Helping Mona find a new phone.                                                                                                                                                                               \nonly showing top 20 rows\n\nOut[64]: 908915"
     ]
    }
   ],
   "source": [
    "#2c2\n",
    "df_tips = spark.sql(\"\"\"\n",
    "SELECT  business_id, text\n",
    "FROM raw_tips \n",
    "\"\"\")\n",
    "df_tips.show(vertical = True, truncate = False)\n",
    "\n",
    "df_tips.createOrReplaceTempView(\"tips\")\n",
    "\n",
    "df_tips.count()"
   ]
  },
  {
   "cell_type": "markdown",
   "metadata": {
    "application/vnd.databricks.v1+cell": {
     "cellMetadata": {
      "byteLimit": 2048000,
      "rowLimit": 10000
     },
     "inputWidgets": {},
     "nuid": "8e48bc90-e5e1-4dec-b557-34a548111559",
     "showTitle": false,
     "tableResultSettingsMap": {},
     "title": ""
    }
   },
   "source": [
    "###2G.3 Analyzing & Visualizing Customer Tip Length\n",
    "\n",
    "* This code analyzes the word count distribution of customer tips from a dataset. It visualizes the data through a histogram, highlighting the median word count, and focuses on tips with up to 50 words to reveal patterns in customer feedback length. \n",
    "* This can help us understand the customer feedback trends, which in turn can support feedback optimization, and deeper analysis of the data."
   ]
  },
  {
   "cell_type": "code",
   "execution_count": 0,
   "metadata": {
    "application/vnd.databricks.v1+cell": {
     "cellMetadata": {
      "byteLimit": 2048000,
      "rowLimit": 10000
     },
     "inputWidgets": {},
     "nuid": "a66fd457-305d-4ce9-8751-12e3e1627c57",
     "showTitle": false,
     "tableResultSettingsMap": {},
     "title": ""
    }
   },
   "outputs": [
    {
     "output_type": "display_data",
     "data": {
      "image/png": "[encoded data removed]"
     },
     "metadata": {
      "application/vnd.databricks.v1+output": {
       "addedWidgets": {},
       "arguments": {},
       "data": "data:image/png;base64,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\n",
       "datasetInfos": [],
       "metadata": {},
       "removedWidgets": [],
       "type": "image"
      }
     },
     "output_type": "display_data"
    }
   ],
   "source": [
    "#2c3\n",
    "import matplotlib.pyplot as plt\n",
    "import numpy as np\n",
    "\n",
    "# Query to calculate word count for each tip\n",
    "tip_word_count_data = spark.sql(\"\"\"\n",
    "SELECT SIZE(SPLIT(text, ' ')) AS word_count\n",
    "FROM raw_tips\n",
    "\"\"\")\n",
    "\n",
    "# Convert the word count data to Pandas for plotting\n",
    "tip_word_count_pd = tip_word_count_data.toPandas()\n",
    "\n",
    "# Filter the data to include only tips with up to 50 words\n",
    "tip_word_count_pd_filtered = tip_word_count_pd[tip_word_count_pd['word_count'] <= 50]\n",
    "\n",
    "# Calculate the 50th percentile (median)\n",
    "median_word_count = np.percentile(tip_word_count_pd['word_count'], 50)\n",
    "\n",
    "# Plotting the histogram\n",
    "plt.figure(figsize=(10, 6))\n",
    "plt.hist(tip_word_count_pd_filtered['word_count'], bins=50, edgecolor='black', alpha=0.7)\n",
    "\n",
    "# Add a vertical line for the 50th percentile\n",
    "plt.axvline(x=median_word_count, color='red', linestyle='--', linewidth=1.5, label=f\"50th Percentile: {median_word_count:.1f}\")\n",
    "\n",
    "# Add labels and title\n",
    "plt.title(\"Histogram of Word Counts in Tips (Up to 50 Words)\")\n",
    "plt.xlabel(\"Number of Words\")\n",
    "plt.ylabel(\"Frequency\")\n",
    "plt.grid(axis='y', linestyle='--', alpha=0.7)\n",
    "\n",
    "# Add a legend\n",
    "plt.legend(loc='upper right')\n",
    "\n",
    "# Show the plot\n",
    "plt.show()\n"
   ]
  },
  {
   "cell_type": "markdown",
   "metadata": {
    "application/vnd.databricks.v1+cell": {
     "cellMetadata": {
      "byteLimit": 2048000,
      "rowLimit": 10000
     },
     "inputWidgets": {},
     "nuid": "21c0da3b-9939-4b6f-bc1f-01e502cce444",
     "showTitle": false,
     "tableResultSettingsMap": {},
     "title": ""
    }
   },
   "source": [
    "### 2G.4 Combining Tips Table "
   ]
  },
  {
   "cell_type": "code",
   "execution_count": 0,
   "metadata": {
    "application/vnd.databricks.v1+cell": {
     "cellMetadata": {
      "byteLimit": 2048000,
      "rowLimit": 10000
     },
     "inputWidgets": {},
     "nuid": "f4ca1461-637f-4ad6-b572-70a6e720dbb9",
     "showTitle": false,
     "tableResultSettingsMap": {},
     "title": ""
    }
   },
   "outputs": [
    {
     "output_type": "stream",
     "name": "stdout",
     "output_type": "stream",
     "text": [
      "Record count: 3184312\n-RECORD 0--------------------------------------------------------------------------------------------------------------------\n business_id          | 0qu0fNTOsSmuREYVIMPuIQ                                                                               \n date                 | 2020-10-29 23:34:47                                                                                  \n review_stars         | 4.0                                                                                                  \n text                 | Cool little place hidden way out in no mans land. Food was good, but came out quick & cold tellin... \n review_useful        | 0                                                                                                    \n review_count         | 1018                                                                                                 \n user_id              | --2F5G5LKt3h2cAXJbZptg                                                                               \n name                 | Cold Spring Tavern                                                                                   \n restaurant_stars     | 4.5                                                                                                  \n categories           | [American (Traditional), Restaurants, Bars, Nightlife]                                               \n metro_area           | Santa Barbara                                                                                        \n user_review_count    | 9                                                                                                    \n yelping_since        | 2015-05-22 16:38:12                                                                                  \n user_useful          | 1                                                                                                    \n elite                |                                                                                                      \n user_average_stars   | 3.33                                                                                                 \n tip                  | null                                                                                                 \n tip_compliment_count | null                                                                                                 \n-RECORD 1--------------------------------------------------------------------------------------------------------------------\n business_id          | FhI8-M6EYtwfrerkWL_VMg                                                                               \n date                 | 2019-03-28 23:58:33                                                                                  \n review_stars         | 5.0                                                                                                  \n text                 | 6 stares if I had them to give    Experience this for yourself !!  Chicken parm unbelievable and ... \n review_useful        | 0                                                                                                    \n review_count         | 79                                                                                                   \n user_id              | --XmG4LSSdXePMm5N8O9tw                                                                               \n name                 | Vincente's Restaurant                                                                                \n restaurant_stars     | 4.0                                                                                                  \n categories           | [Restaurants, Food, Desserts, Bars, Italian, Nightlife]                                              \n metro_area           | Philadelphia                                                                                         \n user_review_count    | 1                                                                                                    \n yelping_since        | 2014-11-07 03:43:55                                                                                  \n user_useful          | 0                                                                                                    \n elite                |                                                                                                      \n user_average_stars   | 5.0                                                                                                  \n tip                  | null                                                                                                 \n tip_compliment_count | null                                                                                                 \n-RECORD 2--------------------------------------------------------------------------------------------------------------------\n business_id          | NB5XTBuLVCn7c9Lu5SUqKg                                                                               \n date                 | 2021-08-19 02:45:52                                                                                  \n review_stars         | 5.0                                                                                                  \n text                 | Great spot, visiting Nashville from out of town. Had an awesome anniversary dinner topped off wit... \n review_useful        | 0                                                                                                    \n review_count         | 1049                                                                                                 \n user_id              | --6NOjQgN5tcpl_mPLt76Q                                                                               \n name                 | Chauhan Ale & Masala House                                                                           \n restaurant_stars     | 4.0                                                                                                  \n categories           | [Gastropubs, Restaurants, Nightlife, Southern, Bars, Indian]                                         \n metro_area           | Nashville                                                                                            \n user_review_count    | 2                                                                                                    \n yelping_since        | 2018-01-03 03:44:21                                                                                  \n user_useful          | 1                                                                                                    \n elite                |                                                                                                      \n user_average_stars   | 5.0                                                                                                  \n tip                  | null                                                                                                 \n tip_compliment_count | null                                                                                                 \nonly showing top 3 rows\n\n"
     ]
    }
   ],
   "source": [
    "df_restaurant_reviews_with_users.createOrReplaceTempView(\"df_review_users\")\n",
    "\n",
    "df_restaurant_reviews_for_summarization = spark.sql(\"\"\"\n",
    "SELECT l.*, t.text AS tip, t.compliment_count AS tip_compliment_count\n",
    "FROM df_review_users AS l\n",
    "LEFT JOIN raw_tips AS t\n",
    "ON l.business_id = t.business_id AND\n",
    "l.user_id = t.user_id\n",
    "\"\"\")\n",
    "\n",
    "print(\"Record count:\", df_restaurant_reviews_for_summarization.count())\n",
    "df_restaurant_reviews_for_summarization.show(3, truncate = 100, vertical = True )"
   ]
  },
  {
   "cell_type": "markdown",
   "metadata": {
    "application/vnd.databricks.v1+cell": {
     "cellMetadata": {
      "byteLimit": 2048000,
      "rowLimit": 10000
     },
     "inputWidgets": {},
     "nuid": "b32f38ce-dc14-4f74-bba6-fa9c42e7cd9d",
     "showTitle": false,
     "tableResultSettingsMap": {},
     "title": ""
    }
   },
   "source": [
    "##2H Organizing Restaurant Reviews for Summarization into a Table\n",
    "* This new table contains the latest, more relevant data, which assists the summarizer in making higher quality summaries. This way, the data is more centralized, efficient, and simplified."
   ]
  },
  {
   "cell_type": "code",
   "execution_count": 0,
   "metadata": {
    "application/vnd.databricks.v1+cell": {
     "cellMetadata": {
      "byteLimit": 2048000,
      "rowLimit": 10000
     },
     "inputWidgets": {},
     "nuid": "6fa2be7f-98e4-4145-85ef-b04545b4ca64",
     "showTitle": false,
     "tableResultSettingsMap": {},
     "title": ""
    }
   },
   "outputs": [],
   "source": [
    "SUMMARIZATION_TABLE_NAME = 'restaurant_reviews_for_summarization_table'\n",
    "\n",
    "if (spark.catalog._jcatalog.tableExists(SUMMARIZATION_TABLE_NAME)):\n",
    "  spark.sql(f'DROP TABLE {SUMMARIZATION_TABLE_NAME}')\n",
    "try:\n",
    "  dbutils.fs.rm(f'/user/hive/warehouse/{SUMMARIZATION_TABLE_NAME}', recurse=True)\n",
    "except Exception:\n",
    "  pass\n",
    "df_restaurant_reviews_for_summarization.write.mode(\"overwrite\").format('parquet').saveAsTable(SUMMARIZATION_TABLE_NAME)"
   ]
  },
  {
   "cell_type": "markdown",
   "metadata": {
    "application/vnd.databricks.v1+cell": {
     "cellMetadata": {
      "byteLimit": 2048000,
      "rowLimit": 10000
     },
     "inputWidgets": {},
     "nuid": "95f432fe-7c61-47b0-8dd4-abc5221ebf14",
     "showTitle": false,
     "tableResultSettingsMap": {},
     "title": ""
    }
   },
   "source": [
    "###2H.1 Creating a Comprehensive Dataset\n",
    "\n",
    "* We join every table with business_id, except we join user table with the final table with user_id\n",
    "* This query creates a comprehensive dataset by combining several tables that each contain unique pieces of information. The result will have all the relevant data about restaurants, reviews, user engagement (tips and reviews), and metro areas, making it ideal for business analysis, such as customer behavior analysis, restaurant performance, or regional performance comparisons.\n",
    "* Understanding review patterns, user feedback on restaurants, and the overall sentiment can aid in creating automated review summarizers or sentiment analysis tools that provide insights on restaurant performance, user satisfaction, or sentiment in different areas.\n",
    "* This query helps in aggregating multiple sources of data, providing a deeper understanding of how users interact with restaurants.\n",
    "* It gives us valuable insights, such as:\n",
    "  * How user reviews (including tips) are distributed across metro areas,\n",
    "  * The relationship between restaurant ratings, user activity, and review volumes,\n",
    "  * Regional variations in restaurant ratings or user engagement, etc.\n",
    "\n"
   ]
  },
  {
   "cell_type": "markdown",
   "metadata": {
    "application/vnd.databricks.v1+cell": {
     "cellMetadata": {
      "byteLimit": 2048000,
      "rowLimit": 10000
     },
     "inputWidgets": {},
     "nuid": "37a16001-9882-46ad-a5de-680453007969",
     "showTitle": false,
     "tableResultSettingsMap": {},
     "title": ""
    }
   },
   "source": [
    "###2H.2 Cleaning Up Data for Improved Efficiency\n",
    "In order to save space in memory, we dropped all the preliminary tables to maintain a clean and efficient data environment.\n",
    "This supports:\n",
    "* Data hygiene\n",
    "* Resource management\n",
    "* Efficient data workflow\n"
   ]
  },
  {
   "cell_type": "code",
   "execution_count": 0,
   "metadata": {
    "application/vnd.databricks.v1+cell": {
     "cellMetadata": {
      "byteLimit": 2048000,
      "rowLimit": 10000
     },
     "inputWidgets": {},
     "nuid": "9a3b9e7b-9528-4452-9528-38dd449d21c4",
     "showTitle": false,
     "tableResultSettingsMap": {},
     "title": ""
    }
   },
   "outputs": [
    {
     "output_type": "stream",
     "name": "stdout",
     "output_type": "stream",
     "text": [
      "Out[68]: DataFrame[]"
     ]
    }
   ],
   "source": [
    "spark.sql('DROP TABLE metro_restaurants_table')\n",
    "spark.sql('DROP TABLE review_table')\n",
    "spark.sql('DROP TABLE user_table')"
   ]
  },
  {
   "cell_type": "markdown",
   "metadata": {
    "application/vnd.databricks.v1+cell": {
     "cellMetadata": {
      "byteLimit": 2048000,
      "rowLimit": 10000
     },
     "inputWidgets": {},
     "nuid": "c5cbc566-20b1-4870-8fd3-e814e3ec8ca8",
     "showTitle": false,
     "tableResultSettingsMap": {},
     "title": ""
    }
   },
   "source": [
    "##Summarization of Final Data Wrangling Notebook\n",
    "* We filtered and wrangled the data to provide quality data for an accurate summarization of restaurant reviews.\n",
    "* When presenting new data, we analyzed and understood the contents and structure of the data.\n",
    "* When researching deeper into the data for Restaurants, Metro Areas, Users, Tips, etc., we noticed redundancies, data of poor quality, and irrelevant information.\n",
    "* Using data-driven insights and business reasoning, we made decisions on what parts of the data we would include and exclude.\n",
    "  * The data that we decided were not helpful for a summarization of restaurant reviews were excluded and filtered out.\n",
    "  * This process applied to almost every data component, from Restuarants, to Categories, to Tips.\n",
    "* Additionally, we studied the relationship between Restaurants, Reviews, Users, and more.\n",
    "  * This helped us understand what Yelp users valued in restaurant reviews, and helped us evaluate the importance of the reviews.\n",
    "* With thorough analysis and refinement of the data, we were able to narrow the data to what we feel is most relevant for a restaurant review summarizer."
   ]
  }
 ],
 "metadata": {
  "application/vnd.databricks.v1+notebook": {
   "computePreferences": null,
   "dashboards": [],
   "environmentMetadata": null,
   "language": "python",
   "notebookMetadata": {
    "pythonIndentUnit": 4
   },
   "notebookName": "Final Wrangling Notebook",
   "widgets": {}
  }
 },
 "nbformat": 4,
 "nbformat_minor": 0
}
